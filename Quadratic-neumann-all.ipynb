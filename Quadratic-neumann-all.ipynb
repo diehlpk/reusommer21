{
 "cells": [
  {
   "cell_type": "code",
   "execution_count": 1,
   "metadata": {},
   "outputs": [],
   "source": [
    "import numpy as np\n",
    "import matplotlib.pyplot as plt"
   ]
  },
  {
   "cell_type": "code",
   "execution_count": 2,
   "metadata": {},
   "outputs": [],
   "source": [
    "example = \"Quadratic\""
   ]
  },
  {
   "cell_type": "code",
   "execution_count": 3,
   "metadata": {},
   "outputs": [],
   "source": [
    "#############################################################################\n",
    "# Exact solution \n",
    "#############################################################################\n",
    "\n",
    "def exactSolution(x):\n",
    "    \n",
    "    if example == \"Cubic\":\n",
    "        return x * x * x\n",
    "    elif example == \"Quartic\":\n",
    "        return x * x * x * x\n",
    "    elif example == \"Quadratic\":\n",
    "        return x * x\n",
    "    elif example == \"Linear\":\n",
    "        return x\n",
    "    elif example == \"Linear-cubic\":\n",
    "        return np.where(x < 1.5, x, x + (x-1.5) * (x-1.5) * (x-1.5) )\n",
    "    else:\n",
    "        print(\"Error: Either provide Linear, Quadratic, Quartic, or Cubic\")\n",
    "        sys.exit()"
   ]
  },
  {
   "cell_type": "code",
   "execution_count": 4,
   "metadata": {},
   "outputs": [],
   "source": [
    "x = np.genfromtxt('x_16.csv',delimiter=',')\n",
    "u_mscm = np.genfromtxt('u_mscm_n_16.csv',delimiter=',')\n",
    "u_mdcm = np.genfromtxt('u_mdcm_n_16.csv',delimiter=',')"
   ]
  },
  {
   "cell_type": "code",
   "execution_count": 5,
   "metadata": {},
   "outputs": [
    {
     "data": {
      "image/png": "[encoded data removed]",
      "text/plain": [
       "<Figure size 432x288 with 1 Axes>"
      ]
     },
     "metadata": {
      "needs_background": "light"
     },
     "output_type": "display_data"
    }
   ],
   "source": [
    "markers = ['s','o','x','.']\n",
    "plt.plot(x,exactSolution(x),c=\"black\",label=\"Exact solution\")\n",
    "plt.plot(x,u_mdcm,c=\"black\",label=\"MDCM\",marker='s',markevery=8)\n",
    "plt.plot(x,u_mscm,c=\"black\",label=\"MSCM\",marker='o',markevery=8)\n",
    "plt.grid()\n",
    "plt.xlabel(\"$x$\")\n",
    "plt.ylabel(\"Displacement\")\n",
    "plt.title(\"Example with quadratic solution with $\\delta=1/8$ and $m-2$\")\n",
    "plt.legend()\n",
    "plt.savefig(\"quadratic-all-neumann.pdf\",bbox_inches='tight')"
   ]
  },
  {
   "cell_type": "code",
   "execution_count": null,
   "metadata": {},
   "outputs": [],
   "source": []
  }
 ],
 "metadata": {
  "kernelspec": {
   "display_name": "Python 3",
   "language": "python",
   "name": "python3"
  },
  "language_info": {
   "codemirror_mode": {
    "name": "ipython",
    "version": 3
   },
   "file_extension": ".py",
   "mimetype": "text/x-python",
   "name": "python",
   "nbconvert_exporter": "python",
   "pygments_lexer": "ipython3",
   "version": "3.10.1"
  }
 },
 "nbformat": 4,
 "nbformat_minor": 4
}
