{
 "cells": [
  {
   "cell_type": "code",
   "execution_count": 1,
   "id": "ccf4c8da",
   "metadata": {},
   "outputs": [],
   "source": [
    "import numpy as np\n",
    "import matplotlib.pyplot as plt"
   ]
  },
  {
   "cell_type": "code",
   "execution_count": 2,
   "id": "14593170",
   "metadata": {},
   "outputs": [],
   "source": [
    "example = \"Quadratic\""
   ]
  },
  {
   "cell_type": "code",
   "execution_count": 3,
   "id": "2a712997",
   "metadata": {},
   "outputs": [],
   "source": [
    "#############################################################################\n",
    "# Solve the system\n",
    "#############################################################################\n",
    "\n",
    "def solve(M,f):\n",
    "    return np.linalg.solve(M,f)"
   ]
  },
  {
   "cell_type": "code",
   "execution_count": 35,
   "id": "f76efa89",
   "metadata": {},
   "outputs": [],
   "source": [
    "#############################################################################\n",
    "# Loading\n",
    "#############################################################################\n",
    "\n",
    "def f(x):\n",
    "    \n",
    "    if example == \"Cubic\":\n",
    "        return -( 2/np.sqrt(3)) * ( -6 + 4*x )\n",
    "    elif example == \"Quartic\":\n",
    "        return  -32/9 + 64/9 * x - 64/27 * x * x\n",
    "    elif example == \"Quadratic\":\n",
    "        return 8/9\n",
    "    else:\n",
    "        print(\"Error: Either provide Quadratic, Quartic, or Cubic\")\n",
    "        sys.exit()\n",
    "\n",
    "def forceFull(n,h):\n",
    "    \n",
    "    force = np.zeros(n)\n",
    "   \n",
    "    for i in range(1,n-1):\n",
    "        force[i] = f(i * h)\n",
    "    \n",
    "    force[n-1] = 0\n",
    "    \n",
    "    return force\n",
    "\n",
    "def forceCoupling(n,x):\n",
    "    \n",
    "    dim = 2*n + 2*n-1\n",
    "    \n",
    "    force = np.zeros(dim)\n",
    "   \n",
    "    for i in range(1,dim-1):\n",
    "        force[i] = f(x[i])\n",
    "    \n",
    "    force[dim-1] = 0\n",
    "    \n",
    "    return force"
   ]
  },
  {
   "cell_type": "code",
   "execution_count": 76,
   "id": "8f6b726b",
   "metadata": {},
   "outputs": [],
   "source": [
    "#############################################################################\n",
    "# Assemble the stiffness matrix for the coupling of FDM - VHM - FDM\n",
    "#############################################################################\n",
    "\n",
    "def CouplingFDVHM(n,h):\n",
    "\n",
    "    fVHM = 1./(8.*h*h)\n",
    "    fFDM = 1./(2.*h/2*h/2)\n",
    "    \n",
    "    dim = 2*n + 2*n-1\n",
    "    \n",
    "\n",
    "    M = np.zeros([dim,dim])\n",
    "    \n",
    "    M[0][0] = 1 * fFDM\n",
    "\n",
    "    for i in range(1,n-1):\n",
    "        M[i][i-1] = -2 * fFDM\n",
    "        M[i][i] = 4 * fFDM\n",
    "        M[i][i+1] = -2 * fFDM\n",
    "\n",
    "    M[n-1][n-1] = -1 \n",
    "    M[n-1][n] = 1  \n",
    "\n",
    "    M[n][n-1] = 11*h * fFDM / 3\n",
    "    M[n][n-2] = -18*h * fFDM / 3\n",
    "    M[n][n-3] = 9*h * fFDM / 3\n",
    "    M[n][n-4] = -2*h * fFDM / 3\n",
    "\n",
    "    M[n][n] = 11 / 6 / h \n",
    "    M[n][n+1] = -18 / 6 / h\n",
    "    M[n][n+2] = 9 / 6 / h\n",
    "    M[n][n+3] = -2 / 6 / h\n",
    "\n",
    "    M[n+1][n] = -8 * fVHM\n",
    "    M[n+1][n+1] = 16 * fVHM\n",
    "    M[n+1][n+2] = -8 * fVHM\n",
    "    \n",
    "    mid = n+2*n -2\n",
    "\n",
    "    for i in range(n+2,mid):\n",
    "        M[i][i-2] = -1. * fVHM\n",
    "        M[i][i-1] = -4. * fVHM\n",
    "        M[i][i] = 10. * fVHM\n",
    "        M[i][i+1] =  -4. * fVHM\n",
    "        M[i][i+2] = -1. * fVHM\n",
    "        \n",
    "   \n",
    "        \n",
    "    M[mid][mid-1] = -8 * fVHM\n",
    "    M[mid][mid] = 16 * fVHM\n",
    "    M[mid][mid+1] = -8 * fVHM\n",
    "\n",
    "    M[mid+1][mid-1] = -1 \n",
    "    M[mid+1][mid] = 1  \n",
    "\n",
    "    M[mid+2][mid+2-1] = 11 / 6 / h\n",
    "    M[mid+2][mid+2-2] = -18 / 6 / h\n",
    "    M[mid+2][mid+2-3] = 9 / 6 / h\n",
    "    M[mid+2][mid+2-4] = -2 / 6 / h\n",
    "\n",
    "    M[mid+2][mid+2] = 11*h * fFDM / 3\n",
    "    M[mid+2][mid+2+1] = -18*h * fFDM / 3\n",
    "    M[mid+2][mid+2+2] = 9*h * fFDM / 3\n",
    "    M[mid+2][mid+2+3] = -2*h * fFDM / 3\n",
    "\n",
    "    for i in range(mid+3,dim-1):\n",
    "        M[i][i-1] = -2 * fFDM\n",
    "        M[i][i] = 4 * fFDM\n",
    "        M[i][i+1] = -2 * fFDM\n",
    "\n",
    "    M[dim-1][dim-1] = 1\n",
    "\n",
    "    #print(M)\n",
    "    return M"
   ]
  },
  {
   "cell_type": "code",
   "execution_count": 83,
   "id": "19e91a55",
   "metadata": {},
   "outputs": [],
   "source": [
    "def compute(i):\n",
    "    \n",
    "    n = np.power(2,int(i))\n",
    "    h = 1./n\n",
    "    nodes = n + 1\n",
    "    \n",
    "    print(nodes,h)\n",
    "    x1 = np.linspace(0,1,nodes)\n",
    "    x2 = np.linspace(1,2.,2*nodes-1)\n",
    "    x3 = np.linspace(2,3.,nodes)\n",
    "    x = np.array(np.concatenate((x1,x2,x3)))\n",
    "    #print(len(x2))\n",
    "    \n",
    "    M = CouplingFDVHM(nodes,h)\n",
    "    \n",
    "    f = forceCoupling(nodes,x)\n",
    "    \n",
    "    f[n] = 0\n",
    "    f[n+1] = 0\n",
    "    \n",
    "    mid = n+2*n+1\n",
    "\n",
    "    f[mid] = 0\n",
    "    f[mid+1] = 0\n",
    "    \n",
    "    #print(f)\n",
    "    \n",
    "    u = solve(M,f)\n",
    "    \n",
    "\n",
    "    \n",
    "    x1 = x[0:nodes]\n",
    "    x2 = x[nodes+1:mid+2]\n",
    "    x3 = x[mid+2:len(x)]\n",
    "    \n",
    "    u1 = u[0:nodes]\n",
    "    u2 = u[nodes+1:mid+2]\n",
    "    u3 = u[mid+2:len(x)]\n",
    "    \n",
    "    x = np.concatenate([x1,x2,x3])\n",
    "    u = np.concatenate([u1,u2,u3])\n",
    "    \n",
    "    plt.plot(x,u)\n",
    "    plt.grid(True)"
   ]
  },
  {
   "cell_type": "code",
   "execution_count": 84,
   "id": "08596a52",
   "metadata": {},
   "outputs": [
    {
     "name": "stdout",
     "output_type": "stream",
     "text": [
      "5 0.25\n"
     ]
    },
    {
     "data": {
      "image/png": "[encoded data removed]",
      "text/plain": [
       "<Figure size 432x288 with 1 Axes>"
      ]
     },
     "metadata": {
      "needs_background": "light"
     },
     "output_type": "display_data"
    }
   ],
   "source": [
    "compute(2)"
   ]
  },
  {
   "cell_type": "code",
   "execution_count": null,
   "id": "0a4348d2",
   "metadata": {},
   "outputs": [],
   "source": []
  },
  {
   "cell_type": "markdown",
   "id": "f0022f45",
   "metadata": {},
   "source": []
  }
 ],
 "metadata": {
  "kernelspec": {
   "display_name": "Python 3 (ipykernel)",
   "language": "python",
   "name": "python3"
  },
  "language_info": {
   "codemirror_mode": {
    "name": "ipython",
    "version": 3
   },
   "file_extension": ".py",
   "mimetype": "text/x-python",
   "name": "python",
   "nbconvert_exporter": "python",
   "pygments_lexer": "ipython3",
   "version": "3.8.10"
  }
 },
 "nbformat": 4,
 "nbformat_minor": 5
}
