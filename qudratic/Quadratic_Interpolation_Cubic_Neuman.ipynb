{
 "cells": [
  {
   "cell_type": "code",
   "execution_count": 1,
   "metadata": {},
   "outputs": [],
   "source": [
    "import numpy as np \n",
    "import matplotlib.pyplot as plt "
   ]
  },
  {
   "cell_type": "code",
   "execution_count": 2,
   "metadata": {},
   "outputs": [],
   "source": [
    "h = 0.25"
   ]
  },
  {
   "cell_type": "code",
   "execution_count": 3,
   "metadata": {},
   "outputs": [],
   "source": [
    "fFD =  1./(2.*h*h) \n",
    "fPD =  1./(8.*h/2*h/2) "
   ]
  },
  {
   "cell_type": "code",
   "execution_count": 4,
   "metadata": {},
   "outputs": [],
   "source": [
    "M = np.zeros([23,23])"
   ]
  },
  {
   "cell_type": "code",
   "execution_count": 5,
   "metadata": {},
   "outputs": [],
   "source": [
    "M [0][0] = 1"
   ]
  },
  {
   "cell_type": "code",
   "execution_count": 6,
   "metadata": {},
   "outputs": [],
   "source": [
    "for i in range (1,4):\n",
    "    M [i][i-1] = -2 * fFD\n",
    "    M [i][i] = 4 * fFD\n",
    "    M [i][i+1] = -2 * fFD"
   ]
  },
  {
   "cell_type": "markdown",
   "metadata": {},
   "source": [
    "Match the displacement $u_3$ and $u_5$"
   ]
  },
  {
   "cell_type": "code",
   "execution_count": 7,
   "metadata": {},
   "outputs": [],
   "source": [
    "M [5][5] = -1\n",
    "M [5][3] = 1"
   ]
  },
  {
   "cell_type": "markdown",
   "metadata": {},
   "source": [
    "Match the displacement $u_4$ and $u_7$"
   ]
  },
  {
   "cell_type": "code",
   "execution_count": 8,
   "metadata": {},
   "outputs": [],
   "source": [
    "M [4][4] = -1\n",
    "M [4][7] = 1"
   ]
  },
  {
   "cell_type": "markdown",
   "metadata": {},
   "source": [
    "Interpolate the displacement $u_6$ and $u_6'$\n",
    "\n",
    "* $u_6'-u_6=0$\n",
    "* $\\frac{1}{2}\\left(u_3 + u_4\\right)-u_5=0$"
   ]
  },
  {
   "cell_type": "code",
   "execution_count": 9,
   "metadata": {},
   "outputs": [],
   "source": [
    "M [6][6] = -1\n",
    "M [6][2] = -1/8\n",
    "M [6][3] = 3/4\n",
    "M [6][4] = 3/8"
   ]
  },
  {
   "cell_type": "markdown",
   "metadata": {},
   "source": [
    "Apply the non-local model"
   ]
  },
  {
   "cell_type": "code",
   "execution_count": 10,
   "metadata": {},
   "outputs": [],
   "source": [
    "for i in range(7,16):\n",
    "    M[i][i-2] = -1.  * fPD\n",
    "    M[i][i-1] = -4. * fPD\n",
    "    M[i][i] = 10. * fPD\n",
    "    M[i][i+1] =  -4. * fPD\n",
    "    M[i][i+2] = -1. * fPD"
   ]
  },
  {
   "cell_type": "markdown",
   "metadata": {},
   "source": [
    "Interpolate the displacement $u_{16}$ and $u_{16}'$"
   ]
  },
  {
   "cell_type": "code",
   "execution_count": 11,
   "metadata": {},
   "outputs": [],
   "source": [
    "M [16][16] = -1\n",
    "M [16][18] = 3/8\n",
    "M [16][19] = 3/4\n",
    "M [16][20] = -1/8"
   ]
  },
  {
   "cell_type": "markdown",
   "metadata": {},
   "source": [
    "Match the displacement $u_{17}$ and $u_{19}$"
   ]
  },
  {
   "cell_type": "code",
   "execution_count": 12,
   "metadata": {},
   "outputs": [],
   "source": [
    "M [17][17] = -1\n",
    "M [17][19] = 1"
   ]
  },
  {
   "cell_type": "markdown",
   "metadata": {},
   "source": [
    "Match the displacement $u_{15}$ and $u_{18}$"
   ]
  },
  {
   "cell_type": "code",
   "execution_count": 13,
   "metadata": {},
   "outputs": [],
   "source": [
    "M [18][18] = -1\n",
    "M [18][15] = 1"
   ]
  },
  {
   "cell_type": "code",
   "execution_count": 14,
   "metadata": {},
   "outputs": [],
   "source": [
    "for i in range (19,22):\n",
    "    M [i][i-1] = -2  * fFD\n",
    "    M [i][i] = 4 * fFD\n",
    "    M [i][i+1] = -2 * fFD"
   ]
  },
  {
   "cell_type": "code",
   "execution_count": 15,
   "metadata": {},
   "outputs": [],
   "source": [
    "M [22][22] = 11/6/h\n",
    "M [22][21] = -18/6/h\n",
    "M [22][20] = 9/6/h\n",
    "M [22][19] = -2/6/h"
   ]
  },
  {
   "cell_type": "code",
   "execution_count": 16,
   "metadata": {
    "scrolled": true
   },
   "outputs": [
    {
     "data": {
      "text/plain": [
       "array([[  1.        ,   0.        ,   0.        ,   0.        ,\n",
       "          0.        ,   0.        ,   0.        ,   0.        ,\n",
       "          0.        ,   0.        ,   0.        ,   0.        ,\n",
       "          0.        ,   0.        ,   0.        ,   0.        ,\n",
       "          0.        ,   0.        ,   0.        ,   0.        ,\n",
       "          0.        ,   0.        ,   0.        ],\n",
       "       [-16.        ,  32.        , -16.        ,   0.        ,\n",
       "          0.        ,   0.        ,   0.        ,   0.        ,\n",
       "          0.        ,   0.        ,   0.        ,   0.        ,\n",
       "          0.        ,   0.        ,   0.        ,   0.        ,\n",
       "          0.        ,   0.        ,   0.        ,   0.        ,\n",
       "          0.        ,   0.        ,   0.        ],\n",
       "       [  0.        , -16.        ,  32.        , -16.        ,\n",
       "          0.        ,   0.        ,   0.        ,   0.        ,\n",
       "          0.        ,   0.        ,   0.        ,   0.        ,\n",
       "          0.        ,   0.        ,   0.        ,   0.        ,\n",
       "          0.        ,   0.        ,   0.        ,   0.        ,\n",
       "          0.        ,   0.        ,   0.        ],\n",
       "       [  0.        ,   0.        , -16.        ,  32.        ,\n",
       "        -16.        ,   0.        ,   0.        ,   0.        ,\n",
       "          0.        ,   0.        ,   0.        ,   0.        ,\n",
       "          0.        ,   0.        ,   0.        ,   0.        ,\n",
       "          0.        ,   0.        ,   0.        ,   0.        ,\n",
       "          0.        ,   0.        ,   0.        ],\n",
       "       [  0.        ,   0.        ,   0.        ,   0.        ,\n",
       "         -1.        ,   0.        ,   0.        ,   1.        ,\n",
       "          0.        ,   0.        ,   0.        ,   0.        ,\n",
       "          0.        ,   0.        ,   0.        ,   0.        ,\n",
       "          0.        ,   0.        ,   0.        ,   0.        ,\n",
       "          0.        ,   0.        ,   0.        ],\n",
       "       [  0.        ,   0.        ,   0.        ,   1.        ,\n",
       "          0.        ,  -1.        ,   0.        ,   0.        ,\n",
       "          0.        ,   0.        ,   0.        ,   0.        ,\n",
       "          0.        ,   0.        ,   0.        ,   0.        ,\n",
       "          0.        ,   0.        ,   0.        ,   0.        ,\n",
       "          0.        ,   0.        ,   0.        ],\n",
       "       [  0.        ,   0.        ,  -0.125     ,   0.75      ,\n",
       "          0.375     ,   0.        ,  -1.        ,   0.        ,\n",
       "          0.        ,   0.        ,   0.        ,   0.        ,\n",
       "          0.        ,   0.        ,   0.        ,   0.        ,\n",
       "          0.        ,   0.        ,   0.        ,   0.        ,\n",
       "          0.        ,   0.        ,   0.        ],\n",
       "       [  0.        ,   0.        ,   0.        ,   0.        ,\n",
       "          0.        ,  -8.        , -32.        ,  80.        ,\n",
       "        -32.        ,  -8.        ,   0.        ,   0.        ,\n",
       "          0.        ,   0.        ,   0.        ,   0.        ,\n",
       "          0.        ,   0.        ,   0.        ,   0.        ,\n",
       "          0.        ,   0.        ,   0.        ],\n",
       "       [  0.        ,   0.        ,   0.        ,   0.        ,\n",
       "          0.        ,   0.        ,  -8.        , -32.        ,\n",
       "         80.        , -32.        ,  -8.        ,   0.        ,\n",
       "          0.        ,   0.        ,   0.        ,   0.        ,\n",
       "          0.        ,   0.        ,   0.        ,   0.        ,\n",
       "          0.        ,   0.        ,   0.        ],\n",
       "       [  0.        ,   0.        ,   0.        ,   0.        ,\n",
       "          0.        ,   0.        ,   0.        ,  -8.        ,\n",
       "        -32.        ,  80.        , -32.        ,  -8.        ,\n",
       "          0.        ,   0.        ,   0.        ,   0.        ,\n",
       "          0.        ,   0.        ,   0.        ,   0.        ,\n",
       "          0.        ,   0.        ,   0.        ],\n",
       "       [  0.        ,   0.        ,   0.        ,   0.        ,\n",
       "          0.        ,   0.        ,   0.        ,   0.        ,\n",
       "         -8.        , -32.        ,  80.        , -32.        ,\n",
       "         -8.        ,   0.        ,   0.        ,   0.        ,\n",
       "          0.        ,   0.        ,   0.        ,   0.        ,\n",
       "          0.        ,   0.        ,   0.        ],\n",
       "       [  0.        ,   0.        ,   0.        ,   0.        ,\n",
       "          0.        ,   0.        ,   0.        ,   0.        ,\n",
       "          0.        ,  -8.        , -32.        ,  80.        ,\n",
       "        -32.        ,  -8.        ,   0.        ,   0.        ,\n",
       "          0.        ,   0.        ,   0.        ,   0.        ,\n",
       "          0.        ,   0.        ,   0.        ],\n",
       "       [  0.        ,   0.        ,   0.        ,   0.        ,\n",
       "          0.        ,   0.        ,   0.        ,   0.        ,\n",
       "          0.        ,   0.        ,  -8.        , -32.        ,\n",
       "         80.        , -32.        ,  -8.        ,   0.        ,\n",
       "          0.        ,   0.        ,   0.        ,   0.        ,\n",
       "          0.        ,   0.        ,   0.        ],\n",
       "       [  0.        ,   0.        ,   0.        ,   0.        ,\n",
       "          0.        ,   0.        ,   0.        ,   0.        ,\n",
       "          0.        ,   0.        ,   0.        ,  -8.        ,\n",
       "        -32.        ,  80.        , -32.        ,  -8.        ,\n",
       "          0.        ,   0.        ,   0.        ,   0.        ,\n",
       "          0.        ,   0.        ,   0.        ],\n",
       "       [  0.        ,   0.        ,   0.        ,   0.        ,\n",
       "          0.        ,   0.        ,   0.        ,   0.        ,\n",
       "          0.        ,   0.        ,   0.        ,   0.        ,\n",
       "         -8.        , -32.        ,  80.        , -32.        ,\n",
       "         -8.        ,   0.        ,   0.        ,   0.        ,\n",
       "          0.        ,   0.        ,   0.        ],\n",
       "       [  0.        ,   0.        ,   0.        ,   0.        ,\n",
       "          0.        ,   0.        ,   0.        ,   0.        ,\n",
       "          0.        ,   0.        ,   0.        ,   0.        ,\n",
       "          0.        ,  -8.        , -32.        ,  80.        ,\n",
       "        -32.        ,  -8.        ,   0.        ,   0.        ,\n",
       "          0.        ,   0.        ,   0.        ],\n",
       "       [  0.        ,   0.        ,   0.        ,   0.        ,\n",
       "          0.        ,   0.        ,   0.        ,   0.        ,\n",
       "          0.        ,   0.        ,   0.        ,   0.        ,\n",
       "          0.        ,   0.        ,   0.        ,   0.        ,\n",
       "         -1.        ,   0.        ,   0.375     ,   0.75      ,\n",
       "         -0.125     ,   0.        ,   0.        ],\n",
       "       [  0.        ,   0.        ,   0.        ,   0.        ,\n",
       "          0.        ,   0.        ,   0.        ,   0.        ,\n",
       "          0.        ,   0.        ,   0.        ,   0.        ,\n",
       "          0.        ,   0.        ,   0.        ,   0.        ,\n",
       "          0.        ,  -1.        ,   0.        ,   1.        ,\n",
       "          0.        ,   0.        ,   0.        ],\n",
       "       [  0.        ,   0.        ,   0.        ,   0.        ,\n",
       "          0.        ,   0.        ,   0.        ,   0.        ,\n",
       "          0.        ,   0.        ,   0.        ,   0.        ,\n",
       "          0.        ,   0.        ,   0.        ,   1.        ,\n",
       "          0.        ,   0.        ,  -1.        ,   0.        ,\n",
       "          0.        ,   0.        ,   0.        ],\n",
       "       [  0.        ,   0.        ,   0.        ,   0.        ,\n",
       "          0.        ,   0.        ,   0.        ,   0.        ,\n",
       "          0.        ,   0.        ,   0.        ,   0.        ,\n",
       "          0.        ,   0.        ,   0.        ,   0.        ,\n",
       "          0.        ,   0.        , -16.        ,  32.        ,\n",
       "        -16.        ,   0.        ,   0.        ],\n",
       "       [  0.        ,   0.        ,   0.        ,   0.        ,\n",
       "          0.        ,   0.        ,   0.        ,   0.        ,\n",
       "          0.        ,   0.        ,   0.        ,   0.        ,\n",
       "          0.        ,   0.        ,   0.        ,   0.        ,\n",
       "          0.        ,   0.        ,   0.        , -16.        ,\n",
       "         32.        , -16.        ,   0.        ],\n",
       "       [  0.        ,   0.        ,   0.        ,   0.        ,\n",
       "          0.        ,   0.        ,   0.        ,   0.        ,\n",
       "          0.        ,   0.        ,   0.        ,   0.        ,\n",
       "          0.        ,   0.        ,   0.        ,   0.        ,\n",
       "          0.        ,   0.        ,   0.        ,   0.        ,\n",
       "        -16.        ,  32.        , -16.        ],\n",
       "       [  0.        ,   0.        ,   0.        ,   0.        ,\n",
       "          0.        ,   0.        ,   0.        ,   0.        ,\n",
       "          0.        ,   0.        ,   0.        ,   0.        ,\n",
       "          0.        ,   0.        ,   0.        ,   0.        ,\n",
       "          0.        ,   0.        ,   0.        ,  -1.33333333,\n",
       "          6.        , -12.        ,   7.33333333]])"
      ]
     },
     "execution_count": 16,
     "metadata": {},
     "output_type": "execute_result"
    }
   ],
   "source": [
    "M"
   ]
  },
  {
   "cell_type": "code",
   "execution_count": 17,
   "metadata": {},
   "outputs": [
    {
     "data": {
      "text/plain": [
       "array([0.   , 0.125, 0.25 , 0.375, 0.5  , 0.625, 0.75 , 0.875])"
      ]
     },
     "execution_count": 17,
     "metadata": {},
     "output_type": "execute_result"
    }
   ],
   "source": [
    "x=np.arange(0,1,0.125)\n",
    "x"
   ]
  },
  {
   "cell_type": "code",
   "execution_count": 18,
   "metadata": {},
   "outputs": [
    {
     "data": {
      "text/plain": [
       "array([0.  , 0.25, 0.5 , 0.75, 1.  ])"
      ]
     },
     "execution_count": 18,
     "metadata": {},
     "output_type": "execute_result"
    }
   ],
   "source": [
    "x1 = np.arange(0,1.25,0.25)\n",
    "x1"
   ]
  },
  {
   "cell_type": "code",
   "execution_count": 19,
   "metadata": {},
   "outputs": [
    {
     "data": {
      "text/plain": [
       "array([0.75 , 0.875, 1.   , 1.125, 1.25 , 1.375, 1.5  , 1.625, 1.75 ,\n",
       "       1.875, 2.   , 2.125, 2.25 ])"
      ]
     },
     "execution_count": 19,
     "metadata": {},
     "output_type": "execute_result"
    }
   ],
   "source": [
    "x2 = np.arange(1-2*0.125,2+3*0.125,0.125)\n",
    "x2"
   ]
  },
  {
   "cell_type": "code",
   "execution_count": 20,
   "metadata": {},
   "outputs": [
    {
     "data": {
      "text/plain": [
       "array([2.  , 2.25, 2.5 , 2.75, 3.  ])"
      ]
     },
     "execution_count": 20,
     "metadata": {},
     "output_type": "execute_result"
    }
   ],
   "source": [
    "x3 = np.arange(2,3.25,0.25)\n",
    "x3"
   ]
  },
  {
   "cell_type": "code",
   "execution_count": 21,
   "metadata": {},
   "outputs": [
    {
     "data": {
      "text/plain": [
       "array([0.   , 0.25 , 0.5  , 0.75 , 1.   , 0.75 , 0.875, 1.   , 1.125,\n",
       "       1.25 , 1.375, 1.5  , 1.625, 1.75 , 1.875, 2.   , 2.125, 2.25 ,\n",
       "       2.   , 2.25 , 2.5  , 2.75 , 3.   ])"
      ]
     },
     "execution_count": 21,
     "metadata": {},
     "output_type": "execute_result"
    }
   ],
   "source": [
    "x = np.array(np.concatenate((x1,x2,x3)))\n",
    "x"
   ]
  },
  {
   "cell_type": "markdown",
   "metadata": {},
   "source": [
    "Contruct the force vector"
   ]
  },
  {
   "cell_type": "code",
   "execution_count": 22,
   "metadata": {},
   "outputs": [
    {
     "data": {
      "text/plain": [
       "array([0., 0., 0., 0., 0., 0., 0., 0., 0., 0., 0., 0., 0., 0., 0., 0., 0.,\n",
       "       0., 0., 0., 0., 0., 0.])"
      ]
     },
     "execution_count": 22,
     "metadata": {},
     "output_type": "execute_result"
    }
   ],
   "source": [
    "f = np.zeros([23])\n",
    "f"
   ]
  },
  {
   "cell_type": "code",
   "execution_count": 23,
   "metadata": {},
   "outputs": [],
   "source": [
    "for i in range(1,len(f)-1):\n",
    "    f[i] = -6*x[i]"
   ]
  },
  {
   "cell_type": "code",
   "execution_count": 24,
   "metadata": {},
   "outputs": [],
   "source": [
    "f [4] = 0 # the displacememnt is matching therefore the force is zero\n",
    "f [5] = 0 \n",
    "f [6] = 0 \n",
    "f [18] = 0 \n",
    "f [16] = 0\n",
    "f [17] = 0\n",
    "f [22] = 27"
   ]
  },
  {
   "cell_type": "code",
   "execution_count": 25,
   "metadata": {},
   "outputs": [
    {
     "data": {
      "text/plain": [
       "array([  0.  ,  -1.5 ,  -3.  ,  -4.5 ,   0.  ,   0.  ,   0.  ,  -6.  ,\n",
       "        -6.75,  -7.5 ,  -8.25,  -9.  ,  -9.75, -10.5 , -11.25, -12.  ,\n",
       "         0.  ,   0.  ,   0.  , -13.5 , -15.  , -16.5 ,  27.  ])"
      ]
     },
     "execution_count": 25,
     "metadata": {},
     "output_type": "execute_result"
    }
   ],
   "source": [
    "f"
   ]
  },
  {
   "cell_type": "code",
   "execution_count": 26,
   "metadata": {},
   "outputs": [
    {
     "data": {
      "text/plain": [
       "array([-0.00000000e+00,  1.56250000e-02,  1.25000000e-01,  4.21875000e-01,\n",
       "        1.00000000e+00,  4.21875000e-01,  6.75781250e-01,  1.00000000e+00,\n",
       "        1.41997937e+00,  1.94508253e+00,  2.58743232e+00,  3.35867851e+00,\n",
       "        4.27054970e+00,  5.33477450e+00,  6.56300265e+00,  7.96735702e+00,\n",
       "        9.55720077e+00,  1.13579820e+01,  7.96735702e+00,  1.13579820e+01,\n",
       "        1.55923570e+01,  2.07642320e+01,  2.69673570e+01])"
      ]
     },
     "execution_count": 26,
     "metadata": {},
     "output_type": "execute_result"
    }
   ],
   "source": [
    "u = np.linalg.solve(M,f)\n",
    "u"
   ]
  },
  {
   "cell_type": "code",
   "execution_count": 27,
   "metadata": {},
   "outputs": [
    {
     "data": {
      "text/plain": [
       "array([0.   , 0.25 , 0.5  , 0.75 , 1.   , 1.125, 1.25 , 1.375, 1.5  ,\n",
       "       1.625, 1.75 , 1.875, 2.   , 2.25 , 2.5  , 2.75 , 3.   ])"
      ]
     },
     "execution_count": 27,
     "metadata": {},
     "output_type": "execute_result"
    }
   ],
   "source": [
    "x1 = np.arange(0,1,0.25)\n",
    "x2 = np.arange(1,2,0.125)\n",
    "x3 = np.arange(2,3.25,0.25)\n",
    "x20 = np.array(np.concatenate((x1,x2,x3)))\n",
    "x20"
   ]
  },
  {
   "cell_type": "code",
   "execution_count": 28,
   "metadata": {},
   "outputs": [
    {
     "data": {
      "text/plain": [
       "array([-0.00000000e+00,  1.56250000e-02,  1.25000000e-01,  4.21875000e-01,\n",
       "        1.00000000e+00,  1.41997937e+00,  1.94508253e+00,  2.58743232e+00,\n",
       "        3.35867851e+00,  4.27054970e+00,  5.33477450e+00,  6.56300265e+00,\n",
       "        7.96735702e+00,  1.13579820e+01,  1.55923570e+01,  2.07642320e+01,\n",
       "        2.69673570e+01])"
      ]
     },
     "execution_count": 28,
     "metadata": {},
     "output_type": "execute_result"
    }
   ],
   "source": [
    "uSlice = np.array(np.concatenate((u[0:5],u[8:15],u[18:len(u)])))\n",
    "uSlice"
   ]
  },
  {
   "cell_type": "code",
   "execution_count": 29,
   "metadata": {},
   "outputs": [
    {
     "data": {
      "text/plain": [
       "23"
      ]
     },
     "execution_count": 29,
     "metadata": {},
     "output_type": "execute_result"
    }
   ],
   "source": [
    "len(u)"
   ]
  },
  {
   "cell_type": "code",
   "execution_count": 30,
   "metadata": {},
   "outputs": [
    {
     "data": {
      "text/plain": [
       "17"
      ]
     },
     "execution_count": 30,
     "metadata": {},
     "output_type": "execute_result"
    }
   ],
   "source": [
    "len(uSlice)"
   ]
  },
  {
   "cell_type": "code",
   "execution_count": 31,
   "metadata": {},
   "outputs": [
    {
     "data": {
      "text/plain": [
       "17"
      ]
     },
     "execution_count": 31,
     "metadata": {},
     "output_type": "execute_result"
    }
   ],
   "source": [
    "len(x20)"
   ]
  },
  {
   "cell_type": "code",
   "execution_count": 32,
   "metadata": {},
   "outputs": [
    {
     "data": {
      "image/png": "[encoded data removed]",
      "text/plain": [
       "<Figure size 432x288 with 1 Axes>"
      ]
     },
     "metadata": {
      "needs_background": "light"
     },
     "output_type": "display_data"
    }
   ],
   "source": [
    "plt.plot(x20,uSlice)\n",
    "plt.grid()"
   ]
  },
  {
   "cell_type": "code",
   "execution_count": 33,
   "metadata": {},
   "outputs": [],
   "source": [
    "h2= 0.125"
   ]
  },
  {
   "cell_type": "code",
   "execution_count": 34,
   "metadata": {},
   "outputs": [],
   "source": [
    "fFD2 =  1./(2.*h2*h2) \n",
    "fPD2 =  1./(8.*h2/2*h2/2) "
   ]
  },
  {
   "cell_type": "code",
   "execution_count": 35,
   "metadata": {},
   "outputs": [],
   "source": [
    "M2 = np.zeros([39,39])"
   ]
  },
  {
   "cell_type": "code",
   "execution_count": 36,
   "metadata": {},
   "outputs": [],
   "source": [
    "M2 [0][0] = 1"
   ]
  },
  {
   "cell_type": "code",
   "execution_count": 37,
   "metadata": {},
   "outputs": [],
   "source": [
    "for i in range (1, 8):\n",
    "    M2[i][i-1]=-2 * fFD2\n",
    "    M2[i][i]= 4 * fFD2\n",
    "    M2[i][i+1]= -2 * fFD2"
   ]
  },
  {
   "cell_type": "markdown",
   "metadata": {},
   "source": [
    "Match the dispacement between $u_7$ and $u_9$"
   ]
  },
  {
   "cell_type": "code",
   "execution_count": 38,
   "metadata": {},
   "outputs": [],
   "source": [
    "M2[9][9]= -1\n",
    "M2[9][7]=1"
   ]
  },
  {
   "cell_type": "markdown",
   "metadata": {},
   "source": [
    "Match the dispacement between $u_8$ and $u_{11}$"
   ]
  },
  {
   "cell_type": "code",
   "execution_count": 39,
   "metadata": {},
   "outputs": [],
   "source": [
    "M2[8][8]= -1\n",
    "M2[8][11]=1"
   ]
  },
  {
   "cell_type": "markdown",
   "metadata": {},
   "source": [
    "Interpolate the displacement $u_{10}$ and $u_{9}'$\n",
    "\n",
    "* $u_{10}'-u_{10}=0$\n",
    "* $\\frac{1}{2}\\left(u_7 + u_8\\right)-u_{10}=0$"
   ]
  },
  {
   "cell_type": "code",
   "execution_count": 40,
   "metadata": {},
   "outputs": [],
   "source": [
    "M2 [10][10] = -1\n",
    "M2 [10][6] = -1/8\n",
    "M2 [10][7] = 3/4\n",
    "M2 [10][8] = 3/8"
   ]
  },
  {
   "cell_type": "markdown",
   "metadata": {},
   "source": [
    "Apply the non-local model"
   ]
  },
  {
   "cell_type": "code",
   "execution_count": 41,
   "metadata": {},
   "outputs": [],
   "source": [
    "for i in range(11,28):\n",
    "    M2[i][i-2] = -1.  * fPD2\n",
    "    M2[i][i-1] = -4. * fPD2\n",
    "    M2[i][i] = 10. * fPD2\n",
    "    M2[i][i+1] =  -4. * fPD2\n",
    "    M2[i][i+2] = -1. * fPD2"
   ]
  },
  {
   "cell_type": "markdown",
   "metadata": {},
   "source": [
    "Interpolate the displacement $u_{28}$ and $u_{28}'$\n",
    "\n",
    "* $u_{28}'-u_{28}=0$\n",
    "* $\\frac{1}{2}\\left(u_{30} + u_{31}\\right)-u_{28}=0$"
   ]
  },
  {
   "cell_type": "code",
   "execution_count": 42,
   "metadata": {},
   "outputs": [],
   "source": [
    "M2 [28][28] = -1\n",
    "M2 [28][30] = 3/8\n",
    "M2 [28][31] = 3/4\n",
    "M2 [28][32] = -1/8"
   ]
  },
  {
   "cell_type": "markdown",
   "metadata": {},
   "source": [
    "Match the displacement $u_{29}$ and $u_{31}$"
   ]
  },
  {
   "cell_type": "code",
   "execution_count": 43,
   "metadata": {},
   "outputs": [],
   "source": [
    "M2 [29][29] = -1\n",
    "M2 [29][31] = 1"
   ]
  },
  {
   "cell_type": "markdown",
   "metadata": {},
   "source": [
    "Match the displacement $u_{27}$ and $u_{30}$"
   ]
  },
  {
   "cell_type": "code",
   "execution_count": 44,
   "metadata": {},
   "outputs": [],
   "source": [
    "M2 [30][30] = -1\n",
    "M2 [30][27] = 1"
   ]
  },
  {
   "cell_type": "code",
   "execution_count": 45,
   "metadata": {},
   "outputs": [],
   "source": [
    "for i in range (31, 38):\n",
    "    M2[i][i-1]=-2 * fFD2\n",
    "    M2[i][i]= 4 * fFD2\n",
    "    M2[i][i+1]= -2 * fFD2"
   ]
  },
  {
   "cell_type": "code",
   "execution_count": 46,
   "metadata": {},
   "outputs": [
    {
     "data": {
      "text/plain": [
       "array([[  1.        ,   0.        ,   0.        , ...,   0.        ,\n",
       "          0.        ,   0.        ],\n",
       "       [-64.        , 128.        , -64.        , ...,   0.        ,\n",
       "          0.        ,   0.        ],\n",
       "       [  0.        , -64.        , 128.        , ...,   0.        ,\n",
       "          0.        ,   0.        ],\n",
       "       ...,\n",
       "       [  0.        ,   0.        ,   0.        , ..., 128.        ,\n",
       "        -64.        ,   0.        ],\n",
       "       [  0.        ,   0.        ,   0.        , ..., -64.        ,\n",
       "        128.        , -64.        ],\n",
       "       [  0.        ,   0.        ,   0.        , ...,  12.        ,\n",
       "        -24.        ,  14.66666667]])"
      ]
     },
     "execution_count": 46,
     "metadata": {},
     "output_type": "execute_result"
    }
   ],
   "source": [
    "M2 [38][38] = 11/6/h2\n",
    "M2 [38][37] = -18/6/h2\n",
    "M2 [38][36] = 9/6/h2\n",
    "M2 [38][35] = -2/6/h2\n",
    "M2"
   ]
  },
  {
   "cell_type": "code",
   "execution_count": 47,
   "metadata": {},
   "outputs": [
    {
     "data": {
      "text/plain": [
       "array([0.    , 0.125 , 0.25  , 0.375 , 0.5   , 0.625 , 0.75  , 0.875 ,\n",
       "       1.    , 0.875 , 0.9375, 1.    , 1.0625, 1.125 , 1.1875, 1.25  ,\n",
       "       1.3125, 1.375 , 1.4375, 1.5   , 1.5625, 1.625 , 1.6875, 1.75  ,\n",
       "       1.8125, 1.875 , 1.9375, 2.    , 2.0625, 2.125 , 2.    , 2.125 ,\n",
       "       2.25  , 2.375 , 2.5   , 2.625 , 2.75  , 2.875 , 3.    ])"
      ]
     },
     "execution_count": 47,
     "metadata": {},
     "output_type": "execute_result"
    }
   ],
   "source": [
    "x1 = np.arange(0,1.125,0.125)\n",
    "x2 = np.arange(1-2*0.0625,2+3*0.0625,0.0625)\n",
    "x3 = np.arange(2,3.125,0.125)\n",
    "x = np.array(np.concatenate((x1,x2,x3)))\n",
    "x"
   ]
  },
  {
   "cell_type": "code",
   "execution_count": 48,
   "metadata": {},
   "outputs": [
    {
     "data": {
      "text/plain": [
       "array([0., 0., 0., 0., 0., 0., 0., 0., 0., 0., 0., 0., 0., 0., 0., 0., 0.,\n",
       "       0., 0., 0., 0., 0., 0., 0., 0., 0., 0., 0., 0., 0., 0., 0., 0., 0.,\n",
       "       0., 0., 0., 0., 0.])"
      ]
     },
     "execution_count": 48,
     "metadata": {},
     "output_type": "execute_result"
    }
   ],
   "source": [
    "f2 = np.zeros([39])\n",
    "f2"
   ]
  },
  {
   "cell_type": "code",
   "execution_count": 49,
   "metadata": {},
   "outputs": [],
   "source": [
    "for i in range(1,len(f2)-1):\n",
    "    f2[i] = -6*x[i]"
   ]
  },
  {
   "cell_type": "code",
   "execution_count": 50,
   "metadata": {},
   "outputs": [
    {
     "data": {
      "text/plain": [
       "array([  0.   ,  -0.75 ,  -1.5  ,  -2.25 ,  -3.   ,  -3.75 ,  -4.5  ,\n",
       "        -5.25 ,   0.   ,   0.   ,   0.   ,  -6.   ,  -6.375,  -6.75 ,\n",
       "        -7.125,  -7.5  ,  -7.875,  -8.25 ,  -8.625,  -9.   ,  -9.375,\n",
       "        -9.75 , -10.125, -10.5  , -10.875, -11.25 , -11.625, -12.   ,\n",
       "         0.   ,   0.   ,   0.   , -12.75 , -13.5  , -14.25 , -15.   ,\n",
       "       -15.75 , -16.5  , -17.25 ,  27.   ])"
      ]
     },
     "execution_count": 50,
     "metadata": {},
     "output_type": "execute_result"
    }
   ],
   "source": [
    "f2 [8] = 0 # the displacememnt is matching therefore the force is zero\n",
    "f2 [9] = 0 \n",
    "f2 [10] = 0 \n",
    "f2 [30] = 0 \n",
    "f2 [28] = 0\n",
    "f2 [29] = 0\n",
    "f2 [38] = 27\n",
    "f2"
   ]
  },
  {
   "cell_type": "code",
   "execution_count": 51,
   "metadata": {},
   "outputs": [
    {
     "data": {
      "text/plain": [
       "array([-0.00000000e+00,  1.95312500e-03,  1.56250000e-02,  5.27343750e-02,\n",
       "        1.25000000e-01,  2.44140625e-01,  4.21875000e-01,  6.69921875e-01,\n",
       "        1.00000000e+00,  6.69921875e-01,  8.24707031e-01,  1.00000000e+00,\n",
       "        1.19898180e+00,  1.42282282e+00,  1.67303842e+00,  1.95108479e+00,\n",
       "        2.25842825e+00,  2.59653339e+00,  2.96686510e+00,  3.37088821e+00,\n",
       "        3.81006758e+00,  4.28586804e+00,  4.79975443e+00,  5.35319164e+00,\n",
       "        5.94764425e+00,  6.58457861e+00,  7.26545088e+00,  7.99177642e+00,\n",
       "        8.76472564e+00,  9.58747955e+00,  7.99177642e+00,  9.58747955e+00,\n",
       "        1.13824014e+01,  1.33882608e+01,  1.56167764e+01,  1.80796670e+01,\n",
       "        2.07886514e+01,  2.37554483e+01,  2.69917764e+01])"
      ]
     },
     "execution_count": 51,
     "metadata": {},
     "output_type": "execute_result"
    }
   ],
   "source": [
    "u2 = np.linalg.solve(M2,f2)\n",
    "u2"
   ]
  },
  {
   "cell_type": "code",
   "execution_count": 52,
   "metadata": {},
   "outputs": [
    {
     "data": {
      "text/plain": [
       "array([0.    , 0.125 , 0.25  , 0.375 , 0.5   , 0.625 , 0.75  , 0.875 ,\n",
       "       1.    , 1.0625, 1.125 , 1.1875, 1.25  , 1.3125, 1.375 , 1.4375,\n",
       "       1.5   , 1.5625, 1.625 , 1.6875, 1.75  , 1.8125, 1.875 , 1.9375,\n",
       "       2.    , 2.125 , 2.25  , 2.375 , 2.5   , 2.625 , 2.75  , 2.875 ,\n",
       "       3.    ])"
      ]
     },
     "execution_count": 52,
     "metadata": {},
     "output_type": "execute_result"
    }
   ],
   "source": [
    "x4 = np.arange(0,1,0.125)\n",
    "x5 = np.arange(1,2,0.0625)\n",
    "x6 = np.arange(2,3.125,0.125)\n",
    "x7 = np.array(np.concatenate((x4,x5,x6)))\n",
    "x7"
   ]
  },
  {
   "cell_type": "code",
   "execution_count": 53,
   "metadata": {},
   "outputs": [
    {
     "data": {
      "text/plain": [
       "array([-0.00000000e+00,  1.95312500e-03,  1.56250000e-02,  5.27343750e-02,\n",
       "        1.25000000e-01,  2.44140625e-01,  4.21875000e-01,  6.69921875e-01,\n",
       "        1.00000000e+00,  1.19898180e+00,  1.42282282e+00,  1.67303842e+00,\n",
       "        1.95108479e+00,  2.25842825e+00,  2.59653339e+00,  2.96686510e+00,\n",
       "        3.37088821e+00,  3.81006758e+00,  4.28586804e+00,  4.79975443e+00,\n",
       "        5.35319164e+00,  5.94764425e+00,  6.58457861e+00,  7.26545088e+00,\n",
       "        7.99177642e+00,  9.58747955e+00,  1.13824014e+01,  1.33882608e+01,\n",
       "        1.56167764e+01,  1.80796670e+01,  2.07886514e+01,  2.37554483e+01,\n",
       "        2.69917764e+01])"
      ]
     },
     "execution_count": 53,
     "metadata": {},
     "output_type": "execute_result"
    }
   ],
   "source": [
    "uSlice2 = np.array(np.concatenate((u2[0:9],u2[12:27],u2[30:len(u2)])))\n",
    "uSlice2"
   ]
  },
  {
   "cell_type": "code",
   "execution_count": 54,
   "metadata": {},
   "outputs": [
    {
     "data": {
      "text/plain": [
       "39"
      ]
     },
     "execution_count": 54,
     "metadata": {},
     "output_type": "execute_result"
    }
   ],
   "source": [
    "len(u2)"
   ]
  },
  {
   "cell_type": "code",
   "execution_count": 55,
   "metadata": {},
   "outputs": [
    {
     "data": {
      "text/plain": [
       "33"
      ]
     },
     "execution_count": 55,
     "metadata": {},
     "output_type": "execute_result"
    }
   ],
   "source": [
    "len(x7)"
   ]
  },
  {
   "cell_type": "code",
   "execution_count": 56,
   "metadata": {},
   "outputs": [
    {
     "data": {
      "text/plain": [
       "33"
      ]
     },
     "execution_count": 56,
     "metadata": {},
     "output_type": "execute_result"
    }
   ],
   "source": [
    "len(uSlice2)"
   ]
  },
  {
   "cell_type": "code",
   "execution_count": 57,
   "metadata": {},
   "outputs": [
    {
     "data": {
      "image/png": "[encoded data removed]",
      "text/plain": [
       "<Figure size 432x288 with 1 Axes>"
      ]
     },
     "metadata": {
      "needs_background": "light"
     },
     "output_type": "display_data"
    }
   ],
   "source": [
    "plt.plot(x7,uSlice2)\n",
    "plt.grid()"
   ]
  },
  {
   "cell_type": "code",
   "execution_count": 58,
   "metadata": {},
   "outputs": [],
   "source": [
    "h3=0.0625"
   ]
  },
  {
   "cell_type": "code",
   "execution_count": 59,
   "metadata": {},
   "outputs": [],
   "source": [
    "fFD3 =  1./(2.*h3*h3) \n",
    "fPD3 =  1./(8.*h3/2*h3/2) "
   ]
  },
  {
   "cell_type": "code",
   "execution_count": 60,
   "metadata": {},
   "outputs": [],
   "source": [
    "M3 = np.zeros([71,71])"
   ]
  },
  {
   "cell_type": "code",
   "execution_count": 61,
   "metadata": {},
   "outputs": [],
   "source": [
    "M3 [0][0] = 1"
   ]
  },
  {
   "cell_type": "code",
   "execution_count": 62,
   "metadata": {},
   "outputs": [],
   "source": [
    "for i in range (1, 16):\n",
    "    M3[i][i-1]=-2 * fFD3\n",
    "    M3[i][i]= 4 * fFD3\n",
    "    M3[i][i+1]= -2 * fFD3"
   ]
  },
  {
   "cell_type": "markdown",
   "metadata": {},
   "source": [
    "Match the dispacement between $u_{15}$ and $u_{17}$"
   ]
  },
  {
   "cell_type": "code",
   "execution_count": 63,
   "metadata": {},
   "outputs": [],
   "source": [
    "M3[17][17]= -1\n",
    "M3[17][15]=1"
   ]
  },
  {
   "cell_type": "markdown",
   "metadata": {},
   "source": [
    "Match the dispacement between $u_{16}$ and $u_{19}$"
   ]
  },
  {
   "cell_type": "code",
   "execution_count": 64,
   "metadata": {},
   "outputs": [],
   "source": [
    "M3[16][16]= -1\n",
    "M3[16][19]=1"
   ]
  },
  {
   "cell_type": "markdown",
   "metadata": {},
   "source": [
    "Interpolate the displacement $u_{18}$ and $u_{18}'$\n",
    "\n",
    "* $u_{18}'-u_{18}=0$\n",
    "* $\\frac{1}{2}\\left(u_{15} + u_{16}\\right)-u_{18}=0$"
   ]
  },
  {
   "cell_type": "code",
   "execution_count": 65,
   "metadata": {},
   "outputs": [],
   "source": [
    "M3 [18][18] = -1\n",
    "M3 [18][14]= -1/8\n",
    "M3 [18][15] = 3/4\n",
    "M3 [18][16] = 3/8"
   ]
  },
  {
   "cell_type": "markdown",
   "metadata": {},
   "source": [
    "Apply the non-local model"
   ]
  },
  {
   "cell_type": "code",
   "execution_count": 66,
   "metadata": {},
   "outputs": [],
   "source": [
    "for i in range(19,52):\n",
    "    M3[i][i-2] = -1.  * fPD3\n",
    "    M3[i][i-1] = -4. * fPD3\n",
    "    M3[i][i] = 10. * fPD3\n",
    "    M3[i][i+1] =  -4. * fPD3\n",
    "    M3[i][i+2] = -1. * fPD3"
   ]
  },
  {
   "cell_type": "markdown",
   "metadata": {},
   "source": [
    "Interpolate the displacement $u_{52}$ and $u_{52}'$\n",
    "\n",
    "* $u_{52}'-u_{52}=0$\n",
    "* $\\frac{1}{2}\\left(u_{54} + u_{55}\\right)-u_{52}=0$"
   ]
  },
  {
   "cell_type": "code",
   "execution_count": 67,
   "metadata": {},
   "outputs": [],
   "source": [
    "M3 [52][52] = -1\n",
    "M3 [52][54] = 3/8\n",
    "M3 [52][55] = 3/4\n",
    "M3 [52][56] = -1/8"
   ]
  },
  {
   "cell_type": "markdown",
   "metadata": {},
   "source": [
    "Match the displacement $u_{51}$ and $u_{54}$"
   ]
  },
  {
   "cell_type": "code",
   "execution_count": 68,
   "metadata": {},
   "outputs": [],
   "source": [
    "M3 [54][54] = -1\n",
    "M3 [54][51] = 1"
   ]
  },
  {
   "cell_type": "markdown",
   "metadata": {},
   "source": [
    "Match the displacement $u_{53}$ and $u_{55}$"
   ]
  },
  {
   "cell_type": "code",
   "execution_count": 69,
   "metadata": {},
   "outputs": [],
   "source": [
    "M3 [53][53] = -1\n",
    "M3 [53][55] = 1"
   ]
  },
  {
   "cell_type": "code",
   "execution_count": 70,
   "metadata": {},
   "outputs": [],
   "source": [
    "for i in range (55, 70):\n",
    "    M3[i][i-1]=-2 * fFD3\n",
    "    M3[i][i]= 4 * fFD3\n",
    "    M3[i][i+1]= -2 * fFD3"
   ]
  },
  {
   "cell_type": "code",
   "execution_count": 71,
   "metadata": {},
   "outputs": [
    {
     "data": {
      "text/plain": [
       "array([[   1.        ,    0.        ,    0.        , ...,    0.        ,\n",
       "           0.        ,    0.        ],\n",
       "       [-256.        ,  512.        , -256.        , ...,    0.        ,\n",
       "           0.        ,    0.        ],\n",
       "       [   0.        , -256.        ,  512.        , ...,    0.        ,\n",
       "           0.        ,    0.        ],\n",
       "       ...,\n",
       "       [   0.        ,    0.        ,    0.        , ...,  512.        ,\n",
       "        -256.        ,    0.        ],\n",
       "       [   0.        ,    0.        ,    0.        , ..., -256.        ,\n",
       "         512.        , -256.        ],\n",
       "       [   0.        ,    0.        ,    0.        , ...,   24.        ,\n",
       "         -48.        ,   29.33333333]])"
      ]
     },
     "execution_count": 71,
     "metadata": {},
     "output_type": "execute_result"
    }
   ],
   "source": [
    "M3 [70][70] = 11/6/h3\n",
    "M3 [70][69] = -18/6/h3\n",
    "M3 [70][68] = 9/6/h3\n",
    "M3 [70][67] = -2/6/h3\n",
    "M3"
   ]
  },
  {
   "cell_type": "code",
   "execution_count": 72,
   "metadata": {},
   "outputs": [
    {
     "data": {
      "text/plain": [
       "array([0.     , 0.0625 , 0.125  , 0.1875 , 0.25   , 0.3125 , 0.375  ,\n",
       "       0.4375 , 0.5    , 0.5625 , 0.625  , 0.6875 , 0.75   , 0.8125 ,\n",
       "       0.875  , 0.9375 , 1.     , 0.9375 , 0.96875, 1.     , 1.03125,\n",
       "       1.0625 , 1.09375, 1.125  , 1.15625, 1.1875 , 1.21875, 1.25   ,\n",
       "       1.28125, 1.3125 , 1.34375, 1.375  , 1.40625, 1.4375 , 1.46875,\n",
       "       1.5    , 1.53125, 1.5625 , 1.59375, 1.625  , 1.65625, 1.6875 ,\n",
       "       1.71875, 1.75   , 1.78125, 1.8125 , 1.84375, 1.875  , 1.90625,\n",
       "       1.9375 , 1.96875, 2.     , 2.03125, 2.0625 , 2.     , 2.0625 ,\n",
       "       2.125  , 2.1875 , 2.25   , 2.3125 , 2.375  , 2.4375 , 2.5    ,\n",
       "       2.5625 , 2.625  , 2.6875 , 2.75   , 2.8125 , 2.875  , 2.9375 ,\n",
       "       3.     ])"
      ]
     },
     "execution_count": 72,
     "metadata": {},
     "output_type": "execute_result"
    }
   ],
   "source": [
    "x1 = np.arange(0,1.0625,0.0625)\n",
    "x2 = np.arange(1-2*0.03125,2+3*0.03125,0.03125)\n",
    "x3 = np.arange(2,3.0625,0.0625)\n",
    "x = np.array(np.concatenate((x1,x2,x3)))\n",
    "x"
   ]
  },
  {
   "cell_type": "code",
   "execution_count": 73,
   "metadata": {},
   "outputs": [
    {
     "data": {
      "text/plain": [
       "array([0., 0., 0., 0., 0., 0., 0., 0., 0., 0., 0., 0., 0., 0., 0., 0., 0.,\n",
       "       0., 0., 0., 0., 0., 0., 0., 0., 0., 0., 0., 0., 0., 0., 0., 0., 0.,\n",
       "       0., 0., 0., 0., 0., 0., 0., 0., 0., 0., 0., 0., 0., 0., 0., 0., 0.,\n",
       "       0., 0., 0., 0., 0., 0., 0., 0., 0., 0., 0., 0., 0., 0., 0., 0., 0.,\n",
       "       0., 0., 0.])"
      ]
     },
     "execution_count": 73,
     "metadata": {},
     "output_type": "execute_result"
    }
   ],
   "source": [
    "f3 = np.zeros([71])\n",
    "f3"
   ]
  },
  {
   "cell_type": "code",
   "execution_count": 74,
   "metadata": {},
   "outputs": [],
   "source": [
    "for i in range(1,len(f3)-1):\n",
    "    f3[i] = -6*x[i]"
   ]
  },
  {
   "cell_type": "code",
   "execution_count": 75,
   "metadata": {},
   "outputs": [
    {
     "data": {
      "text/plain": [
       "array([  0.    ,  -0.375 ,  -0.75  ,  -1.125 ,  -1.5   ,  -1.875 ,\n",
       "        -2.25  ,  -2.625 ,  -3.    ,  -3.375 ,  -3.75  ,  -4.125 ,\n",
       "        -4.5   ,  -4.875 ,  -5.25  ,  -5.625 ,   0.    ,   0.    ,\n",
       "         0.    ,  -6.    ,  -6.1875,  -6.375 ,  -6.5625,  -6.75  ,\n",
       "        -6.9375,  -7.125 ,  -7.3125,  -7.5   ,  -7.6875,  -7.875 ,\n",
       "        -8.0625,  -8.25  ,  -8.4375,  -8.625 ,  -8.8125,  -9.    ,\n",
       "        -9.1875,  -9.375 ,  -9.5625,  -9.75  ,  -9.9375, -10.125 ,\n",
       "       -10.3125, -10.5   , -10.6875, -10.875 , -11.0625, -11.25  ,\n",
       "       -11.4375, -11.625 , -11.8125, -12.    ,   0.    ,   0.    ,\n",
       "         0.    , -12.375 , -12.75  , -13.125 , -13.5   , -13.875 ,\n",
       "       -14.25  , -14.625 , -15.    , -15.375 , -15.75  , -16.125 ,\n",
       "       -16.5   , -16.875 , -17.25  , -17.625 ,  27.    ])"
      ]
     },
     "execution_count": 75,
     "metadata": {},
     "output_type": "execute_result"
    }
   ],
   "source": [
    "f3 [16] = 0 # the displacememnt is matching therefore the force is zero\n",
    "f3 [17] = 0 \n",
    "f3 [18] = 0 \n",
    "f3 [52] = 0 \n",
    "f3 [53] = 0\n",
    "f3 [54] = 0\n",
    "f3 [70] =27\n",
    "f3"
   ]
  },
  {
   "cell_type": "code",
   "execution_count": 76,
   "metadata": {},
   "outputs": [
    {
     "data": {
      "text/plain": [
       "array([-0.00000000e+00,  2.44140625e-04,  1.95312500e-03,  6.59179688e-03,\n",
       "        1.56250000e-02,  3.05175781e-02,  5.27343750e-02,  8.37402344e-02,\n",
       "        1.25000000e-01,  1.77978516e-01,  2.44140625e-01,  3.24951172e-01,\n",
       "        4.21875000e-01,  5.36376953e-01,  6.69921875e-01,  8.23974609e-01,\n",
       "        1.00000000e+00,  8.23974609e-01,  9.09240723e-01,  1.00000000e+00,\n",
       "        1.09665007e+00,  1.19933723e+00,  1.30825090e+00,  1.42357310e+00,\n",
       "        1.54548712e+00,  1.67417605e+00,  1.80982298e+00,  1.95261103e+00,\n",
       "        2.10272329e+00,  2.26034288e+00,  2.42565290e+00,  2.59883645e+00,\n",
       "        2.78007665e+00,  2.96955659e+00,  3.16745938e+00,  3.37396813e+00,\n",
       "        3.58926594e+00,  3.81353592e+00,  4.04696117e+00,  4.28972480e+00,\n",
       "        4.54200992e+00,  4.80399962e+00,  5.07587702e+00,  5.35782523e+00,\n",
       "        5.65002733e+00,  5.95266645e+00,  6.26592569e+00,  6.58998815e+00,\n",
       "        6.92503692e+00,  7.27125528e+00,  7.62882525e+00,  7.99793625e+00,\n",
       "        8.37873459e+00,  8.77161789e+00,  7.99793625e+00,  8.77161789e+00,\n",
       "        9.59363938e+00,  1.04654655e+01,  1.13885613e+01,  1.23643913e+01,\n",
       "        1.33944206e+01,  1.44801140e+01,  1.56229363e+01,  1.68243523e+01,\n",
       "        1.80858269e+01,  1.94088249e+01,  2.07948113e+01,  2.22452507e+01,\n",
       "        2.37616081e+01,  2.53453484e+01,  2.69979363e+01])"
      ]
     },
     "execution_count": 76,
     "metadata": {},
     "output_type": "execute_result"
    }
   ],
   "source": [
    "u3 = np.linalg.solve(M3,f3)\n",
    "u3"
   ]
  },
  {
   "cell_type": "code",
   "execution_count": 77,
   "metadata": {},
   "outputs": [
    {
     "data": {
      "text/plain": [
       "array([0.     , 0.0625 , 0.125  , 0.1875 , 0.25   , 0.3125 , 0.375  ,\n",
       "       0.4375 , 0.5    , 0.5625 , 0.625  , 0.6875 , 0.75   , 0.8125 ,\n",
       "       0.875  , 0.9375 , 1.     , 1.03125, 1.0625 , 1.09375, 1.125  ,\n",
       "       1.15625, 1.1875 , 1.21875, 1.25   , 1.28125, 1.3125 , 1.34375,\n",
       "       1.375  , 1.40625, 1.4375 , 1.46875, 1.5    , 1.53125, 1.5625 ,\n",
       "       1.59375, 1.625  , 1.65625, 1.6875 , 1.71875, 1.75   , 1.78125,\n",
       "       1.8125 , 1.84375, 1.875  , 1.90625, 1.9375 , 1.96875, 2.     ,\n",
       "       2.0625 , 2.125  , 2.1875 , 2.25   , 2.3125 , 2.375  , 2.4375 ,\n",
       "       2.5    , 2.5625 , 2.625  , 2.6875 , 2.75   , 2.8125 , 2.875  ,\n",
       "       2.9375 , 3.     ])"
      ]
     },
     "execution_count": 77,
     "metadata": {},
     "output_type": "execute_result"
    }
   ],
   "source": [
    "x8 = np.arange(0,1,0.0625)\n",
    "x9 = np.arange(1,2,0.03125)\n",
    "x10 = np.arange(2,3.0625,0.0625)\n",
    "x11 = np.array(np.concatenate((x8,x9,x10)))\n",
    "x11"
   ]
  },
  {
   "cell_type": "code",
   "execution_count": 78,
   "metadata": {},
   "outputs": [
    {
     "data": {
      "text/plain": [
       "array([-0.00000000e+00,  2.44140625e-04,  1.95312500e-03,  6.59179688e-03,\n",
       "        1.56250000e-02,  3.05175781e-02,  5.27343750e-02,  8.37402344e-02,\n",
       "        1.25000000e-01,  1.77978516e-01,  2.44140625e-01,  3.24951172e-01,\n",
       "        4.21875000e-01,  5.36376953e-01,  6.69921875e-01,  8.23974609e-01,\n",
       "        1.00000000e+00,  1.09665007e+00,  1.19933723e+00,  1.30825090e+00,\n",
       "        1.42357310e+00,  1.54548712e+00,  1.67417605e+00,  1.80982298e+00,\n",
       "        1.95261103e+00,  2.10272329e+00,  2.26034288e+00,  2.42565290e+00,\n",
       "        2.59883645e+00,  2.78007665e+00,  2.96955659e+00,  3.16745938e+00,\n",
       "        3.37396813e+00,  3.58926594e+00,  3.81353592e+00,  4.04696117e+00,\n",
       "        4.28972480e+00,  4.54200992e+00,  4.80399962e+00,  5.07587702e+00,\n",
       "        5.35782523e+00,  5.65002733e+00,  5.95266645e+00,  6.26592569e+00,\n",
       "        6.58998815e+00,  6.92503692e+00,  7.27125528e+00,  7.62882525e+00,\n",
       "        7.99793625e+00,  8.77161789e+00,  9.59363938e+00,  1.04654655e+01,\n",
       "        1.13885613e+01,  1.23643913e+01,  1.33944206e+01,  1.44801140e+01,\n",
       "        1.56229363e+01,  1.68243523e+01,  1.80858269e+01,  1.94088249e+01,\n",
       "        2.07948113e+01,  2.22452507e+01,  2.37616081e+01,  2.53453484e+01,\n",
       "        2.69979363e+01])"
      ]
     },
     "execution_count": 78,
     "metadata": {},
     "output_type": "execute_result"
    }
   ],
   "source": [
    "uSlice3 = np.array(np.concatenate((u3[0:17],u3[20:52],u3[55:len(u3)])))\n",
    "uSlice3"
   ]
  },
  {
   "cell_type": "code",
   "execution_count": 79,
   "metadata": {},
   "outputs": [
    {
     "data": {
      "text/plain": [
       "65"
      ]
     },
     "execution_count": 79,
     "metadata": {},
     "output_type": "execute_result"
    }
   ],
   "source": [
    "len(x11)"
   ]
  },
  {
   "cell_type": "code",
   "execution_count": 80,
   "metadata": {},
   "outputs": [
    {
     "data": {
      "text/plain": [
       "65"
      ]
     },
     "execution_count": 80,
     "metadata": {},
     "output_type": "execute_result"
    }
   ],
   "source": [
    "len(uSlice3)"
   ]
  },
  {
   "cell_type": "code",
   "execution_count": 81,
   "metadata": {},
   "outputs": [
    {
     "data": {
      "text/plain": [
       "71"
      ]
     },
     "execution_count": 81,
     "metadata": {},
     "output_type": "execute_result"
    }
   ],
   "source": [
    "len(u3)"
   ]
  },
  {
   "cell_type": "code",
   "execution_count": 82,
   "metadata": {},
   "outputs": [
    {
     "data": {
      "text/plain": [
       "[<matplotlib.lines.Line2D at 0x7ff6d6f38f40>]"
      ]
     },
     "execution_count": 82,
     "metadata": {},
     "output_type": "execute_result"
    },
    {
     "data": {
      "image/png": "[encoded data removed]",
      "text/plain": [
       "<Figure size 432x288 with 1 Axes>"
      ]
     },
     "metadata": {
      "needs_background": "light"
     },
     "output_type": "display_data"
    }
   ],
   "source": [
    "plt.grid()\n",
    "plt.plot(x11,uSlice3)"
   ]
  },
  {
   "cell_type": "code",
   "execution_count": 83,
   "metadata": {},
   "outputs": [],
   "source": [
    "def FDM (n,h):\n",
    "    \n",
    "    M4=np.zeros([n,n])\n",
    "\n",
    "    M4[0][0] = 1\n",
    "\n",
    "    for i in range(1,n-1):\n",
    "        M4[i][i-1] = -2 \n",
    "        M4[i][i] = 4 \n",
    "        M4[i][i+1] = -2\n",
    "\n",
    "    \n",
    "    M4[n-1][n-1] = 11*h/3\n",
    "    M4[n-1][n-2] = -18*h/3\n",
    "    M4[n-1][n-3] = 9*h/3\n",
    "    M4[n-1][n-4] = -2*h/3\n",
    "\n",
    "    M4 *= 1./(2.*h*h)\n",
    "\n",
    "    return M4"
   ]
  },
  {
   "cell_type": "code",
   "execution_count": 84,
   "metadata": {},
   "outputs": [
    {
     "data": {
      "text/plain": [
       "49"
      ]
     },
     "execution_count": 84,
     "metadata": {},
     "output_type": "execute_result"
    }
   ],
   "source": [
    "MFDM=FDM (49,0.0625)\n",
    "len(MFDM)"
   ]
  },
  {
   "cell_type": "code",
   "execution_count": 85,
   "metadata": {},
   "outputs": [
    {
     "data": {
      "text/plain": [
       "49"
      ]
     },
     "execution_count": 85,
     "metadata": {},
     "output_type": "execute_result"
    }
   ],
   "source": [
    "fFDM=np.zeros([49])\n",
    "len(fFDM)"
   ]
  },
  {
   "cell_type": "code",
   "execution_count": 86,
   "metadata": {},
   "outputs": [
    {
     "data": {
      "text/plain": [
       "array([0.    , 0.0625, 0.125 , 0.1875, 0.25  , 0.3125, 0.375 , 0.4375,\n",
       "       0.5   , 0.5625, 0.625 , 0.6875, 0.75  , 0.8125, 0.875 , 0.9375,\n",
       "       1.    , 1.0625, 1.125 , 1.1875, 1.25  , 1.3125, 1.375 , 1.4375,\n",
       "       1.5   , 1.5625, 1.625 , 1.6875, 1.75  , 1.8125, 1.875 , 1.9375,\n",
       "       2.    , 2.0625, 2.125 , 2.1875, 2.25  , 2.3125, 2.375 , 2.4375,\n",
       "       2.5   , 2.5625, 2.625 , 2.6875, 2.75  , 2.8125, 2.875 , 2.9375,\n",
       "       3.    ])"
      ]
     },
     "execution_count": 86,
     "metadata": {},
     "output_type": "execute_result"
    }
   ],
   "source": [
    "x = np.arange(0,3.0625,0.0625)\n",
    "x"
   ]
  },
  {
   "cell_type": "code",
   "execution_count": 87,
   "metadata": {},
   "outputs": [
    {
     "data": {
      "text/plain": [
       "array([  0.   ,  -0.375,  -0.75 ,  -1.125,  -1.5  ,  -1.875,  -2.25 ,\n",
       "        -2.625,  -3.   ,  -3.375,  -3.75 ,  -4.125,  -4.5  ,  -4.875,\n",
       "        -5.25 ,  -5.625,  -6.   ,  -6.375,  -6.75 ,  -7.125,  -7.5  ,\n",
       "        -7.875,  -8.25 ,  -8.625,  -9.   ,  -9.375,  -9.75 , -10.125,\n",
       "       -10.5  , -10.875, -11.25 , -11.625, -12.   , -12.375, -12.75 ,\n",
       "       -13.125, -13.5  , -13.875, -14.25 , -14.625, -15.   , -15.375,\n",
       "       -15.75 , -16.125, -16.5  , -16.875, -17.25 , -17.625,  27.   ])"
      ]
     },
     "execution_count": 87,
     "metadata": {},
     "output_type": "execute_result"
    }
   ],
   "source": [
    "for i in range(1,len(fFDM)-1):\n",
    "    fFDM[i] = -6*x[i] \n",
    "fFDM[48]= 27\n",
    "fFDM"
   ]
  },
  {
   "cell_type": "code",
   "execution_count": 88,
   "metadata": {},
   "outputs": [
    {
     "data": {
      "text/plain": [
       "array([-0.00000000e+00,  2.44140625e-04,  1.95312500e-03,  6.59179687e-03,\n",
       "        1.56250000e-02,  3.05175781e-02,  5.27343750e-02,  8.37402344e-02,\n",
       "        1.25000000e-01,  1.77978516e-01,  2.44140625e-01,  3.24951172e-01,\n",
       "        4.21875000e-01,  5.36376953e-01,  6.69921875e-01,  8.23974609e-01,\n",
       "        1.00000000e+00,  1.19946289e+00,  1.42382812e+00,  1.67456055e+00,\n",
       "        1.95312500e+00,  2.26098633e+00,  2.59960937e+00,  2.97045898e+00,\n",
       "        3.37500000e+00,  3.81469727e+00,  4.29101562e+00,  4.80541992e+00,\n",
       "        5.35937500e+00,  5.95434570e+00,  6.59179687e+00,  7.27319336e+00,\n",
       "        8.00000000e+00,  8.77368164e+00,  9.59570312e+00,  1.04675293e+01,\n",
       "        1.13906250e+01,  1.23664551e+01,  1.33964844e+01,  1.44821777e+01,\n",
       "        1.56250000e+01,  1.68264160e+01,  1.80878906e+01,  1.94108887e+01,\n",
       "        2.07968750e+01,  2.22473145e+01,  2.37636719e+01,  2.53474121e+01,\n",
       "        2.70000000e+01])"
      ]
     },
     "execution_count": 88,
     "metadata": {},
     "output_type": "execute_result"
    }
   ],
   "source": [
    "uFDM = np.linalg.solve(MFDM,fFDM)\n",
    "uFDM"
   ]
  },
  {
   "cell_type": "code",
   "execution_count": 89,
   "metadata": {},
   "outputs": [
    {
     "data": {
      "text/plain": [
       "49"
      ]
     },
     "execution_count": 89,
     "metadata": {},
     "output_type": "execute_result"
    }
   ],
   "source": [
    "xFDM = np.arange(0,3.0625,0.0625)\n",
    "xFDM\n",
    "len (xFDM)"
   ]
  },
  {
   "cell_type": "code",
   "execution_count": 90,
   "metadata": {},
   "outputs": [
    {
     "data": {
      "text/plain": [
       "49"
      ]
     },
     "execution_count": 90,
     "metadata": {},
     "output_type": "execute_result"
    }
   ],
   "source": [
    "MFDM= FDM(4,1)\n",
    "len(fFDM)"
   ]
  },
  {
   "cell_type": "code",
   "execution_count": 91,
   "metadata": {},
   "outputs": [
    {
     "data": {
      "text/plain": [
       "array([ 0.   ,  0.375,  0.75 ,  1.125,  1.5  ,  1.875,  2.25 ,  2.625,\n",
       "        3.   ,  3.375,  3.75 ,  4.125,  4.5  ,  4.875,  5.25 ,  5.625,\n",
       "        6.   ,  6.375,  6.75 ,  7.125,  7.5  ,  7.875,  8.25 ,  8.625,\n",
       "        9.   ,  9.375,  9.75 , 10.125, 10.5  , 10.875, 11.25 , 11.625,\n",
       "       12.   , 12.375, 12.75 , 13.125, 13.5  , 13.875, 14.25 , 14.625,\n",
       "       15.   , 15.375, 15.75 , 16.125, 16.5  , 16.875, 17.25 , 17.625,\n",
       "       27.   ])"
      ]
     },
     "execution_count": 91,
     "metadata": {},
     "output_type": "execute_result"
    }
   ],
   "source": [
    "for i in range(1,len(fFDM)-1):\n",
    "    fFDM[i] = 6*x[i]\n",
    "fFDM"
   ]
  },
  {
   "cell_type": "code",
   "execution_count": 92,
   "metadata": {},
   "outputs": [
    {
     "data": {
      "text/plain": [
       "Text(0.5, 1.0, 'Cubic solution ')"
      ]
     },
     "execution_count": 92,
     "metadata": {},
     "output_type": "execute_result"
    },
    {
     "data": {
      "image/png": "[encoded data removed]",
      "text/plain": [
       "<Figure size 432x288 with 1 Axes>"
      ]
     },
     "metadata": {
      "needs_background": "light"
     },
     "output_type": "display_data"
    }
   ],
   "source": [
    "plt.grid()\n",
    "plt.plot(x20,uSlice,label=\"hFD=0.25\")\n",
    "plt.plot(x7,uSlice2,label=\"hFD=0.125\")\n",
    "plt.plot(x11,uSlice3,label=\"hFD=0.0625\")\n",
    "plt.plot(xFDM,uFDM,label= \"FDM h=0.0625\")\n",
    "plt.legend()\n",
    "plt.xlabel(r\"Position $x$\")\n",
    "plt.ylabel(r\"Displacement $u$\")\n",
    "plt.title(r\"Cubic solution \")"
   ]
  },
  {
   "cell_type": "code",
   "execution_count": 93,
   "metadata": {},
   "outputs": [
    {
     "data": {
      "text/plain": [
       "97"
      ]
     },
     "execution_count": 93,
     "metadata": {},
     "output_type": "execute_result"
    }
   ],
   "source": [
    "MFDM=FDM (49*2-1,0.0625/2)\n",
    "len(MFDM)"
   ]
  },
  {
   "cell_type": "code",
   "execution_count": 94,
   "metadata": {},
   "outputs": [
    {
     "data": {
      "text/plain": [
       "97"
      ]
     },
     "execution_count": 94,
     "metadata": {},
     "output_type": "execute_result"
    }
   ],
   "source": [
    "fFDM=np.zeros([49*2-1])\n",
    "len(fFDM)"
   ]
  },
  {
   "cell_type": "code",
   "execution_count": 95,
   "metadata": {},
   "outputs": [
    {
     "data": {
      "text/plain": [
       "65"
      ]
     },
     "execution_count": 95,
     "metadata": {},
     "output_type": "execute_result"
    }
   ],
   "source": [
    "len(uSlice3)"
   ]
  },
  {
   "cell_type": "code",
   "execution_count": 96,
   "metadata": {},
   "outputs": [
    {
     "data": {
      "text/plain": [
       "array([0.     , 0.03125, 0.0625 , 0.09375, 0.125  , 0.15625, 0.1875 ,\n",
       "       0.21875, 0.25   , 0.28125, 0.3125 , 0.34375, 0.375  , 0.40625,\n",
       "       0.4375 , 0.46875, 0.5    , 0.53125, 0.5625 , 0.59375, 0.625  ,\n",
       "       0.65625, 0.6875 , 0.71875, 0.75   , 0.78125, 0.8125 , 0.84375,\n",
       "       0.875  , 0.90625, 0.9375 , 0.96875, 1.     , 1.03125, 1.0625 ,\n",
       "       1.09375, 1.125  , 1.15625, 1.1875 , 1.21875, 1.25   , 1.28125,\n",
       "       1.3125 , 1.34375, 1.375  , 1.40625, 1.4375 , 1.46875, 1.5    ,\n",
       "       1.53125, 1.5625 , 1.59375, 1.625  , 1.65625, 1.6875 , 1.71875,\n",
       "       1.75   , 1.78125, 1.8125 , 1.84375, 1.875  , 1.90625, 1.9375 ,\n",
       "       1.96875, 2.     , 2.03125, 2.0625 , 2.09375, 2.125  , 2.15625,\n",
       "       2.1875 , 2.21875, 2.25   , 2.28125, 2.3125 , 2.34375, 2.375  ,\n",
       "       2.40625, 2.4375 , 2.46875, 2.5    , 2.53125, 2.5625 , 2.59375,\n",
       "       2.625  , 2.65625, 2.6875 , 2.71875, 2.75   , 2.78125, 2.8125 ,\n",
       "       2.84375, 2.875  , 2.90625, 2.9375 , 2.96875, 3.     ])"
      ]
     },
     "execution_count": 96,
     "metadata": {},
     "output_type": "execute_result"
    }
   ],
   "source": [
    "x = np.arange(0,3+0.0625/2,0.0625/2)\n",
    "x"
   ]
  },
  {
   "cell_type": "code",
   "execution_count": 97,
   "metadata": {},
   "outputs": [
    {
     "data": {
      "text/plain": [
       "array([0.    , 0.0625, 0.125 , 0.1875, 0.25  , 0.3125, 0.375 , 0.4375,\n",
       "       0.5   , 0.5625, 0.625 , 0.6875, 0.75  , 0.8125, 0.875 , 0.9375])"
      ]
     },
     "execution_count": 97,
     "metadata": {},
     "output_type": "execute_result"
    }
   ],
   "source": [
    "x[0:32:2]"
   ]
  },
  {
   "cell_type": "code",
   "execution_count": 98,
   "metadata": {},
   "outputs": [
    {
     "data": {
      "text/plain": [
       "array([2.    , 2.0625, 2.125 , 2.1875, 2.25  , 2.3125, 2.375 , 2.4375,\n",
       "       2.5   , 2.5625, 2.625 , 2.6875, 2.75  , 2.8125, 2.875 , 2.9375,\n",
       "       3.    ])"
      ]
     },
     "execution_count": 98,
     "metadata": {},
     "output_type": "execute_result"
    }
   ],
   "source": [
    "x[len(x)-33:len(x):2]"
   ]
  },
  {
   "cell_type": "code",
   "execution_count": 99,
   "metadata": {},
   "outputs": [
    {
     "data": {
      "text/plain": [
       "array([ 0.    ,  0.1875,  0.375 ,  0.5625,  0.75  ,  0.9375,  1.125 ,\n",
       "        1.3125,  1.5   ,  1.6875,  1.875 ,  2.0625,  2.25  ,  2.4375,\n",
       "        2.625 ,  2.8125,  3.    ,  3.1875,  3.375 ,  3.5625,  3.75  ,\n",
       "        3.9375,  4.125 ,  4.3125,  4.5   ,  4.6875,  4.875 ,  5.0625,\n",
       "        5.25  ,  5.4375,  5.625 ,  5.8125,  6.    ,  6.1875,  6.375 ,\n",
       "        6.5625,  6.75  ,  6.9375,  7.125 ,  7.3125,  7.5   ,  7.6875,\n",
       "        7.875 ,  8.0625,  8.25  ,  8.4375,  8.625 ,  8.8125,  9.    ,\n",
       "        9.1875,  9.375 ,  9.5625,  9.75  ,  9.9375, 10.125 , 10.3125,\n",
       "       10.5   , 10.6875, 10.875 , 11.0625, 11.25  , 11.4375, 11.625 ,\n",
       "       11.8125, 12.    , 12.1875, 12.375 , 12.5625, 12.75  , 12.9375,\n",
       "       13.125 , 13.3125, 13.5   , 13.6875, 13.875 , 14.0625, 14.25  ,\n",
       "       14.4375, 14.625 , 14.8125, 15.    , 15.1875, 15.375 , 15.5625,\n",
       "       15.75  , 15.9375, 16.125 , 16.3125, 16.5   , 16.6875, 16.875 ,\n",
       "       17.0625, 17.25  , 17.4375, 17.625 , 17.8125, 27.    ])"
      ]
     },
     "execution_count": 99,
     "metadata": {},
     "output_type": "execute_result"
    }
   ],
   "source": [
    "for i in range(1,len(fFDM)-1):\n",
    "    fFDM[i] = 6*x[i]\n",
    "fFDM[len(fFDM)-1] = 27\n",
    "fFDM"
   ]
  },
  {
   "cell_type": "code",
   "execution_count": 100,
   "metadata": {},
   "outputs": [
    {
     "data": {
      "text/plain": [
       "array([ -0.        ,   1.68746948,   3.37475586,   5.06167603,\n",
       "         6.74804687,   8.4336853 ,  10.1184082 ,  11.80203247,\n",
       "        13.484375  ,  15.16525269,  16.84448242,  18.5218811 ,\n",
       "        20.19726562,  21.87045288,  23.54125977,  25.20950317,\n",
       "        26.875     ,  28.53756714,  30.19702148,  31.85317993,\n",
       "        33.50585937,  35.15487671,  36.80004883,  38.44119263,\n",
       "        40.078125  ,  41.71066284,  43.33862305,  44.96182251,\n",
       "        46.58007812,  48.19320679,  49.80102539,  51.40335083,\n",
       "        53.        ,  54.59078979,  56.17553711,  57.75405884,\n",
       "        59.32617187,  60.89169312,  62.45043945,  64.00222778,\n",
       "        65.546875  ,  67.084198  ,  68.61401367,  70.13613892,\n",
       "        71.65039062,  73.15658569,  74.65454102,  76.14407349,\n",
       "        77.625     ,  79.09713745,  80.56030273,  82.01431274,\n",
       "        83.45898437,  84.89413452,  86.31958008,  87.73513794,\n",
       "        89.140625  ,  90.53585815,  91.9206543 ,  93.29483032,\n",
       "        94.65820312,  96.0105896 ,  97.35180664,  98.68167114,\n",
       "       100.        , 101.30661011, 102.60131836, 103.88394165,\n",
       "       105.15429687, 106.41220093, 107.6574707 , 108.8899231 ,\n",
       "       110.109375  , 111.31564331, 112.50854492, 113.68789673,\n",
       "       114.85351562, 116.00521851, 117.14282227, 118.2661438 ,\n",
       "       119.375     , 120.46920776, 121.54858398, 122.61294556,\n",
       "       123.66210937, 124.69589233, 125.71411133, 126.71658325,\n",
       "       127.703125  , 128.67355347, 129.62768555, 130.56533813,\n",
       "       131.48632812, 132.39047241, 133.27758789, 134.14749146,\n",
       "       135.        ])"
      ]
     },
     "execution_count": 100,
     "metadata": {},
     "output_type": "execute_result"
    }
   ],
   "source": [
    "uFDM4 = np.linalg.solve(MFDM,fFDM)\n",
    "uFDM4"
   ]
  },
  {
   "cell_type": "code",
   "execution_count": 101,
   "metadata": {},
   "outputs": [
    {
     "data": {
      "text/plain": [
       "array([1.03125, 1.0625 , 1.09375, 1.125  , 1.15625, 1.1875 , 1.21875,\n",
       "       1.25   , 1.28125, 1.3125 , 1.34375, 1.375  , 1.40625, 1.4375 ,\n",
       "       1.46875, 1.5    , 1.53125, 1.5625 , 1.59375, 1.625  , 1.65625,\n",
       "       1.6875 , 1.71875, 1.75   , 1.78125, 1.8125 , 1.84375, 1.875  ,\n",
       "       1.90625, 1.9375 ])"
      ]
     },
     "execution_count": 101,
     "metadata": {},
     "output_type": "execute_result"
    }
   ],
   "source": [
    "x[33:len(uFDM4)-34:1]"
   ]
  },
  {
   "cell_type": "code",
   "execution_count": 102,
   "metadata": {},
   "outputs": [],
   "source": [
    "xSlice = np.array(np.concatenate((x[0:31:2],x[32:len(uFDM4)-31:1],x[len(uFDM4)-32:len(uFDM4):2])))"
   ]
  },
  {
   "cell_type": "code",
   "execution_count": 103,
   "metadata": {},
   "outputs": [
    {
     "data": {
      "text/plain": [
       "66"
      ]
     },
     "execution_count": 103,
     "metadata": {},
     "output_type": "execute_result"
    }
   ],
   "source": [
    "len(xSlice)"
   ]
  },
  {
   "cell_type": "code",
   "execution_count": 104,
   "metadata": {},
   "outputs": [
    {
     "data": {
      "text/plain": [
       "array([0.     , 0.0625 , 0.125  , 0.1875 , 0.25   , 0.3125 , 0.375  ,\n",
       "       0.4375 , 0.5    , 0.5625 , 0.625  , 0.6875 , 0.75   , 0.8125 ,\n",
       "       0.875  , 0.9375 , 1.     , 1.03125, 1.0625 , 1.09375, 1.125  ,\n",
       "       1.15625, 1.1875 , 1.21875, 1.25   , 1.28125, 1.3125 , 1.34375,\n",
       "       1.375  , 1.40625, 1.4375 , 1.46875, 1.5    , 1.53125, 1.5625 ,\n",
       "       1.59375, 1.625  , 1.65625, 1.6875 , 1.71875, 1.75   , 1.78125,\n",
       "       1.8125 , 1.84375, 1.875  , 1.90625, 1.9375 , 1.96875, 2.     ,\n",
       "       2.03125, 2.03125, 2.09375, 2.15625, 2.21875, 2.28125, 2.34375,\n",
       "       2.40625, 2.46875, 2.53125, 2.59375, 2.65625, 2.71875, 2.78125,\n",
       "       2.84375, 2.90625, 2.96875])"
      ]
     },
     "execution_count": 104,
     "metadata": {},
     "output_type": "execute_result"
    }
   ],
   "source": [
    "xSlice"
   ]
  },
  {
   "cell_type": "code",
   "execution_count": 105,
   "metadata": {},
   "outputs": [
    {
     "data": {
      "text/plain": [
       "65"
      ]
     },
     "execution_count": 105,
     "metadata": {},
     "output_type": "execute_result"
    }
   ],
   "source": [
    "len(x11)"
   ]
  },
  {
   "cell_type": "code",
   "execution_count": 106,
   "metadata": {},
   "outputs": [],
   "source": [
    "uFDM4Slice = np.array(np.concatenate((uFDM4[0:33:2],uFDM4[33:len(uFDM4)-33:1],uFDM4[len(uFDM4)-33:len(uFDM4):2])))\n"
   ]
  },
  {
   "cell_type": "code",
   "execution_count": 107,
   "metadata": {},
   "outputs": [
    {
     "data": {
      "text/plain": [
       "49"
      ]
     },
     "execution_count": 107,
     "metadata": {},
     "output_type": "execute_result"
    }
   ],
   "source": [
    "MFDM2=FDM(25*2-1,0.125/2)\n",
    "len(MFDM2)"
   ]
  },
  {
   "cell_type": "code",
   "execution_count": 108,
   "metadata": {},
   "outputs": [
    {
     "data": {
      "text/plain": [
       "49"
      ]
     },
     "execution_count": 108,
     "metadata": {},
     "output_type": "execute_result"
    }
   ],
   "source": [
    "fFDM2=np.zeros([25*2-1])\n",
    "len(fFDM2)"
   ]
  },
  {
   "cell_type": "code",
   "execution_count": 109,
   "metadata": {},
   "outputs": [
    {
     "data": {
      "text/plain": [
       "array([0.    , 0.0625, 0.125 , 0.1875, 0.25  , 0.3125, 0.375 , 0.4375,\n",
       "       0.5   , 0.5625, 0.625 , 0.6875, 0.75  , 0.8125, 0.875 , 0.9375,\n",
       "       1.    , 1.0625, 1.125 , 1.1875, 1.25  , 1.3125, 1.375 , 1.4375,\n",
       "       1.5   , 1.5625, 1.625 , 1.6875, 1.75  , 1.8125, 1.875 , 1.9375,\n",
       "       2.    , 2.0625, 2.125 , 2.1875, 2.25  , 2.3125, 2.375 , 2.4375,\n",
       "       2.5   , 2.5625, 2.625 , 2.6875, 2.75  , 2.8125, 2.875 , 2.9375,\n",
       "       3.    ])"
      ]
     },
     "execution_count": 109,
     "metadata": {},
     "output_type": "execute_result"
    }
   ],
   "source": [
    "x2 = np.arange(0,3+0.125/2,0.125/2)\n",
    "x2"
   ]
  },
  {
   "cell_type": "code",
   "execution_count": 110,
   "metadata": {},
   "outputs": [
    {
     "data": {
      "text/plain": [
       "array([ 0.    ,  0.1875,  0.375 ,  0.5625,  0.75  ,  0.9375,  1.125 ,\n",
       "        1.3125,  1.5   ,  1.6875,  1.875 ,  2.0625,  2.25  ,  2.4375,\n",
       "        2.625 ,  2.8125,  3.    ,  3.1875,  3.375 ,  3.5625,  3.75  ,\n",
       "        3.9375,  4.125 ,  4.3125,  4.5   ,  4.6875,  4.875 ,  5.0625,\n",
       "        5.25  ,  5.4375,  5.625 ,  5.8125,  6.    ,  6.1875,  6.375 ,\n",
       "        6.5625,  6.75  ,  6.9375,  7.125 ,  7.3125,  7.5   ,  7.6875,\n",
       "        7.875 ,  8.0625,  8.25  ,  8.4375,  8.625 ,  8.8125, 27.    ])"
      ]
     },
     "execution_count": 110,
     "metadata": {},
     "output_type": "execute_result"
    }
   ],
   "source": [
    "for i in range(1,len(fFDM2)-1):\n",
    "    fFDM2[i] = 6*x[i]\n",
    "fFDM2[len(fFDM2)-1] = 27\n",
    "fFDM2"
   ]
  },
  {
   "cell_type": "code",
   "execution_count": 111,
   "metadata": {},
   "outputs": [
    {
     "data": {
      "text/plain": [
       "array([ -0.        ,   2.53112793,   5.06152344,   7.5904541 ,\n",
       "        10.1171875 ,  12.64099121,  15.16113281,  17.67687988,\n",
       "        20.1875    ,  22.69226074,  25.19042969,  27.68127441,\n",
       "        30.1640625 ,  32.63806152,  35.10253906,  37.5567627 ,\n",
       "        40.        ,  42.43151855,  44.85058594,  47.25646973,\n",
       "        49.6484375 ,  52.02575684,  54.38769531,  56.73352051,\n",
       "        59.0625    ,  61.37390137,  63.66699219,  65.94104004,\n",
       "        68.1953125 ,  70.42907715,  72.64160156,  74.83215332,\n",
       "        77.        ,  79.14440918,  81.26464844,  83.35998535,\n",
       "        85.4296875 ,  87.47302246,  89.48925781,  91.47766113,\n",
       "        93.4375    ,  95.36804199,  97.26855469,  99.13830566,\n",
       "       100.9765625 , 102.78259277, 104.55566406, 106.29504395,\n",
       "       108.        ])"
      ]
     },
     "execution_count": 111,
     "metadata": {},
     "output_type": "execute_result"
    }
   ],
   "source": [
    "uFDM5 = np.linalg.solve(MFDM2,fFDM2)\n",
    "uFDM5"
   ]
  },
  {
   "cell_type": "code",
   "execution_count": 112,
   "metadata": {},
   "outputs": [
    {
     "data": {
      "text/plain": [
       "array([0.     , 0.0625 , 0.125  , 0.1875 , 0.25   , 0.3125 , 0.375  ,\n",
       "       0.4375 , 0.5    , 0.53125, 0.5625 , 0.59375, 0.625  , 0.65625,\n",
       "       0.6875 , 0.71875, 0.75   , 0.78125, 0.8125 , 0.84375, 0.875  ,\n",
       "       0.90625, 0.9375 , 0.96875, 1.     , 1.03125, 1.0625 , 1.09375,\n",
       "       1.125  , 1.15625, 1.1875 , 1.21875, 1.25   , 1.28125, 1.3125 ,\n",
       "       1.34375, 1.375  , 1.40625, 1.4375 , 1.46875, 1.5    , 1.53125,\n",
       "       1.5625 , 1.59375, 1.625  , 1.65625, 1.6875 , 1.71875, 1.75   ,\n",
       "       1.78125, 1.8125 , 1.84375, 1.875  , 1.90625, 1.9375 , 1.96875,\n",
       "       2.     , 2.03125, 2.0625 , 2.09375, 2.125  , 2.15625, 2.1875 ,\n",
       "       2.21875, 2.25   , 2.28125, 2.3125 , 2.34375, 2.375  , 2.40625,\n",
       "       2.4375 , 2.46875, 2.5    , 2.5625 , 2.625  , 2.6875 , 2.75   ,\n",
       "       2.8125 , 2.875  , 2.9375 , 3.     ])"
      ]
     },
     "execution_count": 112,
     "metadata": {},
     "output_type": "execute_result"
    }
   ],
   "source": [
    "xSlice2 = np.array(np.concatenate((x[0:17:2],x[17:len(x)-17:1],x[len(x)-17:len(x):2])))\n",
    "xSlice2"
   ]
  },
  {
   "cell_type": "code",
   "execution_count": 113,
   "metadata": {},
   "outputs": [
    {
     "data": {
      "text/plain": [
       "33"
      ]
     },
     "execution_count": 113,
     "metadata": {},
     "output_type": "execute_result"
    }
   ],
   "source": [
    "uFDM5Slice = np.array(np.concatenate((uFDM5[0:17:2],uFDM5[17:len(uFDM5)-17:1],uFDM5[len(uFDM5)-17:len(uFDM5):2])))  \n",
    "len(uFDM5Slice)\n"
   ]
  },
  {
   "cell_type": "code",
   "execution_count": 114,
   "metadata": {},
   "outputs": [
    {
     "data": {
      "text/plain": [
       "array([  0.        ,  -5.05957031, -10.1015625 , -15.10839844,\n",
       "       -20.0625    , -24.94628906, -29.7421875 , -34.43261719,\n",
       "       -39.        , -41.23253676, -43.42776312, -45.58343131,\n",
       "       -47.69735271, -49.76732859, -51.79116193, -53.76665541,\n",
       "       -55.69161179, -57.56383379, -59.38112415, -61.14128561,\n",
       "       -62.84212086, -64.48143289, -66.05702295, -67.56670244,\n",
       "       -69.00822358, -71.67716889, -74.04728608, -76.10099701,\n",
       "       -77.82072358, -79.18888764, -80.18791108, -80.80021576,\n",
       "       -81.00822358])"
      ]
     },
     "execution_count": 114,
     "metadata": {},
     "output_type": "execute_result"
    }
   ],
   "source": [
    "uSlice2-uFDM5Slice"
   ]
  },
  {
   "cell_type": "code",
   "execution_count": 115,
   "metadata": {},
   "outputs": [
    {
     "data": {
      "text/plain": [
       "25"
      ]
     },
     "execution_count": 115,
     "metadata": {},
     "output_type": "execute_result"
    }
   ],
   "source": [
    "MFDM3=FDM(13*2-1,0.25)\n",
    "len(MFDM3)"
   ]
  },
  {
   "cell_type": "code",
   "execution_count": 116,
   "metadata": {},
   "outputs": [
    {
     "data": {
      "text/plain": [
       "25"
      ]
     },
     "execution_count": 116,
     "metadata": {},
     "output_type": "execute_result"
    }
   ],
   "source": [
    "fFDM3=np.zeros([13*2-1])\n",
    "len(fFDM3)"
   ]
  },
  {
   "cell_type": "code",
   "execution_count": 117,
   "metadata": {},
   "outputs": [
    {
     "data": {
      "text/plain": [
       "array([0.   , 0.125, 0.25 , 0.375, 0.5  , 0.625, 0.75 , 0.875, 1.   ,\n",
       "       1.125, 1.25 , 1.375, 1.5  , 1.625, 1.75 , 1.875, 2.   , 2.125,\n",
       "       2.25 , 2.375, 2.5  , 2.625, 2.75 , 2.875, 3.   ])"
      ]
     },
     "execution_count": 117,
     "metadata": {},
     "output_type": "execute_result"
    }
   ],
   "source": [
    "x3 = np.arange(0,3+0.25/2,0.25/2)\n",
    "x3"
   ]
  },
  {
   "cell_type": "code",
   "execution_count": 118,
   "metadata": {},
   "outputs": [
    {
     "data": {
      "text/plain": [
       "array([ 0.  ,  0.75,  1.5 ,  2.25,  3.  ,  3.75,  4.5 ,  5.25,  6.  ,\n",
       "        6.75,  7.5 ,  8.25,  9.  ,  9.75, 10.5 , 11.25, 12.  , 12.75,\n",
       "       13.5 , 14.25, 15.  , 15.75, 16.5 , 17.25, 27.  ])"
      ]
     },
     "execution_count": 118,
     "metadata": {},
     "output_type": "execute_result"
    }
   ],
   "source": [
    "for i in range(1,len(fFDM3)-1):\n",
    "    fFDM3[i] = 6*x3[i]\n",
    "fFDM3[len(fFDM3)-1] = 27\n",
    "fFDM3"
   ]
  },
  {
   "cell_type": "code",
   "execution_count": 119,
   "metadata": {},
   "outputs": [
    {
     "data": {
      "text/plain": [
       "array([ -0.       ,  20.2421875,  40.4375   ,  60.5390625,  80.5      ,\n",
       "       100.2734375, 119.8125   , 139.0703125, 158.       , 176.5546875,\n",
       "       194.6875   , 212.3515625, 229.5      , 246.0859375, 262.0625   ,\n",
       "       277.3828125, 292.       , 305.8671875, 318.9375   , 331.1640625,\n",
       "       342.5      , 352.8984375, 362.3125   , 370.6953125, 378.       ])"
      ]
     },
     "execution_count": 119,
     "metadata": {},
     "output_type": "execute_result"
    }
   ],
   "source": [
    "uFDM6 = np.linalg.solve(MFDM3,fFDM3)\n",
    "uFDM6"
   ]
  },
  {
   "cell_type": "code",
   "execution_count": 120,
   "metadata": {},
   "outputs": [
    {
     "data": {
      "text/plain": [
       "array([0.     , 0.0625 , 0.125  , 0.1875 , 0.25   , 0.28125, 0.3125 ,\n",
       "       0.34375, 0.375  , 0.40625, 0.4375 , 0.46875, 0.5    , 0.53125,\n",
       "       0.5625 , 0.59375, 0.625  , 0.65625, 0.6875 , 0.71875, 0.75   ,\n",
       "       0.78125, 0.8125 , 0.84375, 0.875  , 0.90625, 0.9375 , 0.96875,\n",
       "       1.     , 1.03125, 1.0625 , 1.09375, 1.125  , 1.15625, 1.1875 ,\n",
       "       1.21875, 1.25   , 1.28125, 1.3125 , 1.34375, 1.375  , 1.40625,\n",
       "       1.4375 , 1.46875, 1.5    , 1.53125, 1.5625 , 1.59375, 1.625  ,\n",
       "       1.65625, 1.6875 , 1.71875, 1.75   , 1.78125, 1.8125 , 1.84375,\n",
       "       1.875  , 1.90625, 1.9375 , 1.96875, 2.     , 2.03125, 2.0625 ,\n",
       "       2.09375, 2.125  , 2.15625, 2.1875 , 2.21875, 2.25   , 2.28125,\n",
       "       2.3125 , 2.34375, 2.375  , 2.40625, 2.4375 , 2.46875, 2.5    ,\n",
       "       2.53125, 2.5625 , 2.59375, 2.625  , 2.65625, 2.6875 , 2.71875,\n",
       "       2.75   , 2.8125 , 2.875  , 2.9375 , 3.     ])"
      ]
     },
     "execution_count": 120,
     "metadata": {},
     "output_type": "execute_result"
    }
   ],
   "source": [
    "xSlice3 = np.array(np.concatenate((x[0:10:2],x[9:len(x)-9:1],x[len(x)-9:len(x):2])))\n",
    "xSlice3"
   ]
  },
  {
   "cell_type": "code",
   "execution_count": 121,
   "metadata": {},
   "outputs": [
    {
     "data": {
      "text/plain": [
       "17"
      ]
     },
     "execution_count": 121,
     "metadata": {},
     "output_type": "execute_result"
    }
   ],
   "source": [
    "uFDM6Slice = np.array(np.concatenate((uFDM6[0:10:2],uFDM6[9:len(uFDM6)-9:1],uFDM6[len(uFDM6)-9:len(uFDM6):2])))  \n",
    "len(uFDM6Slice)"
   ]
  },
  {
   "cell_type": "code",
   "execution_count": 122,
   "metadata": {},
   "outputs": [
    {
     "data": {
      "text/plain": [
       "array([   0.        ,  -40.421875  ,  -80.375     , -119.390625  ,\n",
       "       -157.        , -175.13470813, -192.74241747, -209.76413018,\n",
       "       -226.14132149, -241.8153878 , -256.7277255 , -270.81980985,\n",
       "       -284.03264298, -307.57951798, -326.90764298, -341.54826798,\n",
       "       -351.03264298])"
      ]
     },
     "execution_count": 122,
     "metadata": {},
     "output_type": "execute_result"
    }
   ],
   "source": [
    "uSlice-uFDM6Slice"
   ]
  },
  {
   "cell_type": "code",
   "execution_count": 123,
   "metadata": {},
   "outputs": [
    {
     "data": {
      "text/plain": [
       "[<matplotlib.lines.Line2D at 0x7ff6d7ecca30>]"
      ]
     },
     "execution_count": 123,
     "metadata": {},
     "output_type": "execute_result"
    },
    {
     "data": {
      "image/png": "[encoded data removed]",
      "text/plain": [
       "<Figure size 432x288 with 1 Axes>"
      ]
     },
     "metadata": {
      "needs_background": "light"
     },
     "output_type": "display_data"
    }
   ],
   "source": [
    "plt.plot(x20,uFDM6Slice,label=\"error when h=0.25\")"
   ]
  },
  {
   "cell_type": "code",
   "execution_count": 124,
   "metadata": {},
   "outputs": [
    {
     "data": {
      "text/plain": [
       "array([0.   , 0.25 , 0.5  , 0.75 , 1.   , 1.125, 1.25 , 1.375, 1.5  ,\n",
       "       1.625, 1.75 , 1.875, 2.   , 2.25 , 2.5  , 2.75 , 3.   ])"
      ]
     },
     "execution_count": 124,
     "metadata": {},
     "output_type": "execute_result"
    }
   ],
   "source": [
    "x20"
   ]
  },
  {
   "cell_type": "code",
   "execution_count": 125,
   "metadata": {
    "scrolled": true
   },
   "outputs": [
    {
     "data": {
      "text/plain": [
       "Text(0.5, 0, 'position')"
      ]
     },
     "execution_count": 125,
     "metadata": {},
     "output_type": "execute_result"
    },
    {
     "data": {
      "image/png": "[encoded data removed]",
      "text/plain": [
       "<Figure size 432x288 with 1 Axes>"
      ]
     },
     "metadata": {
      "needs_background": "light"
     },
     "output_type": "display_data"
    }
   ],
   "source": [
    "plt.plot(x20,uSlice-uFDM6Slice,label=\"error when h=0.25\")\n",
    "plt.plot(x7,uSlice2-uFDM5Slice,label=\"error when h=0.125\")\n",
    "plt.plot(x11,uSlice3-uFDM4Slice,label=\"error when h=0.0625\")\n",
    "plt.legend()\n",
    "plt.grid()\n",
    "plt.title(\"Error\")\n",
    "plt.ylabel(\"error\")\n",
    "plt.xlabel(\"position\")"
   ]
  },
  {
   "cell_type": "code",
   "execution_count": null,
   "metadata": {},
   "outputs": [],
   "source": []
  }
 ],
 "metadata": {
  "kernelspec": {
   "display_name": "Python 3",
   "language": "python",
   "name": "python3"
  },
  "language_info": {
   "codemirror_mode": {
    "name": "ipython",
    "version": 3
   },
   "file_extension": ".py",
   "mimetype": "text/x-python",
   "name": "python",
   "nbconvert_exporter": "python",
   "pygments_lexer": "ipython3",
   "version": "3.10.0"
  }
 },
 "nbformat": 4,
 "nbformat_minor": 4
}
