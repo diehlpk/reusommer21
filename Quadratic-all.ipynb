{
 "cells": [
  {
   "cell_type": "code",
   "execution_count": 1,
   "metadata": {},
   "outputs": [],
   "source": [
    "import numpy as np\n",
    "import matplotlib.pyplot as plt"
   ]
  },
  {
   "cell_type": "code",
   "execution_count": 2,
   "metadata": {},
   "outputs": [],
   "source": [
    "example = \"Quadratic\""
   ]
  },
  {
   "cell_type": "code",
   "execution_count": 3,
   "metadata": {},
   "outputs": [],
   "source": [
    "#############################################################################\n",
    "# Exact solution \n",
    "#############################################################################\n",
    "\n",
    "def exactSolution(x):\n",
    "    \n",
    "    if example == \"Cubic\":\n",
    "        return (2/3/np.sqrt(3)) * ( 9*x - 9*x*x + 2 * x * x * x )\n",
    "    elif example == \"Quartic\":\n",
    "        return 16/9 * x * x - 32/27 * x * x * x + 16/81 * x * x * x * x\n",
    "    elif example == \"Quadratic\":\n",
    "        return  4/3 * x - 4/9 * x * x\n",
    "    elif example == \"Linear\":\n",
    "        return x\n",
    "    else:\n",
    "        print(\"Error: Either provide Linear, Quadratic, Quartic, or Cubic\")\n",
    "        sys.exit()"
   ]
  },
  {
   "cell_type": "code",
   "execution_count": 4,
   "metadata": {},
   "outputs": [],
   "source": [
    "x = np.genfromtxt('x_16.csv',delimiter=',')\n",
    "u_mscm = np.genfromtxt('u_mscm_d_16.csv',delimiter=',')\n",
    "u_mdcm = np.genfromtxt('u_mdcm_d_16.csv',delimiter=',')"
   ]
  },
  {
   "cell_type": "code",
   "execution_count": 5,
   "metadata": {},
   "outputs": [
    {
     "data": {
      "text/plain": [
       "array([0.    , 0.0625, 0.125 , 0.1875, 0.25  , 0.3125, 0.375 , 0.4375,\n",
       "       0.5   , 0.5625, 0.625 , 0.6875, 0.75  , 0.8125, 0.875 , 0.9375,\n",
       "       1.    , 1.0625, 1.125 , 1.1875, 1.25  , 1.3125, 1.375 , 1.4375,\n",
       "       1.5   , 1.5625, 1.625 , 1.6875, 1.75  , 1.8125, 1.875 , 1.9375,\n",
       "       2.    , 2.0625, 2.125 , 2.1875, 2.25  , 2.3125, 2.375 , 2.4375,\n",
       "       2.5   , 2.5625, 2.625 , 2.6875, 2.75  , 2.8125, 2.875 , 2.9375,\n",
       "       3.    ])"
      ]
     },
     "execution_count": 5,
     "metadata": {},
     "output_type": "execute_result"
    }
   ],
   "source": [
    "x"
   ]
  },
  {
   "cell_type": "code",
   "execution_count": 6,
   "metadata": {},
   "outputs": [
    {
     "data": {
      "text/plain": [
       "49"
      ]
     },
     "execution_count": 6,
     "metadata": {},
     "output_type": "execute_result"
    }
   ],
   "source": [
    "len(u_mdcm)"
   ]
  },
  {
   "cell_type": "code",
   "execution_count": 8,
   "metadata": {},
   "outputs": [
    {
     "data": {
      "image/png": "[encoded data removed]",
      "text/plain": [
       "<Figure size 432x288 with 1 Axes>"
      ]
     },
     "metadata": {
      "needs_background": "light"
     },
     "output_type": "display_data"
    }
   ],
   "source": [
    "markers = ['s','o','x','.']\n",
    "plt.plot(x,exactSolution(x),c=\"black\",label=\"Exact solution\")\n",
    "plt.plot(x,u_mdcm,c=\"black\",label=\"MDCM\",marker='s',markevery=8)\n",
    "plt.plot(x,u_mscm,c=\"black\",label=\"MSCM\",marker='o',markevery=8)\n",
    "plt.grid()\n",
    "plt.xlabel(\"$x$\")\n",
    "plt.ylabel(\"Displacement\")\n",
    "plt.title(\"Example with quadratic solution with $\\delta=1/8$ and $m-2$\")\n",
    "plt.legend()\n",
    "plt.savefig(\"quadratic-all.pdf\",bbox_inches='tight')"
   ]
  },
  {
   "cell_type": "code",
   "execution_count": null,
   "metadata": {},
   "outputs": [],
   "source": []
  }
 ],
 "metadata": {
  "kernelspec": {
   "display_name": "Python 3 (ipykernel)",
   "language": "python",
   "name": "python3"
  },
  "language_info": {
   "codemirror_mode": {
    "name": "ipython",
    "version": 3
   },
   "file_extension": ".py",
   "mimetype": "text/x-python",
   "name": "python",
   "nbconvert_exporter": "python",
   "pygments_lexer": "ipython3",
   "version": "3.10.6"
  }
 },
 "nbformat": 4,
 "nbformat_minor": 4
}
