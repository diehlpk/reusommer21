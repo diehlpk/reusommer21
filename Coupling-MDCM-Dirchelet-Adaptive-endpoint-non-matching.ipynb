{
 "cells": [
  {
   "cell_type": "markdown",
   "id": "be27c3a6",
   "metadata": {},
   "source": [
    "This file is part of https://github.com/diehlpk/reusommer21.\n",
    "\n",
    "Copyright (c) 2021 Patrick Diehl\n",
    "\n",
    "This program is free software: you can redistribute it and/or modify  \n",
    "it under the terms of the GNU General Public License as published by  \n",
    "the Free Software Foundation, version 3.\n",
    "\n",
    "This program is distributed in the hope that it will be useful, but \n",
    "WITHOUT ANY WARRANTY; without even the implied warranty of \n",
    "MERCHANTABILITY or FITNESS FOR A PARTICULAR PURPOSE. See the GNU \n",
    "General Public License for more details.\n",
    "\n",
    "You should have received a copy of the GNU General Public License along with this program. \n",
    "If not, see <http://www.gnu.org/licenses/>."
   ]
  },
  {
   "cell_type": "code",
   "execution_count": 1,
   "id": "b5441b8f",
   "metadata": {},
   "outputs": [],
   "source": [
    "from sympy import Symbol, simplify, lambdify\n",
    "import numpy as np\n",
    "import matplotlib.pyplot as plt\n",
    "from functools import reduce\n",
    "import operator\n",
    "import numpy as np\n",
    "import matplotlib.pyplot as plt\n",
    "import sys"
   ]
  },
  {
   "cell_type": "code",
   "execution_count": 2,
   "id": "c18283b1",
   "metadata": {},
   "outputs": [],
   "source": [
    "def interpolate_lagrange(x, x_values, y_values):\n",
    "    \"\"\"\n",
    "    x : value at which to evaluate y, should be between min and max x_values\n",
    "    x_values: list or numpy array containing values of x\n",
    "    y_values: list or numpy array contaning values of y\n",
    "    \"\"\"\n",
    "    def _basis(j):\n",
    "        p = [(x - x_values[m])/(x_values[j] - x_values[m]) for m in range(k) if m != j]\n",
    "        return reduce(operator.mul, p)\n",
    "    assert len(x_values) != 0 and (len(x_values) == len(y_values)), 'x and y cannot be empty and must have the same length'\n",
    "    k = len(x_values)\n",
    "    basis = []\n",
    "    for j in range(k):\n",
    "        basis.append(_basis(j))\n",
    "    #return sum(_basis(j)*y_values[j] for j in range(k)) \n",
    "    return basis"
   ]
  },
  {
   "cell_type": "code",
   "execution_count": 3,
   "id": "3c932c81",
   "metadata": {},
   "outputs": [],
   "source": [
    "example = \"Quartic\"\n",
    "save_results = False"
   ]
  },
  {
   "cell_type": "code",
   "execution_count": 4,
   "id": "0102259b",
   "metadata": {},
   "outputs": [],
   "source": [
    "#############################################################################\n",
    "# Solve the system\n",
    "#############################################################################\n",
    "\n",
    "def solve(M,f):\n",
    "    return np.linalg.solve(M,f)"
   ]
  },
  {
   "cell_type": "code",
   "execution_count": 5,
   "id": "b7c775d1",
   "metadata": {},
   "outputs": [],
   "source": [
    "#############################################################################\n",
    "# Loading\n",
    "#############################################################################\n",
    "\n",
    "def f(x):\n",
    "    \n",
    "    if example == \"Cubic\":\n",
    "        return -( 2/np.sqrt(3)) * ( -6 + 4*x )\n",
    "    elif example == \"Quartic\":\n",
    "        return  -32/9 + 64/9 * x - 64/27 * x * x\n",
    "    elif example == \"Quadratic\":\n",
    "        return 8/9\n",
    "    else:\n",
    "        print(\"Error: Either provide Quadratic, Quartic, or Cubic\")\n",
    "        sys.exit()\n",
    "\n",
    "def forceFull(n,x):\n",
    "    \n",
    "    force = np.zeros(n)\n",
    "   \n",
    "    for i in range(1,n-1):\n",
    "        force[i] = f(x[i])\n",
    "    \n",
    "    force[n-1] = 0\n",
    "    \n",
    "    return force\n",
    "\n",
    "def forceCoupling(n,x):\n",
    "    \n",
    "    dim = n\n",
    "    \n",
    "    force = np.zeros(dim)\n",
    "   \n",
    "    for i in range(1,dim-1):\n",
    "        force[i] = f(x[i])\n",
    "    \n",
    "    force[dim-1] = 0\n",
    "    \n",
    "    return force"
   ]
  },
  {
   "cell_type": "code",
   "execution_count": 6,
   "metadata": {},
   "outputs": [],
   "source": [
    "#############################################################################\n",
    "# Exact solution \n",
    "#############################################################################\n",
    "\n",
    "def exactSolution(x):\n",
    "    \n",
    "    if example == \"Cubic\":\n",
    "        return (2/3/np.sqrt(3)) * ( 9*x - 9*x*x + 2 * x * x * x )\n",
    "    elif example == \"Quartic\":\n",
    "        return 16/9 * x * x - 32/27 * x * x * x + 16/81 * x * x * x * x\n",
    "    elif example == \"Quadratic\":\n",
    "        return  4/3 * x - 4/9 * x * x\n",
    "    elif example == \"Linear\":\n",
    "        return x\n",
    "    else:\n",
    "        print(\"Error: Either provide Linear, Quadratic, Quartic, or Cubic\")\n",
    "        sys.exit()"
   ]
  },
  {
   "cell_type": "code",
   "execution_count": 7,
   "id": "ebed63f7",
   "metadata": {},
   "outputs": [],
   "source": [
    "#############################################################################\n",
    "# Assemble the stiffness matrix for the finite difference model (FD)\n",
    "#############################################################################\n",
    "\n",
    "def FDM(n,h):\n",
    "\n",
    "    M = np.zeros([n,n])\n",
    "\n",
    "    M[0][0] = 1\n",
    "\n",
    "    for i in range(1,n-1):\n",
    "        M[i][i-1] = -2\n",
    "        M[i][i] = 4\n",
    "        M[i][i+1] = -2\n",
    "\n",
    "    M[n-1][n-1] = 1\n",
    "\n",
    "    M *= 1./(2.*h*h)\n",
    "\n",
    "    return M"
   ]
  },
  {
   "cell_type": "code",
   "execution_count": 8,
   "id": "97eb7677",
   "metadata": {},
   "outputs": [],
   "source": [
    "#############################################################################\n",
    "# Assemble the stiffness matrix for the coupling of FDM - VHM - FDM\n",
    "#############################################################################\n",
    "\n",
    "def CouplingMDCM(n,h,nFD,hFD,xAll):\n",
    "\n",
    "    fVHM = 1./(8.*h*h)\n",
    "    fFDM = 1./(2.*hFD*hFD)\n",
    "    \n",
    "    dim = 2*nFD + n + 3\n",
    "    \n",
    "    M = np.zeros([dim,dim])\n",
    "    \n",
    "    M[0][0] = 1 \n",
    "\n",
    "    for i in range(1,nFD-1):\n",
    "        M[i][i-1] = -2 * fFDM\n",
    "        M[i][i] = 4 * fFDM\n",
    "        M[i][i+1] = -2 * fFDM \n",
    "    \n",
    "    # Interpolate the last FD node\n",
    "    weights = interpolate_lagrange(xAll[nFD-1], [xAll[nFD],xAll[nFD+1],xAll[nFD+2]], [\"u1\",\"u2\",\"u3\"])\n",
    "    M[nFD-1][nFD-1] = -1 # FM node at 1 \n",
    "    M[nFD-1][nFD] = weights[0]\n",
    "    M[nFD-1][nFD+1] = weights[1]\n",
    "    M[nFD-1][nFD+2] = weights[2]   \n",
    "    print(xAll[nFD-1],xAll[nFD],xAll[nFD+1],xAll[nFD+2])\n",
    "                      \n",
    "    # Interpolate the first PD node\n",
    "    weights = interpolate_lagrange(xAll[nFD], [xAll[nFD-3],xAll[nFD-2],xAll[nFD-1]], [\"u1\",\"u2\",\"u3\"])\n",
    "    M[nFD][nFD] = -1\n",
    "    M[nFD][nFD-1] = weights[2] \n",
    "    M[nFD][nFD-2] = weights[1]\n",
    "    M[nFD][nFD-3] = weights[0]\n",
    "    print(xAll[nFD],xAll[nFD-3],xAll[nFD-2],xAll[nFD-1])\n",
    "    \n",
    "    # Interpolate the second PD node\n",
    "    weights = interpolate_lagrange(xAll[nFD+1], [xAll[nFD-3],xAll[nFD-2],xAll[nFD-1]], [\"u1\",\"u2\",\"u3\"])\n",
    "    M[nFD+1][nFD+1] = -1\n",
    "    M[nFD+1][nFD-1] = weights[2] \n",
    "    M[nFD+1][nFD-2] = weights[1]\n",
    "    M[nFD+1][nFD-3] = weights[0]\n",
    "    print(xAll[nFD+1],xAll[nFD-3],xAll[nFD-2],xAll[nFD-1])\n",
    "         \n",
    "    mid = nFD+n+1\n",
    "    \n",
    "    for i in range(nFD+2,mid):\n",
    "        M[i][i-2] = -1. * fVHM\n",
    "        M[i][i-1] = -4. * fVHM\n",
    "        M[i][i] = 10. * fVHM\n",
    "        M[i][i+1] =  -4. * fVHM\n",
    "        M[i][i+2] = -1. * fVHM\n",
    "    \n",
    "    # Interpolate the first PD node\n",
    "    weights = interpolate_lagrange(xAll[mid], [xAll[mid+2],xAll[mid+3],xAll[mid+4]], [\"u1\",\"u2\",\"u3\"])\n",
    "    M[mid][mid] = -1 \n",
    "    M[mid][mid+2] = weights[0]\n",
    "    M[mid][mid+3] = weights[1]\n",
    "    M[mid][mid+4] = weights[2]\n",
    "    print(xAll[mid],xAll[mid+1],xAll[mid+2],xAll[mid+3])\n",
    "\n",
    "    # Interpolate the second PD node\n",
    "    weights = interpolate_lagrange(xAll[mid+1], [xAll[mid+2],xAll[mid+3],xAll[mid+4]], [\"u1\",\"u2\",\"u3\"])\n",
    "    M[mid+1][mid+1] = -1\n",
    "    M[mid+1][mid+2] = weights[0]\n",
    "    M[mid+1][mid+3] = weights[1]\n",
    "    M[mid+1][mid+4] = weights[2]\n",
    "    print(xAll[mid+1],xAll[mid+2],xAll[mid+3],xAll[mid+4])\n",
    "    \n",
    "    # Same end node and start node\n",
    "    weights = interpolate_lagrange(xAll[mid+2], [xAll[mid-1],xAll[mid],xAll[mid+1]], [\"u1\",\"u2\",\"u3\"])\n",
    "    M[mid+2][mid+2] = -1\n",
    "    M[mid+2][mid-1] = weights[0]\n",
    "    M[mid+2][mid] = weights[1]\n",
    "    M[mid+2][mid+1] = weights[2]\n",
    "    print(xAll[mid+2],xAll[mid-1],xAll[mid],xAll[mid+1])\n",
    "    \n",
    "    \n",
    "    for i in range(mid+3,dim-1):\n",
    "        M[i][i-1] = -2 * fFDM\n",
    "        M[i][i] = 4 * fFDM\n",
    "        M[i][i+1] = -2 * fFDM\n",
    "\n",
    "    M[dim-1][dim-1] = 1\n",
    "        \n",
    "    return M"
   ]
  },
  {
   "cell_type": "code",
   "execution_count": 9,
   "id": "323c7f42",
   "metadata": {},
   "outputs": [],
   "source": [
    "def compute(amount):\n",
    "\n",
    "\n",
    "    hFD = 1./ amount\n",
    "    h = hFD / 5\n",
    "    nFD = int(1 / hFD)+1\n",
    "    n = int(1 / h)+1\n",
    "    \n",
    "    x1 = np.linspace(0,1,nFD)  \n",
    "    x2 = np.linspace(1-1.5*h,2+1.5*h,n+3)\n",
    "    x3 = np.linspace(2*1,3*1,nFD)\n",
    "    xFull = np.linspace(0,3*1,3*nFD-2)\n",
    "    xAll = np.concatenate([x1,x2,x3])\n",
    "\n",
    "    \n",
    "    forceFD = forceFull(len(xFull),xFull)\n",
    "    MFD = FDM(len(xFull),hFD)\n",
    "    \n",
    "    uFDM = solve(MFD,forceFD) \n",
    "\n",
    "    forceCoupled = forceCoupling(len(xAll),xAll)\n",
    "    \n",
    "\n",
    "    forceCoupled[nFD-1] = 0\n",
    "    forceCoupled[nFD] = 0\n",
    "    forceCoupled[nFD+1] = 0\n",
    "\n",
    "    forceCoupled[nFD+n+1] = 0\n",
    "    forceCoupled[nFD+n+2] = 0\n",
    "    forceCoupled[nFD+n+3] = 0    \n",
    "\n",
    "    MCoupling = CouplingMDCM(n,h,nFD,hFD,xAll)\n",
    "    np.savetxt(\"m.csv\", MCoupling, delimiter=\",\")\n",
    "    uCoupled = solve(MCoupling,forceCoupled) \n",
    "    \n",
    "    #print(uCoupled)\n",
    "    \n",
    "    return xAll, xFull, uCoupled, uFDM , nFD, n\n",
    "    \n",
    "    "
   ]
  },
  {
   "cell_type": "code",
   "execution_count": 10,
   "metadata": {},
   "outputs": [
    {
     "name": "stdout",
     "output_type": "stream",
     "text": [
      "1.0 0.925 0.9750000000000001 1.0250000000000001\n",
      "0.925 0.5 0.75 1.0\n",
      "0.9750000000000001 0.5 0.75 1.0\n",
      "2.0250000000000004 2.075 2.0 2.25\n",
      "2.075 2.0 2.25 2.5\n",
      "2.0 1.975 2.0250000000000004 2.075\n",
      "1.0 0.94 0.98 1.02\n",
      "0.94 0.6000000000000001 0.8 1.0\n",
      "0.98 0.6000000000000001 0.8 1.0\n",
      "2.02 2.06 2.0 2.2\n",
      "2.06 2.0 2.2 2.4\n",
      "2.0 1.98 2.02 2.06\n",
      "1.0 0.95 0.9833333333333333 1.0166666666666666\n",
      "0.95 0.6666666666666666 0.8333333333333333 1.0\n",
      "0.9833333333333333 0.6666666666666666 0.8333333333333333 1.0\n",
      "2.0166666666666666 2.05 2.0 2.1666666666666665\n",
      "2.05 2.0 2.1666666666666665 2.3333333333333335\n",
      "2.0 1.9833333333333332 2.0166666666666666 2.05\n",
      "1.0 0.9571428571428572 0.9857142857142858 1.0142857142857142\n",
      "0.9571428571428572 0.7142857142857142 0.8571428571428571 1.0\n",
      "0.9857142857142858 0.7142857142857142 0.8571428571428571 1.0\n",
      "2.0142857142857142 2.0428571428571427 2.0 2.142857142857143\n",
      "2.0428571428571427 2.0 2.142857142857143 2.2857142857142856\n",
      "2.0 1.9857142857142853 2.0142857142857142 2.0428571428571427\n"
     ]
    }
   ],
   "source": [
    "xAll = []\n",
    "xFull = []\n",
    "uCoupled = []\n",
    "uFDM = []\n",
    "nFD = []\n",
    "n = []\n",
    "for i in range(4, 8):\n",
    "    \n",
    "    res = compute(i)\n",
    "    xAll.append(res[0])\n",
    "    xFull.append(res[1])\n",
    "    uCoupled.append(res[2])\n",
    "    uFDM.append(res[3])\n",
    "    nFD.append(res[4])\n",
    "    n.append(res[5])"
   ]
  },
  {
   "cell_type": "code",
   "execution_count": 11,
   "metadata": {},
   "outputs": [
    {
     "data": {
      "text/plain": [
       "<matplotlib.lines.Line2D at 0x7ff38c8ae6b0>"
      ]
     },
     "execution_count": 11,
     "metadata": {},
     "output_type": "execute_result"
    },
    {
     "data": {
      "image/png": "[encoded data removed]",
      "text/plain": [
       "<Figure size 432x288 with 1 Axes>"
      ]
     },
     "metadata": {
      "needs_background": "light"
     },
     "output_type": "display_data"
    }
   ],
   "source": [
    "xSlice = []\n",
    "uSlice = []\n",
    "\n",
    "for i in range(0, len(xAll)):\n",
    "    xSlice.append(np.concatenate([xAll[i][0:nFD[i]-1],xAll[i][nFD[i]:nFD[i]+2],[xAll[i][nFD[i]-1]],xAll[i][nFD[i]+2:nFD[i]+n[i]+1],[xAll[i][nFD[i]+n[i]+3]],xAll[i][nFD[i]+n[i]+1:nFD[i]+n[i]+3],xAll[i][nFD[i]+n[i]+4:]]))\n",
    "    uSlice.append(np.concatenate([uCoupled[i][0:nFD[i]-1],uCoupled[i][nFD[i]:nFD[i]+2],[uCoupled[i][nFD[i]-1]],uCoupled[i][nFD[i]+2:nFD[i]+n[i]+1],[uCoupled[i][nFD[i]+n[i]+3]],uCoupled[i][nFD[i]+n[i]+1:nFD[i]+n[i]+3],uCoupled[i][nFD[i]+n[i]+4:]]))\n",
    "    plt.plot(xSlice[i],uSlice[i],label=\"m=\"+str(i+4))\n",
    "    \n",
    "    \n",
    "plt.plot(xFull[0],uFDM[0],label=\"FDM\")\n",
    "plt.grid()\n",
    "plt.legend()\n",
    "plt.axvline(x=1,c=\"#536872\")\n",
    "plt.axvline(x=2,c=\"#536872\")"
   ]
  },
  {
   "cell_type": "code",
   "execution_count": 12,
   "metadata": {},
   "outputs": [
    {
     "name": "stdout",
     "output_type": "stream",
     "text": [
      "[0.    0.25  0.5   0.75  0.925 0.975 1.    1.025 1.075 1.125 1.175 1.225\n",
      " 1.275 1.325 1.375 1.425 1.475 1.525 1.575 1.625 1.675 1.725 1.775 1.825\n",
      " 1.875 1.925 1.975 2.    2.025 2.075 2.25  2.5   2.75  3.   ]\n",
      "1.0 0.7405455881722991\n",
      "2.0 0.7405455881723356\n",
      "[0.   0.2  0.4  0.6  0.8  0.94 0.98 1.   1.02 1.06 1.1  1.14 1.18 1.22\n",
      " 1.26 1.3  1.34 1.38 1.42 1.46 1.5  1.54 1.58 1.62 1.66 1.7  1.74 1.78\n",
      " 1.82 1.86 1.9  1.94 1.98 2.   2.02 2.06 2.2  2.4  2.6  2.8  3.  ]\n",
      "0.98 0.7446256724373169\n",
      "1.7799999999999998 0.9023197734805686\n",
      "[0.         0.16666667 0.33333333 0.5        0.66666667 0.83333333\n",
      " 0.95       0.98333333 1.         1.01666667 1.05       1.08333333\n",
      " 1.11666667 1.15       1.18333333 1.21666667 1.25       1.28333333\n",
      " 1.31666667 1.35       1.38333333 1.41666667 1.45       1.48333333\n",
      " 1.51666667 1.55       1.58333333 1.61666667 1.65       1.68333333\n",
      " 1.71666667 1.75       1.78333333 1.81666667 1.85       1.88333333\n",
      " 1.91666667 1.95       1.98333333 2.         2.01666667 2.05\n",
      " 2.16666667 2.33333333 2.5        2.66666667 2.83333333 3.        ]\n",
      "0.95 0.7301352985135454\n",
      "1.6166666666666665 0.9687040965601417\n",
      "[0.         0.14285714 0.28571429 0.42857143 0.57142857 0.71428571\n",
      " 0.85714286 0.95714286 0.98571429 1.         1.01428571 1.04285714\n",
      " 1.07142857 1.1        1.12857143 1.15714286 1.18571429 1.21428571\n",
      " 1.24285714 1.27142857 1.3        1.32857143 1.35714286 1.38571429\n",
      " 1.41428571 1.44285714 1.47142857 1.5        1.52857143 1.55714286\n",
      " 1.58571429 1.61428571 1.64285714 1.67142857 1.7        1.72857143\n",
      " 1.75714286 1.78571429 1.81428571 1.84285714 1.87142857 1.9\n",
      " 1.92857143 1.95714286 1.98571429 2.         2.01428571 2.04285714\n",
      " 2.14285714 2.28571429 2.42857143 2.57142857 2.71428571 2.85714286\n",
      " 3.        ]\n",
      "0.8571428571428571 0.6550977806637668\n",
      "1.5 0.9864062844363652\n"
     ]
    },
    {
     "data": {
      "image/png": "[encoded data removed]",
      "text/plain": [
       "<Figure size 432x288 with 1 Axes>"
      ]
     },
     "metadata": {
      "needs_background": "light"
     },
     "output_type": "display_data"
    }
   ],
   "source": [
    "plt.clf()\n",
    "markers = ['s','o','x','.']\n",
    "level = [5,6,7,8]\n",
    "\n",
    "for i in range(0, len(xAll)):\n",
    "    print(xSlice[i])\n",
    "    print(xSlice[i][6],uSlice[i][6])\n",
    "    print(xSlice[i][27],uSlice[i][27])\n",
    "    plt.plot(xSlice[i],uSlice[i]-exactSolution(xSlice[i]),color=\"black\",marker=markers[i],markevery=level[i],label=\"m=\"+str(i+4))\n",
    "    \n",
    "plt.xlabel(r\"$x$\")\n",
    "plt.ylabel(r\"Error in displacement w.r.t FDM\")\n",
    "plt.title(r\"Example with \" + str(example).lower() + \" solution for MDCM with m = 2\")\n",
    "plt.grid()\n",
    "plt.axvline(x=1,c=\"#536872\")\n",
    "plt.axvline(x=2,c=\"#536872\")\n",
    "plt.legend()\n",
    "plt.savefig(\"MDCM-Dirchelet-adaptive-endpoint-non-matching-\"+str(example).lower()+\".pdf\")"
   ]
  },
  {
   "cell_type": "code",
   "execution_count": 13,
   "metadata": {},
   "outputs": [],
   "source": [
    "amount = 4\n",
    "hFD = 1./ amount\n",
    "h = hFD / 5\n",
    "nFD = int(1 / hFD)+1\n",
    "n = int(1 / h)+1\n",
    "    \n",
    "x1 = np.linspace(0,1,nFD)  \n",
    "x2 = np.linspace(1-1.5*h,2+1.5*h,n+3)\n",
    "x3 = np.linspace(2*1,3*1,nFD)\n",
    "xFull = np.linspace(0,3*1,3*nFD-2)\n",
    "xAll = np.concatenate([x1,x2,x3])"
   ]
  },
  {
   "cell_type": "code",
   "execution_count": 14,
   "metadata": {},
   "outputs": [],
   "source": [
    "# First FDM node"
   ]
  },
  {
   "cell_type": "code",
   "execution_count": 15,
   "metadata": {},
   "outputs": [],
   "source": [
    "weights = interpolate_lagrange(x1[nFD-1], [x2[1],x2[2],x2[3]], [\"u1\",\"u2\",\"u3\"])"
   ]
  },
  {
   "cell_type": "code",
   "execution_count": 16,
   "metadata": {},
   "outputs": [
    {
     "data": {
      "text/plain": [
       "(0.9750000000000001, 1.0250000000000001, 1.0750000000000002)"
      ]
     },
     "execution_count": 16,
     "metadata": {},
     "output_type": "execute_result"
    }
   ],
   "source": [
    "x2[1],x2[2],x2[3]"
   ]
  },
  {
   "cell_type": "code",
   "execution_count": 17,
   "metadata": {},
   "outputs": [
    {
     "data": {
      "text/plain": [
       "(1.0, 1.0)"
      ]
     },
     "execution_count": 17,
     "metadata": {},
     "output_type": "execute_result"
    }
   ],
   "source": [
    "x1[nFD-1] , xAll[nFD-1]"
   ]
  },
  {
   "cell_type": "code",
   "execution_count": 18,
   "metadata": {},
   "outputs": [
    {
     "data": {
      "text/plain": [
       "(0.9750000000000001, 1.0250000000000001, 1.0750000000000002)"
      ]
     },
     "execution_count": 18,
     "metadata": {},
     "output_type": "execute_result"
    }
   ],
   "source": [
    "xAll[nFD+1] , xAll[nFD+2] , xAll[nFD+3]"
   ]
  },
  {
   "cell_type": "code",
   "execution_count": 19,
   "metadata": {},
   "outputs": [
    {
     "data": {
      "text/plain": [
       "0.9999999999999999"
      ]
     },
     "execution_count": 19,
     "metadata": {},
     "output_type": "execute_result"
    },
    {
     "data": {
      "image/png": "[encoded data removed]",
      "text/plain": [
       "<Figure size 432x288 with 1 Axes>"
      ]
     },
     "metadata": {
      "needs_background": "light"
     },
     "output_type": "display_data"
    }
   ],
   "source": [
    "plt.scatter(x2[1],x2[1])\n",
    "plt.scatter(x2[2],x2[2])\n",
    "plt.scatter(x2[3],x2[3])\n",
    "\n",
    "cord = weights[0] * xAll[nFD+1] +  weights[1] * xAll[nFD+2] + weights[2] * xAll[nFD+3]\n",
    "\n",
    "plt.scatter(x1[nFD-1],cord )\n",
    "cord"
   ]
  },
  {
   "cell_type": "code",
   "execution_count": 20,
   "metadata": {},
   "outputs": [],
   "source": [
    "# Second FD interface"
   ]
  },
  {
   "cell_type": "code",
   "execution_count": 21,
   "metadata": {},
   "outputs": [],
   "source": [
    "weights = interpolate_lagrange(x3[0], [x2[n],x2[n+1],x2[n+2]], [\"u1\",\"u2\",\"u3\"])"
   ]
  },
  {
   "cell_type": "code",
   "execution_count": 22,
   "metadata": {},
   "outputs": [
    {
     "data": {
      "text/plain": [
       "[1.975, 2.0250000000000004, 2.075]"
      ]
     },
     "execution_count": 22,
     "metadata": {},
     "output_type": "execute_result"
    }
   ],
   "source": [
    "[x2[n],x2[n+1],x2[n+2]]"
   ]
  },
  {
   "cell_type": "code",
   "execution_count": 23,
   "metadata": {},
   "outputs": [
    {
     "data": {
      "text/plain": [
       "2.0"
      ]
     },
     "execution_count": 23,
     "metadata": {},
     "output_type": "execute_result"
    }
   ],
   "source": [
    "x3[0]"
   ]
  },
  {
   "cell_type": "code",
   "execution_count": 24,
   "metadata": {},
   "outputs": [],
   "source": [
    "mid = nFD+n+1"
   ]
  },
  {
   "cell_type": "code",
   "execution_count": 25,
   "metadata": {},
   "outputs": [
    {
     "data": {
      "text/plain": [
       "2.0"
      ]
     },
     "execution_count": 25,
     "metadata": {},
     "output_type": "execute_result"
    }
   ],
   "source": [
    "xAll[mid+2]"
   ]
  },
  {
   "cell_type": "code",
   "execution_count": 26,
   "metadata": {},
   "outputs": [
    {
     "data": {
      "text/plain": [
       "(1.975, 2.0250000000000004, 2.075)"
      ]
     },
     "execution_count": 26,
     "metadata": {},
     "output_type": "execute_result"
    }
   ],
   "source": [
    "xAll[mid-1] ,xAll[mid] ,xAll[mid+1] "
   ]
  },
  {
   "cell_type": "code",
   "execution_count": 27,
   "metadata": {
    "scrolled": true
   },
   "outputs": [
    {
     "data": {
      "text/plain": [
       "2.0"
      ]
     },
     "execution_count": 27,
     "metadata": {},
     "output_type": "execute_result"
    },
    {
     "data": {
      "image/png": "[encoded data removed]",
      "text/plain": [
       "<Figure size 432x288 with 1 Axes>"
      ]
     },
     "metadata": {
      "needs_background": "light"
     },
     "output_type": "display_data"
    }
   ],
   "source": [
    "plt.scatter(x2[n],x2[n])\n",
    "plt.scatter(x2[n+1],x2[n+1])\n",
    "plt.scatter(x2[n+2],x2[n+2])\n",
    "\n",
    "cord = weights[0] * xAll[mid-1] +  weights[1] * xAll[mid] + weights[2] * xAll[mid+1]\n",
    "\n",
    "plt.scatter(x3[0],cord )\n",
    "cord"
   ]
  },
  {
   "cell_type": "code",
   "execution_count": 28,
   "metadata": {},
   "outputs": [],
   "source": [
    "# First interface PD nodes"
   ]
  },
  {
   "cell_type": "code",
   "execution_count": 29,
   "metadata": {},
   "outputs": [
    {
     "data": {
      "text/plain": [
       "(0.9750000000000001, 0.5, 0.75, 1.0)"
      ]
     },
     "execution_count": 29,
     "metadata": {},
     "output_type": "execute_result"
    }
   ],
   "source": [
    "x2[1], x1[nFD-3],x1[nFD-2],x1[nFD-1]"
   ]
  },
  {
   "cell_type": "code",
   "execution_count": 30,
   "metadata": {},
   "outputs": [
    {
     "data": {
      "text/plain": [
       "(0.9750000000000001, 0.5, 0.75, 1.0)"
      ]
     },
     "execution_count": 30,
     "metadata": {},
     "output_type": "execute_result"
    }
   ],
   "source": [
    "xAll[nFD+1], xAll[nFD-3],xAll[nFD-2],xAll[nFD-1]"
   ]
  },
  {
   "cell_type": "code",
   "execution_count": 31,
   "metadata": {},
   "outputs": [
    {
     "data": {
      "text/plain": [
       "(0.9750000000000001, 0.5, 0.75, 1.0)"
      ]
     },
     "execution_count": 31,
     "metadata": {},
     "output_type": "execute_result"
    }
   ],
   "source": [
    "xAll[nFD+1], xAll[nFD-3],xAll[nFD-2],xAll[nFD-1]"
   ]
  },
  {
   "cell_type": "code",
   "execution_count": 32,
   "metadata": {},
   "outputs": [],
   "source": [
    "weights = interpolate_lagrange(x2[0], [x1[nFD-3],x1[nFD-2],x1[nFD-1]], [\"u1\",\"u2\",\"u3\"])"
   ]
  },
  {
   "cell_type": "code",
   "execution_count": 33,
   "metadata": {},
   "outputs": [
    {
     "data": {
      "text/plain": [
       "<matplotlib.collections.PathCollection at 0x7ff38be4ea70>"
      ]
     },
     "execution_count": 33,
     "metadata": {},
     "output_type": "execute_result"
    },
    {
     "data": {
      "image/png": "[encoded data removed]",
      "text/plain": [
       "<Figure size 432x288 with 1 Axes>"
      ]
     },
     "metadata": {
      "needs_background": "light"
     },
     "output_type": "display_data"
    }
   ],
   "source": [
    "plt.scatter(x1[nFD-3],x1[nFD-3])\n",
    "plt.scatter(x1[nFD-2],x1[nFD-2])\n",
    "plt.scatter(x1[nFD-1],x1[nFD-1])\n",
    "\n",
    "cord = weights[0] * x1[nFD-3] +  weights[1] * x1[nFD-2] + weights[2] * x1[nFD-1]\n",
    "\n",
    "plt.scatter(x2[0],cord )\n",
    "\n",
    "\n",
    "weights = interpolate_lagrange(x2[1], [x1[nFD-3],x1[nFD-2],x1[nFD-1]], [\"u1\",\"u2\",\"u3\"])\n",
    "\n",
    "cord = weights[0] * x1[nFD-3] +  weights[1] * x1[nFD-2] + weights[2] * x1[nFD-1]\n",
    "\n",
    "plt.scatter(x2[1],cord )"
   ]
  },
  {
   "cell_type": "code",
   "execution_count": 34,
   "metadata": {},
   "outputs": [],
   "source": [
    "# Second PD nodes "
   ]
  },
  {
   "cell_type": "code",
   "execution_count": 35,
   "metadata": {},
   "outputs": [
    {
     "data": {
      "text/plain": [
       "[2.0, 2.25, 2.5]"
      ]
     },
     "execution_count": 35,
     "metadata": {},
     "output_type": "execute_result"
    }
   ],
   "source": [
    "[x3[0],x3[1],x3[2]]"
   ]
  },
  {
   "cell_type": "code",
   "execution_count": 36,
   "metadata": {},
   "outputs": [
    {
     "data": {
      "text/plain": [
       "2.0250000000000004"
      ]
     },
     "execution_count": 36,
     "metadata": {},
     "output_type": "execute_result"
    }
   ],
   "source": [
    "xAll[mid]"
   ]
  },
  {
   "cell_type": "code",
   "execution_count": 37,
   "metadata": {},
   "outputs": [
    {
     "data": {
      "text/plain": [
       "2.0250000000000004"
      ]
     },
     "execution_count": 37,
     "metadata": {},
     "output_type": "execute_result"
    }
   ],
   "source": [
    "x2[len(x2)-2]"
   ]
  },
  {
   "cell_type": "code",
   "execution_count": 38,
   "metadata": {},
   "outputs": [
    {
     "data": {
      "text/plain": [
       "(2.0, 2.25, 2.5)"
      ]
     },
     "execution_count": 38,
     "metadata": {},
     "output_type": "execute_result"
    }
   ],
   "source": [
    "xAll[mid+2] , xAll[mid+3] , xAll[mid+4]"
   ]
  },
  {
   "cell_type": "code",
   "execution_count": 39,
   "metadata": {},
   "outputs": [],
   "source": [
    "weights = interpolate_lagrange(x2[len(x2)-1], [x3[0],x3[1],x3[2]], [\"u1\",\"u2\",\"u3\"])"
   ]
  },
  {
   "cell_type": "code",
   "execution_count": 40,
   "metadata": {},
   "outputs": [
    {
     "data": {
      "text/plain": [
       "<matplotlib.collections.PathCollection at 0x7ff38bccba30>"
      ]
     },
     "execution_count": 40,
     "metadata": {},
     "output_type": "execute_result"
    },
    {
     "data": {
      "image/png": "[encoded data removed]",
      "text/plain": [
       "<Figure size 432x288 with 1 Axes>"
      ]
     },
     "metadata": {
      "needs_background": "light"
     },
     "output_type": "display_data"
    }
   ],
   "source": [
    "plt.scatter(x3[0],x3[0])\n",
    "plt.scatter(x3[1],x3[1])\n",
    "plt.scatter(x3[2],x3[2])\n",
    "\n",
    "cord = weights[0] * xAll[mid+2] +  weights[1] * xAll[mid+3] + weights[2] * xAll[mid+4]\n",
    "\n",
    "plt.scatter(x2[len(x2)-1],cord, color=\"black\" )\n",
    "\n",
    "\n",
    "weights = interpolate_lagrange(x2[len(x2)-2], [x3[0],x3[1],x3[2]], [\"u1\",\"u2\",\"u3\"])\n",
    "\n",
    "cord = weights[0] * xAll[mid+2] +  weights[1] * xAll[mid+3] + weights[2] * xAll[mid+4]\n",
    "\n",
    "plt.scatter(x2[len(x2)-2],cord )"
   ]
  },
  {
   "cell_type": "code",
   "execution_count": 41,
   "metadata": {},
   "outputs": [
    {
     "data": {
      "text/plain": [
       "1.0250000000000001"
      ]
     },
     "execution_count": 41,
     "metadata": {},
     "output_type": "execute_result"
    }
   ],
   "source": [
    "xAll[nFD+2]"
   ]
  },
  {
   "cell_type": "code",
   "execution_count": 42,
   "metadata": {},
   "outputs": [
    {
     "data": {
      "text/plain": [
       "array([0.   , 0.25 , 0.5  , 0.75 , 1.   , 0.925, 0.975, 1.025, 1.075,\n",
       "       1.125, 1.175, 1.225, 1.275, 1.325, 1.375, 1.425, 1.475, 1.525,\n",
       "       1.575, 1.625, 1.675, 1.725, 1.775, 1.825, 1.875, 1.925, 1.975,\n",
       "       2.025, 2.075, 2.   , 2.25 , 2.5  , 2.75 , 3.   ])"
      ]
     },
     "execution_count": 42,
     "metadata": {},
     "output_type": "execute_result"
    }
   ],
   "source": [
    "xAll"
   ]
  },
  {
   "cell_type": "code",
   "execution_count": null,
   "metadata": {},
   "outputs": [],
   "source": []
  }
 ],
 "metadata": {
  "kernelspec": {
   "display_name": "Python 3",
   "language": "python",
   "name": "python3"
  },
  "language_info": {
   "codemirror_mode": {
    "name": "ipython",
    "version": 3
   },
   "file_extension": ".py",
   "mimetype": "text/x-python",
   "name": "python",
   "nbconvert_exporter": "python",
   "pygments_lexer": "ipython3",
   "version": "3.10.3"
  }
 },
 "nbformat": 4,
 "nbformat_minor": 5
}
