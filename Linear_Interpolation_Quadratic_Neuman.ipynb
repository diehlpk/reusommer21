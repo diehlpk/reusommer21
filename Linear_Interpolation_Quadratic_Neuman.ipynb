{
 "cells": [
  {
   "cell_type": "code",
   "execution_count": null,
   "metadata": {},
   "outputs": [],
   "source": [
    "import numpy as np \n",
    "import matplotlib.pyplot as plt "
   ]
  },
  {
   "cell_type": "code",
   "execution_count": null,
   "metadata": {},
   "outputs": [],
   "source": [
    "h = 0.25"
   ]
  },
  {
   "cell_type": "code",
   "execution_count": null,
   "metadata": {},
   "outputs": [],
   "source": [
    "fFD =  1./(2.*h*h) \n",
    "fPD =  1./(8.*h/2*h/2) "
   ]
  },
  {
   "cell_type": "code",
   "execution_count": null,
   "metadata": {},
   "outputs": [],
   "source": [
    "M = np.zeros([23,23])"
   ]
  },
  {
   "cell_type": "code",
   "execution_count": null,
   "metadata": {},
   "outputs": [],
   "source": [
    "M [0][0] = 1"
   ]
  },
  {
   "cell_type": "code",
   "execution_count": null,
   "metadata": {},
   "outputs": [],
   "source": [
    "for i in range (1,4):\n",
    "    M [i][i-1] = -2 * fFD\n",
    "    M [i][i] = 4 * fFD\n",
    "    M [i][i+1] = -2 * fFD"
   ]
  },
  {
   "cell_type": "markdown",
   "metadata": {},
   "source": [
    "Match the displacement $u_3$ and $u_5$"
   ]
  },
  {
   "cell_type": "code",
   "execution_count": null,
   "metadata": {},
   "outputs": [],
   "source": [
    "M [5][5] = -1\n",
    "M [5][3] = 1"
   ]
  },
  {
   "cell_type": "markdown",
   "metadata": {},
   "source": [
    "Match the displacement $u_4$ and $u_7$"
   ]
  },
  {
   "cell_type": "code",
   "execution_count": null,
   "metadata": {},
   "outputs": [],
   "source": [
    "M [4][4] = -1\n",
    "M [4][7] = 1"
   ]
  },
  {
   "cell_type": "markdown",
   "metadata": {},
   "source": [
    "Interpolate the displacement $u_6$ and $u_6'$\n",
    "\n",
    "* $u_6'-u_6=0$\n",
    "* $\\frac{1}{2}\\left(u_3 + u_4\\right)-u_5=0$"
   ]
  },
  {
   "cell_type": "code",
   "execution_count": null,
   "metadata": {},
   "outputs": [],
   "source": [
    "M [6][6] = -1\n",
    "M [6][3] = 1/2\n",
    "M [6][4] = 1/2"
   ]
  },
  {
   "cell_type": "markdown",
   "metadata": {},
   "source": [
    "Apply the non-local model"
   ]
  },
  {
   "cell_type": "code",
   "execution_count": null,
   "metadata": {},
   "outputs": [],
   "source": [
    "for i in range(7,16):\n",
    "    M[i][i-2] = -1.  * fPD\n",
    "    M[i][i-1] = -4. * fPD\n",
    "    M[i][i] = 10. * fPD\n",
    "    M[i][i+1] =  -4. * fPD\n",
    "    M[i][i+2] = -1. * fPD"
   ]
  },
  {
   "cell_type": "markdown",
   "metadata": {},
   "source": [
    "Interpolate the displacement $u_{16}$ and $u_{16}'$"
   ]
  },
  {
   "cell_type": "code",
   "execution_count": null,
   "metadata": {},
   "outputs": [],
   "source": [
    "M [16][16] = -1\n",
    "M [16][18] = 1/2\n",
    "M [16][19] = 1/2"
   ]
  },
  {
   "cell_type": "markdown",
   "metadata": {},
   "source": [
    "Match the displacement $u_{17}$ and $u_{19}$"
   ]
  },
  {
   "cell_type": "code",
   "execution_count": null,
   "metadata": {},
   "outputs": [],
   "source": [
    "M [17][17] = -1\n",
    "M [17][19] = 1"
   ]
  },
  {
   "cell_type": "markdown",
   "metadata": {},
   "source": [
    "Match the displacement $u_{15}$ and $u_{18}$"
   ]
  },
  {
   "cell_type": "code",
   "execution_count": null,
   "metadata": {},
   "outputs": [],
   "source": [
    "M [18][18] = -1\n",
    "M [18][15] = 1"
   ]
  },
  {
   "cell_type": "code",
   "execution_count": null,
   "metadata": {},
   "outputs": [],
   "source": [
    "for i in range (19,22):\n",
    "    M [i][i-1] = -2  * fFD\n",
    "    M [i][i] = 4 * fFD\n",
    "    M [i][i+1] = -2 * fFD"
   ]
  },
  {
   "cell_type": "code",
   "execution_count": null,
   "metadata": {},
   "outputs": [],
   "source": [
    "M [22][22] = "
   ]
  },
  {
   "cell_type": "code",
   "execution_count": null,
   "metadata": {},
   "outputs": [],
   "source": [
    "M"
   ]
  },
  {
   "cell_type": "markdown",
   "metadata": {},
   "source": [
    "Contruct the force vector"
   ]
  },
  {
   "cell_type": "code",
   "execution_count": null,
   "metadata": {},
   "outputs": [],
   "source": [
    "f = np.zeros([23])"
   ]
  },
  {
   "cell_type": "code",
   "execution_count": null,
   "metadata": {},
   "outputs": [],
   "source": [
    "for i in range(1,22):\n",
    "    f[i] =  8/9"
   ]
  },
  {
   "cell_type": "code",
   "execution_count": null,
   "metadata": {},
   "outputs": [],
   "source": [
    "f [4] = 0 # the displacememnt is matching therefore the force is zero\n",
    "f [5] = 0 \n",
    "f [6] = 0 \n",
    "f [18] = 0 \n",
    "f [16] = 0\n",
    "f [17] = 0"
   ]
  },
  {
   "cell_type": "code",
   "execution_count": null,
   "metadata": {},
   "outputs": [],
   "source": [
    "f"
   ]
  },
  {
   "cell_type": "code",
   "execution_count": null,
   "metadata": {},
   "outputs": [],
   "source": [
    "u = np.linalg.solve(M,f)\n",
    "u"
   ]
  },
  {
   "cell_type": "code",
   "execution_count": null,
   "metadata": {},
   "outputs": [],
   "source": [
    "x1 = np.arange(0,1,0.25)\n",
    "x2 = np.arange(1,2,0.125)\n",
    "x3 = np.arange(2,3.25,0.25)\n",
    "x20 = np.array(np.concatenate((x1,x2,x3)))\n",
    "x20"
   ]
  },
  {
   "cell_type": "code",
   "execution_count": null,
   "metadata": {},
   "outputs": [],
   "source": [
    "uSlice = np.array(np.concatenate((u[0:5],u[8:15],u[18:len(u)])))\n",
    "uSlice"
   ]
  },
  {
   "cell_type": "code",
   "execution_count": null,
   "metadata": {},
   "outputs": [],
   "source": [
    "len(u)"
   ]
  },
  {
   "cell_type": "code",
   "execution_count": null,
   "metadata": {},
   "outputs": [],
   "source": [
    "len(uSlice)"
   ]
  },
  {
   "cell_type": "code",
   "execution_count": null,
   "metadata": {},
   "outputs": [],
   "source": [
    "len(x20)"
   ]
  },
  {
   "cell_type": "code",
   "execution_count": null,
   "metadata": {},
   "outputs": [],
   "source": [
    "plt.plot(x20,uSlice)\n",
    "plt.grid()"
   ]
  },
  {
   "cell_type": "code",
   "execution_count": null,
   "metadata": {},
   "outputs": [],
   "source": [
    "h2= 0.125"
   ]
  },
  {
   "cell_type": "code",
   "execution_count": null,
   "metadata": {},
   "outputs": [],
   "source": [
    "fFD2 =  1./(2.*h2*h2) \n",
    "fPD2 =  1./(8.*h2/2*h2/2) "
   ]
  },
  {
   "cell_type": "code",
   "execution_count": null,
   "metadata": {},
   "outputs": [],
   "source": [
    "M2 = np.zeros([39,39])"
   ]
  },
  {
   "cell_type": "code",
   "execution_count": null,
   "metadata": {},
   "outputs": [],
   "source": [
    "M2 [0][0] = 1"
   ]
  },
  {
   "cell_type": "code",
   "execution_count": null,
   "metadata": {},
   "outputs": [],
   "source": [
    "for i in range (1, 8):\n",
    "    M2[i][i-1]=-2 * fFD2\n",
    "    M2[i][i]= 4 * fFD2\n",
    "    M2[i][i+1]= -2 * fFD2"
   ]
  },
  {
   "cell_type": "markdown",
   "metadata": {},
   "source": [
    "Match the dispacement between $u_7$ and $u_9$"
   ]
  },
  {
   "cell_type": "code",
   "execution_count": null,
   "metadata": {},
   "outputs": [],
   "source": [
    "M2[9][9]= -1\n",
    "M2[9][7]=1"
   ]
  },
  {
   "cell_type": "markdown",
   "metadata": {},
   "source": [
    "Match the dispacement between $u_8$ and $u_{11}$"
   ]
  },
  {
   "cell_type": "code",
   "execution_count": null,
   "metadata": {},
   "outputs": [],
   "source": [
    "M2[8][8]= -1\n",
    "M2[8][11]=1"
   ]
  },
  {
   "cell_type": "markdown",
   "metadata": {},
   "source": [
    "Interpolate the displacement $u_{10}$ and $u_{9}'$\n",
    "\n",
    "* $u_{10}'-u_{10}=0$\n",
    "* $\\frac{1}{2}\\left(u_7 + u_8\\right)-u_{10}=0$"
   ]
  },
  {
   "cell_type": "code",
   "execution_count": null,
   "metadata": {},
   "outputs": [],
   "source": [
    "M2 [10][10] = -1\n",
    "M2 [10][7] = 1/2\n",
    "M2 [10][8] = 1/2"
   ]
  },
  {
   "cell_type": "markdown",
   "metadata": {},
   "source": [
    "Apply the non-local model"
   ]
  },
  {
   "cell_type": "code",
   "execution_count": null,
   "metadata": {},
   "outputs": [],
   "source": [
    "for i in range(11,28):\n",
    "    M2[i][i-2] = -1.  * fPD2\n",
    "    M2[i][i-1] = -4. * fPD2\n",
    "    M2[i][i] = 10. * fPD2\n",
    "    M2[i][i+1] =  -4. * fPD2\n",
    "    M2[i][i+2] = -1. * fPD2"
   ]
  },
  {
   "cell_type": "markdown",
   "metadata": {},
   "source": [
    "Interpolate the displacement $u_{28}$ and $u_{28}'$\n",
    "\n",
    "* $u_{28}'-u_{28}=0$\n",
    "* $\\frac{1}{2}\\left(u_{30} + u_{31}\\right)-u_{28}=0$"
   ]
  },
  {
   "cell_type": "code",
   "execution_count": null,
   "metadata": {},
   "outputs": [],
   "source": [
    "M2 [28][28] = -1\n",
    "M2 [28][30] = 1/2\n",
    "M2 [28][31] = 1/2"
   ]
  },
  {
   "cell_type": "markdown",
   "metadata": {},
   "source": [
    "Match the displacement $u_{29}$ and $u_{31}$"
   ]
  },
  {
   "cell_type": "code",
   "execution_count": null,
   "metadata": {},
   "outputs": [],
   "source": [
    "M2 [29][29] = -1\n",
    "M2 [29][31] = 1"
   ]
  },
  {
   "cell_type": "markdown",
   "metadata": {},
   "source": [
    "Match the displacement $u_{27}$ and $u_{30}$"
   ]
  },
  {
   "cell_type": "code",
   "execution_count": null,
   "metadata": {},
   "outputs": [],
   "source": [
    "M2 [30][30] = -1\n",
    "M2 [30][27] = 1"
   ]
  },
  {
   "cell_type": "code",
   "execution_count": null,
   "metadata": {},
   "outputs": [],
   "source": [
    "for i in range (31, 38):\n",
    "    M2[i][i-1]=-2 * fFD2\n",
    "    M2[i][i]= 4 * fFD2\n",
    "    M2[i][i+1]= -2 * fFD2"
   ]
  },
  {
   "cell_type": "code",
   "execution_count": null,
   "metadata": {},
   "outputs": [],
   "source": [
    "M2 [38][38] = 1\n",
    "M2"
   ]
  },
  {
   "cell_type": "code",
   "execution_count": null,
   "metadata": {},
   "outputs": [],
   "source": [
    "f2 = np.zeros([39])"
   ]
  },
  {
   "cell_type": "code",
   "execution_count": null,
   "metadata": {},
   "outputs": [],
   "source": [
    "for i in range(1,38):\n",
    "    f2[i] =  8/9"
   ]
  },
  {
   "cell_type": "code",
   "execution_count": null,
   "metadata": {},
   "outputs": [],
   "source": [
    "f2 [8] = 0 # the displacememnt is matching therefore the force is zero\n",
    "f2 [9] = 0 \n",
    "f2 [10] = 0 \n",
    "f2 [30] = 0 \n",
    "f2 [28] = 0\n",
    "f2 [29] = 0\n",
    "f2"
   ]
  },
  {
   "cell_type": "code",
   "execution_count": null,
   "metadata": {},
   "outputs": [],
   "source": [
    "u2 = np.linalg.solve(M2,f2)\n",
    "u2"
   ]
  },
  {
   "cell_type": "code",
   "execution_count": null,
   "metadata": {},
   "outputs": [],
   "source": [
    "x4 = np.arange(0,1,0.125)\n",
    "x5 = np.arange(1,2,0.0625)\n",
    "x6 = np.arange(2,3.125,0.125)\n",
    "x7 = np.array(np.concatenate((x4,x5,x6)))\n",
    "x7"
   ]
  },
  {
   "cell_type": "code",
   "execution_count": null,
   "metadata": {},
   "outputs": [],
   "source": [
    "uSlice2 = np.array(np.concatenate((u2[0:9],u2[12:27],u2[30:len(u2)])))\n",
    "uSlice2"
   ]
  },
  {
   "cell_type": "code",
   "execution_count": null,
   "metadata": {},
   "outputs": [],
   "source": [
    "len(u2)"
   ]
  },
  {
   "cell_type": "code",
   "execution_count": null,
   "metadata": {},
   "outputs": [],
   "source": [
    "len(x7)"
   ]
  },
  {
   "cell_type": "code",
   "execution_count": null,
   "metadata": {},
   "outputs": [],
   "source": [
    "len(uSlice2)"
   ]
  },
  {
   "cell_type": "code",
   "execution_count": null,
   "metadata": {},
   "outputs": [],
   "source": [
    "plt.plot(x7,uSlice2)\n",
    "plt.grid()"
   ]
  },
  {
   "cell_type": "code",
   "execution_count": null,
   "metadata": {},
   "outputs": [],
   "source": [
    "h3=0.0625"
   ]
  },
  {
   "cell_type": "code",
   "execution_count": null,
   "metadata": {},
   "outputs": [],
   "source": [
    "fFD3 =  1./(2.*h3*h3) \n",
    "fPD3 =  1./(8.*h3/2*h3/2) "
   ]
  },
  {
   "cell_type": "code",
   "execution_count": null,
   "metadata": {},
   "outputs": [],
   "source": [
    "M3 = np.zeros([71,71])"
   ]
  },
  {
   "cell_type": "code",
   "execution_count": null,
   "metadata": {},
   "outputs": [],
   "source": [
    "M3 [0][0] = 1"
   ]
  },
  {
   "cell_type": "code",
   "execution_count": null,
   "metadata": {},
   "outputs": [],
   "source": [
    "for i in range (1, 16):\n",
    "    M3[i][i-1]=-2 * fFD3\n",
    "    M3[i][i]= 4 * fFD3\n",
    "    M3[i][i+1]= -2 * fFD3"
   ]
  },
  {
   "cell_type": "markdown",
   "metadata": {},
   "source": [
    "Match the dispacement between $u_{15}$ and $u_{17}$"
   ]
  },
  {
   "cell_type": "code",
   "execution_count": null,
   "metadata": {},
   "outputs": [],
   "source": [
    "M3[17][17]= -1\n",
    "M3[17][15]=1"
   ]
  },
  {
   "cell_type": "markdown",
   "metadata": {},
   "source": [
    "Match the dispacement between $u_{16}$ and $u_{19}$"
   ]
  },
  {
   "cell_type": "code",
   "execution_count": null,
   "metadata": {},
   "outputs": [],
   "source": [
    "M3[16][16]= -1\n",
    "M3[16][19]=1"
   ]
  },
  {
   "cell_type": "markdown",
   "metadata": {},
   "source": [
    "Interpolate the displacement $u_{18}$ and $u_{18}'$\n",
    "\n",
    "* $u_{18}'-u_{18}=0$\n",
    "* $\\frac{1}{2}\\left(u_{15} + u_{16}\\right)-u_{18}=0$"
   ]
  },
  {
   "cell_type": "code",
   "execution_count": null,
   "metadata": {},
   "outputs": [],
   "source": [
    "M3 [18][18] = -1\n",
    "M3 [18][15] = 1/2\n",
    "M3 [18][16] = 1/2"
   ]
  },
  {
   "cell_type": "markdown",
   "metadata": {},
   "source": [
    "Apply the non-local model"
   ]
  },
  {
   "cell_type": "code",
   "execution_count": null,
   "metadata": {},
   "outputs": [],
   "source": [
    "for i in range(19,52):\n",
    "    M3[i][i-2] = -1.  * fPD3\n",
    "    M3[i][i-1] = -4. * fPD3\n",
    "    M3[i][i] = 10. * fPD3\n",
    "    M3[i][i+1] =  -4. * fPD3\n",
    "    M3[i][i+2] = -1. * fPD3"
   ]
  },
  {
   "cell_type": "markdown",
   "metadata": {},
   "source": [
    "Interpolate the displacement $u_{52}$ and $u_{52}'$\n",
    "\n",
    "* $u_{52}'-u_{52}=0$\n",
    "* $\\frac{1}{2}\\left(u_{54} + u_{55}\\right)-u_{52}=0$"
   ]
  },
  {
   "cell_type": "code",
   "execution_count": null,
   "metadata": {},
   "outputs": [],
   "source": [
    "M3 [52][52] = -1\n",
    "M3 [52][54] = 1/2\n",
    "M3 [52][55] = 1/2"
   ]
  },
  {
   "cell_type": "markdown",
   "metadata": {},
   "source": [
    "Match the displacement $u_{51}$ and $u_{54}$"
   ]
  },
  {
   "cell_type": "code",
   "execution_count": null,
   "metadata": {},
   "outputs": [],
   "source": [
    "M3 [54][54] = -1\n",
    "M3 [54][51] = 1"
   ]
  },
  {
   "cell_type": "markdown",
   "metadata": {},
   "source": [
    "Match the displacement $u_{53}$ and $u_{55}$"
   ]
  },
  {
   "cell_type": "code",
   "execution_count": null,
   "metadata": {},
   "outputs": [],
   "source": [
    "M3 [53][53] = -1\n",
    "M3 [53][55] = 1"
   ]
  },
  {
   "cell_type": "code",
   "execution_count": null,
   "metadata": {},
   "outputs": [],
   "source": [
    "for i in range (55, 70):\n",
    "    M3[i][i-1]=-2 * fFD3\n",
    "    M3[i][i]= 4 * fFD3\n",
    "    M3[i][i+1]= -2 * fFD3"
   ]
  },
  {
   "cell_type": "code",
   "execution_count": null,
   "metadata": {},
   "outputs": [],
   "source": [
    "M3 [70][70] = 1\n",
    "M3"
   ]
  },
  {
   "cell_type": "code",
   "execution_count": null,
   "metadata": {},
   "outputs": [],
   "source": [
    "f3 = np.zeros([71])"
   ]
  },
  {
   "cell_type": "code",
   "execution_count": null,
   "metadata": {},
   "outputs": [],
   "source": [
    "for i in range(1,70):\n",
    "    f3[i] =  8/9"
   ]
  },
  {
   "cell_type": "code",
   "execution_count": null,
   "metadata": {},
   "outputs": [],
   "source": [
    "f3 [16] = 0 # the displacememnt is matching therefore the force is zero\n",
    "f3 [17] = 0 \n",
    "f3 [18] = 0 \n",
    "f3 [52] = 0 \n",
    "f3 [53] = 0\n",
    "f3 [54] = 0\n",
    "f3"
   ]
  },
  {
   "cell_type": "code",
   "execution_count": null,
   "metadata": {},
   "outputs": [],
   "source": [
    "u3 = np.linalg.solve(M3,f3)\n",
    "u3"
   ]
  },
  {
   "cell_type": "code",
   "execution_count": null,
   "metadata": {},
   "outputs": [],
   "source": [
    "x8 = np.arange(0,1,0.0625)\n",
    "x9 = np.arange(1,2,0.03125)\n",
    "x10 = np.arange(2,3.0625,0.0625)\n",
    "x11 = np.array(np.concatenate((x8,x9,x10)))\n",
    "x11"
   ]
  },
  {
   "cell_type": "code",
   "execution_count": null,
   "metadata": {
    "scrolled": true
   },
   "outputs": [],
   "source": [
    "uSlice3 = np.array(np.concatenate((u3[0:17],u3[20:52],u3[55:len(u3)])))\n",
    "uSlice3"
   ]
  },
  {
   "cell_type": "code",
   "execution_count": null,
   "metadata": {},
   "outputs": [],
   "source": [
    "len(uSlice3)"
   ]
  },
  {
   "cell_type": "code",
   "execution_count": null,
   "metadata": {},
   "outputs": [],
   "source": [
    "len(x11)"
   ]
  },
  {
   "cell_type": "code",
   "execution_count": null,
   "metadata": {},
   "outputs": [],
   "source": [
    "len(u3)"
   ]
  },
  {
   "cell_type": "code",
   "execution_count": null,
   "metadata": {},
   "outputs": [],
   "source": [
    "plt.plot(x7,uSlice2)\n",
    "plt.grid()"
   ]
  },
  {
   "cell_type": "code",
   "execution_count": null,
   "metadata": {},
   "outputs": [],
   "source": [
    "def FDM (n,h):\n",
    "    \n",
    "    M4=np.zeros([n,n])\n",
    "\n",
    "    M4[0][0] = 1\n",
    "\n",
    "    for i in range(1,n-1):\n",
    "        M4[i][i-1] = -2 \n",
    "        M4[i][i] = 4 \n",
    "        M4[i][i+1] = -2\n",
    "\n",
    "    M4[n-1][n-1] = 1\n",
    "\n",
    "    M4 *= 1./(2.*h*h)\n",
    "\n",
    "    return M4"
   ]
  },
  {
   "cell_type": "code",
   "execution_count": null,
   "metadata": {},
   "outputs": [],
   "source": [
    "MFDM=FDM (49,0.0625)\n",
    "len(MFDM)"
   ]
  },
  {
   "cell_type": "code",
   "execution_count": null,
   "metadata": {},
   "outputs": [],
   "source": [
    "fFDM=np.zeros([49])\n",
    "len(fFDM)"
   ]
  },
  {
   "cell_type": "code",
   "execution_count": null,
   "metadata": {},
   "outputs": [],
   "source": [
    "for i in range(1,48):\n",
    "    fFDM[i] = 8/9\n",
    "fFDM"
   ]
  },
  {
   "cell_type": "code",
   "execution_count": null,
   "metadata": {},
   "outputs": [],
   "source": [
    "uFDM = np.linalg.solve(MFDM,fFDM)\n",
    "uFDM"
   ]
  },
  {
   "cell_type": "code",
   "execution_count": null,
   "metadata": {},
   "outputs": [],
   "source": [
    "xFDM = np.arange(0,3.0625,0.0625)\n",
    "xFDM\n",
    "len (xFDM)"
   ]
  },
  {
   "cell_type": "code",
   "execution_count": null,
   "metadata": {},
   "outputs": [],
   "source": [
    "MFDM= FDM(4,1)\n",
    "len(fFDM)"
   ]
  },
  {
   "cell_type": "code",
   "execution_count": null,
   "metadata": {},
   "outputs": [],
   "source": [
    "for i in range(1,3):\n",
    "    fFDM[i] = 8/9\n",
    "fFDM"
   ]
  },
  {
   "cell_type": "code",
   "execution_count": null,
   "metadata": {},
   "outputs": [],
   "source": [
    "plt.grid()\n",
    "plt.plot(x20,uSlice,label=\"hFD=0.25\")\n",
    "plt.plot(x7,uSlice2,label=\"hFD=0.125\")\n",
    "plt.plot(x11,uSlice3,label=\"hFD=0.0625\")\n",
    "plt.plot(xFDM,uFDM,label= \"FDM h=0.0625\")\n",
    "plt.legend()\n",
    "plt.xlabel(r\"Position $x$\")\n",
    "plt.ylabel(r\"Displacement $u$\")\n",
    "plt.title(r\"Quadratic solution \")"
   ]
  },
  {
   "cell_type": "code",
   "execution_count": null,
   "metadata": {},
   "outputs": [],
   "source": [
    "MFDM=FDM (49*2-1,0.0625/2)\n",
    "len(MFDM)"
   ]
  },
  {
   "cell_type": "code",
   "execution_count": null,
   "metadata": {},
   "outputs": [],
   "source": [
    "fFDM=np.zeros([49*2-1])\n",
    "len(fFDM)"
   ]
  },
  {
   "cell_type": "code",
   "execution_count": null,
   "metadata": {},
   "outputs": [],
   "source": [
    "len(uSlice3)"
   ]
  },
  {
   "cell_type": "code",
   "execution_count": null,
   "metadata": {},
   "outputs": [],
   "source": [
    "x = np.arange(0,3+0.0625/2,0.0625/2)\n",
    "x"
   ]
  },
  {
   "cell_type": "code",
   "execution_count": null,
   "metadata": {},
   "outputs": [],
   "source": [
    "x[0:32:2]"
   ]
  },
  {
   "cell_type": "code",
   "execution_count": null,
   "metadata": {},
   "outputs": [],
   "source": [
    "x[len(x)-33:len(x):2]"
   ]
  },
  {
   "cell_type": "code",
   "execution_count": null,
   "metadata": {},
   "outputs": [],
   "source": [
    "for i in range(1,49*2-2):\n",
    "    fFDM[i] = 8/9\n",
    "fFDM"
   ]
  },
  {
   "cell_type": "code",
   "execution_count": null,
   "metadata": {},
   "outputs": [],
   "source": [
    "uFDM4 = np.linalg.solve(MFDM,fFDM)\n",
    "uFDM4"
   ]
  },
  {
   "cell_type": "code",
   "execution_count": null,
   "metadata": {},
   "outputs": [],
   "source": [
    "x[33:len(uFDM4)-34:1]"
   ]
  },
  {
   "cell_type": "code",
   "execution_count": null,
   "metadata": {},
   "outputs": [],
   "source": [
    "xSlice = np.array(np.concatenate((x[0:31:2],x[32:len(uFDM4)-31:1],x[len(uFDM4)-32:len(uFDM4):2])))"
   ]
  },
  {
   "cell_type": "code",
   "execution_count": null,
   "metadata": {},
   "outputs": [],
   "source": [
    "len(xSlice)"
   ]
  },
  {
   "cell_type": "code",
   "execution_count": null,
   "metadata": {},
   "outputs": [],
   "source": [
    "xSlice"
   ]
  },
  {
   "cell_type": "code",
   "execution_count": null,
   "metadata": {},
   "outputs": [],
   "source": [
    "len(x11)"
   ]
  },
  {
   "cell_type": "code",
   "execution_count": null,
   "metadata": {},
   "outputs": [],
   "source": [
    "for i in range(1,49*2-2):\n",
    "    fFDM[i] = 8/9\n",
    "fFDM"
   ]
  },
  {
   "cell_type": "code",
   "execution_count": null,
   "metadata": {},
   "outputs": [],
   "source": [
    "uFDM4Slice = np.array(np.concatenate((uFDM4[0:33:2],uFDM4[33:len(uFDM4)-33:1],uFDM4[len(uFDM4)-33:len(uFDM4):2])))\n"
   ]
  },
  {
   "cell_type": "code",
   "execution_count": null,
   "metadata": {},
   "outputs": [],
   "source": [
    "MFDM2=FDM(25*2-1,0.125/2)\n",
    "len(MFDM2)"
   ]
  },
  {
   "cell_type": "code",
   "execution_count": null,
   "metadata": {},
   "outputs": [],
   "source": [
    "fFDM2=np.zeros([25*2-1])\n",
    "len(fFDM2)"
   ]
  },
  {
   "cell_type": "code",
   "execution_count": null,
   "metadata": {},
   "outputs": [],
   "source": [
    "for i in range(1,25*2-2):\n",
    "    fFDM2[i] = 8/9\n",
    "fFDM2"
   ]
  },
  {
   "cell_type": "code",
   "execution_count": null,
   "metadata": {},
   "outputs": [],
   "source": [
    "uFDM5 = np.linalg.solve(MFDM2,fFDM2)\n",
    "uFDM5"
   ]
  },
  {
   "cell_type": "code",
   "execution_count": null,
   "metadata": {},
   "outputs": [],
   "source": [
    "xSlice2 = np.array(np.concatenate((x[0:17:2],x[17:len(x)-17:1],x[len(x)-17:len(x):2])))\n",
    "xSlice2"
   ]
  },
  {
   "cell_type": "code",
   "execution_count": null,
   "metadata": {},
   "outputs": [],
   "source": [
    "uFDM5Slice = np.array(np.concatenate((uFDM5[0:17:2],uFDM5[17:len(uFDM5)-17:1],uFDM5[len(uFDM5)-17:len(uFDM5):2])))  \n",
    "len(uFDM5Slice)\n"
   ]
  },
  {
   "cell_type": "code",
   "execution_count": null,
   "metadata": {},
   "outputs": [],
   "source": [
    "uSlice2-uFDM5Slice"
   ]
  },
  {
   "cell_type": "code",
   "execution_count": null,
   "metadata": {},
   "outputs": [],
   "source": [
    "MFDM3=FDM(13*2-1,0.25/2)\n",
    "len(MFDM3)"
   ]
  },
  {
   "cell_type": "code",
   "execution_count": null,
   "metadata": {},
   "outputs": [],
   "source": [
    "fFDM3=np.zeros([13*2-1])\n",
    "len(fFDM3)"
   ]
  },
  {
   "cell_type": "code",
   "execution_count": null,
   "metadata": {},
   "outputs": [],
   "source": [
    "for i in range(1,13*2-2):\n",
    "    fFDM3[i] = 8/9\n",
    "fFDM3"
   ]
  },
  {
   "cell_type": "code",
   "execution_count": null,
   "metadata": {},
   "outputs": [],
   "source": [
    "uFDM6 = np.linalg.solve(MFDM3,fFDM3)\n",
    "uFDM6"
   ]
  },
  {
   "cell_type": "code",
   "execution_count": null,
   "metadata": {},
   "outputs": [],
   "source": [
    "xSlice3 = np.array(np.concatenate((x[0:10:2],x[9:len(x)-9:1],x[len(x)-9:len(x):2])))\n",
    "xSlice3"
   ]
  },
  {
   "cell_type": "code",
   "execution_count": null,
   "metadata": {},
   "outputs": [],
   "source": [
    "uFDM6Slice = np.array(np.concatenate((uFDM6[0:10:2],uFDM6[9:len(uFDM6)-9:1],uFDM6[len(uFDM6)-9:len(uFDM6):2])))  \n",
    "len(uFDM6Slice)"
   ]
  },
  {
   "cell_type": "code",
   "execution_count": null,
   "metadata": {},
   "outputs": [],
   "source": [
    "uSlice-uFDM6Slice"
   ]
  },
  {
   "cell_type": "code",
   "execution_count": null,
   "metadata": {
    "scrolled": true
   },
   "outputs": [],
   "source": [
    "plt.plot(x20,uSlice-uFDM6Slice,label=\"error when h=0.25\")\n",
    "plt.plot(x7,uSlice2-uFDM5Slice,label=\"error when h=0.125\")\n",
    "plt.plot(x11,uSlice3-uFDM4Slice,label=\"error when h=0.0625\")\n",
    "plt.legend()\n",
    "plt.grid()\n",
    "plt.title(\"Quadratic Error\")\n",
    "plt.ylabel(\"error\")\n",
    "plt.xlabel(\"position\")"
   ]
  }
 ],
 "metadata": {
  "kernelspec": {
   "display_name": "Python 3",
   "language": "python",
   "name": "python3"
  },
  "language_info": {
   "codemirror_mode": {
    "name": "ipython",
    "version": 3
   },
   "file_extension": ".py",
   "mimetype": "text/x-python",
   "name": "python",
   "nbconvert_exporter": "python",
   "pygments_lexer": "ipython3",
   "version": "3.8.10"
  }
 },
 "nbformat": 4,
 "nbformat_minor": 4
}
