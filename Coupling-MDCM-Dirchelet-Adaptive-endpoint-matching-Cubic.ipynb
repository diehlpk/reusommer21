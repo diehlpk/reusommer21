{
 "cells": [
  {
   "cell_type": "markdown",
   "id": "be27c3a6",
   "metadata": {},
   "source": [
    "This file is part of https://github.com/diehlpk/reusommer21.\n",
    "\n",
    "Copyright (c) 2021 Patrick Diehl\n",
    "\n",
    "This program is free software: you can redistribute it and/or modify  \n",
    "it under the terms of the GNU General Public License as published by  \n",
    "the Free Software Foundation, version 3.\n",
    "\n",
    "This program is distributed in the hope that it will be useful, but \n",
    "WITHOUT ANY WARRANTY; without even the implied warranty of \n",
    "MERCHANTABILITY or FITNESS FOR A PARTICULAR PURPOSE. See the GNU \n",
    "General Public License for more details.\n",
    "\n",
    "You should have received a copy of the GNU General Public License along with this program. \n",
    "If not, see <http://www.gnu.org/licenses/>."
   ]
  },
  {
   "cell_type": "code",
   "execution_count": 1,
   "id": "b5441b8f",
   "metadata": {},
   "outputs": [],
   "source": [
    "from sympy import Symbol, simplify, lambdify\n",
    "import numpy as np\n",
    "import matplotlib.pyplot as plt\n",
    "from functools import reduce\n",
    "import operator\n",
    "import numpy as np\n",
    "import matplotlib.pyplot as plt\n",
    "import sys"
   ]
  },
  {
   "cell_type": "code",
   "execution_count": 2,
   "id": "c18283b1",
   "metadata": {},
   "outputs": [],
   "source": [
    "def interpolate_lagrange(x, x_values, y_values):\n",
    "    \"\"\"\n",
    "    x : value at which to evaluate y, should be between min and max x_values\n",
    "    x_values: list or numpy array containing values of x\n",
    "    y_values: list or numpy array contaning values of y\n",
    "    \"\"\"\n",
    "    def _basis(j):\n",
    "        p = [(x - x_values[m])/(x_values[j] - x_values[m]) for m in range(k) if m != j]\n",
    "        return reduce(operator.mul, p)\n",
    "    assert len(x_values) != 0 and (len(x_values) == len(y_values)), 'x and y cannot be empty and must have the same length'\n",
    "    k = len(x_values)\n",
    "    basis = []\n",
    "    for j in range(k):\n",
    "        basis.append(_basis(j))\n",
    "    #return sum(_basis(j)*y_values[j] for j in range(k)) \n",
    "    return basis"
   ]
  },
  {
   "cell_type": "code",
   "execution_count": 3,
   "id": "3c932c81",
   "metadata": {},
   "outputs": [],
   "source": [
    "example = \"Quartic\"\n",
    "save_results = False"
   ]
  },
  {
   "cell_type": "code",
   "execution_count": 4,
   "id": "0102259b",
   "metadata": {},
   "outputs": [],
   "source": [
    "#############################################################################\n",
    "# Solve the system\n",
    "#############################################################################\n",
    "\n",
    "def solve(M,f):\n",
    "    return np.linalg.solve(M,f)"
   ]
  },
  {
   "cell_type": "code",
   "execution_count": 5,
   "id": "b7c775d1",
   "metadata": {},
   "outputs": [],
   "source": [
    "#############################################################################\n",
    "# Loading\n",
    "#############################################################################\n",
    "\n",
    "def f(x):\n",
    "    \n",
    "    if example == \"Cubic\":\n",
    "        return -( 2/np.sqrt(3)) * ( -6 + 4*x )\n",
    "    elif example == \"Quartic\":\n",
    "        return  -32/9 + 64/9 * x - 64/27 * x * x\n",
    "    elif example == \"Quadratic\":\n",
    "        return 8/9\n",
    "    else:\n",
    "        print(\"Error: Either provide Quadratic, Quartic, or Cubic\")\n",
    "        sys.exit()\n",
    "\n",
    "def forceFull(n,x):\n",
    "    \n",
    "    force = np.zeros(n)\n",
    "   \n",
    "    for i in range(1,n-1):\n",
    "        force[i] = f(x[i])\n",
    "    \n",
    "    force[n-1] = 0\n",
    "    \n",
    "    return force\n",
    "\n",
    "def forceCoupling(n,x):\n",
    "    \n",
    "    dim = n\n",
    "    \n",
    "    force = np.zeros(dim)\n",
    "   \n",
    "    for i in range(1,dim-1):\n",
    "        force[i] = f(x[i])\n",
    "    \n",
    "    force[dim-1] = 0\n",
    "    \n",
    "    return force"
   ]
  },
  {
   "cell_type": "code",
   "execution_count": 6,
   "id": "ebed63f7",
   "metadata": {},
   "outputs": [],
   "source": [
    "#############################################################################\n",
    "# Assemble the stiffness matrix for the finite difference model (FD)\n",
    "#############################################################################\n",
    "\n",
    "def FDM(n,h):\n",
    "\n",
    "    M = np.zeros([n,n])\n",
    "\n",
    "    M[0][0] = 1\n",
    "\n",
    "    for i in range(1,n-1):\n",
    "        M[i][i-1] = -2\n",
    "        M[i][i] = 4\n",
    "        M[i][i+1] = -2\n",
    "\n",
    "    M[n-1][n-1] = 1\n",
    "\n",
    "    M *= 1./(2.*h*h)\n",
    "\n",
    "    return M"
   ]
  },
  {
   "cell_type": "code",
   "execution_count": 7,
   "id": "97eb7677",
   "metadata": {},
   "outputs": [],
   "source": [
    "#############################################################################\n",
    "# Assemble the stiffness matrix for the coupling of FDM - VHM - FDM\n",
    "#############################################################################\n",
    "\n",
    "def CouplingMDCM(n,h,nFD,hFD,x1,x2,x3):\n",
    "\n",
    "    fVHM = 1./(8.*h*h)\n",
    "    fFDM = 1./(2.*hFD*hFD)\n",
    "    \n",
    "    dim = 2*nFD + n + 4\n",
    "    \n",
    "    M = np.zeros([dim,dim])\n",
    "        \n",
    "    M[0][0] = 1 \n",
    "\n",
    "    for i in range(1,nFD-1):\n",
    "        M[i][i-1] = -2 * fFDM\n",
    "        M[i][i] = 4 * fFDM\n",
    "        M[i][i+1] = -2 * fFDM \n",
    "    \n",
    "    # Same end node and start node\n",
    "    M[nFD-1][nFD-1] = -1 \n",
    "    M[nFD-1][nFD+2] = 1  \n",
    "    \n",
    "    # Interpolate the first PD node\n",
    "    weights = interpolate_lagrange(x2[0], [x1[nFD-4],x1[nFD-3],x1[nFD-2],x1[nFD-1]], [\"u1\",\"u2\",\"u3\",\"u4\"])\n",
    "    M[nFD][nFD] = -1\n",
    "    M[nFD][nFD-1] = weights[3] \n",
    "    M[nFD][nFD-2] = weights[2]\n",
    "    M[nFD][nFD-3] = weights[1]\n",
    "    M[nFD][nFD-4] = weights[0]\n",
    "    \n",
    "    # Interpolate the second PD node\n",
    "    weights = interpolate_lagrange(x2[1], [x1[nFD-4],x1[nFD-3],x1[nFD-2],x1[nFD-1]], [\"u1\",\"u2\",\"u3\",\"u4\"])\n",
    "    M[nFD+1][nFD+1] = -1\n",
    "    M[nFD+1][nFD-1] = weights[3] \n",
    "    M[nFD+1][nFD-2] = weights[2]\n",
    "    M[nFD+1][nFD-3] = weights[1]\n",
    "    M[nFD+1][nFD-4] = weights[0]\n",
    "         \n",
    "    mid = nFD+n+1\n",
    "    \n",
    "    for i in range(nFD+2,mid+1):\n",
    "        M[i][i-2] = -1. * fVHM\n",
    "        M[i][i-1] = -4. * fVHM\n",
    "        M[i][i] = 10. * fVHM\n",
    "        M[i][i+1] =  -4. * fVHM\n",
    "        M[i][i+2] = -1. * fVHM\n",
    "    \n",
    "    # Interpolate the first PD node\n",
    "    weights = interpolate_lagrange(x2[len(x2)-2], [x3[0],x3[1],x3[2],x3[3]], [\"u1\",\"u2\",\"u3\",\"u4\"])\n",
    "    M[mid+1][mid+1] = -1 \n",
    "    M[mid+1][mid+3] = weights[0]\n",
    "    M[mid+1][mid+4] = weights[1]\n",
    "    M[mid+1][mid+5] = weights[2]\n",
    "    M[mid+1][mid+6] = weights[3]\n",
    "\n",
    "    # Interpolate the second PD node\n",
    "    weights = interpolate_lagrange(x2[len(x2)-1], [x3[0],x3[1],x3[2],x3[3]], [\"u1\",\"u2\",\"u3\",\"u4\"])\n",
    "    M[mid+2][mid+2] = -1\n",
    "    M[mid+2][mid+3] = weights[0]\n",
    "    M[mid+2][mid+4] = weights[1]\n",
    "    M[mid+2][mid+5] = weights[2]\n",
    "    M[mid+2][mid+6] = weights[3]\n",
    "    \n",
    "    # Same end node and start node\n",
    "    M[mid+3][mid+3] = -1\n",
    "    M[mid+3][mid] = 1\n",
    "    \n",
    "    for i in range(mid+4,dim-1):\n",
    "        M[i][i-1] = -2 * fFDM\n",
    "        M[i][i] = 4 * fFDM\n",
    "        M[i][i+1] = -2 * fFDM\n",
    "\n",
    "    M[dim-1][dim-1] = 1\n",
    "        \n",
    "    return M"
   ]
  },
  {
   "cell_type": "code",
   "execution_count": 8,
   "id": "323c7f42",
   "metadata": {},
   "outputs": [],
   "source": [
    "def compute(amount):\n",
    "\n",
    "\n",
    "    hFD = 1./ amount\n",
    "    h = hFD / 5\n",
    "    nFD = int(1 / hFD)+1\n",
    "    n = int(1 / h)+1\n",
    "    \n",
    "    x1 = np.linspace(0,1,nFD)  \n",
    "    x2 = np.linspace(1-2*h,2*1+2*h,n+4)\n",
    "    x3 = np.linspace(2*1,3*1,nFD)\n",
    "    xFull = np.linspace(0,3*1,3*nFD-2)\n",
    "    xAll = np.concatenate([x1,x2,x3])\n",
    "    \n",
    "    forceFD = forceFull(len(xFull),xFull)\n",
    "    MFD = FDM(len(xFull),hFD)\n",
    "    \n",
    "    uFDM = solve(MFD,forceFD) \n",
    "\n",
    "    forceCoupled = forceCoupling(len(xAll),xAll)\n",
    "\n",
    "    forceCoupled[nFD-1] = 0\n",
    "    forceCoupled[nFD] = 0\n",
    "    forceCoupled[nFD+1] = 0\n",
    "\n",
    "    forceCoupled[nFD+n+2] = 0\n",
    "    forceCoupled[nFD+n+3] = 0\n",
    "    forceCoupled[nFD+n+4] = 0\n",
    "\n",
    "    MCoupling = CouplingMDCM(n,h,nFD,hFD,x1,x2,x3)\n",
    "    #np.savetxt(\"m.csv\", MCoupling, delimiter=\",\")\n",
    "    uCoupled = solve(MCoupling,forceCoupled) \n",
    "    \n",
    "    return xAll, xFull, uCoupled, uFDM , nFD, n\n",
    "    \n",
    "    "
   ]
  },
  {
   "cell_type": "code",
   "execution_count": 9,
   "metadata": {},
   "outputs": [],
   "source": [
    "#mid = nFD+n+1\n",
    "#print(xAll[nFD+2])\n",
    "#print(xAll[nFD-1])\n",
    "#print(xAll[nFD-2])\n",
    "#print(xAll[nFD-3])\n",
    "\n",
    "xAll = []\n",
    "xFull = []\n",
    "uCoupled = []\n",
    "uFDM = []\n",
    "nFD = []\n",
    "n = []\n",
    "for i in range(5, 9):\n",
    "    \n",
    "    res = compute(i)\n",
    "    xAll.append(res[0])\n",
    "    xFull.append(res[1])\n",
    "    uCoupled.append(res[2])\n",
    "    uFDM.append(res[3])\n",
    "    nFD.append(res[4])\n",
    "    n.append(res[5])"
   ]
  },
  {
   "cell_type": "code",
   "execution_count": 10,
   "metadata": {},
   "outputs": [
    {
     "data": {
      "text/plain": [
       "<matplotlib.lines.Line2D at 0x7f81bf8194e0>"
      ]
     },
     "execution_count": 10,
     "metadata": {},
     "output_type": "execute_result"
    },
    {
     "data": {
      "image/png": "[encoded data removed]",
      "text/plain": [
       "<Figure size 432x288 with 1 Axes>"
      ]
     },
     "metadata": {
      "needs_background": "light"
     },
     "output_type": "display_data"
    }
   ],
   "source": [
    "xSlice = []\n",
    "uSlice = []\n",
    "\n",
    "for i in range(0, len(xAll)):\n",
    "    xSlice.append(np.concatenate([xAll[i][0:nFD[i]-1],xAll[i][nFD[i]:nFD[i]+n[i]+4],xAll[i][nFD[i]+n[i]+5:]]))\n",
    "    uSlice.append(np.concatenate([uCoupled[i][0:nFD[i]-1],uCoupled[i][nFD[i]:nFD[i]+n[i]+4],uCoupled[i][nFD[i]+n[i]+5:]]))\n",
    "    plt.plot(xSlice[i],uSlice[i],label=\"m=\"+str(i+5))\n",
    "    \n",
    "plt.plot(xFull[0],uFDM[0],label=\"FDM\")\n",
    "plt.grid()\n",
    "plt.legend()\n",
    "plt.axvline(x=1,c=\"#536872\")\n",
    "plt.axvline(x=2,c=\"#536872\")"
   ]
  },
  {
   "cell_type": "code",
   "execution_count": 17,
   "metadata": {},
   "outputs": [
    {
     "data": {
      "image/png": "[encoded data removed]",
      "text/plain": [
       "<Figure size 432x288 with 1 Axes>"
      ]
     },
     "metadata": {
      "needs_background": "light"
     },
     "output_type": "display_data"
    }
   ],
   "source": [
    "plt.clf()\n",
    "markers = ['s','o','x','.']\n",
    "level = [3,6,7,8]\n",
    "\n",
    "for i in range(0, len(xAll)):\n",
    "    xClean = np.concatenate([xSlice[i][0:nFD[i]-1],xSlice[i][nFD[i]+1:nFD[i]+n[i]+1:5],xSlice[i][nFD[i]+n[i]+3:]])\n",
    "    uClean = np.concatenate([uSlice[i][0:nFD[i]-1],uSlice[i][nFD[i]+1:nFD[i]+n[i]+1:5],uSlice[i][nFD[i]+n[i]+3:]])\n",
    "    plt.plot(xClean,uClean-uFDM[i],color=\"black\",marker=markers[i],markevery=level[i],label=\"m=\"+str(i+5))\n",
    "    \n",
    "plt.xlabel(r\"$x$\")\n",
    "plt.ylabel(r\"Error in displacement w.r.t FDM\")\n",
    "plt.title(r\"Example with \" + str(example).lower() + \" solution for MDCM with m = 2\")\n",
    "plt.grid()\n",
    "plt.axvline(x=1,c=\"#536872\")\n",
    "plt.axvline(x=2,c=\"#536872\")\n",
    "plt.legend()\n",
    "plt.savefig(\"MDCM-Dirchelet-adaptive-endpoint-matching-cubic-\"+str(example).lower()+\".pdf\")"
   ]
  }
 ],
 "metadata": {
  "kernelspec": {
   "display_name": "Python 3",
   "language": "python",
   "name": "python3"
  },
  "language_info": {
   "codemirror_mode": {
    "name": "ipython",
    "version": 3
   },
   "file_extension": ".py",
   "mimetype": "text/x-python",
   "name": "python",
   "nbconvert_exporter": "python",
   "pygments_lexer": "ipython3",
   "version": "3.10.3"
  }
 },
 "nbformat": 4,
 "nbformat_minor": 5
}
