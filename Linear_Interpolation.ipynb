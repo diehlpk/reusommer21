{
 "cells": [
  {
   "cell_type": "code",
   "execution_count": 1,
   "metadata": {},
   "outputs": [],
   "source": [
    "import numpy as np \n",
    "import matplotlib.pyplot as plt "
   ]
  },
  {
   "cell_type": "code",
   "execution_count": 2,
   "metadata": {},
   "outputs": [],
   "source": [
    "h = 0.25"
   ]
  },
  {
   "cell_type": "code",
   "execution_count": 3,
   "metadata": {},
   "outputs": [],
   "source": [
    "fFD =  1./(2.*h*h) \n",
    "fPD =  1./(8.*h/2*h/2) "
   ]
  },
  {
   "cell_type": "code",
   "execution_count": 4,
   "metadata": {},
   "outputs": [],
   "source": [
<<<<<<< HEAD
    "M = np.zeros([23,23])"
=======
    "M = np.zeros([17,17])"
>>>>>>> b7ac42a8db2b12d854da32b5289da5aa521be0ca
   ]
  },
  {
   "cell_type": "code",
   "execution_count": 5,
   "metadata": {},
   "outputs": [],
   "source": [
    "M [0][0] = 1"
   ]
  },
  {
   "cell_type": "code",
   "execution_count": 6,
   "metadata": {},
   "outputs": [],
   "source": [
    "for i in range (1,4):\n",
    "    M [i][i-1] = -2 * fFD\n",
    "    M [i][i] = 4 * fFD\n",
    "    M [i][i+1] = -2 * fFD"
   ]
  },
  {
   "cell_type": "markdown",
   "metadata": {},
   "source": [
    "Match the displacement $u_3$ and $u_5$"
   ]
  },
  {
   "cell_type": "code",
   "execution_count": 7,
   "metadata": {},
   "outputs": [],
   "source": [
    "M [5][5] = -1\n",
    "M [5][3] = 1"
   ]
  },
  {
   "cell_type": "markdown",
   "metadata": {},
   "source": [
    "Match the displacement $u_4$ and $u_7$"
   ]
  },
  {
   "cell_type": "code",
   "execution_count": 8,
   "metadata": {},
   "outputs": [],
   "source": [
    "M [4][4] = -1\n",
    "M [4][7] = 1"
   ]
  },
  {
   "cell_type": "markdown",
   "metadata": {},
   "source": [
    "Interpolate the displacement $u_6$ and $u_6'$\n",
    "\n",
    "* $u_6'-u_6=0$\n",
    "* $\\frac{1}{2}\\left(u_3 + u_4\\right)-u_5=0$"
   ]
  },
  {
   "cell_type": "code",
   "execution_count": 9,
   "metadata": {},
   "outputs": [],
   "source": [
    "M [6][6] = -1\n",
    "M [6][3] = 1/2\n",
    "M [6][4] = 1/2"
   ]
  },
  {
   "cell_type": "markdown",
   "metadata": {},
   "source": [
    "Apply the non-local model"
   ]
  },
  {
   "cell_type": "code",
   "execution_count": 10,
   "metadata": {},
   "outputs": [],
   "source": [
    "for i in range(7,16):\n",
    "    M[i][i-2] = -1.  * fPD\n",
    "    M[i][i-1] = -4. * fPD\n",
    "    M[i][i] = 10. * fPD\n",
    "    M[i][i+1] =  -4. * fPD\n",
    "    M[i][i+2] = -1. * fPD"
   ]
  },
  {
   "cell_type": "markdown",
   "metadata": {},
   "source": [
    "Interpolate the displacement $u_{16}$ and $u_{16}'$"
   ]
  },
  {
   "cell_type": "code",
   "execution_count": 11,
   "metadata": {},
   "outputs": [],
   "source": [
    "M [16][16] = -1\n",
    "M [16][18] = 1/2\n",
    "M [16][19] = 1/2"
   ]
  },
  {
   "cell_type": "markdown",
   "metadata": {},
   "source": [
    "Match the displacement $u_{17}$ and $u_{19}$"
   ]
  },
  {
   "cell_type": "code",
   "execution_count": 12,
   "metadata": {},
   "outputs": [],
   "source": [
    "M [17][17] = -1\n",
    "M [17][19] = 1"
   ]
  },
  {
   "cell_type": "markdown",
   "metadata": {},
   "source": [
    "Match the displacement $u_{15}$ and $u_{18}$"
   ]
  },
  {
   "cell_type": "code",
   "execution_count": 13,
   "metadata": {},
   "outputs": [],
   "source": [
    "M [18][18] = -1\n",
    "M [18][15] = 1"
   ]
  },
  {
   "cell_type": "code",
   "execution_count": 14,
   "metadata": {},
   "outputs": [],
   "source": [
    "for i in range (19,22):\n",
    "    M [i][i-1] = -2  * fFD\n",
    "    M [i][i] = 4 * fFD\n",
    "    M [i][i+1] = -2 * fFD"
   ]
  },
  {
   "cell_type": "code",
   "execution_count": 15,
   "metadata": {},
   "outputs": [],
   "source": [
    "M [22][22] = 1"
   ]
  },
  {
   "cell_type": "code",
   "execution_count": 16,
   "metadata": {},
   "outputs": [
    {
     "data": {
      "text/plain": [
       "array([[  1. ,   0. ,   0. ,   0. ,   0. ,   0. ,   0. ,   0. ,   0. ,\n",
       "          0. ,   0. ,   0. ,   0. ,   0. ,   0. ,   0. ,   0. ,   0. ,\n",
       "          0. ,   0. ,   0. ,   0. ,   0. ],\n",
       "       [-16. ,  32. , -16. ,   0. ,   0. ,   0. ,   0. ,   0. ,   0. ,\n",
       "          0. ,   0. ,   0. ,   0. ,   0. ,   0. ,   0. ,   0. ,   0. ,\n",
       "          0. ,   0. ,   0. ,   0. ,   0. ],\n",
       "       [  0. , -16. ,  32. , -16. ,   0. ,   0. ,   0. ,   0. ,   0. ,\n",
       "          0. ,   0. ,   0. ,   0. ,   0. ,   0. ,   0. ,   0. ,   0. ,\n",
       "          0. ,   0. ,   0. ,   0. ,   0. ],\n",
       "       [  0. ,   0. , -16. ,  32. , -16. ,   0. ,   0. ,   0. ,   0. ,\n",
       "          0. ,   0. ,   0. ,   0. ,   0. ,   0. ,   0. ,   0. ,   0. ,\n",
       "          0. ,   0. ,   0. ,   0. ,   0. ],\n",
       "       [  0. ,   0. ,   0. ,   0. ,  -1. ,   0. ,   0. ,   1. ,   0. ,\n",
       "          0. ,   0. ,   0. ,   0. ,   0. ,   0. ,   0. ,   0. ,   0. ,\n",
       "          0. ,   0. ,   0. ,   0. ,   0. ],\n",
       "       [  0. ,   0. ,   0. ,   1. ,   0. ,  -1. ,   0. ,   0. ,   0. ,\n",
       "          0. ,   0. ,   0. ,   0. ,   0. ,   0. ,   0. ,   0. ,   0. ,\n",
       "          0. ,   0. ,   0. ,   0. ,   0. ],\n",
       "       [  0. ,   0. ,   0. ,   0.5,   0.5,   0. ,  -1. ,   0. ,   0. ,\n",
       "          0. ,   0. ,   0. ,   0. ,   0. ,   0. ,   0. ,   0. ,   0. ,\n",
       "          0. ,   0. ,   0. ,   0. ,   0. ],\n",
       "       [  0. ,   0. ,   0. ,   0. ,   0. ,  -8. , -32. ,  80. , -32. ,\n",
       "         -8. ,   0. ,   0. ,   0. ,   0. ,   0. ,   0. ,   0. ,   0. ,\n",
       "          0. ,   0. ,   0. ,   0. ,   0. ],\n",
       "       [  0. ,   0. ,   0. ,   0. ,   0. ,   0. ,  -8. , -32. ,  80. ,\n",
       "        -32. ,  -8. ,   0. ,   0. ,   0. ,   0. ,   0. ,   0. ,   0. ,\n",
       "          0. ,   0. ,   0. ,   0. ,   0. ],\n",
       "       [  0. ,   0. ,   0. ,   0. ,   0. ,   0. ,   0. ,  -8. , -32. ,\n",
       "         80. , -32. ,  -8. ,   0. ,   0. ,   0. ,   0. ,   0. ,   0. ,\n",
       "          0. ,   0. ,   0. ,   0. ,   0. ],\n",
       "       [  0. ,   0. ,   0. ,   0. ,   0. ,   0. ,   0. ,   0. ,  -8. ,\n",
       "        -32. ,  80. , -32. ,  -8. ,   0. ,   0. ,   0. ,   0. ,   0. ,\n",
       "          0. ,   0. ,   0. ,   0. ,   0. ],\n",
       "       [  0. ,   0. ,   0. ,   0. ,   0. ,   0. ,   0. ,   0. ,   0. ,\n",
       "         -8. , -32. ,  80. , -32. ,  -8. ,   0. ,   0. ,   0. ,   0. ,\n",
       "          0. ,   0. ,   0. ,   0. ,   0. ],\n",
       "       [  0. ,   0. ,   0. ,   0. ,   0. ,   0. ,   0. ,   0. ,   0. ,\n",
       "          0. ,  -8. , -32. ,  80. , -32. ,  -8. ,   0. ,   0. ,   0. ,\n",
       "          0. ,   0. ,   0. ,   0. ,   0. ],\n",
       "       [  0. ,   0. ,   0. ,   0. ,   0. ,   0. ,   0. ,   0. ,   0. ,\n",
       "          0. ,   0. ,  -8. , -32. ,  80. , -32. ,  -8. ,   0. ,   0. ,\n",
       "          0. ,   0. ,   0. ,   0. ,   0. ],\n",
       "       [  0. ,   0. ,   0. ,   0. ,   0. ,   0. ,   0. ,   0. ,   0. ,\n",
       "          0. ,   0. ,   0. ,  -8. , -32. ,  80. , -32. ,  -8. ,   0. ,\n",
       "          0. ,   0. ,   0. ,   0. ,   0. ],\n",
       "       [  0. ,   0. ,   0. ,   0. ,   0. ,   0. ,   0. ,   0. ,   0. ,\n",
       "          0. ,   0. ,   0. ,   0. ,  -8. , -32. ,  80. , -32. ,  -8. ,\n",
       "          0. ,   0. ,   0. ,   0. ,   0. ],\n",
       "       [  0. ,   0. ,   0. ,   0. ,   0. ,   0. ,   0. ,   0. ,   0. ,\n",
       "          0. ,   0. ,   0. ,   0. ,   0. ,   0. ,   0. ,  -1. ,   0. ,\n",
       "          0.5,   0.5,   0. ,   0. ,   0. ],\n",
       "       [  0. ,   0. ,   0. ,   0. ,   0. ,   0. ,   0. ,   0. ,   0. ,\n",
       "          0. ,   0. ,   0. ,   0. ,   0. ,   0. ,   0. ,   0. ,  -1. ,\n",
       "          0. ,   1. ,   0. ,   0. ,   0. ],\n",
       "       [  0. ,   0. ,   0. ,   0. ,   0. ,   0. ,   0. ,   0. ,   0. ,\n",
       "          0. ,   0. ,   0. ,   0. ,   0. ,   0. ,   1. ,   0. ,   0. ,\n",
       "         -1. ,   0. ,   0. ,   0. ,   0. ],\n",
       "       [  0. ,   0. ,   0. ,   0. ,   0. ,   0. ,   0. ,   0. ,   0. ,\n",
       "          0. ,   0. ,   0. ,   0. ,   0. ,   0. ,   0. ,   0. ,   0. ,\n",
       "        -16. ,  32. , -16. ,   0. ,   0. ],\n",
       "       [  0. ,   0. ,   0. ,   0. ,   0. ,   0. ,   0. ,   0. ,   0. ,\n",
       "          0. ,   0. ,   0. ,   0. ,   0. ,   0. ,   0. ,   0. ,   0. ,\n",
       "          0. , -16. ,  32. , -16. ,   0. ],\n",
       "       [  0. ,   0. ,   0. ,   0. ,   0. ,   0. ,   0. ,   0. ,   0. ,\n",
       "          0. ,   0. ,   0. ,   0. ,   0. ,   0. ,   0. ,   0. ,   0. ,\n",
       "          0. ,   0. , -16. ,  32. , -16. ],\n",
       "       [  0. ,   0. ,   0. ,   0. ,   0. ,   0. ,   0. ,   0. ,   0. ,\n",
       "          0. ,   0. ,   0. ,   0. ,   0. ,   0. ,   0. ,   0. ,   0. ,\n",
       "          0. ,   0. ,   0. ,   0. ,   1. ]])"
      ]
     },
     "execution_count": 16,
     "metadata": {},
     "output_type": "execute_result"
    }
   ],
   "source": [
    "M"
   ]
  },
  {
   "cell_type": "markdown",
   "metadata": {},
   "source": [
    "Contruct the force vector"
   ]
  },
  {
   "cell_type": "code",
   "execution_count": 17,
   "metadata": {},
   "outputs": [],
   "source": [
    "f = np.zeros([23])"
   ]
  },
  {
   "cell_type": "code",
   "execution_count": 18,
   "metadata": {},
   "outputs": [],
   "source": [
    "for i in range(1,22):\n",
    "    f[i] =  8/9"
   ]
  },
  {
   "cell_type": "code",
   "execution_count": 19,
   "metadata": {},
   "outputs": [],
   "source": [
    "f [4] = 0 # the displacememnt is matching therefore the force is zero\n",
    "f [5] = 0 \n",
    "f [6] = 0 \n",
    "f [18] = 0 \n",
    "f [16] = 0\n",
    "f [17] = 0"
   ]
  },
  {
   "cell_type": "code",
   "execution_count": 20,
   "metadata": {},
   "outputs": [
    {
     "data": {
      "text/plain": [
       "array([0.        , 0.88888889, 0.88888889, 0.88888889, 0.        ,\n",
       "       0.        , 0.        , 0.88888889, 0.88888889, 0.88888889,\n",
       "       0.88888889, 0.88888889, 0.88888889, 0.88888889, 0.88888889,\n",
       "       0.88888889, 0.        , 0.        , 0.        , 0.88888889,\n",
       "       0.88888889, 0.88888889, 0.        ])"
      ]
     },
     "execution_count": 20,
     "metadata": {},
     "output_type": "execute_result"
    }
   ],
   "source": [
    "f"
   ]
  },
  {
   "cell_type": "code",
   "execution_count": 21,
   "metadata": {},
   "outputs": [
    {
     "data": {
      "text/plain": [
       "array([1.11022302e-16, 2.95734628e-01, 5.35913701e-01, 7.20537219e-01,\n",
       "       8.49605181e-01, 7.20537219e-01, 7.85071200e-01, 8.49605181e-01,\n",
       "       8.97867314e-01, 9.32649420e-01, 9.53472429e-01, 9.60418938e-01,\n",
       "       9.53472429e-01, 9.32649420e-01, 8.97867314e-01, 8.49605181e-01,\n",
       "       7.85071200e-01, 7.20537219e-01, 8.49605181e-01, 7.20537219e-01,\n",
       "       5.35913701e-01, 2.95734628e-01, 0.00000000e+00])"
      ]
     },
     "execution_count": 21,
     "metadata": {},
     "output_type": "execute_result"
    }
   ],
   "source": [
    "u = np.linalg.solve(M,f)\n",
    "u"
   ]
  },
  {
   "cell_type": "code",
   "execution_count": 22,
   "metadata": {},
   "outputs": [
    {
     "data": {
      "text/plain": [
       "array([0.   , 0.25 , 0.5  , 0.75 , 1.   , 1.125, 1.25 , 1.375, 1.5  ,\n",
       "       1.625, 1.75 , 1.875, 2.   , 2.25 , 2.5  , 2.75 , 3.   ])"
      ]
     },
     "execution_count": 22,
     "metadata": {},
     "output_type": "execute_result"
    }
   ],
   "source": [
    "x1 = np.arange(0,1,0.25)\n",
    "x2 = np.arange(1,2,0.125)\n",
    "x3 = np.arange(2,3.25,0.25)\n",
    "x = np.array(np.concatenate((x1,x2,x3)))\n",
    "x"
   ]
  },
  {
   "cell_type": "code",
   "execution_count": 23,
   "metadata": {},
   "outputs": [
    {
     "data": {
      "text/plain": [
       "array([1.11022302e-16, 2.95734628e-01, 5.35913701e-01, 7.20537219e-01,\n",
       "       8.49605181e-01, 8.97867314e-01, 9.32649420e-01, 9.53472429e-01,\n",
       "       9.60418938e-01, 9.53472429e-01, 9.32649420e-01, 8.97867314e-01,\n",
       "       8.49605181e-01, 7.20537219e-01, 5.35913701e-01, 2.95734628e-01,\n",
       "       0.00000000e+00])"
      ]
     },
     "execution_count": 23,
     "metadata": {},
     "output_type": "execute_result"
    }
   ],
   "source": [
    "uSlice = np.array(np.concatenate((u[0:5],u[8:15],u[18:len(u)])))\n",
    "uSlice"
   ]
  },
  {
   "cell_type": "code",
   "execution_count": 24,
   "metadata": {},
   "outputs": [
    {
     "data": {
      "text/plain": [
       "23"
      ]
     },
     "execution_count": 24,
     "metadata": {},
     "output_type": "execute_result"
    }
   ],
   "source": [
    "len(u)"
   ]
  },
  {
   "cell_type": "code",
   "execution_count": 25,
   "metadata": {},
   "outputs": [
    {
     "data": {
      "text/plain": [
       "17"
      ]
     },
     "execution_count": 25,
     "metadata": {},
     "output_type": "execute_result"
    }
   ],
   "source": [
    "len(uSlice)"
   ]
  },
  {
   "cell_type": "code",
   "execution_count": 26,
   "metadata": {},
   "outputs": [
    {
     "data": {
      "text/plain": [
       "17"
      ]
     },
     "execution_count": 26,
     "metadata": {},
     "output_type": "execute_result"
    }
   ],
   "source": [
    "len(x)"
   ]
  },
  {
   "cell_type": "code",
   "execution_count": 27,
   "metadata": {},
   "outputs": [
    {
     "data": {
      "image/png": "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\n",
      "text/plain": [
       "<Figure size 432x288 with 1 Axes>"
      ]
     },
     "metadata": {
      "needs_background": "light"
     },
     "output_type": "display_data"
    }
   ],
   "source": [
    "plt.plot(x,uSlice)\n",
    "plt.grid()"
   ]
  },
  {
   "cell_type": "code",
   "execution_count": 28,
   "metadata": {},
   "outputs": [],
   "source": [
    "h2= 0.125"
   ]
  },
  {
   "cell_type": "code",
   "execution_count": 29,
   "metadata": {},
   "outputs": [],
   "source": [
    "fFD2 =  1./(2.*h2*h2) \n",
    "fPD2 =  1./(8.*h2/2*h2/2) "
   ]
  },
  {
   "cell_type": "code",
   "execution_count": 30,
   "metadata": {},
   "outputs": [],
   "source": [
    "M2 = np.zeros([39,39])"
   ]
  },
  {
   "cell_type": "code",
   "execution_count": 31,
   "metadata": {},
   "outputs": [],
   "source": [
    "M2 [0][0] = 1"
   ]
  },
  {
   "cell_type": "code",
   "execution_count": 32,
   "metadata": {},
   "outputs": [],
   "source": [
    "for i in range (1, 8):\n",
    "    M2[i][i-1]=-2 * fFD2\n",
    "    M2[i][i]= 4 * fFD2\n",
    "    M2[i][i+1]= -2 * fFD2"
   ]
  },
  {
   "cell_type": "markdown",
   "metadata": {},
   "source": [
    "Match the dispacement between $u_7$ and $u_9$"
   ]
  },
  {
   "cell_type": "code",
   "execution_count": 33,
   "metadata": {},
   "outputs": [],
   "source": [
    "M2[9][9]= -1\n",
    "M2[9][7]=1"
   ]
  },
  {
   "cell_type": "markdown",
   "metadata": {},
   "source": [
    "Match the dispacement between $u_8$ and $u_{11}$"
   ]
  },
  {
   "cell_type": "code",
   "execution_count": 34,
   "metadata": {},
   "outputs": [],
   "source": [
    "M2[8][8]= -1\n",
    "M2[8][11]=1"
   ]
  },
  {
   "cell_type": "markdown",
   "metadata": {},
   "source": [
    "Interpolate the displacement $u_{10}$ and $u_{9}'$\n",
    "\n",
    "* $u_{10}'-u_{10}=0$\n",
    "* $\\frac{1}{2}\\left(u_7 + u_8\\right)-u_{10}=0$"
   ]
  },
  {
   "cell_type": "code",
   "execution_count": 35,
   "metadata": {},
   "outputs": [],
   "source": [
    "M2 [10][10] = -1\n",
    "M2 [10][7] = 1/2\n",
    "M2 [10][8] = 1/2"
   ]
  },
  {
   "cell_type": "markdown",
   "metadata": {},
   "source": [
    "Apply the non-local model"
   ]
  },
  {
   "cell_type": "code",
   "execution_count": 36,
   "metadata": {},
   "outputs": [],
   "source": [
    "for i in range(11,28):\n",
    "    M2[i][i-2] = -1.  * fPD2\n",
    "    M2[i][i-1] = -4. * fPD2\n",
    "    M2[i][i] = 10. * fPD2\n",
    "    M2[i][i+1] =  -4. * fPD2\n",
    "    M2[i][i+2] = -1. * fPD2"
   ]
  },
  {
   "cell_type": "markdown",
   "metadata": {},
   "source": [
    "Interpolate the displacement $u_{28}$ and $u_{28}'$\n",
    "\n",
    "* $u_{28}'-u_{28}=0$\n",
    "* $\\frac{1}{2}\\left(u_{30} + u_{31}\\right)-u_{28}=0$"
   ]
  },
  {
   "cell_type": "code",
   "execution_count": 37,
   "metadata": {},
   "outputs": [],
   "source": [
    "M2 [28][28] = -1\n",
    "M2 [28][30] = 1/2\n",
    "M2 [28][31] = 1/2"
   ]
  },
  {
   "cell_type": "markdown",
   "metadata": {},
   "source": [
    "Match the displacement $u_{29}$ and $u_{31}$"
   ]
  },
  {
   "cell_type": "code",
   "execution_count": 38,
   "metadata": {},
   "outputs": [],
   "source": [
    "M2 [29][29] = -1\n",
    "M2 [29][31] = 1"
   ]
  },
  {
   "cell_type": "markdown",
   "metadata": {},
   "source": [
    "Match the displacement $u_{27}$ and $u_{30}$"
   ]
  },
  {
   "cell_type": "code",
   "execution_count": 39,
   "metadata": {},
   "outputs": [],
   "source": [
    "M2 [30][30] = -1\n",
    "M2 [30][27] = 1"
   ]
  },
  {
   "cell_type": "code",
   "execution_count": 40,
   "metadata": {},
   "outputs": [],
   "source": [
    "for i in range (31, 38):\n",
    "    M2[i][i-1]=-2 * fFD2\n",
    "    M2[i][i]= 4 * fFD2\n",
    "    M2[i][i+1]= -2 * fFD2"
   ]
  },
  {
   "cell_type": "code",
   "execution_count": 41,
   "metadata": {},
   "outputs": [
    {
     "data": {
      "text/plain": [
       "array([[  1.,   0.,   0., ...,   0.,   0.,   0.],\n",
       "       [-64., 128., -64., ...,   0.,   0.,   0.],\n",
       "       [  0., -64., 128., ...,   0.,   0.,   0.],\n",
       "       ...,\n",
       "       [  0.,   0.,   0., ..., 128., -64.,   0.],\n",
       "       [  0.,   0.,   0., ..., -64., 128., -64.],\n",
       "       [  0.,   0.,   0., ...,   0.,   0.,   1.]])"
      ]
     },
     "execution_count": 41,
     "metadata": {},
     "output_type": "execute_result"
    }
   ],
   "source": [
    "M2 [38][38] = 1\n",
    "M2"
   ]
  },
  {
   "cell_type": "code",
   "execution_count": 42,
   "metadata": {},
   "outputs": [],
   "source": [
    "f2 = np.zeros([39])"
   ]
  },
  {
   "cell_type": "code",
   "execution_count": 43,
   "metadata": {},
   "outputs": [],
   "source": [
    "for i in range(1,38):\n",
    "    f2[i] =  8/9"
   ]
  },
  {
   "cell_type": "code",
   "execution_count": 44,
   "metadata": {},
   "outputs": [
    {
     "data": {
      "text/plain": [
       "array([0.        , 0.88888889, 0.88888889, 0.88888889, 0.88888889,\n",
       "       0.88888889, 0.88888889, 0.88888889, 0.        , 0.        ,\n",
       "       0.        , 0.88888889, 0.88888889, 0.88888889, 0.88888889,\n",
       "       0.88888889, 0.88888889, 0.88888889, 0.88888889, 0.88888889,\n",
       "       0.88888889, 0.88888889, 0.88888889, 0.88888889, 0.88888889,\n",
       "       0.88888889, 0.88888889, 0.88888889, 0.        , 0.        ,\n",
       "       0.        , 0.88888889, 0.88888889, 0.88888889, 0.88888889,\n",
       "       0.88888889, 0.88888889, 0.88888889, 0.        ])"
      ]
     },
     "execution_count": 44,
     "metadata": {},
     "output_type": "execute_result"
    }
   ],
   "source": [
    "f2 [8] = 0 # the displacememnt is matching therefore the force is zero\n",
    "f2 [9] = 0 \n",
    "f2 [10] = 0 \n",
    "f2 [30] = 0 \n",
    "f2 [28] = 0\n",
    "f2 [29] = 0\n",
    "f2"
   ]
  },
  {
   "cell_type": "code",
   "execution_count": 45,
   "metadata": {},
   "outputs": [
    {
     "data": {
      "text/plain": [
       "array([1.16573418e-15, 1.57266990e-01, 3.00645092e-01, 4.30134304e-01,\n",
       "       5.45734628e-01, 6.47446063e-01, 7.35268609e-01, 8.09202266e-01,\n",
       "       8.69247034e-01, 8.09202266e-01, 8.39224650e-01, 8.69247034e-01,\n",
       "       8.95201457e-01, 9.17785870e-01, 9.36880524e-01, 9.52505964e-01,\n",
       "       9.64658667e-01, 9.73339235e-01, 9.78547566e-01, 9.80283678e-01,\n",
       "       9.78547566e-01, 9.73339235e-01, 9.64658667e-01, 9.52505964e-01,\n",
       "       9.36880524e-01, 9.17785870e-01, 8.95201457e-01, 8.69247034e-01,\n",
       "       8.39224650e-01, 8.09202266e-01, 8.69247034e-01, 8.09202266e-01,\n",
       "       7.35268609e-01, 6.47446063e-01, 5.45734628e-01, 4.30134304e-01,\n",
       "       3.00645092e-01, 1.57266990e-01, 0.00000000e+00])"
      ]
     },
     "execution_count": 45,
     "metadata": {},
     "output_type": "execute_result"
    }
   ],
   "source": [
    "u2 = np.linalg.solve(M2,f2)\n",
    "u2"
   ]
  },
  {
   "cell_type": "code",
   "execution_count": 46,
   "metadata": {},
   "outputs": [
    {
     "data": {
      "text/plain": [
       "array([0.    , 0.125 , 0.25  , 0.375 , 0.5   , 0.625 , 0.75  , 0.875 ,\n",
       "       1.    , 1.0625, 1.125 , 1.1875, 1.25  , 1.3125, 1.375 , 1.4375,\n",
       "       1.5   , 1.5625, 1.625 , 1.6875, 1.75  , 1.8125, 1.875 , 1.9375,\n",
       "       2.    , 2.125 , 2.25  , 2.375 , 2.5   , 2.625 , 2.75  , 2.875 ,\n",
       "       3.    ])"
      ]
     },
     "execution_count": 46,
     "metadata": {},
     "output_type": "execute_result"
    }
   ],
   "source": [
    "x4 = np.arange(0,1,0.125)\n",
    "x5 = np.arange(1,2,0.0625)\n",
    "x6 = np.arange(2,3.125,0.125)\n",
    "x7 = np.array(np.concatenate((x4,x5,x6)))\n",
    "x7"
   ]
  },
  {
   "cell_type": "code",
   "execution_count": 47,
   "metadata": {},
   "outputs": [
    {
     "data": {
      "text/plain": [
       "array([1.16573418e-15, 1.57266990e-01, 3.00645092e-01, 4.30134304e-01,\n",
       "       5.45734628e-01, 6.47446063e-01, 7.35268609e-01, 8.09202266e-01,\n",
       "       8.69247034e-01, 8.95201457e-01, 9.17785870e-01, 9.36880524e-01,\n",
       "       9.52505964e-01, 9.64658667e-01, 9.73339235e-01, 9.78547566e-01,\n",
       "       9.80283678e-01, 9.78547566e-01, 9.73339235e-01, 9.64658667e-01,\n",
       "       9.52505964e-01, 9.36880524e-01, 9.17785870e-01, 8.95201457e-01,\n",
       "       8.69247034e-01, 8.09202266e-01, 7.35268609e-01, 6.47446063e-01,\n",
       "       5.45734628e-01, 4.30134304e-01, 3.00645092e-01, 1.57266990e-01,\n",
       "       0.00000000e+00])"
      ]
     },
     "execution_count": 47,
     "metadata": {},
     "output_type": "execute_result"
    }
   ],
   "source": [
    "uSlice2 = np.array(np.concatenate((u2[0:9],u2[12:27],u2[30:len(u2)])))\n",
    "uSlice2"
   ]
  },
  {
   "cell_type": "code",
   "execution_count": 48,
   "metadata": {},
   "outputs": [
    {
     "data": {
      "text/plain": [
       "39"
      ]
     },
     "execution_count": 48,
     "metadata": {},
     "output_type": "execute_result"
    }
   ],
   "source": [
    "len(u2)"
   ]
  },
  {
   "cell_type": "code",
   "execution_count": 49,
   "metadata": {},
   "outputs": [
    {
     "data": {
      "text/plain": [
       "33"
      ]
     },
     "execution_count": 49,
     "metadata": {},
     "output_type": "execute_result"
    }
   ],
   "source": [
    "len(x7)"
   ]
  },
  {
   "cell_type": "code",
   "execution_count": 50,
   "metadata": {},
   "outputs": [
    {
     "data": {
      "text/plain": [
       "33"
      ]
     },
     "execution_count": 50,
     "metadata": {},
     "output_type": "execute_result"
    }
   ],
   "source": [
    "len(uSlice2)"
   ]
  },
  {
   "cell_type": "code",
   "execution_count": 51,
   "metadata": {},
   "outputs": [
    {
     "data": {
      "image/png": "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\n",
      "text/plain": [
       "<Figure size 432x288 with 1 Axes>"
      ]
     },
     "metadata": {
      "needs_background": "light"
     },
     "output_type": "display_data"
    }
   ],
   "source": [
    "plt.plot(x7,uSlice2)\n",
    "plt.grid()"
   ]
  },
  {
   "cell_type": "code",
   "execution_count": 52,
   "metadata": {},
   "outputs": [],
   "source": [
    "h3=0.0625"
   ]
  },
  {
   "cell_type": "code",
   "execution_count": 53,
   "metadata": {},
   "outputs": [],
   "source": [
    "fFD3 =  1./(2.*h3*h3) \n",
    "fPD3 =  1./(8.*h3/2*h3/2) "
   ]
  },
  {
   "cell_type": "code",
   "execution_count": 54,
   "metadata": {},
   "outputs": [],
   "source": [
    "M3 = np.zeros([71,71])"
   ]
  },
  {
   "cell_type": "code",
   "execution_count": 55,
   "metadata": {},
   "outputs": [],
   "source": [
    "M3 [0][0] = 1"
   ]
  },
  {
   "cell_type": "code",
   "execution_count": 56,
   "metadata": {},
   "outputs": [],
   "source": [
    "for i in range (1, 16):\n",
    "    M3[i][i-1]=-2 * fFD3\n",
    "    M3[i][i]= 4 * fFD3\n",
    "    M3[i][i+1]= -2 * fFD3"
   ]
  },
  {
   "cell_type": "markdown",
   "metadata": {},
   "source": [
    "Match the dispacement between $u_{15}$ and $u_{17}$"
   ]
  },
  {
   "cell_type": "code",
   "execution_count": 57,
   "metadata": {},
   "outputs": [],
   "source": [
    "M3[17][17]= -1\n",
    "M3[17][15]=1"
   ]
  },
  {
   "cell_type": "markdown",
   "metadata": {},
   "source": [
    "Match the dispacement between $u_{16}$ and $u_{19}$"
   ]
  },
  {
   "cell_type": "code",
   "execution_count": 58,
   "metadata": {},
   "outputs": [],
   "source": [
<<<<<<< HEAD
    "M3[16][16]= -1\n",
    "M3[16][19]=1"
=======
    "for i in range(6,11):\n",
    "    M[i][i-2] = -1.  * fPD\n",
    "    M[i][i-1] = -4. * fPD\n",
    "    M[i][i] = 10. * fPD\n",
    "    M[i][i+1] =  -4. * fPD\n",
    "    M[i][i+2] = -1. * fPD"
>>>>>>> b7ac42a8db2b12d854da32b5289da5aa521be0ca
   ]
  },
  {
   "cell_type": "markdown",
   "metadata": {},
   "source": [
<<<<<<< HEAD
    "Interpolate the displacement $u_{18}$ and $u_{18}'$\n",
    "\n",
    "* $u_{18}'-u_{18}=0$\n",
    "* $\\frac{1}{2}\\left(u_{15} + u_{16}\\right)-u_{18}=0$"
=======
    "Interpolate the displacement $u_{12}$ and $u_{12}'$"
>>>>>>> b7ac42a8db2b12d854da32b5289da5aa521be0ca
   ]
  },
  {
   "cell_type": "code",
   "execution_count": 59,
   "metadata": {},
   "outputs": [],
   "source": [
<<<<<<< HEAD
    "M3 [18][18] = -1\n",
    "M3 [18][15] = 1/2\n",
    "M3 [18][16] = 1/2"
=======
    "M [11][11] = -1\n",
    "M [11][13] = 1/2\n",
    "M [11][14] = 1/2"
>>>>>>> b7ac42a8db2b12d854da32b5289da5aa521be0ca
   ]
  },
  {
   "cell_type": "markdown",
   "metadata": {},
   "source": [
    "Apply the non-local model"
   ]
  },
  {
   "cell_type": "code",
   "execution_count": 60,
   "metadata": {},
   "outputs": [],
   "source": [
<<<<<<< HEAD
    "for i in range(19,52):\n",
    "    M3[i][i-2] = -1.  * fPD3\n",
    "    M3[i][i-1] = -4. * fPD3\n",
    "    M3[i][i] = 10. * fPD3\n",
    "    M3[i][i+1] =  -4. * fPD3\n",
    "    M3[i][i+2] = -1. * fPD3"
=======
    "M [12][12] = -1\n",
    "M [12][14] = 1"
>>>>>>> b7ac42a8db2b12d854da32b5289da5aa521be0ca
   ]
  },
  {
   "cell_type": "markdown",
   "metadata": {},
   "source": [
    "Interpolate the displacement $u_{52}$ and $u_{52}'$\n",
    "\n",
    "* $u_{52}'-u_{52}=0$\n",
    "* $\\frac{1}{2}\\left(u_{54} + u_{55}\\right)-u_{52}=0$"
   ]
  },
  {
   "cell_type": "code",
   "execution_count": 61,
   "metadata": {},
   "outputs": [],
   "source": [
<<<<<<< HEAD
    "M3 [52][52] = -1\n",
    "M3 [52][54] = 1/2\n",
    "M3 [52][55] = 1/2"
   ]
  },
  {
   "cell_type": "markdown",
   "metadata": {},
   "source": [
    "Match the displacement $u_{51}$ and $u_{54}$"
=======
    "M [13][13] = -1\n",
    "M [13][10] = 1"
>>>>>>> b7ac42a8db2b12d854da32b5289da5aa521be0ca
   ]
  },
  {
   "cell_type": "code",
   "execution_count": 62,
   "metadata": {},
   "outputs": [],
   "source": [
<<<<<<< HEAD
    "M3 [54][54] = -1\n",
    "M3 [54][51] = 1"
   ]
  },
  {
   "cell_type": "markdown",
   "metadata": {},
   "source": [
    "Match the displacement $u_{53}$ and $u_{55}$"
=======
    "M [14][13] = -2  * fFD\n",
    "M [14][14] = 4 * fFD\n",
    "M [14][15] = -2 * fFD"
>>>>>>> b7ac42a8db2b12d854da32b5289da5aa521be0ca
   ]
  },
  {
   "cell_type": "code",
   "execution_count": 63,
   "metadata": {},
   "outputs": [],
   "source": [
<<<<<<< HEAD
    "M3 [53][53] = -1\n",
    "M3 [53][55] = 1"
=======
    "M [15][14] = -2 * fFD\n",
    "M [15][15] = 4 * fFD\n",
    "M [15][16] = -2 * fFD"
>>>>>>> b7ac42a8db2b12d854da32b5289da5aa521be0ca
   ]
  },
  {
   "cell_type": "code",
   "execution_count": 64,
   "metadata": {},
   "outputs": [],
   "source": [
<<<<<<< HEAD
    "for i in range (55, 70):\n",
    "    M3[i][i-1]=-2 * fFD3\n",
    "    M3[i][i]= 4 * fFD3\n",
    "    M3[i][i+1]= -2 * fFD3"
=======
    "M [16][16] = 1"
>>>>>>> b7ac42a8db2b12d854da32b5289da5aa521be0ca
   ]
  },
  {
   "cell_type": "code",
   "execution_count": 65,
   "metadata": {},
   "outputs": [
    {
     "data": {
      "text/plain": [
<<<<<<< HEAD
       "array([[   1.,    0.,    0., ...,    0.,    0.,    0.],\n",
       "       [-256.,  512., -256., ...,    0.,    0.,    0.],\n",
       "       [   0., -256.,  512., ...,    0.,    0.,    0.],\n",
       "       ...,\n",
       "       [   0.,    0.,    0., ...,  512., -256.,    0.],\n",
       "       [   0.,    0.,    0., ..., -256.,  512., -256.],\n",
       "       [   0.,    0.,    0., ...,    0.,    0.,    1.]])"
=======
       "array([[ 1. ,  0. ,  0. ,  0. ,  0. ,  0. ,  0. ,  0. ,  0. ,  0. ,  0. ,\n",
       "         0. ,  0. ,  0. ,  0. ,  0. ,  0. ],\n",
       "       [-1. ,  2. , -1. ,  0. ,  0. ,  0. ,  0. ,  0. ,  0. ,  0. ,  0. ,\n",
       "         0. ,  0. ,  0. ,  0. ,  0. ,  0. ],\n",
       "       [ 0. , -1. ,  2. , -1. ,  0. ,  0. ,  0. ,  0. ,  0. ,  0. ,  0. ,\n",
       "         0. ,  0. ,  0. ,  0. ,  0. ,  0. ],\n",
       "       [ 0. ,  0. ,  0. , -1. ,  0. ,  0. ,  1. ,  0. ,  0. ,  0. ,  0. ,\n",
       "         0. ,  0. ,  0. ,  0. ,  0. ,  0. ],\n",
       "       [ 0. ,  0. ,  1. ,  0. , -1. ,  0. ,  0. ,  0. ,  0. ,  0. ,  0. ,\n",
       "         0. ,  0. ,  0. ,  0. ,  0. ,  0. ],\n",
       "       [ 0. ,  0. ,  0.5,  0.5,  0. , -1. ,  0. ,  0. ,  0. ,  0. ,  0. ,\n",
       "         0. ,  0. ,  0. ,  0. ,  0. ,  0. ],\n",
       "       [ 0. ,  0. ,  0. ,  0. , -0.5, -2. ,  5. , -2. , -0.5,  0. ,  0. ,\n",
       "         0. ,  0. ,  0. ,  0. ,  0. ,  0. ],\n",
       "       [ 0. ,  0. ,  0. ,  0. ,  0. , -0.5, -2. ,  5. , -2. , -0.5,  0. ,\n",
       "         0. ,  0. ,  0. ,  0. ,  0. ,  0. ],\n",
       "       [ 0. ,  0. ,  0. ,  0. ,  0. ,  0. , -0.5, -2. ,  5. , -2. , -0.5,\n",
       "         0. ,  0. ,  0. ,  0. ,  0. ,  0. ],\n",
       "       [ 0. ,  0. ,  0. ,  0. ,  0. ,  0. ,  0. , -0.5, -2. ,  5. , -2. ,\n",
       "        -0.5,  0. ,  0. ,  0. ,  0. ,  0. ],\n",
       "       [ 0. ,  0. ,  0. ,  0. ,  0. ,  0. ,  0. ,  0. , -0.5, -2. ,  5. ,\n",
       "        -2. , -0.5,  0. ,  0. ,  0. ,  0. ],\n",
       "       [ 0. ,  0. ,  0. ,  0. ,  0. ,  0. ,  0. ,  0. ,  0. ,  0. ,  0. ,\n",
       "        -1. ,  0. ,  0.5,  0.5,  0. ,  0. ],\n",
       "       [ 0. ,  0. ,  0. ,  0. ,  0. ,  0. ,  0. ,  0. ,  0. ,  0. ,  0. ,\n",
       "         0. , -1. ,  0. ,  1. ,  0. ,  0. ],\n",
       "       [ 0. ,  0. ,  0. ,  0. ,  0. ,  0. ,  0. ,  0. ,  0. ,  0. ,  1. ,\n",
       "         0. ,  0. , -1. ,  0. ,  0. ,  0. ],\n",
       "       [ 0. ,  0. ,  0. ,  0. ,  0. ,  0. ,  0. ,  0. ,  0. ,  0. ,  0. ,\n",
       "         0. ,  0. , -1. ,  2. , -1. ,  0. ],\n",
       "       [ 0. ,  0. ,  0. ,  0. ,  0. ,  0. ,  0. ,  0. ,  0. ,  0. ,  0. ,\n",
       "         0. ,  0. ,  0. , -1. ,  2. , -1. ],\n",
       "       [ 0. ,  0. ,  0. ,  0. ,  0. ,  0. ,  0. ,  0. ,  0. ,  0. ,  0. ,\n",
       "         0. ,  0. ,  0. ,  0. ,  0. ,  1. ]])"
>>>>>>> b7ac42a8db2b12d854da32b5289da5aa521be0ca
      ]
     },
     "execution_count": 65,
     "metadata": {},
     "output_type": "execute_result"
    }
   ],
   "source": [
    "M3 [70][70] = 1\n",
    "M3"
   ]
  },
  {
   "cell_type": "code",
   "execution_count": 66,
   "metadata": {},
   "outputs": [],
   "source": [
    "f3 = np.zeros([71])"
   ]
  },
  {
   "cell_type": "code",
   "execution_count": 67,
   "metadata": {},
   "outputs": [],
   "source": [
<<<<<<< HEAD
    "for i in range(1,70):\n",
    "    f3[i] =  8/9"
=======
    "f = np.zeros([17])"
>>>>>>> b7ac42a8db2b12d854da32b5289da5aa521be0ca
   ]
  },
  {
   "cell_type": "code",
   "execution_count": 68,
   "metadata": {},
   "outputs": [
    {
     "data": {
      "text/plain": [
       "array([0.        , 0.88888889, 0.88888889, 0.88888889, 0.88888889,\n",
       "       0.88888889, 0.88888889, 0.88888889, 0.88888889, 0.88888889,\n",
       "       0.88888889, 0.88888889, 0.88888889, 0.88888889, 0.88888889,\n",
       "       0.88888889, 0.        , 0.        , 0.        , 0.88888889,\n",
       "       0.88888889, 0.88888889, 0.88888889, 0.88888889, 0.88888889,\n",
       "       0.88888889, 0.88888889, 0.88888889, 0.88888889, 0.88888889,\n",
       "       0.88888889, 0.88888889, 0.88888889, 0.88888889, 0.88888889,\n",
       "       0.88888889, 0.88888889, 0.88888889, 0.88888889, 0.88888889,\n",
       "       0.88888889, 0.88888889, 0.88888889, 0.88888889, 0.88888889,\n",
       "       0.88888889, 0.88888889, 0.88888889, 0.88888889, 0.88888889,\n",
       "       0.88888889, 0.88888889, 0.        , 0.        , 0.        ,\n",
       "       0.88888889, 0.88888889, 0.88888889, 0.88888889, 0.88888889,\n",
       "       0.88888889, 0.88888889, 0.88888889, 0.88888889, 0.88888889,\n",
       "       0.88888889, 0.88888889, 0.88888889, 0.88888889, 0.88888889,\n",
       "       0.        ])"
      ]
     },
     "execution_count": 68,
     "metadata": {},
     "output_type": "execute_result"
    }
   ],
   "source": [
<<<<<<< HEAD
    "f3 [16] = 0 # the displacememnt is matching therefore the force is zero\n",
    "f3 [17] = 0 \n",
    "f3 [18] = 0 \n",
    "f3 [52] = 0 \n",
    "f3 [53] = 0\n",
    "f3 [54] = 0\n",
    "f3"
=======
    "for i in range(1,16):\n",
    "    f[i] =  8/9"
>>>>>>> b7ac42a8db2b12d854da32b5289da5aa521be0ca
   ]
  },
  {
   "cell_type": "code",
   "execution_count": 69,
   "metadata": {},
   "outputs": [
    {
     "data": {
      "text/plain": [
<<<<<<< HEAD
       "array([4.44089210e-16, 8.09834143e-02, 1.58494606e-01, 2.32533576e-01,\n",
       "       3.03100324e-01, 3.70194849e-01, 4.33817152e-01, 4.93967233e-01,\n",
       "       5.50645092e-01, 6.03850728e-01, 6.53584143e-01, 6.99845335e-01,\n",
       "       7.42634304e-01, 7.81951052e-01, 8.17795577e-01, 8.50167880e-01,\n",
       "       8.79067961e-01, 8.50167880e-01, 8.64617921e-01, 8.79067961e-01,\n",
       "       8.92501011e-01, 9.05091559e-01, 9.16809667e-01, 9.27660472e-01,\n",
       "       9.37643092e-01, 9.46757678e-01, 9.55004206e-01, 9.62382678e-01,\n",
       "       9.68893095e-01, 9.74535456e-01, 9.79309761e-01, 9.83216011e-01,\n",
       "       9.86254206e-01, 9.88424345e-01, 9.89726428e-01, 9.90160456e-01,\n",
       "       9.89726428e-01, 9.88424345e-01, 9.86254206e-01, 9.83216011e-01,\n",
       "       9.79309761e-01, 9.74535456e-01, 9.68893095e-01, 9.62382678e-01,\n",
       "       9.55004206e-01, 9.46757678e-01, 9.37643092e-01, 9.27660472e-01,\n",
       "       9.16809667e-01, 9.05091559e-01, 8.92501011e-01, 8.79067961e-01,\n",
       "       8.64617921e-01, 8.50167880e-01, 8.79067961e-01, 8.50167880e-01,\n",
       "       8.17795577e-01, 7.81951052e-01, 7.42634304e-01, 6.99845335e-01,\n",
       "       6.53584143e-01, 6.03850728e-01, 5.50645092e-01, 4.93967233e-01,\n",
       "       4.33817152e-01, 3.70194849e-01, 3.03100324e-01, 2.32533576e-01,\n",
       "       1.58494606e-01, 8.09834143e-02, 0.00000000e+00])"
      ]
     },
     "execution_count": 69,
=======
       "array([0.        , 0.88888889, 0.88888889, 0.        , 0.        ,\n",
       "       0.        , 0.88888889, 0.88888889, 0.88888889, 0.88888889,\n",
       "       0.88888889, 0.        , 0.        , 0.        , 0.88888889,\n",
       "       0.88888889, 0.        ])"
      ]
     },
     "execution_count": 21,
>>>>>>> b7ac42a8db2b12d854da32b5289da5aa521be0ca
     "metadata": {},
     "output_type": "execute_result"
    }
   ],
   "source": [
<<<<<<< HEAD
    "u3 = np.linalg.solve(M3,f3)\n",
    "u3"
=======
    "f [3] = 0\n",
    "f [4] = 0 \n",
    "f [5] = 0\n",
    "f [11] = 0\n",
    "f [12] = 0\n",
    "f [13] = 0\n",
    "f"
>>>>>>> b7ac42a8db2b12d854da32b5289da5aa521be0ca
   ]
  },
  {
   "cell_type": "code",
   "execution_count": 70,
   "metadata": {},
   "outputs": [
    {
     "data": {
      "text/plain": [
<<<<<<< HEAD
       "array([0.     , 0.0625 , 0.125  , 0.1875 , 0.25   , 0.3125 , 0.375  ,\n",
       "       0.4375 , 0.5    , 0.5625 , 0.625  , 0.6875 , 0.75   , 0.8125 ,\n",
       "       0.875  , 0.9375 , 1.     , 1.03125, 1.0625 , 1.09375, 1.125  ,\n",
       "       1.15625, 1.1875 , 1.21875, 1.25   , 1.28125, 1.3125 , 1.34375,\n",
       "       1.375  , 1.40625, 1.4375 , 1.46875, 1.5    , 1.53125, 1.5625 ,\n",
       "       1.59375, 1.625  , 1.65625, 1.6875 , 1.71875, 1.75   , 1.78125,\n",
       "       1.8125 , 1.84375, 1.875  , 1.90625, 1.9375 , 1.96875, 2.     ,\n",
       "       2.0625 , 2.125  , 2.1875 , 2.25   , 2.3125 , 2.375  , 2.4375 ,\n",
       "       2.5    , 2.5625 , 2.625  , 2.6875 , 2.75   , 2.8125 , 2.875  ,\n",
       "       2.9375 , 3.     ])"
=======
       "array([0.        , 2.95398429, 5.01907969, 6.1952862 , 5.01907969,\n",
       "       5.60718294, 6.1952862 , 6.52300786, 6.6352413 , 6.52300786,\n",
       "       6.1952862 , 5.60718294, 5.01907969, 6.1952862 , 5.01907969,\n",
       "       2.95398429, 0.        ])"
>>>>>>> b7ac42a8db2b12d854da32b5289da5aa521be0ca
      ]
     },
     "execution_count": 70,
     "metadata": {},
     "output_type": "execute_result"
    }
   ],
   "source": [
    "x8 = np.arange(0,1,0.0625)\n",
    "x9 = np.arange(1,2,0.03125)\n",
    "x10 = np.arange(2,3.0625,0.0625)\n",
    "x11 = np.array(np.concatenate((x8,x9,x10)))\n",
    "x11"
   ]
  },
  {
   "cell_type": "code",
   "execution_count": 71,
   "metadata": {},
   "outputs": [
    {
     "data": {
      "text/plain": [
<<<<<<< HEAD
       "array([4.44089210e-16, 8.09834143e-02, 1.58494606e-01, 2.32533576e-01,\n",
       "       3.03100324e-01, 3.70194849e-01, 4.33817152e-01, 4.93967233e-01,\n",
       "       5.50645092e-01, 6.03850728e-01, 6.53584143e-01, 6.99845335e-01,\n",
       "       7.42634304e-01, 7.81951052e-01, 8.17795577e-01, 8.50167880e-01,\n",
       "       8.79067961e-01, 8.92501011e-01, 9.05091559e-01, 9.16809667e-01,\n",
       "       9.27660472e-01, 9.37643092e-01, 9.46757678e-01, 9.55004206e-01,\n",
       "       9.62382678e-01, 9.68893095e-01, 9.74535456e-01, 9.79309761e-01,\n",
       "       9.83216011e-01, 9.86254206e-01, 9.88424345e-01, 9.89726428e-01,\n",
       "       9.90160456e-01, 9.89726428e-01, 9.88424345e-01, 9.86254206e-01,\n",
       "       9.83216011e-01, 9.79309761e-01, 9.74535456e-01, 9.68893095e-01,\n",
       "       9.62382678e-01, 9.55004206e-01, 9.46757678e-01, 9.37643092e-01,\n",
       "       9.27660472e-01, 9.16809667e-01, 9.05091559e-01, 8.92501011e-01,\n",
       "       8.79067961e-01, 8.50167880e-01, 8.17795577e-01, 7.81951052e-01,\n",
       "       7.42634304e-01, 6.99845335e-01, 6.53584143e-01, 6.03850728e-01,\n",
       "       5.50645092e-01, 4.93967233e-01, 4.33817152e-01, 3.70194849e-01,\n",
       "       3.03100324e-01, 2.32533576e-01, 1.58494606e-01, 8.09834143e-02,\n",
       "       0.00000000e+00])"
=======
       "array([0. , 1. , 2. , 3. , 3.5, 4. , 4.5, 5. , 6. , 7. , 8. ])"
>>>>>>> b7ac42a8db2b12d854da32b5289da5aa521be0ca
      ]
     },
     "execution_count": 71,
     "metadata": {},
     "output_type": "execute_result"
    }
   ],
   "source": [
<<<<<<< HEAD
    "uSlice3 = np.array(np.concatenate((u3[0:17],u3[20:52],u3[55:len(u3)])))\n",
    "uSlice3"
=======
    "x1 = np.arange(0,3,1)\n",
    "x2 = np.arange(3,5,0.5)\n",
    "x3 = np.arange(5,8.5,1)\n",
    "x = np.array(np.concatenate((x1,x2,x3)))\n",
    "x"
>>>>>>> b7ac42a8db2b12d854da32b5289da5aa521be0ca
   ]
  },
  {
   "cell_type": "code",
   "execution_count": 72,
   "metadata": {},
   "outputs": [
    {
     "data": {
      "text/plain": [
<<<<<<< HEAD
       "65"
=======
       "array([0.        , 2.95398429, 5.01907969, 6.1952862 , 6.52300786,\n",
       "       6.6352413 , 6.52300786, 6.1952862 , 5.01907969, 2.95398429,\n",
       "       0.        ])"
>>>>>>> b7ac42a8db2b12d854da32b5289da5aa521be0ca
      ]
     },
     "execution_count": 72,
     "metadata": {},
     "output_type": "execute_result"
    }
   ],
   "source": [
<<<<<<< HEAD
    "len(x11)"
=======
    "uSlice = np.array(np.concatenate((u[0:4],u[7:10],u[13:len(u)])))\n",
    "uSlice"
>>>>>>> b7ac42a8db2b12d854da32b5289da5aa521be0ca
   ]
  },
  {
   "cell_type": "code",
   "execution_count": 73,
   "metadata": {},
   "outputs": [
    {
     "data": {
      "text/plain": [
       "65"
      ]
     },
     "execution_count": 73,
     "metadata": {},
     "output_type": "execute_result"
    }
   ],
   "source": [
    "len(uSlice3)"
   ]
  },
  {
   "cell_type": "code",
   "execution_count": 74,
   "metadata": {},
   "outputs": [
    {
     "data": {
      "text/plain": [
       "71"
      ]
     },
     "execution_count": 74,
     "metadata": {},
     "output_type": "execute_result"
    }
   ],
   "source": [
    "len(u3)"
   ]
  },
  {
   "cell_type": "code",
   "execution_count": 75,
   "metadata": {},
   "outputs": [
    {
     "data": {
<<<<<<< HEAD
      "text/plain": [
       "[<matplotlib.lines.Line2D at 0x7f14c8e486d0>]"
      ]
     },
     "execution_count": 75,
     "metadata": {},
     "output_type": "execute_result"
    },
    {
     "data": {
      "image/png": "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\n",
=======
      "image/png": "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\n",
>>>>>>> b7ac42a8db2b12d854da32b5289da5aa521be0ca
      "text/plain": [
       "<Figure size 432x288 with 1 Axes>"
      ]
     },
     "metadata": {
      "needs_background": "light"
     },
     "output_type": "display_data"
    }
   ],
   "source": [
    "plt.grid\n",
    "plt.plot(x11,uSlice3)"
   ]
  },
  {
   "cell_type": "code",
   "execution_count": 76,
   "metadata": {},
   "outputs": [],
   "source": [
    "def FDM (n,h):\n",
    "    \n",
    "    M4=np.zeros([n,n])\n",
    "\n",
    "    M4[0][0] = 1\n",
    "\n",
    "    for i in range(1,n-1):\n",
    "        M4[i][i-1] = -2 \n",
    "        M4[i][i] = 4 \n",
    "        M4[i][i+1] = -2\n",
    "\n",
    "    M4[n-1][n-1] = 1\n",
    "\n",
    "    M4 *= 1./(2.*h*h)\n",
    "\n",
    "    return M4"
   ]
  },
  {
   "cell_type": "code",
   "execution_count": 77,
   "metadata": {},
   "outputs": [
    {
     "data": {
      "text/plain": [
<<<<<<< HEAD
       "49"
=======
       "17"
>>>>>>> b7ac42a8db2b12d854da32b5289da5aa521be0ca
      ]
     },
     "execution_count": 77,
     "metadata": {},
     "output_type": "execute_result"
    }
   ],
   "source": [
<<<<<<< HEAD
    "MFDM=FDM (49,0.0625)\n",
=======
    "MFDM = FDM(17,0.5)\n",
>>>>>>> b7ac42a8db2b12d854da32b5289da5aa521be0ca
    "len(MFDM)"
   ]
  },
  {
   "cell_type": "code",
   "execution_count": 78,
   "metadata": {},
   "outputs": [
    {
     "data": {
      "text/plain": [
<<<<<<< HEAD
       "49"
      ]
     },
     "execution_count": 78,
=======
       "17"
      ]
     },
     "execution_count": 28,
>>>>>>> b7ac42a8db2b12d854da32b5289da5aa521be0ca
     "metadata": {},
     "output_type": "execute_result"
    }
   ],
   "source": [
<<<<<<< HEAD
    "fFDM=np.zeros([49])\n",
=======
    "fFDM = np.zeros([17])\n",
>>>>>>> b7ac42a8db2b12d854da32b5289da5aa521be0ca
    "len(fFDM)"
   ]
  },
  {
   "cell_type": "code",
   "execution_count": 79,
   "metadata": {},
   "outputs": [
    {
     "data": {
      "text/plain": [
       "array([0.        , 0.88888889, 0.88888889, 0.88888889, 0.88888889,\n",
       "       0.88888889, 0.88888889, 0.88888889, 0.88888889, 0.88888889,\n",
       "       0.88888889, 0.88888889, 0.88888889, 0.88888889, 0.88888889,\n",
       "       0.88888889, 0.88888889, 0.88888889, 0.88888889, 0.88888889,\n",
       "       0.88888889, 0.88888889, 0.88888889, 0.88888889, 0.88888889,\n",
       "       0.88888889, 0.88888889, 0.88888889, 0.88888889, 0.88888889,\n",
       "       0.88888889, 0.88888889, 0.88888889, 0.88888889, 0.88888889,\n",
       "       0.88888889, 0.88888889, 0.88888889, 0.88888889, 0.88888889,\n",
       "       0.88888889, 0.88888889, 0.88888889, 0.88888889, 0.88888889,\n",
       "       0.88888889, 0.88888889, 0.88888889, 0.        ])"
      ]
     },
     "execution_count": 79,
     "metadata": {},
     "output_type": "execute_result"
    }
   ],
   "source": [
<<<<<<< HEAD
    "for i in range(1,48):\n",
    "    fFDM[i] = 8/9\n",
    "fFDM"
=======
    "for i in range(1,16):\n",
    "    fFDM[i] =  8/9"
>>>>>>> b7ac42a8db2b12d854da32b5289da5aa521be0ca
   ]
  },
  {
   "cell_type": "code",
   "execution_count": 80,
   "metadata": {},
   "outputs": [
    {
     "data": {
      "text/plain": [
<<<<<<< HEAD
       "array([-0.        ,  0.08159722,  0.15972222,  0.234375  ,  0.30555556,\n",
       "        0.37326389,  0.4375    ,  0.49826389,  0.55555556,  0.609375  ,\n",
       "        0.65972222,  0.70659722,  0.75      ,  0.78993056,  0.82638889,\n",
       "        0.859375  ,  0.88888889,  0.91493056,  0.9375    ,  0.95659722,\n",
       "        0.97222222,  0.984375  ,  0.99305556,  0.99826389,  1.        ,\n",
       "        0.99826389,  0.99305556,  0.984375  ,  0.97222222,  0.95659722,\n",
       "        0.9375    ,  0.91493056,  0.88888889,  0.859375  ,  0.82638889,\n",
       "        0.78993056,  0.75      ,  0.70659722,  0.65972222,  0.609375  ,\n",
       "        0.55555556,  0.49826389,  0.4375    ,  0.37326389,  0.30555556,\n",
       "        0.234375  ,  0.15972222,  0.08159722,  0.        ])"
=======
       "array([0.        , 0.88888889, 0.88888889, 0.88888889, 0.88888889,\n",
       "       0.88888889, 0.88888889, 0.88888889, 0.88888889, 0.88888889,\n",
       "       0.88888889, 0.88888889, 0.88888889, 0.88888889, 0.88888889,\n",
       "       0.88888889, 0.        ])"
>>>>>>> b7ac42a8db2b12d854da32b5289da5aa521be0ca
      ]
     },
     "execution_count": 80,
     "metadata": {},
     "output_type": "execute_result"
    }
   ],
   "source": [
    "uFDM = np.linalg.solve(MFDM,fFDM)\n",
    "uFDM"
   ]
  },
  {
   "cell_type": "code",
   "execution_count": 81,
   "metadata": {},
   "outputs": [
    {
     "data": {
      "text/plain": [
       "49"
      ]
     },
     "execution_count": 81,
     "metadata": {},
     "output_type": "execute_result"
    }
   ],
   "source": [
    "xFDM = np.arange(0,3.0625,0.0625)\n",
    "xFDM\n",
    "len (xFDM)"
   ]
  },
  {
   "cell_type": "code",
   "execution_count": 82,
   "metadata": {},
   "outputs": [
    {
     "data": {
      "text/plain": [
<<<<<<< HEAD
       "49"
=======
       "array([0.        , 1.66666667, 3.11111111, 4.33333333, 5.33333333,\n",
       "       6.11111111, 6.66666667, 7.        , 7.11111111, 7.        ,\n",
       "       6.66666667, 6.11111111, 5.33333333, 4.33333333, 3.11111111,\n",
       "       1.66666667, 0.        ])"
>>>>>>> b7ac42a8db2b12d854da32b5289da5aa521be0ca
      ]
     },
     "execution_count": 82,
     "metadata": {},
     "output_type": "execute_result"
    }
   ],
   "source": [
    "MFDM= FDM(4,1)\n",
    "len(fFDM)"
   ]
  },
  {
   "cell_type": "code",
   "execution_count": 83,
   "metadata": {},
   "outputs": [
    {
     "data": {
      "text/plain": [
<<<<<<< HEAD
       "array([0.        , 0.88888889, 0.88888889, 0.88888889, 0.88888889,\n",
       "       0.88888889, 0.88888889, 0.88888889, 0.88888889, 0.88888889,\n",
       "       0.88888889, 0.88888889, 0.88888889, 0.88888889, 0.88888889,\n",
       "       0.88888889, 0.88888889, 0.88888889, 0.88888889, 0.88888889,\n",
       "       0.88888889, 0.88888889, 0.88888889, 0.88888889, 0.88888889,\n",
       "       0.88888889, 0.88888889, 0.88888889, 0.88888889, 0.88888889,\n",
       "       0.88888889, 0.88888889, 0.88888889, 0.88888889, 0.88888889,\n",
       "       0.88888889, 0.88888889, 0.88888889, 0.88888889, 0.88888889,\n",
       "       0.88888889, 0.88888889, 0.88888889, 0.88888889, 0.88888889,\n",
       "       0.88888889, 0.88888889, 0.88888889, 0.        ])"
      ]
     },
     "execution_count": 83,
=======
       "array([0. , 0.5, 1. , 1.5, 2. , 2.5, 3. , 3.5, 4. , 4.5, 5. , 5.5, 6. ,\n",
       "       6.5, 7. , 7.5, 8. ])"
      ]
     },
     "execution_count": 33,
>>>>>>> b7ac42a8db2b12d854da32b5289da5aa521be0ca
     "metadata": {},
     "output_type": "execute_result"
    }
   ],
   "source": [
<<<<<<< HEAD
    "for i in range(1,3):\n",
    "    fFDM[i] = 8/9\n",
    "fFDM"
=======
    "xFDM = np.arange(0,8.5,0.5)\n",
    "xFDM"
>>>>>>> b7ac42a8db2b12d854da32b5289da5aa521be0ca
   ]
  },
  {
   "cell_type": "code",
   "execution_count": 84,
   "metadata": {},
   "outputs": [
    {
     "data": {
<<<<<<< HEAD
      "text/plain": [
       "Text(0.5, 1.0, 'Quadratic solution')"
      ]
     },
     "execution_count": 84,
     "metadata": {},
     "output_type": "execute_result"
    },
    {
     "data": {
      "image/png": "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\n",
=======
>>>>>>> b7ac42a8db2b12d854da32b5289da5aa521be0ca
      "text/plain": [
       "9"
      ]
     },
     "execution_count": 34,
     "metadata": {},
     "output_type": "execute_result"
    }
   ],
   "source": [
    "MFDM = FDM(9,1)\n",
    "len(MFDM)"
   ]
  },
  {
   "cell_type": "code",
   "execution_count": 35,
   "metadata": {},
   "outputs": [
    {
     "data": {
      "text/plain": [
       "9"
      ]
     },
     "execution_count": 35,
     "metadata": {},
     "output_type": "execute_result"
    }
   ],
   "source": [
<<<<<<< HEAD
    "plt.grid()\n",
    "plt.plot(x,uSlice,label=\"hFD=0.25\")\n",
    "plt.plot(x7,uSlice2,label=\"hFD=0.125\")\n",
    "plt.plot(x11,uSlice3,label=\"hFD=0.0625\")\n",
    "plt.plot(xFDM,uFDM,label= \"FDM h=0.0625\")\n",
    "plt.legend()\n",
    "plt.xlabel(r\"Position $x$\")\n",
    "plt.ylabel(r\"Displacement $u$\")\n",
    "plt.title(r\"Quadratic solution \")"
   ]
=======
    "fFDM = np.zeros([9])\n",
    "len(fFDM)"
   ]
  },
  {
   "cell_type": "code",
   "execution_count": 36,
   "metadata": {},
   "outputs": [],
   "source": [
    "for i in range(1,8):\n",
    "    fFDM[i] =  8/9"
   ]
  },
  {
   "cell_type": "code",
   "execution_count": 37,
   "metadata": {},
   "outputs": [
    {
     "data": {
      "text/plain": [
       "array([0.        , 0.88888889, 0.88888889, 0.88888889, 0.88888889,\n",
       "       0.88888889, 0.88888889, 0.88888889, 0.        ])"
      ]
     },
     "execution_count": 37,
     "metadata": {},
     "output_type": "execute_result"
    }
   ],
   "source": [
    "fFDM"
   ]
  },
  {
   "cell_type": "code",
   "execution_count": 38,
   "metadata": {},
   "outputs": [],
   "source": [
    "uFDM2 = np.linalg.solve(MFDM,fFDM)"
   ]
  },
  {
   "cell_type": "code",
   "execution_count": 39,
   "metadata": {},
   "outputs": [
    {
     "data": {
      "text/plain": [
       "array([0.        , 3.11111111, 5.33333333, 6.66666667, 7.11111111,\n",
       "       6.66666667, 5.33333333, 3.11111111, 0.        ])"
      ]
     },
     "execution_count": 39,
     "metadata": {},
     "output_type": "execute_result"
    }
   ],
   "source": [
    "uFDM2"
   ]
  },
  {
   "cell_type": "code",
   "execution_count": 40,
   "metadata": {},
   "outputs": [
    {
     "data": {
      "text/plain": [
       "array([0., 1., 2., 3., 4., 5., 6., 7., 8.])"
      ]
     },
     "execution_count": 40,
     "metadata": {},
     "output_type": "execute_result"
    }
   ],
   "source": [
    "xFDM2 = np.arange(0,8.5,1)\n",
    "xFDM2"
   ]
  },
  {
   "cell_type": "code",
   "execution_count": 45,
   "metadata": {},
   "outputs": [
    {
     "data": {
      "text/plain": [
       "<matplotlib.legend.Legend at 0x10f9e68b0>"
      ]
     },
     "execution_count": 45,
     "metadata": {},
     "output_type": "execute_result"
    },
    {
     "data": {
      "image/png": "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\n",
      "text/plain": [
       "<Figure size 432x288 with 1 Axes>"
      ]
     },
     "metadata": {
      "needs_background": "light"
     },
     "output_type": "display_data"
    }
   ],
   "source": [
    "plt.plot(x,uSlice,label=\"Coupled system\")\n",
    "plt.plot(xFDM,uFDM,label=\"FDM h=1\")\n",
    "plt.plot(xFDM2,uFDM2,label=\"FDM h=1/2\")\n",
    "plt.grid()\n",
    "plt.legend()"
   ]
>>>>>>> b7ac42a8db2b12d854da32b5289da5aa521be0ca
  }
 ],
 "metadata": {
  "kernelspec": {
   "display_name": "Python 3",
   "language": "python",
   "name": "python3"
  },
  "language_info": {
   "codemirror_mode": {
    "name": "ipython",
    "version": 3
   },
   "file_extension": ".py",
   "mimetype": "text/x-python",
   "name": "python",
   "nbconvert_exporter": "python",
   "pygments_lexer": "ipython3",
   "version": "3.9.5"
  }
 },
 "nbformat": 4,
 "nbformat_minor": 4
}
