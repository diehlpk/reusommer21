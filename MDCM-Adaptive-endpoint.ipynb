{
 "cells": [
  {
   "cell_type": "markdown",
   "id": "be27c3a6",
   "metadata": {},
   "source": [
    "This file is part of https://github.com/diehlpk/reusommer21.\n",
    "\n",
    "Copyright (c) 2021 Patrick Diehl\n",
    "\n",
    "This program is free software: you can redistribute it and/or modify  \n",
    "it under the terms of the GNU General Public License as published by  \n",
    "the Free Software Foundation, version 3.\n",
    "\n",
    "This program is distributed in the hope that it will be useful, but \n",
    "WITHOUT ANY WARRANTY; without even the implied warranty of \n",
    "MERCHANTABILITY or FITNESS FOR A PARTICULAR PURPOSE. See the GNU \n",
    "General Public License for more details.\n",
    "\n",
    "You should have received a copy of the GNU General Public License along with this program. \n",
    "If not, see <http://www.gnu.org/licenses/>."
   ]
  },
  {
   "cell_type": "code",
   "execution_count": 1,
   "id": "b5441b8f",
   "metadata": {},
   "outputs": [],
   "source": [
    "from sympy import Symbol, simplify, lambdify\n",
    "import numpy as np\n",
    "import matplotlib.pyplot as plt\n",
    "from functools import reduce\n",
    "import operator\n",
    "import numpy as np\n",
    "import matplotlib.pyplot as plt\n",
    "import sys"
   ]
  },
  {
   "cell_type": "code",
   "execution_count": 2,
   "id": "c18283b1",
   "metadata": {},
   "outputs": [],
   "source": [
    "def interpolate_lagrange(x, x_values, y_values):\n",
    "    \"\"\"\n",
    "    x : value at which to evaluate y, should be between min and max x_values\n",
    "    x_values: list or numpy array containing values of x\n",
    "    y_values: list or numpy array contaning values of y\n",
    "    \"\"\"\n",
    "    def _basis(j):\n",
    "        p = [(x - x_values[m])/(x_values[j] - x_values[m]) for m in range(k) if m != j]\n",
    "        return reduce(operator.mul, p)\n",
    "    assert len(x_values) != 0 and (len(x_values) == len(y_values)), 'x and y cannot be empty and must have the same length'\n",
    "    k = len(x_values)\n",
    "    basis = []\n",
    "    for j in range(k):\n",
    "        basis.append(_basis(j))\n",
    "    #return sum(_basis(j)*y_values[j] for j in range(k)) \n",
    "    return basis"
   ]
  },
  {
   "cell_type": "code",
   "execution_count": 3,
   "id": "3c932c81",
   "metadata": {},
   "outputs": [],
   "source": [
    "example = \"Cubic\"\n",
    "save_results = False"
   ]
  },
  {
   "cell_type": "code",
   "execution_count": 4,
   "id": "0102259b",
   "metadata": {},
   "outputs": [],
   "source": [
    "#############################################################################\n",
    "# Solve the system\n",
    "#############################################################################\n",
    "\n",
    "def solve(M,f):\n",
    "    return np.linalg.solve(M,f)"
   ]
  },
  {
   "cell_type": "code",
   "execution_count": 5,
   "id": "b7c775d1",
   "metadata": {},
   "outputs": [],
   "source": [
    "#############################################################################\n",
    "# Loading\n",
    "#############################################################################\n",
    "\n",
    "def f(x):\n",
    "    \n",
    "    if example == \"Cubic\":\n",
    "        return -( 2/np.sqrt(3)) * ( -6 + 4*x )\n",
    "    elif example == \"Quartic\":\n",
    "        return  -32/9 + 64/9 * x - 64/27 * x * x\n",
    "    elif example == \"Quadratic\":\n",
    "        return 8/9\n",
    "    else:\n",
    "        print(\"Error: Either provide Quadratic, Quartic, or Cubic\")\n",
    "        sys.exit()\n",
    "\n",
    "def forceFull(n,x):\n",
    "    \n",
    "    force = np.zeros(n)\n",
    "   \n",
    "    for i in range(1,n-1):\n",
    "        force[i] = f(x[i])\n",
    "    \n",
    "    force[n-1] = 0\n",
    "    \n",
    "    return force\n",
    "\n",
    "def forceCoupling(n,x):\n",
    "    \n",
    "    dim = n\n",
    "    \n",
    "    force = np.zeros(dim)\n",
    "   \n",
    "    for i in range(1,dim-1):\n",
    "        force[i] = f(x[i])\n",
    "    \n",
    "    force[dim-1] = 0\n",
    "    \n",
    "    return force"
   ]
  },
  {
   "cell_type": "code",
   "execution_count": 6,
   "id": "ebed63f7",
   "metadata": {},
   "outputs": [],
   "source": [
    "#############################################################################\n",
    "# Assemble the stiffness matrix for the finite difference model (FD)\n",
    "#############################################################################\n",
    "\n",
    "def FDM(n,h):\n",
    "\n",
    "    M = np.zeros([n,n])\n",
    "\n",
    "    M[0][0] = 1\n",
    "\n",
    "    for i in range(1,n-1):\n",
    "        M[i][i-1] = -2\n",
    "        M[i][i] = 4\n",
    "        M[i][i+1] = -2\n",
    "\n",
    "    M[n-1][n-1] = 1\n",
    "\n",
    "    M *= 1./(2.*h*h)\n",
    "\n",
    "    return M"
   ]
  },
  {
   "cell_type": "code",
   "execution_count": 7,
   "id": "97eb7677",
   "metadata": {},
   "outputs": [],
   "source": [
    "#############################################################################\n",
    "# Assemble the stiffness matrix for the coupling of FDM - VHM - FDM\n",
    "#############################################################################\n",
    "\n",
    "def CouplingMDCM(n,h,nFD,hFD,x1,x2,x3):\n",
    "\n",
    "    fVHM = 1./(8.*h*h)\n",
    "    fFDM = 1./(2.*hFD*hFD)\n",
    "    \n",
    "    dim = 2*nFD + n + 4\n",
    "    \n",
    "    M = np.zeros([dim,dim])\n",
    "    \n",
    "    M[0][0] = 1 \n",
    "\n",
    "    for i in range(1,nFD-1):\n",
    "        M[i][i-1] = -2 * fFDM\n",
    "        M[i][i] = 4 * fFDM\n",
    "        M[i][i+1] = -2 * fFDM \n",
    "    \n",
    "    # Same end node and start node\n",
    "    M[nFD-1][nFD-1] = -1 \n",
    "    M[nFD-1][nFD+2] = 1  \n",
    "    \n",
    "    # Interpolate the first PD node\n",
    "    weights = interpolate_lagrange(x2[0], [x1[nFD-3],x1[nFD-2],x1[nFD-1]], [\"u1\",\"u2\",\"u3\"])\n",
    "    M[nFD][nFD] = -1\n",
    "    M[nFD][nFD-1] = weights[2] \n",
    "    M[nFD][nFD-2] = weights[1]\n",
    "    M[nFD][nFD-3] = weights[0]\n",
    "    \n",
    "    # Interpolate the second PD node\n",
    "    weights = interpolate_lagrange(x2[1], [x1[nFD-3],x1[nFD-2],x1[nFD-1]], [\"u1\",\"u2\",\"u3\"])\n",
    "    M[nFD+1][nFD+1] = -1\n",
    "    M[nFD+1][nFD-1] = weights[2] \n",
    "    M[nFD+1][nFD-2] = weights[1]\n",
    "    M[nFD+1][nFD-3] = weights[0]\n",
    "         \n",
    "    mid = nFD+n+1\n",
    "    \n",
    "    for i in range(nFD+2,mid+1):\n",
    "        M[i][i-2] = -1. * fVHM\n",
    "        M[i][i-1] = -4. * fVHM\n",
    "        M[i][i] = 10. * fVHM\n",
    "        M[i][i+1] =  -4. * fVHM\n",
    "        M[i][i+2] = -1. * fVHM\n",
    "    \n",
    "    # Interpolate the first PD node\n",
    "    weights = interpolate_lagrange(x2[len(x2)-2], [x3[0],x3[1],x3[2]], [\"u1\",\"u2\",\"u3\"])\n",
    "    M[mid+1][mid+1] = -1 \n",
    "    M[mid+1][mid+3] = weights[0]\n",
    "    M[mid+1][mid+4] = weights[1]\n",
    "    M[mid+1][mid+5] = weights[2]\n",
    "\n",
    "    # Interpolate the second PD node\n",
    "    weights = interpolate_lagrange(x2[len(x2)-1], [x3[0],x3[1],x3[2]], [\"u1\",\"u2\",\"u3\"])\n",
    "    M[mid+2][mid+2] = -1\n",
    "    M[mid+2][mid+3] = weights[0]\n",
    "    M[mid+2][mid+4] = weights[1]\n",
    "    M[mid+2][mid+5] = weights[2]\n",
    "    \n",
    "    # Same end node and start node\n",
    "    M[mid+3][mid+3] = -1\n",
    "    M[mid+3][mid] = 1\n",
    "    \n",
    "    for i in range(mid+4,dim-1):\n",
    "        M[i][i-1] = -2 * fFDM\n",
    "        M[i][i] = 4 * fFDM\n",
    "        M[i][i+1] = -2 * fFDM\n",
    "\n",
    "    M[dim-1][dim-1] = 1\n",
    "        \n",
    "    return M"
   ]
  },
  {
   "cell_type": "code",
   "execution_count": 8,
   "id": "323c7f42",
   "metadata": {},
   "outputs": [],
   "source": [
    "h = 0.05\n",
    "hFD = 5 * h\n",
    "\n",
    "lenFD = 4 * hFD\n",
    "nFD = int(lenFD / hFD)+1\n",
    "n = int(lenFD / h)+1"
   ]
  },
  {
   "cell_type": "code",
   "execution_count": 9,
   "id": "c19c2a7e",
   "metadata": {},
   "outputs": [],
   "source": [
    "x1 = np.linspace(0,lenFD,nFD)"
   ]
  },
  {
   "cell_type": "code",
   "execution_count": 10,
   "id": "4b7e100a",
   "metadata": {},
   "outputs": [],
   "source": [
    "x2 = np.linspace(lenFD-2*h,2*lenFD+2*h,n+4)"
   ]
  },
  {
   "cell_type": "code",
   "execution_count": 11,
   "id": "206de291",
   "metadata": {},
   "outputs": [],
   "source": [
    "x3 = np.linspace(2*lenFD,3*lenFD,nFD)"
   ]
  },
  {
   "cell_type": "code",
   "execution_count": 12,
   "id": "82fa7275",
   "metadata": {},
   "outputs": [],
   "source": [
    "xFull = np.linspace(0,3*lenFD,3*nFD-2)"
   ]
  },
  {
   "cell_type": "code",
   "execution_count": 13,
   "metadata": {},
   "outputs": [],
   "source": [
    "xAll = np.concatenate([x1,x2,x3])"
   ]
  },
  {
   "cell_type": "code",
   "execution_count": 14,
   "metadata": {},
   "outputs": [
    {
     "name": "stdout",
     "output_type": "stream",
     "text": [
      "1.0\n"
     ]
    }
   ],
   "source": [
    "mid = nFD+n+1\n",
    "print(xAll[nFD+2])\n",
    "#print(xAll[nFD-1])\n",
    "#print(xAll[nFD-2])\n",
    "#print(xAll[nFD-3])"
   ]
  },
  {
   "cell_type": "code",
   "execution_count": 15,
   "id": "5b398133",
   "metadata": {},
   "outputs": [],
   "source": [
    "forceFD = forceFull(len(xFull),xFull)\n",
    "MFD = FDM(len(xFull),hFD)\n",
    "    \n",
    "uFDM = solve(MFD,forceFD) \n",
    "\n",
    "forceCoupled = forceCoupling(len(xAll),xAll)\n",
    "\n",
    "forceCoupled[nFD-1] = 0\n",
    "forceCoupled[nFD] = 0\n",
    "forceCoupled[nFD+1] = 0\n",
    "\n",
    "forceCoupled[nFD+n+2] = 0\n",
    "forceCoupled[nFD+n+3] = 0\n",
    "forceCoupled[nFD+n+4] = 0\n",
    "\n",
    "MCoupling = CouplingMDCM(n,h,nFD,hFD,x1,x2,x3)\n",
    "np.savetxt(\"m.csv\", MCoupling, delimiter=\",\")\n",
    "uCoupled = solve(MCoupling,forceCoupled) \n"
   ]
  },
  {
   "cell_type": "code",
   "execution_count": 16,
   "metadata": {},
   "outputs": [
    {
     "data": {
      "text/plain": [
       "array([ 0.        ,  5.77350269,  4.61880215,  3.46410162,  0.        ,\n",
       "        0.        ,  0.        ,  2.30940108,  2.07846097,  1.84752086,\n",
       "        1.61658075,  1.38564065,  1.15470054,  0.92376043,  0.69282032,\n",
       "        0.46188022,  0.23094011, -0.        , -0.23094011, -0.46188022,\n",
       "       -0.69282032, -0.92376043, -1.15470054, -1.38564065, -1.61658075,\n",
       "       -1.84752086, -2.07846097, -2.30940108,  0.        ,  0.        ,\n",
       "        0.        , -3.46410162, -4.61880215, -5.77350269,  0.        ])"
      ]
     },
     "execution_count": 16,
     "metadata": {},
     "output_type": "execute_result"
    }
   ],
   "source": [
    "forceCoupled"
   ]
  },
  {
   "cell_type": "code",
   "execution_count": 17,
   "metadata": {},
   "outputs": [],
   "source": [
    "xSlice = np.concatenate([xAll[0:nFD-1],xAll[nFD:nFD+n+4],xAll[nFD+n+5:]])"
   ]
  },
  {
   "cell_type": "code",
   "execution_count": 18,
   "metadata": {},
   "outputs": [],
   "source": [
    "uSlice = np.concatenate([uCoupled[0:nFD-1],uCoupled[nFD:nFD+n+4],uCoupled[nFD+n+5:]])"
   ]
  },
  {
   "cell_type": "code",
   "execution_count": 19,
   "metadata": {},
   "outputs": [
    {
     "data": {
      "image/png": "[encoded data removed]",
      "text/plain": [
       "<Figure size 432x288 with 1 Axes>"
      ]
     },
     "metadata": {
      "needs_background": "light"
     },
     "output_type": "display_data"
    }
   ],
   "source": [
    "plt.plot(xFull,uFDM,label=\"FDM\")\n",
    "plt.plot(xSlice,uSlice,label=\"Coupled\")\n",
    "plt.grid()\n",
    "plt.legend()\n",
    "plt.savefig(\"DCM-adative-endpoint-\"+str(example).lower()+\".pdf\")"
   ]
  },
  {
   "cell_type": "code",
   "execution_count": 20,
   "metadata": {},
   "outputs": [
    {
     "data": {
      "text/plain": [
       "<matplotlib.collections.PathCollection at 0x7f007d613bb0>"
      ]
     },
     "execution_count": 20,
     "metadata": {},
     "output_type": "execute_result"
    },
    {
     "data": {
      "image/png": "[encoded data removed]",
      "text/plain": [
       "<Figure size 432x288 with 1 Axes>"
      ]
     },
     "metadata": {
      "needs_background": "light"
     },
     "output_type": "display_data"
    }
   ],
   "source": [
    "plt.scatter(x1[nFD-3],x1[nFD-3])\n",
    "plt.scatter(x1[nFD-2],x1[nFD-2])\n",
    "plt.scatter(x1[nFD-1],x1[nFD-1])\n",
    "\n",
    "x = -0.07999999999999992 * x1[nFD-3] + 0.3599999999999996 *  x1[nFD-2] + 0.7200000000000003 * x1[nFD-1]\n",
    "plt.scatter(x2[1],x)"
   ]
  },
  {
   "cell_type": "code",
   "execution_count": 21,
   "metadata": {},
   "outputs": [
    {
     "data": {
      "text/plain": [
       "[0.7199999999999986, 0.3600000000000017, -0.08000000000000032]"
      ]
     },
     "execution_count": 21,
     "metadata": {},
     "output_type": "execute_result"
    }
   ],
   "source": [
    "interpolate_lagrange(x2[len(x2)-2], [x3[0],x3[1],x3[2]], [\"u1\",\"u2\",\"u3\"])"
   ]
  },
  {
   "cell_type": "code",
   "execution_count": 22,
   "metadata": {
    "scrolled": true
   },
   "outputs": [
    {
     "data": {
      "text/plain": [
       "<matplotlib.collections.PathCollection at 0x7f007aaddcc0>"
      ]
     },
     "execution_count": 22,
     "metadata": {},
     "output_type": "execute_result"
    },
    {
     "data": {
      "image/png": "[encoded data removed]",
      "text/plain": [
       "<Figure size 432x288 with 1 Axes>"
      ]
     },
     "metadata": {
      "needs_background": "light"
     },
     "output_type": "display_data"
    }
   ],
   "source": [
    "plt.scatter(x3[0],x3[0])\n",
    "plt.scatter(x3[1],x3[1])\n",
    "plt.scatter(x3[2],x3[2])\n",
    "\n",
    "x = 0.7199999999999986 * x3[0] + 0.3600000000000017 *  x3[1] + -0.08000000000000032 * x3[2]\n",
    "\n",
    "plt.scatter(x2[len(x2)-2],x)"
   ]
  },
  {
   "cell_type": "code",
   "execution_count": null,
   "metadata": {},
   "outputs": [],
   "source": []
  }
 ],
 "metadata": {
  "kernelspec": {
   "display_name": "Python 3",
   "language": "python",
   "name": "python3"
  },
  "language_info": {
   "codemirror_mode": {
    "name": "ipython",
    "version": 3
   },
   "file_extension": ".py",
   "mimetype": "text/x-python",
   "name": "python",
   "nbconvert_exporter": "python",
   "pygments_lexer": "ipython3",
   "version": "3.10.3"
  }
 },
 "nbformat": 4,
 "nbformat_minor": 5
}
