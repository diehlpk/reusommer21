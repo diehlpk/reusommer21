{
 "cells": [
  {
   "cell_type": "markdown",
   "id": "dea91a05",
   "metadata": {},
   "source": [
    "This file is part of https://github.com/diehlpk/reusommer21.\n",
    "\n",
    "Copyright (c) 2021 Patrick Diehl\n",
    "\n",
    "This program is free software: you can redistribute it and/or modify  \n",
    "it under the terms of the GNU General Public License as published by  \n",
    "the Free Software Foundation, version 3.\n",
    "\n",
    "This program is distributed in the hope that it will be useful, but \n",
    "WITHOUT ANY WARRANTY; without even the implied warranty of \n",
    "MERCHANTABILITY or FITNESS FOR A PARTICULAR PURPOSE. See the GNU \n",
    "General Public License for more details.\n",
    "\n",
    "You should have received a copy of the GNU General Public License along with this program. \n",
    "If not, see <http://www.gnu.org/licenses/>."
   ]
  },
  {
   "cell_type": "code",
   "execution_count": 1,
   "id": "1fb24ff3",
   "metadata": {},
   "outputs": [],
   "source": [
    "import numpy as np\n",
    "import matplotlib.pyplot as plt\n",
    "import sys"
   ]
  },
  {
   "cell_type": "code",
   "execution_count": 2,
   "id": "67219f28",
   "metadata": {},
   "outputs": [],
   "source": [
    "example = \"Cubic\""
   ]
  },
  {
   "cell_type": "code",
   "execution_count": 3,
   "id": "99942545",
   "metadata": {},
   "outputs": [],
   "source": [
    "#############################################################################\n",
    "# Exact solution \n",
    "#############################################################################\n",
    "\n",
    "def exactSolution(x):\n",
    "    \n",
    "    if example == \"Cubic\":\n",
    "        return (2/3/np.sqrt(3)) * ( 9*x - 9*x*x + 2 * x * x * x )\n",
    "    elif example == \"Quartic\":\n",
    "        return 16/9 * x * x - 32/27 * x * x * x + 16/81 * x * x * x * x\n",
    "    elif example == \"Quadratic\":\n",
    "        return  4/3 * x - 4/9 * x * x\n",
    "    elif example == \"Linear\":\n",
    "        return x\n",
    "    else:\n",
    "        print(\"Error: Either provide Linear, Quadratic, Quartic, or Cubic\")\n",
    "        sys.exit()"
   ]
  },
  {
   "cell_type": "code",
   "execution_count": 4,
   "id": "5e4233e9",
   "metadata": {},
   "outputs": [],
   "source": [
    "#############################################################################\n",
    "# Solve the system\n",
    "#############################################################################\n",
    "\n",
    "def solve(M,f):\n",
    "    return np.linalg.solve(M,f)"
   ]
  },
  {
   "cell_type": "code",
   "execution_count": 5,
   "id": "ac200231",
   "metadata": {},
   "outputs": [],
   "source": [
    "#############################################################################\n",
    "# Loading\n",
    "#############################################################################\n",
    "\n",
    "def f(x):\n",
    "    \n",
    "    if example == \"Cubic\":\n",
    "        return -( 2/np.sqrt(3)) * ( -6 + 4*x )\n",
    "    elif example == \"Quartic\":\n",
    "        return  -32/9 + 64/9 * x - 64/27 * x * x\n",
    "    elif example == \"Quadratic\":\n",
    "        return 8/9\n",
    "    else:\n",
    "        print(\"Error: Either provide Quadratic, Quartic, or Cubic\")\n",
    "        sys.exit()\n",
    "\n",
    "def forceFull(n,x):\n",
    "    \n",
    "    force = np.zeros(n)\n",
    "   \n",
    "    for i in range(1,n-1):\n",
    "        force[i] = f(x[i])\n",
    "    \n",
    "    force[n-1] = 0\n",
    "    \n",
    "    return force\n",
    "\n",
    "def forceCoupling(n,x):\n",
    "    \n",
    "    dim = 2*n + 2*n-1 + 4\n",
    "    \n",
    "    force = np.zeros(dim)\n",
    "   \n",
    "    for i in range(1,dim-1):\n",
    "        force[i] = f(x[i])\n",
    "    \n",
    "    force[dim-1] = 0\n",
    "    \n",
    "    return force"
   ]
  },
  {
   "cell_type": "code",
   "execution_count": 6,
   "id": "aa6f956d",
   "metadata": {},
   "outputs": [],
   "source": [
    "#############################################################################\n",
    "# Assemble the stiffness matrix for the finite difference model (FD)\n",
    "#############################################################################\n",
    "\n",
    "def FDM(n,h):\n",
    "\n",
    "    M = np.zeros([n,n])\n",
    "\n",
    "    M[0][0] = 1\n",
    "\n",
    "    for i in range(1,n-1):\n",
    "        M[i][i-1] = -2\n",
    "        M[i][i] = 4\n",
    "        M[i][i+1] = -2\n",
    "\n",
    "    M[n-1][n-1] = 1\n",
    "\n",
    "    M *= 1./(2.*h*h)\n",
    "\n",
    "    return M"
   ]
  },
  {
   "cell_type": "code",
   "execution_count": 7,
   "id": "617de1e0",
   "metadata": {},
   "outputs": [],
   "source": [
    "#############################################################################\n",
    "# Assemble the stiffness matrix for the coupling of FDM - VHM - FDM\n",
    "#############################################################################\n",
    "\n",
    "def CouplingMDCM(n,h,x):\n",
    "\n",
    "    fVHM = 1./(8.*h/2*h/2)\n",
    "    fFDM = 1./(2.*h*h)\n",
    "    \n",
    "    dim = 2*n + 2*n-1 + 4\n",
    "    \n",
    "    M = np.zeros([dim,dim])\n",
    "    \n",
    "    M[0][0] = 1 \n",
    "\n",
    "    for i in range(1,n-1):\n",
    "        M[i][i-1] = -2 * fFDM\n",
    "        M[i][i] = 4 * fFDM\n",
    "        M[i][i+1] = -2 * fFDM \n",
    "    \n",
    "    M[n-1][n-1] = -1 \n",
    "    M[n-1][n+2] = 1  \n",
    "    \n",
    "    M[n][n] = -1\n",
    "    M[n][n-2] = 1\n",
    "    \n",
    "    M[n+1][n+1] = -1\n",
    "    M[n+1][n-3] = -1/8\n",
    "    M[n+1][n-2] = 3/4\n",
    "    M[n+1][n-1] = 3/8\n",
    "         \n",
    "    mid = n+2*n+1\n",
    "    \n",
    "    for i in range(n+2,mid):\n",
    "        M[i][i-2] = -1. * fVHM\n",
    "        M[i][i-1] = -4. * fVHM\n",
    "        M[i][i] = 10. * fVHM\n",
    "        M[i][i+1] =  -4. * fVHM\n",
    "        M[i][i+2] = -1. * fVHM\n",
    "        \n",
    "    M[mid][mid] = -1 \n",
    "    M[mid][mid+2] = 3/8 \n",
    "    M[mid][mid+3] = 3/4\n",
    "    M[mid][mid+4] = -1/8\n",
    "\n",
    "    M[mid+1][mid+1] = -1\n",
    "    M[mid+1][mid+3] = 1\n",
    "    \n",
    "    M[mid+2][mid+2] = -1\n",
    "    M[mid+2][mid-1] = 1\n",
    "    \n",
    "    for i in range(mid+3,dim-1):\n",
    "        M[i][i-1] = -2 * fFDM\n",
    "        M[i][i] = 4 * fFDM\n",
    "        M[i][i+1] = -2 * fFDM\n",
    "\n",
    "    M[dim-1][dim-1] = 1\n",
    "    \n",
    "    np.savetxt(\"foo.csv\", M, delimiter=\",\")\n",
    "    \n",
    "    return M"
   ]
  },
  {
   "cell_type": "code",
   "execution_count": 8,
   "id": "30793f57",
   "metadata": {},
   "outputs": [],
   "source": [
    "def compute(i):\n",
    "    \n",
    "    n = np.power(2,int(i))\n",
    "    h = 1./n\n",
    "    nodes = n + 1\n",
    "    \n",
    "    print(nodes,h)\n",
    "    x1 = np.linspace(0,1,nodes)\n",
    "    x2 = np.linspace(1-2*h/2,2.+2*h/2,2*nodes-1+4)\n",
    "    x3 = np.linspace(2,3.,nodes)\n",
    "    x = np.array(np.concatenate((x1,x2,x3)))\n",
    "  \n",
    "    M = CouplingMDCM(nodes,h,x)\n",
    "    \n",
    "    f = forceCoupling(nodes,x)\n",
    "    \n",
    "    f[n] = 0\n",
    "    f[n+1] = 0\n",
    "    f[n+2] = 0\n",
    "    \n",
    "    mid = n+2*n+3\n",
    "     \n",
    "    f[mid+1] = 0\n",
    "    f[mid+2] = 0\n",
    "    f[mid+3] = 0\n",
    "    \n",
    "    u = solve(M,f)\n",
    "      \n",
    "    x1 = x[0:nodes]\n",
    "    x2 = x[nodes+3:mid+1]\n",
    "    x3 = x[mid+4:len(x)]\n",
    "    \n",
    "    u1 = u[0:nodes]\n",
    "    u2 = u[nodes+3:mid+1]\n",
    "    u3 = u[mid+4:len(x)]\n",
    "    \n",
    "    x = np.concatenate([x1,x2,x3])\n",
    "    u = np.concatenate([u1,u2,u3])\n",
    "    \n",
    "    plt.plot(x,u,label=\"$hFD=$\"+str(h))\n",
    "    plt.grid(True)\n",
    "    \n",
    "    x = np.arange(0,3+h/2,h/2)\n",
    "    interval = int(len(x)/3)\n",
    "    \n",
    "    forceFD = forceFull(len(x),x)\n",
    "    MFD = FDM(len(x),h/2)\n",
    "    \n",
    "    uFM = solve(MFD,forceFD)\n",
    "    \n",
    "    print(len(uFM),len(x))\n",
    "    \n",
    "    x1 = x[0:interval:2]\n",
    "    x2 = x[interval:2*interval]\n",
    "    x3 = x[2*interval:len(x):2]\n",
    "    x = np.concatenate([x1,x2,x3])\n",
    "    \n",
    "    uFD1 = uFM[0:interval:2]\n",
    "    uFD2 = uFM[interval:2*interval]\n",
    "    uFD3 = uFM[2*interval:len(uFM):2]\n",
    "    uFD = np.concatenate([uFD1,uFD2,uFD3])\n",
    "    \n",
    "    print(len(uFD),len(x))\n",
    "    \n",
    "    return u , uFD , x"
   ]
  },
  {
   "cell_type": "code",
   "execution_count": 9,
   "id": "64a5e641",
   "metadata": {},
   "outputs": [
    {
     "name": "stdout",
     "output_type": "stream",
     "text": [
      "5 0.25\n",
      "25 25\n",
      "17 17\n",
      "9 0.125\n",
      "49 49\n",
      "33 33\n",
      "17 0.0625\n",
      "97 97\n",
      "65 65\n",
      "33 0.03125\n",
      "193 193\n",
      "129 129\n"
     ]
    },
    {
     "data": {
      "text/plain": [
       "Text(0.5, 1.0, 'Quadratic solution ')"
      ]
     },
     "execution_count": 9,
     "metadata": {},
     "output_type": "execute_result"
    },
    {
     "data": {
      "image/png": "[encoded data removed]",
      "text/plain": [
       "<Figure size 432x288 with 1 Axes>"
      ]
     },
     "metadata": {
      "needs_background": "light"
     },
     "output_type": "display_data"
    }
   ],
   "source": [
    "uCoupled = []\n",
    "uLocal = []\n",
    "xLocal = []\n",
    "max_iteration = 6\n",
    "\n",
    "for i in range(2,max_iteration):\n",
    "    u , uFD , x = compute(i)\n",
    "    uCoupled.append(u)\n",
    "    uLocal.append(uFD)\n",
    "    xLocal.append(x)\n",
    "\n",
    "n = np.power(2,int(max_iteration))\n",
    "h = 1./n\n",
    "\n",
    "x = np.arange(0,3+h,h)\n",
    "plt.plot(x,exactSolution(x),label=\"Exact solution\")#\n",
    "plt.legend()\n",
    "plt.xlabel(r\"Position $x$\")\n",
    "plt.ylabel(r\"Displacement $u$\")\n",
    "plt.title(r\"Quadratic solution \")\n",
    "#plt.savefig(\"coupling-vhm-\"+str(example)+\"-dirchelt.pdf\")"
   ]
  },
  {
   "cell_type": "code",
   "execution_count": 10,
   "id": "3ae8f2b3",
   "metadata": {},
   "outputs": [
    {
     "data": {
      "image/png": "[encoded data removed]",
      "text/plain": [
       "<Figure size 432x288 with 1 Axes>"
      ]
     },
     "metadata": {
      "needs_background": "light"
     },
     "output_type": "display_data"
    }
   ],
   "source": [
    "plt.clf()\n",
    "markers = ['s','o','x','.']\n",
    "level = [4,8,16,32]\n",
    "\n",
    "for i in range(0,len(xLocal)):\n",
    "    n = np.power(2,i+4)\n",
    "    plt.plot(xLocal[i],uLocal[i]-uCoupled[i],color=\"black\",marker=markers[i],markevery=level[i],label=r\"$\\delta$=1/\"+str(int(n/2)))\n",
    "    \n",
    "plt.xlabel(r\"$x$\")\n",
    "plt.ylabel(r\"Error in displacement w.r.t FDM\")\n",
    "plt.title(r\"Example with \" + str(example).lower() + \" solution for MDCM with m = 2\")\n",
    "plt.grid()\n",
    "plt.axvline(x=1,c=\"#536872\")\n",
    "plt.axvline(x=2,c=\"#536872\")\n",
    "plt.legend()\n",
    "plt.savefig(\"coupling-MDCM-\"+str(example)+\"-dirchelt-error.pdf\",bbox_inches='tight')"
   ]
  },
  {
   "cell_type": "code",
   "execution_count": null,
   "id": "e63b006b",
   "metadata": {},
   "outputs": [],
   "source": []
  }
 ],
 "metadata": {
  "kernelspec": {
   "display_name": "Python 3",
   "language": "python",
   "name": "python3"
  },
  "language_info": {
   "codemirror_mode": {
    "name": "ipython",
    "version": 3
   },
   "file_extension": ".py",
   "mimetype": "text/x-python",
   "name": "python",
   "nbconvert_exporter": "python",
   "pygments_lexer": "ipython3",
   "version": "3.9.8"
  }
 },
 "nbformat": 4,
 "nbformat_minor": 5
}
