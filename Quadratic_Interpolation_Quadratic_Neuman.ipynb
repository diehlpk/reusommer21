{
 "cells": [
  {
   "cell_type": "code",
   "execution_count": 1,
   "metadata": {},
   "outputs": [],
   "source": [
    "import numpy as np \n",
    "import matplotlib.pyplot as plt "
   ]
  },
  {
   "cell_type": "code",
   "execution_count": 2,
   "metadata": {},
   "outputs": [],
   "source": [
    "h = 0.25"
   ]
  },
  {
   "cell_type": "code",
   "execution_count": 3,
   "metadata": {},
   "outputs": [],
   "source": [
    "fFD =  1./(2.*h*h) \n",
    "fPD =  1./(8.*h/2*h/2) "
   ]
  },
  {
   "cell_type": "code",
   "execution_count": 4,
   "metadata": {},
   "outputs": [],
   "source": [
    "M = np.zeros([23,23])"
   ]
  },
  {
   "cell_type": "code",
   "execution_count": 5,
   "metadata": {},
   "outputs": [],
   "source": [
    "M [0][0] = 1"
   ]
  },
  {
   "cell_type": "code",
   "execution_count": 6,
   "metadata": {},
   "outputs": [],
   "source": [
    "for i in range (1,4):\n",
    "    M [i][i-1] = -2 * fFD\n",
    "    M [i][i] = 4 * fFD\n",
    "    M [i][i+1] = -2 * fFD"
   ]
  },
  {
   "cell_type": "markdown",
   "metadata": {},
   "source": [
    "Match the displacement $u_3$ and $u_5$"
   ]
  },
  {
   "cell_type": "code",
   "execution_count": 7,
   "metadata": {},
   "outputs": [],
   "source": [
    "M [5][5] = -1\n",
    "M [5][3] = 1"
   ]
  },
  {
   "cell_type": "markdown",
   "metadata": {},
   "source": [
    "Match the displacement $u_4$ and $u_7$"
   ]
  },
  {
   "cell_type": "code",
   "execution_count": 8,
   "metadata": {},
   "outputs": [],
   "source": [
    "M [4][4] = -1\n",
    "M [4][7] = 1"
   ]
  },
  {
   "cell_type": "markdown",
   "metadata": {},
   "source": [
    "Interpolate the displacement $u_6$ and $u_6'$\n",
    "\n",
    "* $u_6'-u_6=0$\n",
    "* $\\frac{1}{2}\\left(u_3 + u_4\\right)-u_5=0$"
   ]
  },
  {
   "cell_type": "code",
   "execution_count": 9,
   "metadata": {},
   "outputs": [],
   "source": [
    "M [6][6] = -1\n",
    "M [6][2] = -1/8\n",
    "M [6][3] = 3/4\n",
    "M [6][4] = 3/8"
   ]
  },
  {
   "cell_type": "markdown",
   "metadata": {},
   "source": [
    "Apply the non-local model"
   ]
  },
  {
   "cell_type": "code",
   "execution_count": 10,
   "metadata": {},
   "outputs": [],
   "source": [
    "for i in range(7,16):\n",
    "    M[i][i-2] = -1.  * fPD\n",
    "    M[i][i-1] = -4. * fPD\n",
    "    M[i][i] = 10. * fPD\n",
    "    M[i][i+1] =  -4. * fPD\n",
    "    M[i][i+2] = -1. * fPD"
   ]
  },
  {
   "cell_type": "markdown",
   "metadata": {},
   "source": [
    "Interpolate the displacement $u_{16}$ and $u_{16}'$"
   ]
  },
  {
   "cell_type": "code",
   "execution_count": 11,
   "metadata": {},
   "outputs": [],
   "source": [
    "M [16][16] = -1\n",
    "M [16][18] = 3/8\n",
    "M [16][19] = 3/4\n",
    "M [16][20] = -1/8"
   ]
  },
  {
   "cell_type": "markdown",
   "metadata": {},
   "source": [
    "Match the displacement $u_{17}$ and $u_{19}$"
   ]
  },
  {
   "cell_type": "code",
   "execution_count": 12,
   "metadata": {},
   "outputs": [],
   "source": [
    "M [17][17] = -1\n",
    "M [17][19] = 1"
   ]
  },
  {
   "cell_type": "markdown",
   "metadata": {},
   "source": [
    "Match the displacement $u_{15}$ and $u_{18}$"
   ]
  },
  {
   "cell_type": "code",
   "execution_count": 13,
   "metadata": {},
   "outputs": [],
   "source": [
    "M [18][18] = -1\n",
    "M [18][15] = 1"
   ]
  },
  {
   "cell_type": "code",
   "execution_count": 14,
   "metadata": {},
   "outputs": [],
   "source": [
    "for i in range (19,22):\n",
    "    M [i][i-1] = -2  * fFD\n",
    "    M [i][i] = 4 * fFD\n",
    "    M [i][i+1] = -2 * fFD"
   ]
  },
  {
   "cell_type": "code",
   "execution_count": 15,
   "metadata": {},
   "outputs": [],
   "source": [
    "M [22][22] = 11/6/h\n",
    "M [22][21] = -18/6/h\n",
    "M [22][20] = 9/6/h\n",
    "M [22][19] = -2/6/h"
   ]
  },
  {
   "cell_type": "code",
   "execution_count": 16,
   "metadata": {},
   "outputs": [
    {
     "data": {
      "text/plain": [
       "array([[  1.        ,   0.        ,   0.        ,   0.        ,\n",
       "          0.        ,   0.        ,   0.        ,   0.        ,\n",
       "          0.        ,   0.        ,   0.        ,   0.        ,\n",
       "          0.        ,   0.        ,   0.        ,   0.        ,\n",
       "          0.        ,   0.        ,   0.        ,   0.        ,\n",
       "          0.        ,   0.        ,   0.        ],\n",
       "       [-16.        ,  32.        , -16.        ,   0.        ,\n",
       "          0.        ,   0.        ,   0.        ,   0.        ,\n",
       "          0.        ,   0.        ,   0.        ,   0.        ,\n",
       "          0.        ,   0.        ,   0.        ,   0.        ,\n",
       "          0.        ,   0.        ,   0.        ,   0.        ,\n",
       "          0.        ,   0.        ,   0.        ],\n",
       "       [  0.        , -16.        ,  32.        , -16.        ,\n",
       "          0.        ,   0.        ,   0.        ,   0.        ,\n",
       "          0.        ,   0.        ,   0.        ,   0.        ,\n",
       "          0.        ,   0.        ,   0.        ,   0.        ,\n",
       "          0.        ,   0.        ,   0.        ,   0.        ,\n",
       "          0.        ,   0.        ,   0.        ],\n",
       "       [  0.        ,   0.        , -16.        ,  32.        ,\n",
       "        -16.        ,   0.        ,   0.        ,   0.        ,\n",
       "          0.        ,   0.        ,   0.        ,   0.        ,\n",
       "          0.        ,   0.        ,   0.        ,   0.        ,\n",
       "          0.        ,   0.        ,   0.        ,   0.        ,\n",
       "          0.        ,   0.        ,   0.        ],\n",
       "       [  0.        ,   0.        ,   0.        ,   0.        ,\n",
       "         -1.        ,   0.        ,   0.        ,   1.        ,\n",
       "          0.        ,   0.        ,   0.        ,   0.        ,\n",
       "          0.        ,   0.        ,   0.        ,   0.        ,\n",
       "          0.        ,   0.        ,   0.        ,   0.        ,\n",
       "          0.        ,   0.        ,   0.        ],\n",
       "       [  0.        ,   0.        ,   0.        ,   1.        ,\n",
       "          0.        ,  -1.        ,   0.        ,   0.        ,\n",
       "          0.        ,   0.        ,   0.        ,   0.        ,\n",
       "          0.        ,   0.        ,   0.        ,   0.        ,\n",
       "          0.        ,   0.        ,   0.        ,   0.        ,\n",
       "          0.        ,   0.        ,   0.        ],\n",
       "       [  0.        ,   0.        ,  -0.125     ,   0.75      ,\n",
       "          0.375     ,   0.        ,  -1.        ,   0.        ,\n",
       "          0.        ,   0.        ,   0.        ,   0.        ,\n",
       "          0.        ,   0.        ,   0.        ,   0.        ,\n",
       "          0.        ,   0.        ,   0.        ,   0.        ,\n",
       "          0.        ,   0.        ,   0.        ],\n",
       "       [  0.        ,   0.        ,   0.        ,   0.        ,\n",
       "          0.        ,  -8.        , -32.        ,  80.        ,\n",
       "        -32.        ,  -8.        ,   0.        ,   0.        ,\n",
       "          0.        ,   0.        ,   0.        ,   0.        ,\n",
       "          0.        ,   0.        ,   0.        ,   0.        ,\n",
       "          0.        ,   0.        ,   0.        ],\n",
       "       [  0.        ,   0.        ,   0.        ,   0.        ,\n",
       "          0.        ,   0.        ,  -8.        , -32.        ,\n",
       "         80.        , -32.        ,  -8.        ,   0.        ,\n",
       "          0.        ,   0.        ,   0.        ,   0.        ,\n",
       "          0.        ,   0.        ,   0.        ,   0.        ,\n",
       "          0.        ,   0.        ,   0.        ],\n",
       "       [  0.        ,   0.        ,   0.        ,   0.        ,\n",
       "          0.        ,   0.        ,   0.        ,  -8.        ,\n",
       "        -32.        ,  80.        , -32.        ,  -8.        ,\n",
       "          0.        ,   0.        ,   0.        ,   0.        ,\n",
       "          0.        ,   0.        ,   0.        ,   0.        ,\n",
       "          0.        ,   0.        ,   0.        ],\n",
       "       [  0.        ,   0.        ,   0.        ,   0.        ,\n",
       "          0.        ,   0.        ,   0.        ,   0.        ,\n",
       "         -8.        , -32.        ,  80.        , -32.        ,\n",
       "         -8.        ,   0.        ,   0.        ,   0.        ,\n",
       "          0.        ,   0.        ,   0.        ,   0.        ,\n",
       "          0.        ,   0.        ,   0.        ],\n",
       "       [  0.        ,   0.        ,   0.        ,   0.        ,\n",
       "          0.        ,   0.        ,   0.        ,   0.        ,\n",
       "          0.        ,  -8.        , -32.        ,  80.        ,\n",
       "        -32.        ,  -8.        ,   0.        ,   0.        ,\n",
       "          0.        ,   0.        ,   0.        ,   0.        ,\n",
       "          0.        ,   0.        ,   0.        ],\n",
       "       [  0.        ,   0.        ,   0.        ,   0.        ,\n",
       "          0.        ,   0.        ,   0.        ,   0.        ,\n",
       "          0.        ,   0.        ,  -8.        , -32.        ,\n",
       "         80.        , -32.        ,  -8.        ,   0.        ,\n",
       "          0.        ,   0.        ,   0.        ,   0.        ,\n",
       "          0.        ,   0.        ,   0.        ],\n",
       "       [  0.        ,   0.        ,   0.        ,   0.        ,\n",
       "          0.        ,   0.        ,   0.        ,   0.        ,\n",
       "          0.        ,   0.        ,   0.        ,  -8.        ,\n",
       "        -32.        ,  80.        , -32.        ,  -8.        ,\n",
       "          0.        ,   0.        ,   0.        ,   0.        ,\n",
       "          0.        ,   0.        ,   0.        ],\n",
       "       [  0.        ,   0.        ,   0.        ,   0.        ,\n",
       "          0.        ,   0.        ,   0.        ,   0.        ,\n",
       "          0.        ,   0.        ,   0.        ,   0.        ,\n",
       "         -8.        , -32.        ,  80.        , -32.        ,\n",
       "         -8.        ,   0.        ,   0.        ,   0.        ,\n",
       "          0.        ,   0.        ,   0.        ],\n",
       "       [  0.        ,   0.        ,   0.        ,   0.        ,\n",
       "          0.        ,   0.        ,   0.        ,   0.        ,\n",
       "          0.        ,   0.        ,   0.        ,   0.        ,\n",
       "          0.        ,  -8.        , -32.        ,  80.        ,\n",
       "        -32.        ,  -8.        ,   0.        ,   0.        ,\n",
       "          0.        ,   0.        ,   0.        ],\n",
       "       [  0.        ,   0.        ,   0.        ,   0.        ,\n",
       "          0.        ,   0.        ,   0.        ,   0.        ,\n",
       "          0.        ,   0.        ,   0.        ,   0.        ,\n",
       "          0.        ,   0.        ,   0.        ,   0.        ,\n",
       "         -1.        ,   0.        ,   0.375     ,   0.75      ,\n",
       "         -0.125     ,   0.        ,   0.        ],\n",
       "       [  0.        ,   0.        ,   0.        ,   0.        ,\n",
       "          0.        ,   0.        ,   0.        ,   0.        ,\n",
       "          0.        ,   0.        ,   0.        ,   0.        ,\n",
       "          0.        ,   0.        ,   0.        ,   0.        ,\n",
       "          0.        ,  -1.        ,   0.        ,   1.        ,\n",
       "          0.        ,   0.        ,   0.        ],\n",
       "       [  0.        ,   0.        ,   0.        ,   0.        ,\n",
       "          0.        ,   0.        ,   0.        ,   0.        ,\n",
       "          0.        ,   0.        ,   0.        ,   0.        ,\n",
       "          0.        ,   0.        ,   0.        ,   1.        ,\n",
       "          0.        ,   0.        ,  -1.        ,   0.        ,\n",
       "          0.        ,   0.        ,   0.        ],\n",
       "       [  0.        ,   0.        ,   0.        ,   0.        ,\n",
       "          0.        ,   0.        ,   0.        ,   0.        ,\n",
       "          0.        ,   0.        ,   0.        ,   0.        ,\n",
       "          0.        ,   0.        ,   0.        ,   0.        ,\n",
       "          0.        ,   0.        , -16.        ,  32.        ,\n",
       "        -16.        ,   0.        ,   0.        ],\n",
       "       [  0.        ,   0.        ,   0.        ,   0.        ,\n",
       "          0.        ,   0.        ,   0.        ,   0.        ,\n",
       "          0.        ,   0.        ,   0.        ,   0.        ,\n",
       "          0.        ,   0.        ,   0.        ,   0.        ,\n",
       "          0.        ,   0.        ,   0.        , -16.        ,\n",
       "         32.        , -16.        ,   0.        ],\n",
       "       [  0.        ,   0.        ,   0.        ,   0.        ,\n",
       "          0.        ,   0.        ,   0.        ,   0.        ,\n",
       "          0.        ,   0.        ,   0.        ,   0.        ,\n",
       "          0.        ,   0.        ,   0.        ,   0.        ,\n",
       "          0.        ,   0.        ,   0.        ,   0.        ,\n",
       "        -16.        ,  32.        , -16.        ],\n",
       "       [  0.        ,   0.        ,   0.        ,   0.        ,\n",
       "          0.        ,   0.        ,   0.        ,   0.        ,\n",
       "          0.        ,   0.        ,   0.        ,   0.        ,\n",
       "          0.        ,   0.        ,   0.        ,   0.        ,\n",
       "          0.        ,   0.        ,   0.        ,  -1.33333333,\n",
       "          6.        , -12.        ,   7.33333333]])"
      ]
     },
     "execution_count": 16,
     "metadata": {},
     "output_type": "execute_result"
    }
   ],
   "source": [
    "M"
   ]
  },
  {
   "cell_type": "markdown",
   "metadata": {},
   "source": [
    "Contruct the force vector"
   ]
  },
  {
   "cell_type": "code",
   "execution_count": 17,
   "metadata": {},
   "outputs": [],
   "source": [
    "f = np.zeros([23])"
   ]
  },
  {
   "cell_type": "code",
   "execution_count": 18,
   "metadata": {},
   "outputs": [],
   "source": [
    "for i in range(1,22):\n",
    "    f[i] =  -2"
   ]
  },
  {
   "cell_type": "code",
   "execution_count": 19,
   "metadata": {},
   "outputs": [],
   "source": [
    "f [4] = 0 # the displacememnt is matching therefore the force is zero\n",
    "f [5] = 0 \n",
    "f [6] = 0 \n",
    "f [18] = 0 \n",
    "f [16] = 0\n",
    "f [17] = 0\n",
    "f[22] = 6"
   ]
  },
  {
   "cell_type": "code",
   "execution_count": 20,
   "metadata": {},
   "outputs": [
    {
     "data": {
      "text/plain": [
       "array([ 0., -2., -2., -2.,  0.,  0.,  0., -2., -2., -2., -2., -2., -2.,\n",
       "       -2., -2., -2.,  0.,  0.,  0., -2., -2., -2.,  6.])"
      ]
     },
     "execution_count": 20,
     "metadata": {},
     "output_type": "execute_result"
    }
   ],
   "source": [
    "f"
   ]
  },
  {
   "cell_type": "code",
   "execution_count": 21,
   "metadata": {},
   "outputs": [
    {
     "data": {
      "text/plain": [
       "array([1.11022302e-16, 6.25000000e-02, 2.50000000e-01, 5.62500000e-01,\n",
       "       1.00000000e+00, 5.62500000e-01, 7.65625000e-01, 1.00000000e+00,\n",
       "       1.26562500e+00, 1.56250000e+00, 1.89062500e+00, 2.25000000e+00,\n",
       "       2.64062500e+00, 3.06250000e+00, 3.51562500e+00, 4.00000000e+00,\n",
       "       4.51562500e+00, 5.06250000e+00, 4.00000000e+00, 5.06250000e+00,\n",
       "       6.25000000e+00, 7.56250000e+00, 9.00000000e+00])"
      ]
     },
     "execution_count": 21,
     "metadata": {},
     "output_type": "execute_result"
    }
   ],
   "source": [
    "u = np.linalg.solve(M,f)\n",
    "u"
   ]
  },
  {
   "cell_type": "code",
   "execution_count": 22,
   "metadata": {},
   "outputs": [
    {
     "data": {
      "text/plain": [
       "array([0.   , 0.25 , 0.5  , 0.75 , 1.   , 1.125, 1.25 , 1.375, 1.5  ,\n",
       "       1.625, 1.75 , 1.875, 2.   , 2.25 , 2.5  , 2.75 , 3.   ])"
      ]
     },
     "execution_count": 22,
     "metadata": {},
     "output_type": "execute_result"
    }
   ],
   "source": [
    "x1 = np.arange(0,1,0.25)\n",
    "x2 = np.arange(1,2,0.125)\n",
    "x3 = np.arange(2,3.25,0.25)\n",
    "x20 = np.array(np.concatenate((x1,x2,x3)))\n",
    "x20"
   ]
  },
  {
   "cell_type": "code",
   "execution_count": 23,
   "metadata": {},
   "outputs": [
    {
     "data": {
      "text/plain": [
       "array([1.11022302e-16, 6.25000000e-02, 2.50000000e-01, 5.62500000e-01,\n",
       "       1.00000000e+00, 1.26562500e+00, 1.56250000e+00, 1.89062500e+00,\n",
       "       2.25000000e+00, 2.64062500e+00, 3.06250000e+00, 3.51562500e+00,\n",
       "       4.00000000e+00, 5.06250000e+00, 6.25000000e+00, 7.56250000e+00,\n",
       "       9.00000000e+00])"
      ]
     },
     "execution_count": 23,
     "metadata": {},
     "output_type": "execute_result"
    }
   ],
   "source": [
    "uSlice = np.array(np.concatenate((u[0:5],u[8:15],u[18:len(u)])))\n",
    "uSlice"
   ]
  },
  {
   "cell_type": "code",
   "execution_count": 24,
   "metadata": {},
   "outputs": [
    {
     "data": {
      "text/plain": [
       "23"
      ]
     },
     "execution_count": 24,
     "metadata": {},
     "output_type": "execute_result"
    }
   ],
   "source": [
    "len(u)"
   ]
  },
  {
   "cell_type": "code",
   "execution_count": 25,
   "metadata": {},
   "outputs": [
    {
     "data": {
      "text/plain": [
       "17"
      ]
     },
     "execution_count": 25,
     "metadata": {},
     "output_type": "execute_result"
    }
   ],
   "source": [
    "len(uSlice)"
   ]
  },
  {
   "cell_type": "code",
   "execution_count": 26,
   "metadata": {},
   "outputs": [
    {
     "data": {
      "text/plain": [
       "17"
      ]
     },
     "execution_count": 26,
     "metadata": {},
     "output_type": "execute_result"
    }
   ],
   "source": [
    "len(x20)"
   ]
  },
  {
   "cell_type": "code",
   "execution_count": 27,
   "metadata": {},
   "outputs": [
    {
     "data": {
      "image/png": "[encoded data removed]",
      "text/plain": [
       "<Figure size 432x288 with 1 Axes>"
      ]
     },
     "metadata": {
      "needs_background": "light"
     },
     "output_type": "display_data"
    }
   ],
   "source": [
    "plt.plot(x20,uSlice)\n",
    "plt.grid()"
   ]
  },
  {
   "cell_type": "code",
   "execution_count": 28,
   "metadata": {},
   "outputs": [],
   "source": [
    "h2= 0.125"
   ]
  },
  {
   "cell_type": "code",
   "execution_count": 29,
   "metadata": {},
   "outputs": [],
   "source": [
    "fFD2 =  1./(2.*h2*h2) \n",
    "fPD2 =  1./(8.*h2/2*h2/2) "
   ]
  },
  {
   "cell_type": "code",
   "execution_count": 30,
   "metadata": {},
   "outputs": [],
   "source": [
    "M2 = np.zeros([39,39])"
   ]
  },
  {
   "cell_type": "code",
   "execution_count": 31,
   "metadata": {},
   "outputs": [],
   "source": [
    "M2 [0][0] = 1"
   ]
  },
  {
   "cell_type": "code",
   "execution_count": 32,
   "metadata": {},
   "outputs": [],
   "source": [
    "for i in range (1, 8):\n",
    "    M2[i][i-1]=-2 * fFD2\n",
    "    M2[i][i]= 4 * fFD2\n",
    "    M2[i][i+1]= -2 * fFD2"
   ]
  },
  {
   "cell_type": "markdown",
   "metadata": {},
   "source": [
    "Match the dispacement between $u_7$ and $u_9$"
   ]
  },
  {
   "cell_type": "code",
   "execution_count": 33,
   "metadata": {},
   "outputs": [],
   "source": [
    "M2[9][9]= -1\n",
    "M2[9][7]=1"
   ]
  },
  {
   "cell_type": "markdown",
   "metadata": {},
   "source": [
    "Match the dispacement between $u_8$ and $u_{11}$"
   ]
  },
  {
   "cell_type": "code",
   "execution_count": 34,
   "metadata": {},
   "outputs": [],
   "source": [
    "M2[8][8]= -1\n",
    "M2[8][11]=1"
   ]
  },
  {
   "cell_type": "markdown",
   "metadata": {},
   "source": [
    "Interpolate the displacement $u_{10}$ and $u_{9}'$\n",
    "\n",
    "* $u_{10}'-u_{10}=0$\n",
    "* $\\frac{1}{2}\\left(u_7 + u_8\\right)-u_{10}=0$"
   ]
  },
  {
   "cell_type": "code",
   "execution_count": 35,
   "metadata": {},
   "outputs": [],
   "source": [
    "M2 [10][10] = -1\n",
    "M2 [10][6] = -1/8\n",
    "M2 [10][7] = 3/4\n",
    "M2 [10][8] = 3/8"
   ]
  },
  {
   "cell_type": "markdown",
   "metadata": {},
   "source": [
    "Apply the non-local model"
   ]
  },
  {
   "cell_type": "code",
   "execution_count": 36,
   "metadata": {},
   "outputs": [],
   "source": [
    "for i in range(11,28):\n",
    "    M2[i][i-2] = -1.  * fPD2\n",
    "    M2[i][i-1] = -4. * fPD2\n",
    "    M2[i][i] = 10. * fPD2\n",
    "    M2[i][i+1] =  -4. * fPD2\n",
    "    M2[i][i+2] = -1. * fPD2"
   ]
  },
  {
   "cell_type": "markdown",
   "metadata": {},
   "source": [
    "Interpolate the displacement $u_{28}$ and $u_{28}'$\n",
    "\n",
    "* $u_{28}'-u_{28}=0$\n",
    "* $\\frac{1}{2}\\left(u_{30} + u_{31}\\right)-u_{28}=0$"
   ]
  },
  {
   "cell_type": "code",
   "execution_count": 37,
   "metadata": {},
   "outputs": [],
   "source": [
    "M2 [28][28] = -1\n",
    "M2 [28][30] = 3/8\n",
    "M2 [28][31] = 3/4\n",
    "M2 [28][32] = -1/8"
   ]
  },
  {
   "cell_type": "markdown",
   "metadata": {},
   "source": [
    "Match the displacement $u_{29}$ and $u_{31}$"
   ]
  },
  {
   "cell_type": "code",
   "execution_count": 38,
   "metadata": {},
   "outputs": [],
   "source": [
    "M2 [29][29] = -1\n",
    "M2 [29][31] = 1"
   ]
  },
  {
   "cell_type": "markdown",
   "metadata": {},
   "source": [
    "Match the displacement $u_{27}$ and $u_{30}$"
   ]
  },
  {
   "cell_type": "code",
   "execution_count": 39,
   "metadata": {},
   "outputs": [],
   "source": [
    "M2 [30][30] = -1\n",
    "M2 [30][27] = 1"
   ]
  },
  {
   "cell_type": "code",
   "execution_count": 40,
   "metadata": {},
   "outputs": [],
   "source": [
    "for i in range (31, 38):\n",
    "    M2[i][i-1]=-2 * fFD2\n",
    "    M2[i][i]= 4 * fFD2\n",
    "    M2[i][i+1]= -2 * fFD2"
   ]
  },
  {
   "cell_type": "code",
   "execution_count": 41,
   "metadata": {},
   "outputs": [
    {
     "data": {
      "text/plain": [
       "array([[  1.        ,   0.        ,   0.        , ...,   0.        ,\n",
       "          0.        ,   0.        ],\n",
       "       [-64.        , 128.        , -64.        , ...,   0.        ,\n",
       "          0.        ,   0.        ],\n",
       "       [  0.        , -64.        , 128.        , ...,   0.        ,\n",
       "          0.        ,   0.        ],\n",
       "       ...,\n",
       "       [  0.        ,   0.        ,   0.        , ..., 128.        ,\n",
       "        -64.        ,   0.        ],\n",
       "       [  0.        ,   0.        ,   0.        , ..., -64.        ,\n",
       "        128.        , -64.        ],\n",
       "       [  0.        ,   0.        ,   0.        , ...,  12.        ,\n",
       "        -24.        ,  14.66666667]])"
      ]
     },
     "execution_count": 41,
     "metadata": {},
     "output_type": "execute_result"
    }
   ],
   "source": [
    "M2 [38][38] = 11/6/h2\n",
    "M2 [38][37] = -18/6/h2\n",
    "M2 [38][36] = 9/6/h2\n",
    "M2 [38][35] = -2/6/h2\n",
    "M2"
   ]
  },
  {
   "cell_type": "code",
   "execution_count": 42,
   "metadata": {},
   "outputs": [],
   "source": [
    "f2 = np.zeros([39])"
   ]
  },
  {
   "cell_type": "code",
   "execution_count": 43,
   "metadata": {},
   "outputs": [],
   "source": [
    "for i in range(1,38):\n",
    "    f2[i] =  -2"
   ]
  },
  {
   "cell_type": "code",
   "execution_count": 44,
   "metadata": {},
   "outputs": [
    {
     "data": {
      "text/plain": [
       "array([ 0., -2., -2., -2., -2., -2., -2., -2.,  0.,  0.,  0., -2., -2.,\n",
       "       -2., -2., -2., -2., -2., -2., -2., -2., -2., -2., -2., -2., -2.,\n",
       "       -2., -2.,  0.,  0.,  0., -2., -2., -2., -2., -2., -2., -2.,  6.])"
      ]
     },
     "execution_count": 44,
     "metadata": {},
     "output_type": "execute_result"
    }
   ],
   "source": [
    "f2 [8] = 0 # the displacememnt is matching therefore the force is zero\n",
    "f2 [9] = 0 \n",
    "f2 [10] = 0 \n",
    "f2 [30] = 0 \n",
    "f2 [28] = 0\n",
    "f2 [29] = 0\n",
    "f2 [38] =6\n",
    "f2"
   ]
  },
  {
   "cell_type": "code",
   "execution_count": 45,
   "metadata": {},
   "outputs": [
    {
     "data": {
      "text/plain": [
       "array([-0.        ,  0.015625  ,  0.0625    ,  0.140625  ,  0.25      ,\n",
       "        0.390625  ,  0.5625    ,  0.765625  ,  1.        ,  0.765625  ,\n",
       "        0.87890625,  1.        ,  1.12890625,  1.265625  ,  1.41015625,\n",
       "        1.5625    ,  1.72265625,  1.890625  ,  2.06640625,  2.25      ,\n",
       "        2.44140625,  2.640625  ,  2.84765625,  3.0625    ,  3.28515625,\n",
       "        3.515625  ,  3.75390625,  4.        ,  4.25390625,  4.515625  ,\n",
       "        4.        ,  4.515625  ,  5.0625    ,  5.640625  ,  6.25      ,\n",
       "        6.890625  ,  7.5625    ,  8.265625  ,  9.        ])"
      ]
     },
     "execution_count": 45,
     "metadata": {},
     "output_type": "execute_result"
    }
   ],
   "source": [
    "u2 = np.linalg.solve(M2,f2)\n",
    "u2"
   ]
  },
  {
   "cell_type": "code",
   "execution_count": 46,
   "metadata": {},
   "outputs": [
    {
     "data": {
      "text/plain": [
       "array([0.    , 0.125 , 0.25  , 0.375 , 0.5   , 0.625 , 0.75  , 0.875 ,\n",
       "       1.    , 1.0625, 1.125 , 1.1875, 1.25  , 1.3125, 1.375 , 1.4375,\n",
       "       1.5   , 1.5625, 1.625 , 1.6875, 1.75  , 1.8125, 1.875 , 1.9375,\n",
       "       2.    , 2.125 , 2.25  , 2.375 , 2.5   , 2.625 , 2.75  , 2.875 ,\n",
       "       3.    ])"
      ]
     },
     "execution_count": 46,
     "metadata": {},
     "output_type": "execute_result"
    }
   ],
   "source": [
    "x4 = np.arange(0,1,0.125)\n",
    "x5 = np.arange(1,2,0.0625)\n",
    "x6 = np.arange(2,3.125,0.125)\n",
    "x7 = np.array(np.concatenate((x4,x5,x6)))\n",
    "x7"
   ]
  },
  {
   "cell_type": "code",
   "execution_count": 47,
   "metadata": {},
   "outputs": [
    {
     "data": {
      "text/plain": [
       "array([-0.        ,  0.015625  ,  0.0625    ,  0.140625  ,  0.25      ,\n",
       "        0.390625  ,  0.5625    ,  0.765625  ,  1.        ,  1.12890625,\n",
       "        1.265625  ,  1.41015625,  1.5625    ,  1.72265625,  1.890625  ,\n",
       "        2.06640625,  2.25      ,  2.44140625,  2.640625  ,  2.84765625,\n",
       "        3.0625    ,  3.28515625,  3.515625  ,  3.75390625,  4.        ,\n",
       "        4.515625  ,  5.0625    ,  5.640625  ,  6.25      ,  6.890625  ,\n",
       "        7.5625    ,  8.265625  ,  9.        ])"
      ]
     },
     "execution_count": 47,
     "metadata": {},
     "output_type": "execute_result"
    }
   ],
   "source": [
    "uSlice2 = np.array(np.concatenate((u2[0:9],u2[12:27],u2[30:len(u2)])))\n",
    "uSlice2"
   ]
  },
  {
   "cell_type": "code",
   "execution_count": 48,
   "metadata": {},
   "outputs": [
    {
     "data": {
      "text/plain": [
       "39"
      ]
     },
     "execution_count": 48,
     "metadata": {},
     "output_type": "execute_result"
    }
   ],
   "source": [
    "len(u2)"
   ]
  },
  {
   "cell_type": "code",
   "execution_count": 49,
   "metadata": {},
   "outputs": [
    {
     "data": {
      "text/plain": [
       "33"
      ]
     },
     "execution_count": 49,
     "metadata": {},
     "output_type": "execute_result"
    }
   ],
   "source": [
    "len(x7)"
   ]
  },
  {
   "cell_type": "code",
   "execution_count": 50,
   "metadata": {},
   "outputs": [
    {
     "data": {
      "text/plain": [
       "33"
      ]
     },
     "execution_count": 50,
     "metadata": {},
     "output_type": "execute_result"
    }
   ],
   "source": [
    "len(uSlice2)"
   ]
  },
  {
   "cell_type": "code",
   "execution_count": 51,
   "metadata": {},
   "outputs": [
    {
     "data": {
      "image/png": "[encoded data removed]",
      "text/plain": [
       "<Figure size 432x288 with 1 Axes>"
      ]
     },
     "metadata": {
      "needs_background": "light"
     },
     "output_type": "display_data"
    }
   ],
   "source": [
    "plt.plot(x7,uSlice2)\n",
    "plt.grid()"
   ]
  },
  {
   "cell_type": "code",
   "execution_count": 52,
   "metadata": {},
   "outputs": [],
   "source": [
    "h3=0.0625"
   ]
  },
  {
   "cell_type": "code",
   "execution_count": 53,
   "metadata": {},
   "outputs": [],
   "source": [
    "fFD3 =  1./(2.*h3*h3) \n",
    "fPD3 =  1./(8.*h3/2*h3/2) "
   ]
  },
  {
   "cell_type": "code",
   "execution_count": 54,
   "metadata": {},
   "outputs": [],
   "source": [
    "M3 = np.zeros([71,71])"
   ]
  },
  {
   "cell_type": "code",
   "execution_count": 55,
   "metadata": {},
   "outputs": [],
   "source": [
    "M3 [0][0] = 1"
   ]
  },
  {
   "cell_type": "code",
   "execution_count": 56,
   "metadata": {},
   "outputs": [],
   "source": [
    "for i in range (1, 16):\n",
    "    M3[i][i-1]=-2 * fFD3\n",
    "    M3[i][i]= 4 * fFD3\n",
    "    M3[i][i+1]= -2 * fFD3"
   ]
  },
  {
   "cell_type": "markdown",
   "metadata": {},
   "source": [
    "Match the dispacement between $u_{15}$ and $u_{17}$"
   ]
  },
  {
   "cell_type": "code",
   "execution_count": 57,
   "metadata": {},
   "outputs": [],
   "source": [
    "M3[17][17]= -1\n",
    "M3[17][15]=1"
   ]
  },
  {
   "cell_type": "markdown",
   "metadata": {},
   "source": [
    "Match the dispacement between $u_{16}$ and $u_{19}$"
   ]
  },
  {
   "cell_type": "code",
   "execution_count": 58,
   "metadata": {},
   "outputs": [],
   "source": [
    "M3[16][16]= -1\n",
    "M3[16][19]=1"
   ]
  },
  {
   "cell_type": "markdown",
   "metadata": {},
   "source": [
    "Interpolate the displacement $u_{18}$ and $u_{18}'$\n",
    "\n",
    "* $u_{18}'-u_{18}=0$\n",
    "* $\\frac{1}{2}\\left(u_{15} + u_{16}\\right)-u_{18}=0$"
   ]
  },
  {
   "cell_type": "code",
   "execution_count": 59,
   "metadata": {},
   "outputs": [],
   "source": [
    "M3 [18][18] = -1\n",
    "M3 [18][14]= -1/8\n",
    "M3 [18][15] = 3/4\n",
    "M3 [18][16] = 3/8"
   ]
  },
  {
   "cell_type": "markdown",
   "metadata": {},
   "source": [
    "Apply the non-local model"
   ]
  },
  {
   "cell_type": "code",
   "execution_count": 60,
   "metadata": {},
   "outputs": [],
   "source": [
    "for i in range(19,52):\n",
    "    M3[i][i-2] = -1.  * fPD3\n",
    "    M3[i][i-1] = -4. * fPD3\n",
    "    M3[i][i] = 10. * fPD3\n",
    "    M3[i][i+1] =  -4. * fPD3\n",
    "    M3[i][i+2] = -1. * fPD3"
   ]
  },
  {
   "cell_type": "markdown",
   "metadata": {},
   "source": [
    "Interpolate the displacement $u_{52}$ and $u_{52}'$\n",
    "\n",
    "* $u_{52}'-u_{52}=0$\n",
    "* $\\frac{1}{2}\\left(u_{54} + u_{55}\\right)-u_{52}=0$"
   ]
  },
  {
   "cell_type": "code",
   "execution_count": 61,
   "metadata": {},
   "outputs": [],
   "source": [
    "M3 [52][52] = -1\n",
    "M3 [52][54] = 3/8\n",
    "M3 [52][55] = 3/4\n",
    "M3 [52][56] = -1/8"
   ]
  },
  {
   "cell_type": "markdown",
   "metadata": {},
   "source": [
    "Match the displacement $u_{51}$ and $u_{54}$"
   ]
  },
  {
   "cell_type": "code",
   "execution_count": 62,
   "metadata": {},
   "outputs": [],
   "source": [
    "M3 [54][54] = -1\n",
    "M3 [54][51] = 1"
   ]
  },
  {
   "cell_type": "markdown",
   "metadata": {},
   "source": [
    "Match the displacement $u_{53}$ and $u_{55}$"
   ]
  },
  {
   "cell_type": "code",
   "execution_count": 63,
   "metadata": {},
   "outputs": [],
   "source": [
    "M3 [53][53] = -1\n",
    "M3 [53][55] = 1"
   ]
  },
  {
   "cell_type": "code",
   "execution_count": 64,
   "metadata": {},
   "outputs": [],
   "source": [
    "for i in range (55, 70):\n",
    "    M3[i][i-1]=-2 * fFD3\n",
    "    M3[i][i]= 4 * fFD3\n",
    "    M3[i][i+1]= -2 * fFD3"
   ]
  },
  {
   "cell_type": "code",
   "execution_count": 65,
   "metadata": {},
   "outputs": [
    {
     "data": {
      "text/plain": [
       "array([[   1.        ,    0.        ,    0.        , ...,    0.        ,\n",
       "           0.        ,    0.        ],\n",
       "       [-256.        ,  512.        , -256.        , ...,    0.        ,\n",
       "           0.        ,    0.        ],\n",
       "       [   0.        , -256.        ,  512.        , ...,    0.        ,\n",
       "           0.        ,    0.        ],\n",
       "       ...,\n",
       "       [   0.        ,    0.        ,    0.        , ...,  512.        ,\n",
       "        -256.        ,    0.        ],\n",
       "       [   0.        ,    0.        ,    0.        , ..., -256.        ,\n",
       "         512.        , -256.        ],\n",
       "       [   0.        ,    0.        ,    0.        , ...,   24.        ,\n",
       "         -48.        ,   29.33333333]])"
      ]
     },
     "execution_count": 65,
     "metadata": {},
     "output_type": "execute_result"
    }
   ],
   "source": [
    "M3 [70][70] = 11/6/h3\n",
    "M3 [70][69] = -18/6/h3\n",
    "M3 [70][68] = 9/6/h3\n",
    "M3 [70][67] = -2/6/h3\n",
    "M3"
   ]
  },
  {
   "cell_type": "code",
   "execution_count": 66,
   "metadata": {},
   "outputs": [],
   "source": [
    "f3 = np.zeros([71])"
   ]
  },
  {
   "cell_type": "code",
   "execution_count": 67,
   "metadata": {},
   "outputs": [],
   "source": [
    "for i in range(1,70):\n",
    "    f3[i] =  -2"
   ]
  },
  {
   "cell_type": "code",
   "execution_count": 68,
   "metadata": {},
   "outputs": [
    {
     "data": {
      "text/plain": [
       "array([ 0., -2., -2., -2., -2., -2., -2., -2., -2., -2., -2., -2., -2.,\n",
       "       -2., -2., -2.,  0.,  0.,  0., -2., -2., -2., -2., -2., -2., -2.,\n",
       "       -2., -2., -2., -2., -2., -2., -2., -2., -2., -2., -2., -2., -2.,\n",
       "       -2., -2., -2., -2., -2., -2., -2., -2., -2., -2., -2., -2., -2.,\n",
       "        0.,  0.,  0., -2., -2., -2., -2., -2., -2., -2., -2., -2., -2.,\n",
       "       -2., -2., -2., -2., -2.,  6.])"
      ]
     },
     "execution_count": 68,
     "metadata": {},
     "output_type": "execute_result"
    }
   ],
   "source": [
    "f3 [16] = 0 # the displacememnt is matching therefore the force is zero\n",
    "f3 [17] = 0 \n",
    "f3 [18] = 0 \n",
    "f3 [52] = 0 \n",
    "f3 [53] = 0\n",
    "f3 [54] = 0\n",
    "f3 [70] = 6\n",
    "f3"
   ]
  },
  {
   "cell_type": "code",
   "execution_count": 69,
   "metadata": {},
   "outputs": [
    {
     "data": {
      "text/plain": [
       "array([-8.88178420e-16,  3.90625000e-03,  1.56250000e-02,  3.51562500e-02,\n",
       "        6.25000000e-02,  9.76562500e-02,  1.40625000e-01,  1.91406250e-01,\n",
       "        2.50000000e-01,  3.16406250e-01,  3.90625000e-01,  4.72656250e-01,\n",
       "        5.62500000e-01,  6.60156250e-01,  7.65625000e-01,  8.78906250e-01,\n",
       "        1.00000000e+00,  8.78906250e-01,  9.38476563e-01,  1.00000000e+00,\n",
       "        1.06347656e+00,  1.12890625e+00,  1.19628906e+00,  1.26562500e+00,\n",
       "        1.33691406e+00,  1.41015625e+00,  1.48535156e+00,  1.56250000e+00,\n",
       "        1.64160156e+00,  1.72265625e+00,  1.80566406e+00,  1.89062500e+00,\n",
       "        1.97753906e+00,  2.06640625e+00,  2.15722656e+00,  2.25000000e+00,\n",
       "        2.34472656e+00,  2.44140625e+00,  2.54003906e+00,  2.64062500e+00,\n",
       "        2.74316406e+00,  2.84765625e+00,  2.95410156e+00,  3.06250000e+00,\n",
       "        3.17285156e+00,  3.28515625e+00,  3.39941406e+00,  3.51562500e+00,\n",
       "        3.63378906e+00,  3.75390625e+00,  3.87597656e+00,  4.00000000e+00,\n",
       "        4.12597656e+00,  4.25390625e+00,  4.00000000e+00,  4.25390625e+00,\n",
       "        4.51562500e+00,  4.78515625e+00,  5.06250000e+00,  5.34765625e+00,\n",
       "        5.64062500e+00,  5.94140625e+00,  6.25000000e+00,  6.56640625e+00,\n",
       "        6.89062500e+00,  7.22265625e+00,  7.56250000e+00,  7.91015625e+00,\n",
       "        8.26562500e+00,  8.62890625e+00,  9.00000000e+00])"
      ]
     },
     "execution_count": 69,
     "metadata": {},
     "output_type": "execute_result"
    }
   ],
   "source": [
    "u3 = np.linalg.solve(M3,f3)\n",
    "u3"
   ]
  },
  {
   "cell_type": "code",
   "execution_count": 70,
   "metadata": {},
   "outputs": [
    {
     "data": {
      "text/plain": [
       "array([0.     , 0.0625 , 0.125  , 0.1875 , 0.25   , 0.3125 , 0.375  ,\n",
       "       0.4375 , 0.5    , 0.5625 , 0.625  , 0.6875 , 0.75   , 0.8125 ,\n",
       "       0.875  , 0.9375 , 1.     , 1.03125, 1.0625 , 1.09375, 1.125  ,\n",
       "       1.15625, 1.1875 , 1.21875, 1.25   , 1.28125, 1.3125 , 1.34375,\n",
       "       1.375  , 1.40625, 1.4375 , 1.46875, 1.5    , 1.53125, 1.5625 ,\n",
       "       1.59375, 1.625  , 1.65625, 1.6875 , 1.71875, 1.75   , 1.78125,\n",
       "       1.8125 , 1.84375, 1.875  , 1.90625, 1.9375 , 1.96875, 2.     ,\n",
       "       2.0625 , 2.125  , 2.1875 , 2.25   , 2.3125 , 2.375  , 2.4375 ,\n",
       "       2.5    , 2.5625 , 2.625  , 2.6875 , 2.75   , 2.8125 , 2.875  ,\n",
       "       2.9375 , 3.     ])"
      ]
     },
     "execution_count": 70,
     "metadata": {},
     "output_type": "execute_result"
    }
   ],
   "source": [
    "x8 = np.arange(0,1,0.0625)\n",
    "x9 = np.arange(1,2,0.03125)\n",
    "x10 = np.arange(2,3.0625,0.0625)\n",
    "x11 = np.array(np.concatenate((x8,x9,x10)))\n",
    "x11"
   ]
  },
  {
   "cell_type": "code",
   "execution_count": 71,
   "metadata": {
    "scrolled": true
   },
   "outputs": [
    {
     "data": {
      "text/plain": [
       "array([-8.88178420e-16,  3.90625000e-03,  1.56250000e-02,  3.51562500e-02,\n",
       "        6.25000000e-02,  9.76562500e-02,  1.40625000e-01,  1.91406250e-01,\n",
       "        2.50000000e-01,  3.16406250e-01,  3.90625000e-01,  4.72656250e-01,\n",
       "        5.62500000e-01,  6.60156250e-01,  7.65625000e-01,  8.78906250e-01,\n",
       "        1.00000000e+00,  1.06347656e+00,  1.12890625e+00,  1.19628906e+00,\n",
       "        1.26562500e+00,  1.33691406e+00,  1.41015625e+00,  1.48535156e+00,\n",
       "        1.56250000e+00,  1.64160156e+00,  1.72265625e+00,  1.80566406e+00,\n",
       "        1.89062500e+00,  1.97753906e+00,  2.06640625e+00,  2.15722656e+00,\n",
       "        2.25000000e+00,  2.34472656e+00,  2.44140625e+00,  2.54003906e+00,\n",
       "        2.64062500e+00,  2.74316406e+00,  2.84765625e+00,  2.95410156e+00,\n",
       "        3.06250000e+00,  3.17285156e+00,  3.28515625e+00,  3.39941406e+00,\n",
       "        3.51562500e+00,  3.63378906e+00,  3.75390625e+00,  3.87597656e+00,\n",
       "        4.00000000e+00,  4.25390625e+00,  4.51562500e+00,  4.78515625e+00,\n",
       "        5.06250000e+00,  5.34765625e+00,  5.64062500e+00,  5.94140625e+00,\n",
       "        6.25000000e+00,  6.56640625e+00,  6.89062500e+00,  7.22265625e+00,\n",
       "        7.56250000e+00,  7.91015625e+00,  8.26562500e+00,  8.62890625e+00,\n",
       "        9.00000000e+00])"
      ]
     },
     "execution_count": 71,
     "metadata": {},
     "output_type": "execute_result"
    }
   ],
   "source": [
    "uSlice3 = np.array(np.concatenate((u3[0:17],u3[20:52],u3[55:len(u3)])))\n",
    "uSlice3"
   ]
  },
  {
   "cell_type": "code",
   "execution_count": 72,
   "metadata": {},
   "outputs": [
    {
     "data": {
      "text/plain": [
       "65"
      ]
     },
     "execution_count": 72,
     "metadata": {},
     "output_type": "execute_result"
    }
   ],
   "source": [
    "len(uSlice3)"
   ]
  },
  {
   "cell_type": "code",
   "execution_count": 73,
   "metadata": {},
   "outputs": [
    {
     "data": {
      "text/plain": [
       "65"
      ]
     },
     "execution_count": 73,
     "metadata": {},
     "output_type": "execute_result"
    }
   ],
   "source": [
    "len(x11)"
   ]
  },
  {
   "cell_type": "code",
   "execution_count": 74,
   "metadata": {},
   "outputs": [
    {
     "data": {
      "text/plain": [
       "71"
      ]
     },
     "execution_count": 74,
     "metadata": {},
     "output_type": "execute_result"
    }
   ],
   "source": [
    "len(u3)"
   ]
  },
  {
   "cell_type": "code",
   "execution_count": 75,
   "metadata": {},
   "outputs": [
    {
     "data": {
      "image/png": "[encoded data removed]",
      "text/plain": [
       "<Figure size 432x288 with 1 Axes>"
      ]
     },
     "metadata": {
      "needs_background": "light"
     },
     "output_type": "display_data"
    }
   ],
   "source": [
    "plt.plot(x7,uSlice2)\n",
    "plt.grid()"
   ]
  },
  {
   "cell_type": "code",
   "execution_count": 76,
   "metadata": {},
   "outputs": [],
   "source": [
    "def FDM (n,h):\n",
    "    \n",
    "    M4=np.zeros([n,n])\n",
    "\n",
    "    M4[0][0] = 1\n",
    "\n",
    "    for i in range(1,n-1):\n",
    "        M4[i][i-1] = -2 \n",
    "        M4[i][i] = 4 \n",
    "        M4[i][i+1] = -2\n",
    "\n",
    "    M4[n-1][n-1] = 11*h/3\n",
    "    M4[n-1][n-2] = -18*h/3\n",
    "    M4[n-1][n-3] = 9*h/3\n",
    "    M4[n-1][n-4] = -2*h/3\n",
    "    \n",
    "\n",
    "    M4 *= 1./(2.*h*h)\n",
    "\n",
    "    return M4"
   ]
  },
  {
   "cell_type": "code",
   "execution_count": 77,
   "metadata": {},
   "outputs": [
    {
     "data": {
      "text/plain": [
       "49"
      ]
     },
     "execution_count": 77,
     "metadata": {},
     "output_type": "execute_result"
    }
   ],
   "source": [
    "MFDM=FDM (49,0.0625)\n",
    "len(MFDM)"
   ]
  },
  {
   "cell_type": "code",
   "execution_count": 78,
   "metadata": {},
   "outputs": [
    {
     "data": {
      "text/plain": [
       "49"
      ]
     },
     "execution_count": 78,
     "metadata": {},
     "output_type": "execute_result"
    }
   ],
   "source": [
    "fFDM=np.zeros([49])\n",
    "len(fFDM)"
   ]
  },
  {
   "cell_type": "code",
   "execution_count": 79,
   "metadata": {},
   "outputs": [
    {
     "data": {
      "text/plain": [
       "array([ 0., -2., -2., -2., -2., -2., -2., -2., -2., -2., -2., -2., -2.,\n",
       "       -2., -2., -2., -2., -2., -2., -2., -2., -2., -2., -2., -2., -2.,\n",
       "       -2., -2., -2., -2., -2., -2., -2., -2., -2., -2., -2., -2., -2.,\n",
       "       -2., -2., -2., -2., -2., -2., -2., -2., -2.,  6.])"
      ]
     },
     "execution_count": 79,
     "metadata": {},
     "output_type": "execute_result"
    }
   ],
   "source": [
    "for i in range(1,48):\n",
    "    fFDM[i] = -2\n",
    "fFDM [48] = 6\n",
    "fFDM"
   ]
  },
  {
   "cell_type": "code",
   "execution_count": 80,
   "metadata": {},
   "outputs": [
    {
     "data": {
      "text/plain": [
       "array([-0.00000000e+00,  3.90625000e-03,  1.56250000e-02,  3.51562500e-02,\n",
       "        6.25000000e-02,  9.76562500e-02,  1.40625000e-01,  1.91406250e-01,\n",
       "        2.50000000e-01,  3.16406250e-01,  3.90625000e-01,  4.72656250e-01,\n",
       "        5.62500000e-01,  6.60156250e-01,  7.65625000e-01,  8.78906250e-01,\n",
       "        1.00000000e+00,  1.12890625e+00,  1.26562500e+00,  1.41015625e+00,\n",
       "        1.56250000e+00,  1.72265625e+00,  1.89062500e+00,  2.06640625e+00,\n",
       "        2.25000000e+00,  2.44140625e+00,  2.64062500e+00,  2.84765625e+00,\n",
       "        3.06250000e+00,  3.28515625e+00,  3.51562500e+00,  3.75390625e+00,\n",
       "        4.00000000e+00,  4.25390625e+00,  4.51562500e+00,  4.78515625e+00,\n",
       "        5.06250000e+00,  5.34765625e+00,  5.64062500e+00,  5.94140625e+00,\n",
       "        6.25000000e+00,  6.56640625e+00,  6.89062500e+00,  7.22265625e+00,\n",
       "        7.56250000e+00,  7.91015625e+00,  8.26562500e+00,  8.62890625e+00,\n",
       "        9.00000000e+00])"
      ]
     },
     "execution_count": 80,
     "metadata": {},
     "output_type": "execute_result"
    }
   ],
   "source": [
    "uFDM = np.linalg.solve(MFDM,fFDM)\n",
    "uFDM"
   ]
  },
  {
   "cell_type": "code",
   "execution_count": 81,
   "metadata": {},
   "outputs": [
    {
     "data": {
      "text/plain": [
       "49"
      ]
     },
     "execution_count": 81,
     "metadata": {},
     "output_type": "execute_result"
    }
   ],
   "source": [
    "xFDM = np.arange(0,3.0625,0.0625)\n",
    "xFDM\n",
    "len (xFDM)"
   ]
  },
  {
   "cell_type": "code",
   "execution_count": 82,
   "metadata": {},
   "outputs": [
    {
     "data": {
      "text/plain": [
       "49"
      ]
     },
     "execution_count": 82,
     "metadata": {},
     "output_type": "execute_result"
    }
   ],
   "source": [
    "MFDM= FDM(4,1)\n",
    "len(fFDM)"
   ]
  },
  {
   "cell_type": "code",
   "execution_count": 83,
   "metadata": {},
   "outputs": [
    {
     "data": {
      "text/plain": [
       "array([ 0., -2., -2., -2., -2., -2., -2., -2., -2., -2., -2., -2., -2.,\n",
       "       -2., -2., -2., -2., -2., -2., -2., -2., -2., -2., -2., -2., -2.,\n",
       "       -2., -2., -2., -2., -2., -2., -2., -2., -2., -2., -2., -2., -2.,\n",
       "       -2., -2., -2., -2., -2., -2., -2., -2., -2.,  6.])"
      ]
     },
     "execution_count": 83,
     "metadata": {},
     "output_type": "execute_result"
    }
   ],
   "source": [
    "for i in range(1,3):\n",
    "    fFDM[i] = -2\n",
    "fFDM"
   ]
  },
  {
   "cell_type": "code",
   "execution_count": 84,
   "metadata": {},
   "outputs": [
    {
     "data": {
      "text/plain": [
       "Text(0.5, 1.0, 'Quadratic solution ')"
      ]
     },
     "execution_count": 84,
     "metadata": {},
     "output_type": "execute_result"
    },
    {
     "data": {
      "image/png": "[encoded data removed]",
      "text/plain": [
       "<Figure size 432x288 with 1 Axes>"
      ]
     },
     "metadata": {
      "needs_background": "light"
     },
     "output_type": "display_data"
    }
   ],
   "source": [
    "plt.grid()\n",
    "plt.plot(x20,uSlice,label=\"hFD=0.25\")\n",
    "plt.plot(x7,uSlice2,label=\"hFD=0.125\")\n",
    "plt.plot(x11,uSlice3,label=\"hFD=0.0625\")\n",
    "plt.plot(xFDM,uFDM,label= \"FDM h=0.0625\")\n",
    "plt.legend()\n",
    "plt.xlabel(r\"Position $x$\")\n",
    "plt.ylabel(r\"Displacement $u$\")\n",
    "plt.title(r\"Quadratic solution \")"
   ]
  },
  {
   "cell_type": "code",
   "execution_count": 85,
   "metadata": {},
   "outputs": [
    {
     "data": {
      "text/plain": [
       "97"
      ]
     },
     "execution_count": 85,
     "metadata": {},
     "output_type": "execute_result"
    }
   ],
   "source": [
    "MFDM=FDM (49*2-1,0.0625/2)\n",
    "len(MFDM)"
   ]
  },
  {
   "cell_type": "code",
   "execution_count": 86,
   "metadata": {},
   "outputs": [
    {
     "data": {
      "text/plain": [
       "97"
      ]
     },
     "execution_count": 86,
     "metadata": {},
     "output_type": "execute_result"
    }
   ],
   "source": [
    "fFDM=np.zeros([49*2-1])\n",
    "len(fFDM)"
   ]
  },
  {
   "cell_type": "code",
   "execution_count": 87,
   "metadata": {},
   "outputs": [
    {
     "data": {
      "text/plain": [
       "65"
      ]
     },
     "execution_count": 87,
     "metadata": {},
     "output_type": "execute_result"
    }
   ],
   "source": [
    "len(uSlice3)"
   ]
  },
  {
   "cell_type": "code",
   "execution_count": 88,
   "metadata": {},
   "outputs": [
    {
     "data": {
      "text/plain": [
       "array([0.     , 0.03125, 0.0625 , 0.09375, 0.125  , 0.15625, 0.1875 ,\n",
       "       0.21875, 0.25   , 0.28125, 0.3125 , 0.34375, 0.375  , 0.40625,\n",
       "       0.4375 , 0.46875, 0.5    , 0.53125, 0.5625 , 0.59375, 0.625  ,\n",
       "       0.65625, 0.6875 , 0.71875, 0.75   , 0.78125, 0.8125 , 0.84375,\n",
       "       0.875  , 0.90625, 0.9375 , 0.96875, 1.     , 1.03125, 1.0625 ,\n",
       "       1.09375, 1.125  , 1.15625, 1.1875 , 1.21875, 1.25   , 1.28125,\n",
       "       1.3125 , 1.34375, 1.375  , 1.40625, 1.4375 , 1.46875, 1.5    ,\n",
       "       1.53125, 1.5625 , 1.59375, 1.625  , 1.65625, 1.6875 , 1.71875,\n",
       "       1.75   , 1.78125, 1.8125 , 1.84375, 1.875  , 1.90625, 1.9375 ,\n",
       "       1.96875, 2.     , 2.03125, 2.0625 , 2.09375, 2.125  , 2.15625,\n",
       "       2.1875 , 2.21875, 2.25   , 2.28125, 2.3125 , 2.34375, 2.375  ,\n",
       "       2.40625, 2.4375 , 2.46875, 2.5    , 2.53125, 2.5625 , 2.59375,\n",
       "       2.625  , 2.65625, 2.6875 , 2.71875, 2.75   , 2.78125, 2.8125 ,\n",
       "       2.84375, 2.875  , 2.90625, 2.9375 , 2.96875, 3.     ])"
      ]
     },
     "execution_count": 88,
     "metadata": {},
     "output_type": "execute_result"
    }
   ],
   "source": [
    "x = np.arange(0,3+0.0625/2,0.0625/2)\n",
    "x"
   ]
  },
  {
   "cell_type": "code",
   "execution_count": 89,
   "metadata": {},
   "outputs": [
    {
     "data": {
      "text/plain": [
       "array([0.    , 0.0625, 0.125 , 0.1875, 0.25  , 0.3125, 0.375 , 0.4375,\n",
       "       0.5   , 0.5625, 0.625 , 0.6875, 0.75  , 0.8125, 0.875 , 0.9375])"
      ]
     },
     "execution_count": 89,
     "metadata": {},
     "output_type": "execute_result"
    }
   ],
   "source": [
    "x[0:32:2]"
   ]
  },
  {
   "cell_type": "code",
   "execution_count": 90,
   "metadata": {},
   "outputs": [
    {
     "data": {
      "text/plain": [
       "array([2.    , 2.0625, 2.125 , 2.1875, 2.25  , 2.3125, 2.375 , 2.4375,\n",
       "       2.5   , 2.5625, 2.625 , 2.6875, 2.75  , 2.8125, 2.875 , 2.9375,\n",
       "       3.    ])"
      ]
     },
     "execution_count": 90,
     "metadata": {},
     "output_type": "execute_result"
    }
   ],
   "source": [
    "x[len(x)-33:len(x):2]"
   ]
  },
  {
   "cell_type": "code",
   "execution_count": 91,
   "metadata": {},
   "outputs": [
    {
     "data": {
      "text/plain": [
       "array([ 0., -2., -2., -2., -2., -2., -2., -2., -2., -2., -2., -2., -2.,\n",
       "       -2., -2., -2., -2., -2., -2., -2., -2., -2., -2., -2., -2., -2.,\n",
       "       -2., -2., -2., -2., -2., -2., -2., -2., -2., -2., -2., -2., -2.,\n",
       "       -2., -2., -2., -2., -2., -2., -2., -2., -2., -2., -2., -2., -2.,\n",
       "       -2., -2., -2., -2., -2., -2., -2., -2., -2., -2., -2., -2., -2.,\n",
       "       -2., -2., -2., -2., -2., -2., -2., -2., -2., -2., -2., -2., -2.,\n",
       "       -2., -2., -2., -2., -2., -2., -2., -2., -2., -2., -2., -2., -2.,\n",
       "       -2., -2., -2., -2., -2.,  6.])"
      ]
     },
     "execution_count": 91,
     "metadata": {},
     "output_type": "execute_result"
    }
   ],
   "source": [
    "for i in range(1,49*2-2):\n",
    "    fFDM[i] = -2\n",
    "fFDM [49*2-2] = 6\n",
    "fFDM"
   ]
  },
  {
   "cell_type": "code",
   "execution_count": 92,
   "metadata": {},
   "outputs": [
    {
     "data": {
      "text/plain": [
       "array([-0.00000000e+00,  9.76562500e-04,  3.90625000e-03,  8.78906250e-03,\n",
       "        1.56250000e-02,  2.44140625e-02,  3.51562500e-02,  4.78515625e-02,\n",
       "        6.25000000e-02,  7.91015625e-02,  9.76562500e-02,  1.18164062e-01,\n",
       "        1.40625000e-01,  1.65039062e-01,  1.91406250e-01,  2.19726562e-01,\n",
       "        2.50000000e-01,  2.82226562e-01,  3.16406250e-01,  3.52539062e-01,\n",
       "        3.90625000e-01,  4.30664062e-01,  4.72656250e-01,  5.16601562e-01,\n",
       "        5.62500000e-01,  6.10351562e-01,  6.60156250e-01,  7.11914062e-01,\n",
       "        7.65625000e-01,  8.21289062e-01,  8.78906250e-01,  9.38476562e-01,\n",
       "        1.00000000e+00,  1.06347656e+00,  1.12890625e+00,  1.19628906e+00,\n",
       "        1.26562500e+00,  1.33691406e+00,  1.41015625e+00,  1.48535156e+00,\n",
       "        1.56250000e+00,  1.64160156e+00,  1.72265625e+00,  1.80566406e+00,\n",
       "        1.89062500e+00,  1.97753906e+00,  2.06640625e+00,  2.15722656e+00,\n",
       "        2.25000000e+00,  2.34472656e+00,  2.44140625e+00,  2.54003906e+00,\n",
       "        2.64062500e+00,  2.74316406e+00,  2.84765625e+00,  2.95410156e+00,\n",
       "        3.06250000e+00,  3.17285156e+00,  3.28515625e+00,  3.39941406e+00,\n",
       "        3.51562500e+00,  3.63378906e+00,  3.75390625e+00,  3.87597656e+00,\n",
       "        4.00000000e+00,  4.12597656e+00,  4.25390625e+00,  4.38378906e+00,\n",
       "        4.51562500e+00,  4.64941406e+00,  4.78515625e+00,  4.92285156e+00,\n",
       "        5.06250000e+00,  5.20410156e+00,  5.34765625e+00,  5.49316406e+00,\n",
       "        5.64062500e+00,  5.79003906e+00,  5.94140625e+00,  6.09472656e+00,\n",
       "        6.25000000e+00,  6.40722656e+00,  6.56640625e+00,  6.72753906e+00,\n",
       "        6.89062500e+00,  7.05566406e+00,  7.22265625e+00,  7.39160156e+00,\n",
       "        7.56250000e+00,  7.73535156e+00,  7.91015625e+00,  8.08691406e+00,\n",
       "        8.26562500e+00,  8.44628906e+00,  8.62890625e+00,  8.81347656e+00,\n",
       "        9.00000000e+00])"
      ]
     },
     "execution_count": 92,
     "metadata": {},
     "output_type": "execute_result"
    }
   ],
   "source": [
    "uFDM4 = np.linalg.solve(MFDM,fFDM)\n",
    "uFDM4"
   ]
  },
  {
   "cell_type": "code",
   "execution_count": 93,
   "metadata": {},
   "outputs": [
    {
     "data": {
      "text/plain": [
       "array([1.03125, 1.0625 , 1.09375, 1.125  , 1.15625, 1.1875 , 1.21875,\n",
       "       1.25   , 1.28125, 1.3125 , 1.34375, 1.375  , 1.40625, 1.4375 ,\n",
       "       1.46875, 1.5    , 1.53125, 1.5625 , 1.59375, 1.625  , 1.65625,\n",
       "       1.6875 , 1.71875, 1.75   , 1.78125, 1.8125 , 1.84375, 1.875  ,\n",
       "       1.90625, 1.9375 ])"
      ]
     },
     "execution_count": 93,
     "metadata": {},
     "output_type": "execute_result"
    }
   ],
   "source": [
    "x[33:len(uFDM4)-34:1]"
   ]
  },
  {
   "cell_type": "code",
   "execution_count": 94,
   "metadata": {},
   "outputs": [],
   "source": [
    "xSlice = np.array(np.concatenate((x[0:31:2],x[32:len(uFDM4)-31:1],x[len(uFDM4)-32:len(uFDM4):2])))"
   ]
  },
  {
   "cell_type": "code",
   "execution_count": 95,
   "metadata": {},
   "outputs": [
    {
     "data": {
      "text/plain": [
       "66"
      ]
     },
     "execution_count": 95,
     "metadata": {},
     "output_type": "execute_result"
    }
   ],
   "source": [
    "len(xSlice)"
   ]
  },
  {
   "cell_type": "code",
   "execution_count": 96,
   "metadata": {},
   "outputs": [
    {
     "data": {
      "text/plain": [
       "array([0.     , 0.0625 , 0.125  , 0.1875 , 0.25   , 0.3125 , 0.375  ,\n",
       "       0.4375 , 0.5    , 0.5625 , 0.625  , 0.6875 , 0.75   , 0.8125 ,\n",
       "       0.875  , 0.9375 , 1.     , 1.03125, 1.0625 , 1.09375, 1.125  ,\n",
       "       1.15625, 1.1875 , 1.21875, 1.25   , 1.28125, 1.3125 , 1.34375,\n",
       "       1.375  , 1.40625, 1.4375 , 1.46875, 1.5    , 1.53125, 1.5625 ,\n",
       "       1.59375, 1.625  , 1.65625, 1.6875 , 1.71875, 1.75   , 1.78125,\n",
       "       1.8125 , 1.84375, 1.875  , 1.90625, 1.9375 , 1.96875, 2.     ,\n",
       "       2.03125, 2.03125, 2.09375, 2.15625, 2.21875, 2.28125, 2.34375,\n",
       "       2.40625, 2.46875, 2.53125, 2.59375, 2.65625, 2.71875, 2.78125,\n",
       "       2.84375, 2.90625, 2.96875])"
      ]
     },
     "execution_count": 96,
     "metadata": {},
     "output_type": "execute_result"
    }
   ],
   "source": [
    "xSlice"
   ]
  },
  {
   "cell_type": "code",
   "execution_count": 97,
   "metadata": {},
   "outputs": [
    {
     "data": {
      "text/plain": [
       "65"
      ]
     },
     "execution_count": 97,
     "metadata": {},
     "output_type": "execute_result"
    }
   ],
   "source": [
    "len(x11)"
   ]
  },
  {
   "cell_type": "code",
   "execution_count": 98,
   "metadata": {},
   "outputs": [
    {
     "data": {
      "text/plain": [
       "array([ 0., -2., -2., -2., -2., -2., -2., -2., -2., -2., -2., -2., -2.,\n",
       "       -2., -2., -2., -2., -2., -2., -2., -2., -2., -2., -2., -2., -2.,\n",
       "       -2., -2., -2., -2., -2., -2., -2., -2., -2., -2., -2., -2., -2.,\n",
       "       -2., -2., -2., -2., -2., -2., -2., -2., -2., -2., -2., -2., -2.,\n",
       "       -2., -2., -2., -2., -2., -2., -2., -2., -2., -2., -2., -2., -2.,\n",
       "       -2., -2., -2., -2., -2., -2., -2., -2., -2., -2., -2., -2., -2.,\n",
       "       -2., -2., -2., -2., -2., -2., -2., -2., -2., -2., -2., -2., -2.,\n",
       "       -2., -2., -2., -2., -2.,  6.])"
      ]
     },
     "execution_count": 98,
     "metadata": {},
     "output_type": "execute_result"
    }
   ],
   "source": [
    "for i in range(1,49*2-2):\n",
    "    fFDM[i] = -2\n",
    "fFDM"
   ]
  },
  {
   "cell_type": "code",
   "execution_count": 99,
   "metadata": {},
   "outputs": [],
   "source": [
    "uFDM4Slice = np.array(np.concatenate((uFDM4[0:33:2],uFDM4[33:len(uFDM4)-33:1],uFDM4[len(uFDM4)-33:len(uFDM4):2])))\n"
   ]
  },
  {
   "cell_type": "code",
   "execution_count": 100,
   "metadata": {},
   "outputs": [
    {
     "data": {
      "text/plain": [
       "49"
      ]
     },
     "execution_count": 100,
     "metadata": {},
     "output_type": "execute_result"
    }
   ],
   "source": [
    "MFDM2=FDM(25*2-1,0.125/2)\n",
    "len(MFDM2)"
   ]
  },
  {
   "cell_type": "code",
   "execution_count": 101,
   "metadata": {},
   "outputs": [
    {
     "data": {
      "text/plain": [
       "49"
      ]
     },
     "execution_count": 101,
     "metadata": {},
     "output_type": "execute_result"
    }
   ],
   "source": [
    "fFDM2=np.zeros([25*2-1])\n",
    "len(fFDM2)"
   ]
  },
  {
   "cell_type": "code",
   "execution_count": 102,
   "metadata": {},
   "outputs": [
    {
     "data": {
      "text/plain": [
       "array([ 0., -2., -2., -2., -2., -2., -2., -2., -2., -2., -2., -2., -2.,\n",
       "       -2., -2., -2., -2., -2., -2., -2., -2., -2., -2., -2., -2., -2.,\n",
       "       -2., -2., -2., -2., -2., -2., -2., -2., -2., -2., -2., -2., -2.,\n",
       "       -2., -2., -2., -2., -2., -2., -2., -2., -2.,  6.])"
      ]
     },
     "execution_count": 102,
     "metadata": {},
     "output_type": "execute_result"
    }
   ],
   "source": [
    "for i in range(1,25*2-2):\n",
    "    fFDM2[i] = -2\n",
    "fFDM2 [25*2-2] =6\n",
    "fFDM2"
   ]
  },
  {
   "cell_type": "code",
   "execution_count": 103,
   "metadata": {},
   "outputs": [
    {
     "data": {
      "text/plain": [
       "array([-0.00000000e+00,  3.90625000e-03,  1.56250000e-02,  3.51562500e-02,\n",
       "        6.25000000e-02,  9.76562500e-02,  1.40625000e-01,  1.91406250e-01,\n",
       "        2.50000000e-01,  3.16406250e-01,  3.90625000e-01,  4.72656250e-01,\n",
       "        5.62500000e-01,  6.60156250e-01,  7.65625000e-01,  8.78906250e-01,\n",
       "        1.00000000e+00,  1.12890625e+00,  1.26562500e+00,  1.41015625e+00,\n",
       "        1.56250000e+00,  1.72265625e+00,  1.89062500e+00,  2.06640625e+00,\n",
       "        2.25000000e+00,  2.44140625e+00,  2.64062500e+00,  2.84765625e+00,\n",
       "        3.06250000e+00,  3.28515625e+00,  3.51562500e+00,  3.75390625e+00,\n",
       "        4.00000000e+00,  4.25390625e+00,  4.51562500e+00,  4.78515625e+00,\n",
       "        5.06250000e+00,  5.34765625e+00,  5.64062500e+00,  5.94140625e+00,\n",
       "        6.25000000e+00,  6.56640625e+00,  6.89062500e+00,  7.22265625e+00,\n",
       "        7.56250000e+00,  7.91015625e+00,  8.26562500e+00,  8.62890625e+00,\n",
       "        9.00000000e+00])"
      ]
     },
     "execution_count": 103,
     "metadata": {},
     "output_type": "execute_result"
    }
   ],
   "source": [
    "uFDM5 = np.linalg.solve(MFDM2,fFDM2)\n",
    "uFDM5"
   ]
  },
  {
   "cell_type": "code",
   "execution_count": 104,
   "metadata": {},
   "outputs": [
    {
     "data": {
      "text/plain": [
       "array([0.     , 0.0625 , 0.125  , 0.1875 , 0.25   , 0.3125 , 0.375  ,\n",
       "       0.4375 , 0.5    , 0.53125, 0.5625 , 0.59375, 0.625  , 0.65625,\n",
       "       0.6875 , 0.71875, 0.75   , 0.78125, 0.8125 , 0.84375, 0.875  ,\n",
       "       0.90625, 0.9375 , 0.96875, 1.     , 1.03125, 1.0625 , 1.09375,\n",
       "       1.125  , 1.15625, 1.1875 , 1.21875, 1.25   , 1.28125, 1.3125 ,\n",
       "       1.34375, 1.375  , 1.40625, 1.4375 , 1.46875, 1.5    , 1.53125,\n",
       "       1.5625 , 1.59375, 1.625  , 1.65625, 1.6875 , 1.71875, 1.75   ,\n",
       "       1.78125, 1.8125 , 1.84375, 1.875  , 1.90625, 1.9375 , 1.96875,\n",
       "       2.     , 2.03125, 2.0625 , 2.09375, 2.125  , 2.15625, 2.1875 ,\n",
       "       2.21875, 2.25   , 2.28125, 2.3125 , 2.34375, 2.375  , 2.40625,\n",
       "       2.4375 , 2.46875, 2.5    , 2.5625 , 2.625  , 2.6875 , 2.75   ,\n",
       "       2.8125 , 2.875  , 2.9375 , 3.     ])"
      ]
     },
     "execution_count": 104,
     "metadata": {},
     "output_type": "execute_result"
    }
   ],
   "source": [
    "xSlice2 = np.array(np.concatenate((x[0:17:2],x[17:len(x)-17:1],x[len(x)-17:len(x):2])))\n",
    "xSlice2"
   ]
  },
  {
   "cell_type": "code",
   "execution_count": 105,
   "metadata": {},
   "outputs": [
    {
     "data": {
      "text/plain": [
       "33"
      ]
     },
     "execution_count": 105,
     "metadata": {},
     "output_type": "execute_result"
    }
   ],
   "source": [
    "uFDM5Slice = np.array(np.concatenate((uFDM5[0:17:2],uFDM5[17:len(uFDM5)-17:1],uFDM5[len(uFDM5)-17:len(uFDM5):2])))  \n",
    "len(uFDM5Slice)\n"
   ]
  },
  {
   "cell_type": "code",
   "execution_count": 106,
   "metadata": {},
   "outputs": [
    {
     "data": {
      "text/plain": [
       "array([0.00000000e+00, 7.53043461e-15, 1.50573998e-14, 2.25930386e-14,\n",
       "       3.01425551e-14, 3.76920717e-14, 4.51860771e-14, 5.27355937e-14,\n",
       "       6.02851102e-14, 6.10622664e-14, 6.26165786e-14, 6.39488462e-14,\n",
       "       6.52811138e-14, 6.63913369e-14, 6.72795153e-14, 6.79456491e-14,\n",
       "       6.88338275e-14, 7.01660952e-14, 7.14983628e-14, 7.28306304e-14,\n",
       "       7.46069873e-14, 7.54951657e-14, 7.68274333e-14, 7.90478794e-14,\n",
       "       8.17124146e-14, 8.17124146e-14, 8.26005930e-14, 8.52651283e-14,\n",
       "       8.61533067e-14, 8.52651283e-14, 8.43769499e-14, 8.17124146e-14,\n",
       "       8.52651283e-14])"
      ]
     },
     "execution_count": 106,
     "metadata": {},
     "output_type": "execute_result"
    }
   ],
   "source": [
    "uSlice2-uFDM5Slice"
   ]
  },
  {
   "cell_type": "code",
   "execution_count": 107,
   "metadata": {},
   "outputs": [
    {
     "data": {
      "text/plain": [
       "25"
      ]
     },
     "execution_count": 107,
     "metadata": {},
     "output_type": "execute_result"
    }
   ],
   "source": [
    "MFDM3=FDM(13*2-1,0.25/2)\n",
    "len(MFDM3)"
   ]
  },
  {
   "cell_type": "code",
   "execution_count": 108,
   "metadata": {},
   "outputs": [
    {
     "data": {
      "text/plain": [
       "25"
      ]
     },
     "execution_count": 108,
     "metadata": {},
     "output_type": "execute_result"
    }
   ],
   "source": [
    "fFDM3=np.zeros([13*2-1])\n",
    "len(fFDM3)"
   ]
  },
  {
   "cell_type": "code",
   "execution_count": 109,
   "metadata": {},
   "outputs": [
    {
     "data": {
      "text/plain": [
       "array([ 0., -2., -2., -2., -2., -2., -2., -2., -2., -2., -2., -2., -2.,\n",
       "       -2., -2., -2., -2., -2., -2., -2., -2., -2., -2., -2.,  6.])"
      ]
     },
     "execution_count": 109,
     "metadata": {},
     "output_type": "execute_result"
    }
   ],
   "source": [
    "for i in range(1,13*2-2):\n",
    "    fFDM3[i] = -2\n",
    "fFDM3 [13*2-2]=6\n",
    "fFDM3"
   ]
  },
  {
   "cell_type": "code",
   "execution_count": 110,
   "metadata": {},
   "outputs": [
    {
     "data": {
      "text/plain": [
       "array([-0.      ,  0.015625,  0.0625  ,  0.140625,  0.25    ,  0.390625,\n",
       "        0.5625  ,  0.765625,  1.      ,  1.265625,  1.5625  ,  1.890625,\n",
       "        2.25    ,  2.640625,  3.0625  ,  3.515625,  4.      ,  4.515625,\n",
       "        5.0625  ,  5.640625,  6.25    ,  6.890625,  7.5625  ,  8.265625,\n",
       "        9.      ])"
      ]
     },
     "execution_count": 110,
     "metadata": {},
     "output_type": "execute_result"
    }
   ],
   "source": [
    "uFDM6 = np.linalg.solve(MFDM3,fFDM3)\n",
    "uFDM6"
   ]
  },
  {
   "cell_type": "code",
   "execution_count": 111,
   "metadata": {},
   "outputs": [
    {
     "data": {
      "text/plain": [
       "array([0.     , 0.0625 , 0.125  , 0.1875 , 0.25   , 0.28125, 0.3125 ,\n",
       "       0.34375, 0.375  , 0.40625, 0.4375 , 0.46875, 0.5    , 0.53125,\n",
       "       0.5625 , 0.59375, 0.625  , 0.65625, 0.6875 , 0.71875, 0.75   ,\n",
       "       0.78125, 0.8125 , 0.84375, 0.875  , 0.90625, 0.9375 , 0.96875,\n",
       "       1.     , 1.03125, 1.0625 , 1.09375, 1.125  , 1.15625, 1.1875 ,\n",
       "       1.21875, 1.25   , 1.28125, 1.3125 , 1.34375, 1.375  , 1.40625,\n",
       "       1.4375 , 1.46875, 1.5    , 1.53125, 1.5625 , 1.59375, 1.625  ,\n",
       "       1.65625, 1.6875 , 1.71875, 1.75   , 1.78125, 1.8125 , 1.84375,\n",
       "       1.875  , 1.90625, 1.9375 , 1.96875, 2.     , 2.03125, 2.0625 ,\n",
       "       2.09375, 2.125  , 2.15625, 2.1875 , 2.21875, 2.25   , 2.28125,\n",
       "       2.3125 , 2.34375, 2.375  , 2.40625, 2.4375 , 2.46875, 2.5    ,\n",
       "       2.53125, 2.5625 , 2.59375, 2.625  , 2.65625, 2.6875 , 2.71875,\n",
       "       2.75   , 2.8125 , 2.875  , 2.9375 , 3.     ])"
      ]
     },
     "execution_count": 111,
     "metadata": {},
     "output_type": "execute_result"
    }
   ],
   "source": [
    "xSlice3 = np.array(np.concatenate((x[0:10:2],x[9:len(x)-9:1],x[len(x)-9:len(x):2])))\n",
    "xSlice3"
   ]
  },
  {
   "cell_type": "code",
   "execution_count": 112,
   "metadata": {},
   "outputs": [
    {
     "data": {
      "text/plain": [
       "17"
      ]
     },
     "execution_count": 112,
     "metadata": {},
     "output_type": "execute_result"
    }
   ],
   "source": [
    "uFDM6Slice = np.array(np.concatenate((uFDM6[0:10:2],uFDM6[9:len(uFDM6)-9:1],uFDM6[len(uFDM6)-9:len(uFDM6):2])))  \n",
    "len(uFDM6Slice)"
   ]
  },
  {
   "cell_type": "code",
   "execution_count": 113,
   "metadata": {},
   "outputs": [
    {
     "data": {
      "text/plain": [
       "array([1.11022302e-16, 4.64905892e-16, 7.77156117e-16, 1.11022302e-15,\n",
       "       1.55431223e-15, 2.22044605e-15, 2.66453526e-15, 3.55271368e-15,\n",
       "       3.99680289e-15, 4.88498131e-15, 5.32907052e-15, 5.77315973e-15,\n",
       "       5.32907052e-15, 8.88178420e-15, 1.15463195e-14, 1.15463195e-14,\n",
       "       7.10542736e-15])"
      ]
     },
     "execution_count": 113,
     "metadata": {},
     "output_type": "execute_result"
    }
   ],
   "source": [
    "uSlice-uFDM6Slice"
   ]
  },
  {
   "cell_type": "code",
   "execution_count": 114,
   "metadata": {
    "scrolled": true
   },
   "outputs": [
    {
     "data": {
      "text/plain": [
       "Text(0.5, 0, 'position')"
      ]
     },
     "execution_count": 114,
     "metadata": {},
     "output_type": "execute_result"
    },
    {
     "data": {
      "image/png": "[encoded data removed]",
      "text/plain": [
       "<Figure size 432x288 with 1 Axes>"
      ]
     },
     "metadata": {
      "needs_background": "light"
     },
     "output_type": "display_data"
    }
   ],
   "source": [
    "plt.plot(x20,uSlice-uFDM6Slice,label=\"error when h=0.25\")\n",
    "plt.plot(x7,uSlice2-uFDM5Slice,label=\"error when h=0.125\")\n",
    "plt.plot(x11,uSlice3-uFDM4Slice,label=\"error when h=0.0625\")\n",
    "plt.legend()\n",
    "plt.grid()\n",
    "plt.title(\"Quadratic Error\")\n",
    "plt.ylabel(\"error\")\n",
    "plt.xlabel(\"position\")"
   ]
  }
 ],
 "metadata": {
  "kernelspec": {
   "display_name": "Python 3",
   "language": "python",
   "name": "python3"
  },
  "language_info": {
   "codemirror_mode": {
    "name": "ipython",
    "version": 3
   },
   "file_extension": ".py",
   "mimetype": "text/x-python",
   "name": "python",
   "nbconvert_exporter": "python",
   "pygments_lexer": "ipython3",
   "version": "3.10.0"
  }
 },
 "nbformat": 4,
 "nbformat_minor": 4
}
