{
 "cells": [
  {
   "cell_type": "code",
   "execution_count": 1,
   "metadata": {},
   "outputs": [],
   "source": [
    "import numpy as np \n",
    "import matplotlib.pyplot as plt "
   ]
  },
  {
   "cell_type": "code",
   "execution_count": 2,
   "metadata": {},
   "outputs": [],
   "source": [
    "h = 0.25"
   ]
  },
  {
   "cell_type": "code",
   "execution_count": 3,
   "metadata": {},
   "outputs": [],
   "source": [
    "fFD =  1./(2.*h*h) \n",
    "fPD =  1./(8.*h/2*h/2) "
   ]
  },
  {
   "cell_type": "code",
   "execution_count": 4,
   "metadata": {},
   "outputs": [],
   "source": [
    "M = np.zeros([23,23])"
   ]
  },
  {
   "cell_type": "code",
   "execution_count": 5,
   "metadata": {},
   "outputs": [],
   "source": [
    "M [0][0] = 1"
   ]
  },
  {
   "cell_type": "code",
   "execution_count": 6,
   "metadata": {},
   "outputs": [],
   "source": [
    "for i in range (1,4):\n",
    "    M [i][i-1] = -2 * fFD\n",
    "    M [i][i] = 4 * fFD\n",
    "    M [i][i+1] = -2 * fFD"
   ]
  },
  {
   "cell_type": "markdown",
   "metadata": {},
   "source": [
    "Match the displacement $u_3$ and $u_5$"
   ]
  },
  {
   "cell_type": "code",
   "execution_count": 7,
   "metadata": {},
   "outputs": [],
   "source": [
    "M [5][5] = -1\n",
    "M [5][3] = 1"
   ]
  },
  {
   "cell_type": "markdown",
   "metadata": {},
   "source": [
    "Match the displacement $u_4$ and $u_7$"
   ]
  },
  {
   "cell_type": "code",
   "execution_count": 8,
   "metadata": {},
   "outputs": [],
   "source": [
    "M [4][4] = -1\n",
    "M [4][7] = 1"
   ]
  },
  {
   "cell_type": "markdown",
   "metadata": {},
   "source": [
    "Interpolate the displacement $u_6$ and $u_6'$\n",
    "\n",
    "* $u_6'-u_6=0$\n",
    "* $\\frac{1}{2}\\left(u_3 + u_4\\right)-u_5=0$"
   ]
  },
  {
   "cell_type": "code",
   "execution_count": 9,
   "metadata": {},
   "outputs": [],
   "source": [
    "M [6][6] = -1\n",
    "M [6][3] = 1/2\n",
    "M [6][4] = 1/2"
   ]
  },
  {
   "cell_type": "markdown",
   "metadata": {},
   "source": [
    "Apply the non-local model"
   ]
  },
  {
   "cell_type": "code",
   "execution_count": 10,
   "metadata": {},
   "outputs": [],
   "source": [
    "for i in range(7,16):\n",
    "    M[i][i-2] = -1.  * fPD\n",
    "    M[i][i-1] = -4. * fPD\n",
    "    M[i][i] = 10. * fPD\n",
    "    M[i][i+1] =  -4. * fPD\n",
    "    M[i][i+2] = -1. * fPD"
   ]
  },
  {
   "cell_type": "markdown",
   "metadata": {},
   "source": [
    "Interpolate the displacement $u_{16}$ and $u_{16}'$"
   ]
  },
  {
   "cell_type": "code",
   "execution_count": 11,
   "metadata": {},
   "outputs": [],
   "source": [
    "M [16][16] = -1\n",
    "M [16][18] = 1/2\n",
    "M [16][19] = 1/2"
   ]
  },
  {
   "cell_type": "markdown",
   "metadata": {},
   "source": [
    "Match the displacement $u_{17}$ and $u_{19}$"
   ]
  },
  {
   "cell_type": "code",
   "execution_count": 12,
   "metadata": {},
   "outputs": [],
   "source": [
    "M [17][17] = -1\n",
    "M [17][19] = 1"
   ]
  },
  {
   "cell_type": "markdown",
   "metadata": {},
   "source": [
    "Match the displacement $u_{15}$ and $u_{18}$"
   ]
  },
  {
   "cell_type": "code",
   "execution_count": 13,
   "metadata": {},
   "outputs": [],
   "source": [
    "M [18][18] = -1\n",
    "M [18][15] = 1"
   ]
  },
  {
   "cell_type": "code",
   "execution_count": 14,
   "metadata": {},
   "outputs": [],
   "source": [
    "for i in range (19,22):\n",
    "    M [i][i-1] = -2  * fFD\n",
    "    M [i][i] = 4 * fFD\n",
    "    M [i][i+1] = -2 * fFD"
   ]
  },
  {
   "cell_type": "code",
   "execution_count": 15,
   "metadata": {},
   "outputs": [],
   "source": [
    "M [22][22] = 1"
   ]
  },
  {
   "cell_type": "code",
   "execution_count": 16,
   "metadata": {
    "scrolled": true
   },
   "outputs": [
    {
     "data": {
      "text/plain": [
       "array([[  1. ,   0. ,   0. ,   0. ,   0. ,   0. ,   0. ,   0. ,   0. ,\n",
       "          0. ,   0. ,   0. ,   0. ,   0. ,   0. ,   0. ,   0. ,   0. ,\n",
       "          0. ,   0. ,   0. ,   0. ,   0. ],\n",
       "       [-16. ,  32. , -16. ,   0. ,   0. ,   0. ,   0. ,   0. ,   0. ,\n",
       "          0. ,   0. ,   0. ,   0. ,   0. ,   0. ,   0. ,   0. ,   0. ,\n",
       "          0. ,   0. ,   0. ,   0. ,   0. ],\n",
       "       [  0. , -16. ,  32. , -16. ,   0. ,   0. ,   0. ,   0. ,   0. ,\n",
       "          0. ,   0. ,   0. ,   0. ,   0. ,   0. ,   0. ,   0. ,   0. ,\n",
       "          0. ,   0. ,   0. ,   0. ,   0. ],\n",
       "       [  0. ,   0. , -16. ,  32. , -16. ,   0. ,   0. ,   0. ,   0. ,\n",
       "          0. ,   0. ,   0. ,   0. ,   0. ,   0. ,   0. ,   0. ,   0. ,\n",
       "          0. ,   0. ,   0. ,   0. ,   0. ],\n",
       "       [  0. ,   0. ,   0. ,   0. ,  -1. ,   0. ,   0. ,   1. ,   0. ,\n",
       "          0. ,   0. ,   0. ,   0. ,   0. ,   0. ,   0. ,   0. ,   0. ,\n",
       "          0. ,   0. ,   0. ,   0. ,   0. ],\n",
       "       [  0. ,   0. ,   0. ,   1. ,   0. ,  -1. ,   0. ,   0. ,   0. ,\n",
       "          0. ,   0. ,   0. ,   0. ,   0. ,   0. ,   0. ,   0. ,   0. ,\n",
       "          0. ,   0. ,   0. ,   0. ,   0. ],\n",
       "       [  0. ,   0. ,   0. ,   0.5,   0.5,   0. ,  -1. ,   0. ,   0. ,\n",
       "          0. ,   0. ,   0. ,   0. ,   0. ,   0. ,   0. ,   0. ,   0. ,\n",
       "          0. ,   0. ,   0. ,   0. ,   0. ],\n",
       "       [  0. ,   0. ,   0. ,   0. ,   0. ,  -8. , -32. ,  80. , -32. ,\n",
       "         -8. ,   0. ,   0. ,   0. ,   0. ,   0. ,   0. ,   0. ,   0. ,\n",
       "          0. ,   0. ,   0. ,   0. ,   0. ],\n",
       "       [  0. ,   0. ,   0. ,   0. ,   0. ,   0. ,  -8. , -32. ,  80. ,\n",
       "        -32. ,  -8. ,   0. ,   0. ,   0. ,   0. ,   0. ,   0. ,   0. ,\n",
       "          0. ,   0. ,   0. ,   0. ,   0. ],\n",
       "       [  0. ,   0. ,   0. ,   0. ,   0. ,   0. ,   0. ,  -8. , -32. ,\n",
       "         80. , -32. ,  -8. ,   0. ,   0. ,   0. ,   0. ,   0. ,   0. ,\n",
       "          0. ,   0. ,   0. ,   0. ,   0. ],\n",
       "       [  0. ,   0. ,   0. ,   0. ,   0. ,   0. ,   0. ,   0. ,  -8. ,\n",
       "        -32. ,  80. , -32. ,  -8. ,   0. ,   0. ,   0. ,   0. ,   0. ,\n",
       "          0. ,   0. ,   0. ,   0. ,   0. ],\n",
       "       [  0. ,   0. ,   0. ,   0. ,   0. ,   0. ,   0. ,   0. ,   0. ,\n",
       "         -8. , -32. ,  80. , -32. ,  -8. ,   0. ,   0. ,   0. ,   0. ,\n",
       "          0. ,   0. ,   0. ,   0. ,   0. ],\n",
       "       [  0. ,   0. ,   0. ,   0. ,   0. ,   0. ,   0. ,   0. ,   0. ,\n",
       "          0. ,  -8. , -32. ,  80. , -32. ,  -8. ,   0. ,   0. ,   0. ,\n",
       "          0. ,   0. ,   0. ,   0. ,   0. ],\n",
       "       [  0. ,   0. ,   0. ,   0. ,   0. ,   0. ,   0. ,   0. ,   0. ,\n",
       "          0. ,   0. ,  -8. , -32. ,  80. , -32. ,  -8. ,   0. ,   0. ,\n",
       "          0. ,   0. ,   0. ,   0. ,   0. ],\n",
       "       [  0. ,   0. ,   0. ,   0. ,   0. ,   0. ,   0. ,   0. ,   0. ,\n",
       "          0. ,   0. ,   0. ,  -8. , -32. ,  80. , -32. ,  -8. ,   0. ,\n",
       "          0. ,   0. ,   0. ,   0. ,   0. ],\n",
       "       [  0. ,   0. ,   0. ,   0. ,   0. ,   0. ,   0. ,   0. ,   0. ,\n",
       "          0. ,   0. ,   0. ,   0. ,  -8. , -32. ,  80. , -32. ,  -8. ,\n",
       "          0. ,   0. ,   0. ,   0. ,   0. ],\n",
       "       [  0. ,   0. ,   0. ,   0. ,   0. ,   0. ,   0. ,   0. ,   0. ,\n",
       "          0. ,   0. ,   0. ,   0. ,   0. ,   0. ,   0. ,  -1. ,   0. ,\n",
       "          0.5,   0.5,   0. ,   0. ,   0. ],\n",
       "       [  0. ,   0. ,   0. ,   0. ,   0. ,   0. ,   0. ,   0. ,   0. ,\n",
       "          0. ,   0. ,   0. ,   0. ,   0. ,   0. ,   0. ,   0. ,  -1. ,\n",
       "          0. ,   1. ,   0. ,   0. ,   0. ],\n",
       "       [  0. ,   0. ,   0. ,   0. ,   0. ,   0. ,   0. ,   0. ,   0. ,\n",
       "          0. ,   0. ,   0. ,   0. ,   0. ,   0. ,   1. ,   0. ,   0. ,\n",
       "         -1. ,   0. ,   0. ,   0. ,   0. ],\n",
       "       [  0. ,   0. ,   0. ,   0. ,   0. ,   0. ,   0. ,   0. ,   0. ,\n",
       "          0. ,   0. ,   0. ,   0. ,   0. ,   0. ,   0. ,   0. ,   0. ,\n",
       "        -16. ,  32. , -16. ,   0. ,   0. ],\n",
       "       [  0. ,   0. ,   0. ,   0. ,   0. ,   0. ,   0. ,   0. ,   0. ,\n",
       "          0. ,   0. ,   0. ,   0. ,   0. ,   0. ,   0. ,   0. ,   0. ,\n",
       "          0. , -16. ,  32. , -16. ,   0. ],\n",
       "       [  0. ,   0. ,   0. ,   0. ,   0. ,   0. ,   0. ,   0. ,   0. ,\n",
       "          0. ,   0. ,   0. ,   0. ,   0. ,   0. ,   0. ,   0. ,   0. ,\n",
       "          0. ,   0. , -16. ,  32. , -16. ],\n",
       "       [  0. ,   0. ,   0. ,   0. ,   0. ,   0. ,   0. ,   0. ,   0. ,\n",
       "          0. ,   0. ,   0. ,   0. ,   0. ,   0. ,   0. ,   0. ,   0. ,\n",
       "          0. ,   0. ,   0. ,   0. ,   1. ]])"
      ]
     },
     "execution_count": 16,
     "metadata": {},
     "output_type": "execute_result"
    }
   ],
   "source": [
    "M"
   ]
  },
  {
   "cell_type": "code",
   "execution_count": 17,
   "metadata": {},
   "outputs": [
    {
     "data": {
      "text/plain": [
       "array([0.   , 0.125, 0.25 , 0.375, 0.5  , 0.625, 0.75 , 0.875])"
      ]
     },
     "execution_count": 17,
     "metadata": {},
     "output_type": "execute_result"
    }
   ],
   "source": [
    "x=np.arange(0,1,0.125)\n",
    "x"
   ]
  },
  {
   "cell_type": "code",
   "execution_count": 18,
   "metadata": {},
   "outputs": [
    {
     "data": {
      "text/plain": [
       "array([0.  , 0.25, 0.5 , 0.75, 1.  ])"
      ]
     },
     "execution_count": 18,
     "metadata": {},
     "output_type": "execute_result"
    }
   ],
   "source": [
    "x1 = np.arange(0,1.25,0.25)\n",
    "x1"
   ]
  },
  {
   "cell_type": "code",
   "execution_count": 19,
   "metadata": {},
   "outputs": [
    {
     "data": {
      "text/plain": [
       "array([0.75 , 0.875, 1.   , 1.125, 1.25 , 1.375, 1.5  , 1.625, 1.75 ,\n",
       "       1.875, 2.   , 2.125, 2.25 ])"
      ]
     },
     "execution_count": 19,
     "metadata": {},
     "output_type": "execute_result"
    }
   ],
   "source": [
    "x2 = np.arange(1-2*0.125,2+3*0.125,0.125)\n",
    "x2"
   ]
  },
  {
   "cell_type": "code",
   "execution_count": 20,
   "metadata": {},
   "outputs": [
    {
     "data": {
      "text/plain": [
       "array([2.  , 2.25, 2.5 , 2.75, 3.  ])"
      ]
     },
     "execution_count": 20,
     "metadata": {},
     "output_type": "execute_result"
    }
   ],
   "source": [
    "x3 = np.arange(2,3.25,0.25)\n",
    "x3"
   ]
  },
  {
   "cell_type": "code",
   "execution_count": 21,
   "metadata": {},
   "outputs": [
    {
     "data": {
      "text/plain": [
       "array([0.   , 0.25 , 0.5  , 0.75 , 1.   , 0.75 , 0.875, 1.   , 1.125,\n",
       "       1.25 , 1.375, 1.5  , 1.625, 1.75 , 1.875, 2.   , 2.125, 2.25 ,\n",
       "       2.   , 2.25 , 2.5  , 2.75 , 3.   ])"
      ]
     },
     "execution_count": 21,
     "metadata": {},
     "output_type": "execute_result"
    }
   ],
   "source": [
    "x = np.array(np.concatenate((x1,x2,x3)))\n",
    "x"
   ]
  },
  {
   "cell_type": "markdown",
   "metadata": {},
   "source": [
    "Contruct the force vector"
   ]
  },
  {
   "cell_type": "code",
   "execution_count": 22,
   "metadata": {},
   "outputs": [
    {
     "data": {
      "text/plain": [
       "array([0., 0., 0., 0., 0., 0., 0., 0., 0., 0., 0., 0., 0., 0., 0., 0., 0.,\n",
       "       0., 0., 0., 0., 0., 0.])"
      ]
     },
     "execution_count": 22,
     "metadata": {},
     "output_type": "execute_result"
    }
   ],
   "source": [
    "f = np.zeros([23])\n",
    "f"
   ]
  },
  {
   "cell_type": "code",
   "execution_count": 23,
   "metadata": {},
   "outputs": [],
   "source": [
    "for i in range(1,len(f)-1):\n",
    "    f[i] = -( 2/np.sqrt(3)) * ( -6 + 4*x[i] ) "
   ]
  },
  {
   "cell_type": "code",
   "execution_count": 24,
   "metadata": {},
   "outputs": [],
   "source": [
    "f [4] = 0 # the displacememnt is matching therefore the force is zero\n",
    "f [5] = 0 \n",
    "f [6] = 0 \n",
    "f [18] = 0 \n",
    "f [16] = 0\n",
    "f [17] = 0"
   ]
  },
  {
   "cell_type": "code",
   "execution_count": 25,
   "metadata": {},
   "outputs": [
    {
     "data": {
      "text/plain": [
       "array([ 0.        ,  5.77350269,  4.61880215,  3.46410162,  0.        ,\n",
       "        0.        ,  0.        ,  2.30940108,  1.73205081,  1.15470054,\n",
       "        0.57735027, -0.        , -0.57735027, -1.15470054, -1.73205081,\n",
       "       -2.30940108,  0.        ,  0.        ,  0.        , -3.46410162,\n",
       "       -4.61880215, -5.77350269,  0.        ])"
      ]
     },
     "execution_count": 25,
     "metadata": {},
     "output_type": "execute_result"
    }
   ],
   "source": [
    "f"
   ]
  },
  {
   "cell_type": "code",
   "execution_count": 26,
   "metadata": {},
   "outputs": [
    {
     "data": {
      "text/plain": [
       "array([-0.00000000e+00,  6.51076944e-01,  9.41309969e-01,  9.42867860e-01,\n",
       "        7.27919400e-01,  9.42867860e-01,  8.35393630e-01,  7.27919400e-01,\n",
       "        5.76621905e-01,  3.99588864e-01,  2.04286013e-01,  1.59991094e-15,\n",
       "       -2.04286013e-01, -3.99588864e-01, -5.76621905e-01, -7.27919400e-01,\n",
       "       -8.35393630e-01, -9.42867860e-01, -7.27919400e-01, -9.42867860e-01,\n",
       "       -9.41309969e-01, -6.51076944e-01,  0.00000000e+00])"
      ]
     },
     "execution_count": 26,
     "metadata": {},
     "output_type": "execute_result"
    }
   ],
   "source": [
    "u = np.linalg.solve(M,f)\n",
    "u"
   ]
  },
  {
   "cell_type": "code",
   "execution_count": 27,
   "metadata": {},
   "outputs": [
    {
     "data": {
      "text/plain": [
       "array([0.   , 0.25 , 0.5  , 0.75 , 1.   , 1.125, 1.25 , 1.375, 1.5  ,\n",
       "       1.625, 1.75 , 1.875, 2.   , 2.25 , 2.5  , 2.75 , 3.   ])"
      ]
     },
     "execution_count": 27,
     "metadata": {},
     "output_type": "execute_result"
    }
   ],
   "source": [
    "x1 = np.arange(0,1,0.25)\n",
    "x2 = np.arange(1,2,0.125)\n",
    "x3 = np.arange(2,3.25,0.25)\n",
    "x20 = np.array(np.concatenate((x1,x2,x3)))\n",
    "x20"
   ]
  },
  {
   "cell_type": "code",
   "execution_count": 28,
   "metadata": {},
   "outputs": [
    {
     "data": {
      "text/plain": [
       "array([-0.00000000e+00,  6.51076944e-01,  9.41309969e-01,  9.42867860e-01,\n",
       "        7.27919400e-01,  5.76621905e-01,  3.99588864e-01,  2.04286013e-01,\n",
       "        1.59991094e-15, -2.04286013e-01, -3.99588864e-01, -5.76621905e-01,\n",
       "       -7.27919400e-01, -9.42867860e-01, -9.41309969e-01, -6.51076944e-01,\n",
       "        0.00000000e+00])"
      ]
     },
     "execution_count": 28,
     "metadata": {},
     "output_type": "execute_result"
    }
   ],
   "source": [
    "uSlice = np.array(np.concatenate((u[0:5],u[8:15],u[18:len(u)])))\n",
    "uSlice"
   ]
  },
  {
   "cell_type": "code",
   "execution_count": 29,
   "metadata": {},
   "outputs": [
    {
     "data": {
      "text/plain": [
       "23"
      ]
     },
     "execution_count": 29,
     "metadata": {},
     "output_type": "execute_result"
    }
   ],
   "source": [
    "len(u)"
   ]
  },
  {
   "cell_type": "code",
   "execution_count": 30,
   "metadata": {},
   "outputs": [
    {
     "data": {
      "text/plain": [
       "17"
      ]
     },
     "execution_count": 30,
     "metadata": {},
     "output_type": "execute_result"
    }
   ],
   "source": [
    "len(uSlice)"
   ]
  },
  {
   "cell_type": "code",
   "execution_count": 31,
   "metadata": {},
   "outputs": [
    {
     "data": {
      "text/plain": [
       "17"
      ]
     },
     "execution_count": 31,
     "metadata": {},
     "output_type": "execute_result"
    }
   ],
   "source": [
    "len(x20)"
   ]
  },
  {
   "cell_type": "code",
   "execution_count": 32,
   "metadata": {},
   "outputs": [
    {
     "data": {
      "image/png": "[encoded data removed]",
      "text/plain": [
       "<Figure size 432x288 with 1 Axes>"
      ]
     },
     "metadata": {
      "needs_background": "light"
     },
     "output_type": "display_data"
    }
   ],
   "source": [
    "plt.plot(x20,uSlice)\n",
    "plt.grid()"
   ]
  },
  {
   "cell_type": "code",
   "execution_count": 33,
   "metadata": {},
   "outputs": [],
   "source": [
    "h2= 0.125"
   ]
  },
  {
   "cell_type": "code",
   "execution_count": 34,
   "metadata": {},
   "outputs": [],
   "source": [
    "fFD2 =  1./(2.*h2*h2) \n",
    "fPD2 =  1./(8.*h2/2*h2/2) "
   ]
  },
  {
   "cell_type": "code",
   "execution_count": 35,
   "metadata": {},
   "outputs": [],
   "source": [
    "M2 = np.zeros([39,39])"
   ]
  },
  {
   "cell_type": "code",
   "execution_count": 36,
   "metadata": {},
   "outputs": [],
   "source": [
    "M2 [0][0] = 1"
   ]
  },
  {
   "cell_type": "code",
   "execution_count": 37,
   "metadata": {},
   "outputs": [],
   "source": [
    "for i in range (1, 8):\n",
    "    M2[i][i-1]=-2 * fFD2\n",
    "    M2[i][i]= 4 * fFD2\n",
    "    M2[i][i+1]= -2 * fFD2"
   ]
  },
  {
   "cell_type": "markdown",
   "metadata": {},
   "source": [
    "Match the dispacement between $u_7$ and $u_9$"
   ]
  },
  {
   "cell_type": "code",
   "execution_count": 38,
   "metadata": {},
   "outputs": [],
   "source": [
    "M2[9][9]= -1\n",
    "M2[9][7]=1"
   ]
  },
  {
   "cell_type": "markdown",
   "metadata": {},
   "source": [
    "Match the dispacement between $u_8$ and $u_{11}$"
   ]
  },
  {
   "cell_type": "code",
   "execution_count": 39,
   "metadata": {},
   "outputs": [],
   "source": [
    "M2[8][8]= -1\n",
    "M2[8][11]=1"
   ]
  },
  {
   "cell_type": "markdown",
   "metadata": {},
   "source": [
    "Interpolate the displacement $u_{10}$ and $u_{9}'$\n",
    "\n",
    "* $u_{10}'-u_{10}=0$\n",
    "* $\\frac{1}{2}\\left(u_7 + u_8\\right)-u_{10}=0$"
   ]
  },
  {
   "cell_type": "code",
   "execution_count": 40,
   "metadata": {},
   "outputs": [],
   "source": [
    "M2 [10][10] = -1\n",
    "M2 [10][7] = 1/2\n",
    "M2 [10][8] = 1/2"
   ]
  },
  {
   "cell_type": "markdown",
   "metadata": {},
   "source": [
    "Apply the non-local model"
   ]
  },
  {
   "cell_type": "code",
   "execution_count": 41,
   "metadata": {},
   "outputs": [],
   "source": [
    "for i in range(11,28):\n",
    "    M2[i][i-2] = -1.  * fPD2\n",
    "    M2[i][i-1] = -4. * fPD2\n",
    "    M2[i][i] = 10. * fPD2\n",
    "    M2[i][i+1] =  -4. * fPD2\n",
    "    M2[i][i+2] = -1. * fPD2"
   ]
  },
  {
   "cell_type": "markdown",
   "metadata": {},
   "source": [
    "Interpolate the displacement $u_{28}$ and $u_{28}'$\n",
    "\n",
    "* $u_{28}'-u_{28}=0$\n",
    "* $\\frac{1}{2}\\left(u_{30} + u_{31}\\right)-u_{28}=0$"
   ]
  },
  {
   "cell_type": "code",
   "execution_count": 42,
   "metadata": {},
   "outputs": [],
   "source": [
    "M2 [28][28] = -1\n",
    "M2 [28][30] = 1/2\n",
    "M2 [28][31] = 1/2"
   ]
  },
  {
   "cell_type": "markdown",
   "metadata": {},
   "source": [
    "Match the displacement $u_{29}$ and $u_{31}$"
   ]
  },
  {
   "cell_type": "code",
   "execution_count": 43,
   "metadata": {},
   "outputs": [],
   "source": [
    "M2 [29][29] = -1\n",
    "M2 [29][31] = 1"
   ]
  },
  {
   "cell_type": "markdown",
   "metadata": {},
   "source": [
    "Match the displacement $u_{27}$ and $u_{30}$"
   ]
  },
  {
   "cell_type": "code",
   "execution_count": 44,
   "metadata": {},
   "outputs": [],
   "source": [
    "M2 [30][30] = -1\n",
    "M2 [30][27] = 1"
   ]
  },
  {
   "cell_type": "code",
   "execution_count": 45,
   "metadata": {},
   "outputs": [],
   "source": [
    "for i in range (31, 38):\n",
    "    M2[i][i-1]=-2 * fFD2\n",
    "    M2[i][i]= 4 * fFD2\n",
    "    M2[i][i+1]= -2 * fFD2"
   ]
  },
  {
   "cell_type": "code",
   "execution_count": 46,
   "metadata": {},
   "outputs": [
    {
     "data": {
      "text/plain": [
       "array([[  1.,   0.,   0., ...,   0.,   0.,   0.],\n",
       "       [-64., 128., -64., ...,   0.,   0.,   0.],\n",
       "       [  0., -64., 128., ...,   0.,   0.,   0.],\n",
       "       ...,\n",
       "       [  0.,   0.,   0., ..., 128., -64.,   0.],\n",
       "       [  0.,   0.,   0., ..., -64., 128., -64.],\n",
       "       [  0.,   0.,   0., ...,   0.,   0.,   1.]])"
      ]
     },
     "execution_count": 46,
     "metadata": {},
     "output_type": "execute_result"
    }
   ],
   "source": [
    "M2 [38][38] = 1\n",
    "M2"
   ]
  },
  {
   "cell_type": "code",
   "execution_count": 47,
   "metadata": {},
   "outputs": [
    {
     "data": {
      "text/plain": [
       "array([0.    , 0.125 , 0.25  , 0.375 , 0.5   , 0.625 , 0.75  , 0.875 ,\n",
       "       1.    , 0.875 , 0.9375, 1.    , 1.0625, 1.125 , 1.1875, 1.25  ,\n",
       "       1.3125, 1.375 , 1.4375, 1.5   , 1.5625, 1.625 , 1.6875, 1.75  ,\n",
       "       1.8125, 1.875 , 1.9375, 2.    , 2.0625, 2.125 , 2.    , 2.125 ,\n",
       "       2.25  , 2.375 , 2.5   , 2.625 , 2.75  , 2.875 , 3.    ])"
      ]
     },
     "execution_count": 47,
     "metadata": {},
     "output_type": "execute_result"
    }
   ],
   "source": [
    "x1 = np.arange(0,1.125,0.125)\n",
    "x2 = np.arange(1-2*0.0625,2+3*0.0625,0.0625)\n",
    "x3 = np.arange(2,3.125,0.125)\n",
    "x = np.array(np.concatenate((x1,x2,x3)))\n",
    "x"
   ]
  },
  {
   "cell_type": "code",
   "execution_count": 48,
   "metadata": {},
   "outputs": [
    {
     "data": {
      "text/plain": [
       "array([0., 0., 0., 0., 0., 0., 0., 0., 0., 0., 0., 0., 0., 0., 0., 0., 0.,\n",
       "       0., 0., 0., 0., 0., 0., 0., 0., 0., 0., 0., 0., 0., 0., 0., 0., 0.,\n",
       "       0., 0., 0., 0., 0.])"
      ]
     },
     "execution_count": 48,
     "metadata": {},
     "output_type": "execute_result"
    }
   ],
   "source": [
    "f2 = np.zeros([39])\n",
    "f2"
   ]
  },
  {
   "cell_type": "code",
   "execution_count": 49,
   "metadata": {},
   "outputs": [],
   "source": [
    "for i in range(1,len(f2)-1):\n",
    "    f2[i] = -( 2/np.sqrt(3)) * ( -6 + 4*x[i] ) "
   ]
  },
  {
   "cell_type": "code",
   "execution_count": 50,
   "metadata": {},
   "outputs": [
    {
     "data": {
      "text/plain": [
       "array([ 0.        ,  6.35085296,  5.77350269,  5.19615242,  4.61880215,\n",
       "        4.04145188,  3.46410162,  2.88675135,  0.        ,  0.        ,\n",
       "        0.        ,  2.30940108,  2.02072594,  1.73205081,  1.44337567,\n",
       "        1.15470054,  0.8660254 ,  0.57735027,  0.28867513, -0.        ,\n",
       "       -0.28867513, -0.57735027, -0.8660254 , -1.15470054, -1.44337567,\n",
       "       -1.73205081, -2.02072594, -2.30940108,  0.        ,  0.        ,\n",
       "        0.        , -2.88675135, -3.46410162, -4.04145188, -4.61880215,\n",
       "       -5.19615242, -5.77350269, -6.35085296,  0.        ])"
      ]
     },
     "execution_count": 50,
     "metadata": {},
     "output_type": "execute_result"
    }
   ],
   "source": [
    "f2 [8] = 0 # the displacememnt is matching therefore the force is zero\n",
    "f2 [9] = 0 \n",
    "f2 [10] = 0 \n",
    "f2 [30] = 0 \n",
    "f2 [28] = 0\n",
    "f2 [29] = 0\n",
    "f2"
   ]
  },
  {
   "cell_type": "code",
   "execution_count": 51,
   "metadata": {},
   "outputs": [
    {
     "data": {
      "text/plain": [
       "array([-9.99200722e-16,  3.78015689e-01,  6.56799300e-01,  8.45371931e-01,\n",
       "        9.52754681e-01,  9.87968648e-01,  9.60034928e-01,  8.77974621e-01,\n",
       "        7.50808824e-01,  8.77974621e-01,  8.14391723e-01,  7.50808824e-01,\n",
       "        6.76463580e-01,  5.94523626e-01,  5.05766591e-01,  4.11380165e-01,\n",
       "        3.12481680e-01,  2.10200543e-01,  1.05664086e-01, -1.01718531e-14,\n",
       "       -1.05664086e-01, -2.10200543e-01, -3.12481680e-01, -4.11380165e-01,\n",
       "       -5.05766591e-01, -5.94523626e-01, -6.76463580e-01, -7.50808824e-01,\n",
       "       -8.14391723e-01, -8.77974621e-01, -7.50808824e-01, -8.77974621e-01,\n",
       "       -9.60034928e-01, -9.87968648e-01, -9.52754681e-01, -8.45371931e-01,\n",
       "       -6.56799300e-01, -3.78015689e-01,  0.00000000e+00])"
      ]
     },
     "execution_count": 51,
     "metadata": {},
     "output_type": "execute_result"
    }
   ],
   "source": [
    "u2 = np.linalg.solve(M2,f2)\n",
    "u2"
   ]
  },
  {
   "cell_type": "code",
   "execution_count": 52,
   "metadata": {},
   "outputs": [
    {
     "data": {
      "text/plain": [
       "array([0.    , 0.125 , 0.25  , 0.375 , 0.5   , 0.625 , 0.75  , 0.875 ,\n",
       "       1.    , 1.0625, 1.125 , 1.1875, 1.25  , 1.3125, 1.375 , 1.4375,\n",
       "       1.5   , 1.5625, 1.625 , 1.6875, 1.75  , 1.8125, 1.875 , 1.9375,\n",
       "       2.    , 2.125 , 2.25  , 2.375 , 2.5   , 2.625 , 2.75  , 2.875 ,\n",
       "       3.    ])"
      ]
     },
     "execution_count": 52,
     "metadata": {},
     "output_type": "execute_result"
    }
   ],
   "source": [
    "x4 = np.arange(0,1,0.125)\n",
    "x5 = np.arange(1,2,0.0625)\n",
    "x6 = np.arange(2,3.125,0.125)\n",
    "x7 = np.array(np.concatenate((x4,x5,x6)))\n",
    "x7"
   ]
  },
  {
   "cell_type": "code",
   "execution_count": 53,
   "metadata": {},
   "outputs": [
    {
     "data": {
      "text/plain": [
       "array([-9.99200722e-16,  3.78015689e-01,  6.56799300e-01,  8.45371931e-01,\n",
       "        9.52754681e-01,  9.87968648e-01,  9.60034928e-01,  8.77974621e-01,\n",
       "        7.50808824e-01,  6.76463580e-01,  5.94523626e-01,  5.05766591e-01,\n",
       "        4.11380165e-01,  3.12481680e-01,  2.10200543e-01,  1.05664086e-01,\n",
       "       -1.01718531e-14, -1.05664086e-01, -2.10200543e-01, -3.12481680e-01,\n",
       "       -4.11380165e-01, -5.05766591e-01, -5.94523626e-01, -6.76463580e-01,\n",
       "       -7.50808824e-01, -8.77974621e-01, -9.60034928e-01, -9.87968648e-01,\n",
       "       -9.52754681e-01, -8.45371931e-01, -6.56799300e-01, -3.78015689e-01,\n",
       "        0.00000000e+00])"
      ]
     },
     "execution_count": 53,
     "metadata": {},
     "output_type": "execute_result"
    }
   ],
   "source": [
    "uSlice2 = np.array(np.concatenate((u2[0:9],u2[12:27],u2[30:len(u2)])))\n",
    "uSlice2"
   ]
  },
  {
   "cell_type": "code",
   "execution_count": 54,
   "metadata": {},
   "outputs": [
    {
     "data": {
      "text/plain": [
       "39"
      ]
     },
     "execution_count": 54,
     "metadata": {},
     "output_type": "execute_result"
    }
   ],
   "source": [
    "len(u2)"
   ]
  },
  {
   "cell_type": "code",
   "execution_count": 55,
   "metadata": {},
   "outputs": [
    {
     "data": {
      "text/plain": [
       "33"
      ]
     },
     "execution_count": 55,
     "metadata": {},
     "output_type": "execute_result"
    }
   ],
   "source": [
    "len(x7)"
   ]
  },
  {
   "cell_type": "code",
   "execution_count": 56,
   "metadata": {},
   "outputs": [
    {
     "data": {
      "text/plain": [
       "33"
      ]
     },
     "execution_count": 56,
     "metadata": {},
     "output_type": "execute_result"
    }
   ],
   "source": [
    "len(uSlice2)"
   ]
  },
  {
   "cell_type": "code",
   "execution_count": 57,
   "metadata": {},
   "outputs": [
    {
     "data": {
      "image/png": "[encoded data removed]",
      "text/plain": [
       "<Figure size 432x288 with 1 Axes>"
      ]
     },
     "metadata": {
      "needs_background": "light"
     },
     "output_type": "display_data"
    }
   ],
   "source": [
    "plt.plot(x7,uSlice2)\n",
    "plt.grid()"
   ]
  },
  {
   "cell_type": "code",
   "execution_count": 58,
   "metadata": {},
   "outputs": [],
   "source": [
    "h3=0.0625"
   ]
  },
  {
   "cell_type": "code",
   "execution_count": 59,
   "metadata": {},
   "outputs": [],
   "source": [
    "fFD3 =  1./(2.*h3*h3) \n",
    "fPD3 =  1./(8.*h3/2*h3/2) "
   ]
  },
  {
   "cell_type": "code",
   "execution_count": 60,
   "metadata": {},
   "outputs": [],
   "source": [
    "M3 = np.zeros([71,71])"
   ]
  },
  {
   "cell_type": "code",
   "execution_count": 61,
   "metadata": {},
   "outputs": [],
   "source": [
    "M3 [0][0] = 1"
   ]
  },
  {
   "cell_type": "code",
   "execution_count": 62,
   "metadata": {},
   "outputs": [],
   "source": [
    "for i in range (1, 16):\n",
    "    M3[i][i-1]=-2 * fFD3\n",
    "    M3[i][i]= 4 * fFD3\n",
    "    M3[i][i+1]= -2 * fFD3"
   ]
  },
  {
   "cell_type": "markdown",
   "metadata": {},
   "source": [
    "Match the dispacement between $u_{15}$ and $u_{17}$"
   ]
  },
  {
   "cell_type": "code",
   "execution_count": 63,
   "metadata": {},
   "outputs": [],
   "source": [
    "M3[17][17]= -1\n",
    "M3[17][15]=1"
   ]
  },
  {
   "cell_type": "markdown",
   "metadata": {},
   "source": [
    "Match the dispacement between $u_{16}$ and $u_{19}$"
   ]
  },
  {
   "cell_type": "code",
   "execution_count": 64,
   "metadata": {},
   "outputs": [],
   "source": [
    "M3[16][16]= -1\n",
    "M3[16][19]=1"
   ]
  },
  {
   "cell_type": "markdown",
   "metadata": {},
   "source": [
    "Interpolate the displacement $u_{18}$ and $u_{18}'$\n",
    "\n",
    "* $u_{18}'-u_{18}=0$\n",
    "* $\\frac{1}{2}\\left(u_{15} + u_{16}\\right)-u_{18}=0$"
   ]
  },
  {
   "cell_type": "code",
   "execution_count": 65,
   "metadata": {},
   "outputs": [],
   "source": [
    "M3 [18][18] = -1\n",
    "M3 [18][15] = 1/2\n",
    "M3 [18][16] = 1/2"
   ]
  },
  {
   "cell_type": "markdown",
   "metadata": {},
   "source": [
    "Apply the non-local model"
   ]
  },
  {
   "cell_type": "code",
   "execution_count": 66,
   "metadata": {},
   "outputs": [],
   "source": [
    "for i in range(19,52):\n",
    "    M3[i][i-2] = -1.  * fPD3\n",
    "    M3[i][i-1] = -4. * fPD3\n",
    "    M3[i][i] = 10. * fPD3\n",
    "    M3[i][i+1] =  -4. * fPD3\n",
    "    M3[i][i+2] = -1. * fPD3"
   ]
  },
  {
   "cell_type": "markdown",
   "metadata": {},
   "source": [
    "Interpolate the displacement $u_{52}$ and $u_{52}'$\n",
    "\n",
    "* $u_{52}'-u_{52}=0$\n",
    "* $\\frac{1}{2}\\left(u_{54} + u_{55}\\right)-u_{52}=0$"
   ]
  },
  {
   "cell_type": "code",
   "execution_count": 67,
   "metadata": {},
   "outputs": [],
   "source": [
    "M3 [52][52] = -1\n",
    "M3 [52][54] = 1/2\n",
    "M3 [52][55] = 1/2"
   ]
  },
  {
   "cell_type": "markdown",
   "metadata": {},
   "source": [
    "Match the displacement $u_{51}$ and $u_{54}$"
   ]
  },
  {
   "cell_type": "code",
   "execution_count": 68,
   "metadata": {},
   "outputs": [],
   "source": [
    "M3 [54][54] = -1\n",
    "M3 [54][51] = 1"
   ]
  },
  {
   "cell_type": "markdown",
   "metadata": {},
   "source": [
    "Match the displacement $u_{53}$ and $u_{55}$"
   ]
  },
  {
   "cell_type": "code",
   "execution_count": 69,
   "metadata": {},
   "outputs": [],
   "source": [
    "M3 [53][53] = -1\n",
    "M3 [53][55] = 1"
   ]
  },
  {
   "cell_type": "code",
   "execution_count": 70,
   "metadata": {},
   "outputs": [],
   "source": [
    "for i in range (55, 70):\n",
    "    M3[i][i-1]=-2 * fFD3\n",
    "    M3[i][i]= 4 * fFD3\n",
    "    M3[i][i+1]= -2 * fFD3"
   ]
  },
  {
   "cell_type": "code",
   "execution_count": 71,
   "metadata": {},
   "outputs": [
    {
     "data": {
      "text/plain": [
       "array([[   1.,    0.,    0., ...,    0.,    0.,    0.],\n",
       "       [-256.,  512., -256., ...,    0.,    0.,    0.],\n",
       "       [   0., -256.,  512., ...,    0.,    0.,    0.],\n",
       "       ...,\n",
       "       [   0.,    0.,    0., ...,  512., -256.,    0.],\n",
       "       [   0.,    0.,    0., ..., -256.,  512., -256.],\n",
       "       [   0.,    0.,    0., ...,    0.,    0.,    1.]])"
      ]
     },
     "execution_count": 71,
     "metadata": {},
     "output_type": "execute_result"
    }
   ],
   "source": [
    "M3 [70][70] = 1\n",
    "M3"
   ]
  },
  {
   "cell_type": "code",
   "execution_count": 72,
   "metadata": {},
   "outputs": [
    {
     "data": {
      "text/plain": [
       "array([0.     , 0.0625 , 0.125  , 0.1875 , 0.25   , 0.3125 , 0.375  ,\n",
       "       0.4375 , 0.5    , 0.5625 , 0.625  , 0.6875 , 0.75   , 0.8125 ,\n",
       "       0.875  , 0.9375 , 1.     , 0.9375 , 0.96875, 1.     , 1.03125,\n",
       "       1.0625 , 1.09375, 1.125  , 1.15625, 1.1875 , 1.21875, 1.25   ,\n",
       "       1.28125, 1.3125 , 1.34375, 1.375  , 1.40625, 1.4375 , 1.46875,\n",
       "       1.5    , 1.53125, 1.5625 , 1.59375, 1.625  , 1.65625, 1.6875 ,\n",
       "       1.71875, 1.75   , 1.78125, 1.8125 , 1.84375, 1.875  , 1.90625,\n",
       "       1.9375 , 1.96875, 2.     , 2.03125, 2.0625 , 2.     , 2.0625 ,\n",
       "       2.125  , 2.1875 , 2.25   , 2.3125 , 2.375  , 2.4375 , 2.5    ,\n",
       "       2.5625 , 2.625  , 2.6875 , 2.75   , 2.8125 , 2.875  , 2.9375 ,\n",
       "       3.     ])"
      ]
     },
     "execution_count": 72,
     "metadata": {},
     "output_type": "execute_result"
    }
   ],
   "source": [
    "x1 = np.arange(0,1.0625,0.0625)\n",
    "x2 = np.arange(1-2*0.03125,2+3*0.03125,0.03125)\n",
    "x3 = np.arange(2,3.0625,0.0625)\n",
    "x = np.array(np.concatenate((x1,x2,x3)))\n",
    "x"
   ]
  },
  {
   "cell_type": "code",
   "execution_count": 73,
   "metadata": {},
   "outputs": [
    {
     "data": {
      "text/plain": [
       "array([0., 0., 0., 0., 0., 0., 0., 0., 0., 0., 0., 0., 0., 0., 0., 0., 0.,\n",
       "       0., 0., 0., 0., 0., 0., 0., 0., 0., 0., 0., 0., 0., 0., 0., 0., 0.,\n",
       "       0., 0., 0., 0., 0., 0., 0., 0., 0., 0., 0., 0., 0., 0., 0., 0., 0.,\n",
       "       0., 0., 0., 0., 0., 0., 0., 0., 0., 0., 0., 0., 0., 0., 0., 0., 0.,\n",
       "       0., 0., 0.])"
      ]
     },
     "execution_count": 73,
     "metadata": {},
     "output_type": "execute_result"
    }
   ],
   "source": [
    "f3 = np.zeros([71])\n",
    "f3"
   ]
  },
  {
   "cell_type": "code",
   "execution_count": 74,
   "metadata": {},
   "outputs": [],
   "source": [
    "for i in range(1,len(f3)-1):\n",
    "    f3[i] = -( 2/np.sqrt(3)) * ( -6 + 4*x[i] ) "
   ]
  },
  {
   "cell_type": "code",
   "execution_count": 75,
   "metadata": {},
   "outputs": [
    {
     "data": {
      "text/plain": [
       "array([ 0.        ,  6.6395281 ,  6.35085296,  6.06217783,  5.77350269,\n",
       "        5.48482756,  5.19615242,  4.90747729,  4.61880215,  4.33012702,\n",
       "        4.04145188,  3.75277675,  3.46410162,  3.17542648,  2.88675135,\n",
       "        2.59807621,  0.        ,  0.        ,  0.        ,  2.30940108,\n",
       "        2.16506351,  2.02072594,  1.87638837,  1.73205081,  1.58771324,\n",
       "        1.44337567,  1.29903811,  1.15470054,  1.01036297,  0.8660254 ,\n",
       "        0.72168784,  0.57735027,  0.4330127 ,  0.28867513,  0.14433757,\n",
       "       -0.        , -0.14433757, -0.28867513, -0.4330127 , -0.57735027,\n",
       "       -0.72168784, -0.8660254 , -1.01036297, -1.15470054, -1.29903811,\n",
       "       -1.44337567, -1.58771324, -1.73205081, -1.87638837, -2.02072594,\n",
       "       -2.16506351, -2.30940108,  0.        ,  0.        ,  0.        ,\n",
       "       -2.59807621, -2.88675135, -3.17542648, -3.46410162, -3.75277675,\n",
       "       -4.04145188, -4.33012702, -4.61880215, -4.90747729, -5.19615242,\n",
       "       -5.48482756, -5.77350269, -6.06217783, -6.35085296, -6.6395281 ,\n",
       "        0.        ])"
      ]
     },
     "execution_count": 75,
     "metadata": {},
     "output_type": "execute_result"
    }
   ],
   "source": [
    "f3 [16] = 0 # the displacememnt is matching therefore the force is zero\n",
    "f3 [17] = 0 \n",
    "f3 [18] = 0 \n",
    "f3 [52] = 0 \n",
    "f3 [53] = 0\n",
    "f3 [54] = 0\n",
    "f3"
   ]
  },
  {
   "cell_type": "code",
   "execution_count": 76,
   "metadata": {},
   "outputs": [
    {
     "data": {
      "text/plain": [
       "array([ 5.55111512e-16,  2.02599988e-01,  3.79264320e-01,  5.31120632e-01,\n",
       "        6.59296562e-01,  7.64919747e-01,  8.49117825e-01,  9.13018432e-01,\n",
       "        9.57749206e-01,  9.84437784e-01,  9.94211803e-01,  9.88198901e-01,\n",
       "        9.67526715e-01,  9.33322882e-01,  8.86715039e-01,  8.28830824e-01,\n",
       "        7.60797874e-01,  8.28830824e-01,  7.94814349e-01,  7.60797874e-01,\n",
       "        7.24114996e-01,  6.85388337e-01,  6.44676210e-01,  6.02133749e-01,\n",
       "        5.57899476e-01,  5.12114763e-01,  4.64920493e-01,  4.16457633e-01,\n",
       "        3.66867135e-01,  3.16289955e-01,  2.64867047e-01,  2.12739366e-01,\n",
       "        1.60047865e-01,  1.06933501e-01,  5.35372280e-02, -4.55638102e-14,\n",
       "       -5.35372280e-02, -1.06933501e-01, -1.60047865e-01, -2.12739366e-01,\n",
       "       -2.64867047e-01, -3.16289955e-01, -3.66867135e-01, -4.16457633e-01,\n",
       "       -4.64920493e-01, -5.12114763e-01, -5.57899476e-01, -6.02133749e-01,\n",
       "       -6.44676210e-01, -6.85388337e-01, -7.24114996e-01, -7.60797874e-01,\n",
       "       -7.94814349e-01, -8.28830824e-01, -7.60797874e-01, -8.28830824e-01,\n",
       "       -8.86715039e-01, -9.33322882e-01, -9.67526715e-01, -9.88198901e-01,\n",
       "       -9.94211803e-01, -9.84437784e-01, -9.57749206e-01, -9.13018432e-01,\n",
       "       -8.49117825e-01, -7.64919747e-01, -6.59296562e-01, -5.31120632e-01,\n",
       "       -3.79264320e-01, -2.02599988e-01,  0.00000000e+00])"
      ]
     },
     "execution_count": 76,
     "metadata": {},
     "output_type": "execute_result"
    }
   ],
   "source": [
    "u3 = np.linalg.solve(M3,f3)\n",
    "u3"
   ]
  },
  {
   "cell_type": "code",
   "execution_count": 77,
   "metadata": {},
   "outputs": [
    {
     "data": {
      "text/plain": [
       "array([0.     , 0.0625 , 0.125  , 0.1875 , 0.25   , 0.3125 , 0.375  ,\n",
       "       0.4375 , 0.5    , 0.5625 , 0.625  , 0.6875 , 0.75   , 0.8125 ,\n",
       "       0.875  , 0.9375 , 1.     , 1.03125, 1.0625 , 1.09375, 1.125  ,\n",
       "       1.15625, 1.1875 , 1.21875, 1.25   , 1.28125, 1.3125 , 1.34375,\n",
       "       1.375  , 1.40625, 1.4375 , 1.46875, 1.5    , 1.53125, 1.5625 ,\n",
       "       1.59375, 1.625  , 1.65625, 1.6875 , 1.71875, 1.75   , 1.78125,\n",
       "       1.8125 , 1.84375, 1.875  , 1.90625, 1.9375 , 1.96875, 2.     ,\n",
       "       2.0625 , 2.125  , 2.1875 , 2.25   , 2.3125 , 2.375  , 2.4375 ,\n",
       "       2.5    , 2.5625 , 2.625  , 2.6875 , 2.75   , 2.8125 , 2.875  ,\n",
       "       2.9375 , 3.     ])"
      ]
     },
     "execution_count": 77,
     "metadata": {},
     "output_type": "execute_result"
    }
   ],
   "source": [
    "x8 = np.arange(0,1,0.0625)\n",
    "x9 = np.arange(1,2,0.03125)\n",
    "x10 = np.arange(2,3.0625,0.0625)\n",
    "x11 = np.array(np.concatenate((x8,x9,x10)))\n",
    "x11"
   ]
  },
  {
   "cell_type": "code",
   "execution_count": 78,
   "metadata": {},
   "outputs": [
    {
     "data": {
      "text/plain": [
       "array([ 5.55111512e-16,  2.02599988e-01,  3.79264320e-01,  5.31120632e-01,\n",
       "        6.59296562e-01,  7.64919747e-01,  8.49117825e-01,  9.13018432e-01,\n",
       "        9.57749206e-01,  9.84437784e-01,  9.94211803e-01,  9.88198901e-01,\n",
       "        9.67526715e-01,  9.33322882e-01,  8.86715039e-01,  8.28830824e-01,\n",
       "        7.60797874e-01,  7.24114996e-01,  6.85388337e-01,  6.44676210e-01,\n",
       "        6.02133749e-01,  5.57899476e-01,  5.12114763e-01,  4.64920493e-01,\n",
       "        4.16457633e-01,  3.66867135e-01,  3.16289955e-01,  2.64867047e-01,\n",
       "        2.12739366e-01,  1.60047865e-01,  1.06933501e-01,  5.35372280e-02,\n",
       "       -4.55638102e-14, -5.35372280e-02, -1.06933501e-01, -1.60047865e-01,\n",
       "       -2.12739366e-01, -2.64867047e-01, -3.16289955e-01, -3.66867135e-01,\n",
       "       -4.16457633e-01, -4.64920493e-01, -5.12114763e-01, -5.57899476e-01,\n",
       "       -6.02133749e-01, -6.44676210e-01, -6.85388337e-01, -7.24114996e-01,\n",
       "       -7.60797874e-01, -8.28830824e-01, -8.86715039e-01, -9.33322882e-01,\n",
       "       -9.67526715e-01, -9.88198901e-01, -9.94211803e-01, -9.84437784e-01,\n",
       "       -9.57749206e-01, -9.13018432e-01, -8.49117825e-01, -7.64919747e-01,\n",
       "       -6.59296562e-01, -5.31120632e-01, -3.79264320e-01, -2.02599988e-01,\n",
       "        0.00000000e+00])"
      ]
     },
     "execution_count": 78,
     "metadata": {},
     "output_type": "execute_result"
    }
   ],
   "source": [
    "uSlice3 = np.array(np.concatenate((u3[0:17],u3[20:52],u3[55:len(u3)])))\n",
    "uSlice3"
   ]
  },
  {
   "cell_type": "code",
   "execution_count": 79,
   "metadata": {},
   "outputs": [
    {
     "data": {
      "text/plain": [
       "65"
      ]
     },
     "execution_count": 79,
     "metadata": {},
     "output_type": "execute_result"
    }
   ],
   "source": [
    "len(x11)"
   ]
  },
  {
   "cell_type": "code",
   "execution_count": 80,
   "metadata": {},
   "outputs": [
    {
     "data": {
      "text/plain": [
       "65"
      ]
     },
     "execution_count": 80,
     "metadata": {},
     "output_type": "execute_result"
    }
   ],
   "source": [
    "len(uSlice3)"
   ]
  },
  {
   "cell_type": "code",
   "execution_count": 81,
   "metadata": {},
   "outputs": [
    {
     "data": {
      "text/plain": [
       "71"
      ]
     },
     "execution_count": 81,
     "metadata": {},
     "output_type": "execute_result"
    }
   ],
   "source": [
    "len(u3)"
   ]
  },
  {
   "cell_type": "code",
   "execution_count": 82,
   "metadata": {},
   "outputs": [
    {
     "data": {
      "text/plain": [
       "[<matplotlib.lines.Line2D at 0x7f59b8b27f70>]"
      ]
     },
     "execution_count": 82,
     "metadata": {},
     "output_type": "execute_result"
    },
    {
     "data": {
      "image/png": "[encoded data removed]",
      "text/plain": [
       "<Figure size 432x288 with 1 Axes>"
      ]
     },
     "metadata": {
      "needs_background": "light"
     },
     "output_type": "display_data"
    }
   ],
   "source": [
    "plt.grid()\n",
    "plt.plot(x11,uSlice3)"
   ]
  },
  {
   "cell_type": "code",
   "execution_count": 83,
   "metadata": {},
   "outputs": [],
   "source": [
    "def FDM (n,h):\n",
    "    \n",
    "    M4=np.zeros([n,n])\n",
    "\n",
    "    M4[0][0] = 1\n",
    "\n",
    "    for i in range(1,n-1):\n",
    "        M4[i][i-1] = -2 \n",
    "        M4[i][i] = 4 \n",
    "        M4[i][i+1] = -2\n",
    "\n",
    "    M4[n-1][n-1] = 1\n",
    "\n",
    "    M4 *= 1./(2.*h*h)\n",
    "\n",
    "    return M4"
   ]
  },
  {
   "cell_type": "code",
   "execution_count": 84,
   "metadata": {},
   "outputs": [
    {
     "data": {
      "text/plain": [
       "49"
      ]
     },
     "execution_count": 84,
     "metadata": {},
     "output_type": "execute_result"
    }
   ],
   "source": [
    "MFDM=FDM (49,0.0625)\n",
    "len(MFDM)"
   ]
  },
  {
   "cell_type": "code",
   "execution_count": 85,
   "metadata": {},
   "outputs": [
    {
     "data": {
      "text/plain": [
       "49"
      ]
     },
     "execution_count": 85,
     "metadata": {},
     "output_type": "execute_result"
    }
   ],
   "source": [
    "fFDM=np.zeros([49])\n",
    "len(fFDM)"
   ]
  },
  {
   "cell_type": "code",
   "execution_count": 86,
   "metadata": {},
   "outputs": [
    {
     "data": {
      "text/plain": [
       "array([0.    , 0.0625, 0.125 , 0.1875, 0.25  , 0.3125, 0.375 , 0.4375,\n",
       "       0.5   , 0.5625, 0.625 , 0.6875, 0.75  , 0.8125, 0.875 , 0.9375,\n",
       "       1.    , 1.0625, 1.125 , 1.1875, 1.25  , 1.3125, 1.375 , 1.4375,\n",
       "       1.5   , 1.5625, 1.625 , 1.6875, 1.75  , 1.8125, 1.875 , 1.9375,\n",
       "       2.    , 2.0625, 2.125 , 2.1875, 2.25  , 2.3125, 2.375 , 2.4375,\n",
       "       2.5   , 2.5625, 2.625 , 2.6875, 2.75  , 2.8125, 2.875 , 2.9375,\n",
       "       3.    ])"
      ]
     },
     "execution_count": 86,
     "metadata": {},
     "output_type": "execute_result"
    }
   ],
   "source": [
    "x = np.arange(0,3.0625,0.0625)\n",
    "x"
   ]
  },
  {
   "cell_type": "code",
   "execution_count": 87,
   "metadata": {},
   "outputs": [
    {
     "data": {
      "text/plain": [
       "array([ 0.        ,  6.6395281 ,  6.35085296,  6.06217783,  5.77350269,\n",
       "        5.48482756,  5.19615242,  4.90747729,  4.61880215,  4.33012702,\n",
       "        4.04145188,  3.75277675,  3.46410162,  3.17542648,  2.88675135,\n",
       "        2.59807621,  2.30940108,  2.02072594,  1.73205081,  1.44337567,\n",
       "        1.15470054,  0.8660254 ,  0.57735027,  0.28867513, -0.        ,\n",
       "       -0.28867513, -0.57735027, -0.8660254 , -1.15470054, -1.44337567,\n",
       "       -1.73205081, -2.02072594, -2.30940108, -2.59807621, -2.88675135,\n",
       "       -3.17542648, -3.46410162, -3.75277675, -4.04145188, -4.33012702,\n",
       "       -4.61880215, -4.90747729, -5.19615242, -5.48482756, -5.77350269,\n",
       "       -6.06217783, -6.35085296, -6.6395281 ,  0.        ])"
      ]
     },
     "execution_count": 87,
     "metadata": {},
     "output_type": "execute_result"
    }
   ],
   "source": [
    "for i in range(1,len(fFDM)-1):\n",
    "    fFDM[i] = -( 2/np.sqrt(3)) * ( -6 + 4 * x[i] ) \n",
    "fFDM"
   ]
  },
  {
   "cell_type": "code",
   "execution_count": 88,
   "metadata": {},
   "outputs": [
    {
     "data": {
      "text/plain": [
       "array([-0.00000000e+00,  2.03162644e-01,  3.80389630e-01,  5.32808598e-01,\n",
       "        6.61547183e-01,  7.67733024e-01,  8.52493757e-01,  9.16957019e-01,\n",
       "        9.62250449e-01,  9.89501682e-01,  9.99838357e-01,  9.94388110e-01,\n",
       "        9.74278579e-01,  9.40637401e-01,  8.94592214e-01,  8.37270654e-01,\n",
       "        7.69800359e-01,  6.93308966e-01,  6.08924112e-01,  5.17773435e-01,\n",
       "        4.20984571e-01,  3.19685159e-01,  2.15002835e-01,  1.08065236e-01,\n",
       "       -1.06581410e-16, -1.08065236e-01, -2.15002835e-01, -3.19685159e-01,\n",
       "       -4.20984571e-01, -5.17773435e-01, -6.08924112e-01, -6.93308966e-01,\n",
       "       -7.69800359e-01, -8.37270654e-01, -8.94592214e-01, -9.40637401e-01,\n",
       "       -9.74278579e-01, -9.94388110e-01, -9.99838357e-01, -9.89501682e-01,\n",
       "       -9.62250449e-01, -9.16957019e-01, -8.52493757e-01, -7.67733024e-01,\n",
       "       -6.61547183e-01, -5.32808598e-01, -3.80389630e-01, -2.03162644e-01,\n",
       "        0.00000000e+00])"
      ]
     },
     "execution_count": 88,
     "metadata": {},
     "output_type": "execute_result"
    }
   ],
   "source": [
    "uFDM = np.linalg.solve(MFDM,fFDM)\n",
    "uFDM"
   ]
  },
  {
   "cell_type": "code",
   "execution_count": 89,
   "metadata": {},
   "outputs": [
    {
     "data": {
      "text/plain": [
       "49"
      ]
     },
     "execution_count": 89,
     "metadata": {},
     "output_type": "execute_result"
    }
   ],
   "source": [
    "xFDM = np.arange(0,3.0625,0.0625)\n",
    "xFDM\n",
    "len (xFDM)"
   ]
  },
  {
   "cell_type": "code",
   "execution_count": 90,
   "metadata": {},
   "outputs": [
    {
     "data": {
      "text/plain": [
       "49"
      ]
     },
     "execution_count": 90,
     "metadata": {},
     "output_type": "execute_result"
    }
   ],
   "source": [
    "MFDM= FDM(4,1)\n",
    "len(fFDM)"
   ]
  },
  {
   "cell_type": "code",
   "execution_count": 91,
   "metadata": {},
   "outputs": [
    {
     "data": {
      "text/plain": [
       "array([ 0.        ,  6.6395281 ,  6.35085296,  6.06217783,  5.77350269,\n",
       "        5.48482756,  5.19615242,  4.90747729,  4.61880215,  4.33012702,\n",
       "        4.04145188,  3.75277675,  3.46410162,  3.17542648,  2.88675135,\n",
       "        2.59807621,  2.30940108,  2.02072594,  1.73205081,  1.44337567,\n",
       "        1.15470054,  0.8660254 ,  0.57735027,  0.28867513, -0.        ,\n",
       "       -0.28867513, -0.57735027, -0.8660254 , -1.15470054, -1.44337567,\n",
       "       -1.73205081, -2.02072594, -2.30940108, -2.59807621, -2.88675135,\n",
       "       -3.17542648, -3.46410162, -3.75277675, -4.04145188, -4.33012702,\n",
       "       -4.61880215, -4.90747729, -5.19615242, -5.48482756, -5.77350269,\n",
       "       -6.06217783, -6.35085296, -6.6395281 ,  0.        ])"
      ]
     },
     "execution_count": 91,
     "metadata": {},
     "output_type": "execute_result"
    }
   ],
   "source": [
    "for i in range(1,len(fFDM)-1):\n",
    "    fFDM[i] = -( 2/np.sqrt(3)) * ( -6 + 4*x[i] ) \n",
    "fFDM"
   ]
  },
  {
   "cell_type": "code",
   "execution_count": 92,
   "metadata": {},
   "outputs": [
    {
     "data": {
      "text/plain": [
       "Text(0.5, 1.0, 'Cubic solution ')"
      ]
     },
     "execution_count": 92,
     "metadata": {},
     "output_type": "execute_result"
    },
    {
     "data": {
      "image/png": "[encoded data removed]",
      "text/plain": [
       "<Figure size 432x288 with 1 Axes>"
      ]
     },
     "metadata": {
      "needs_background": "light"
     },
     "output_type": "display_data"
    }
   ],
   "source": [
    "plt.grid()\n",
    "plt.plot(x20,uSlice,label=\"hFD=0.25\")\n",
    "plt.plot(x7,uSlice2,label=\"hFD=0.125\")\n",
    "plt.plot(x11,uSlice3,label=\"hFD=0.0625\")\n",
    "plt.plot(xFDM,uFDM,label= \"FDM h=0.0625\")\n",
    "plt.legend()\n",
    "plt.xlabel(r\"Position $x$\")\n",
    "plt.ylabel(r\"Displacement $u$\")\n",
    "plt.title(r\"Cubic solution \")"
   ]
  },
  {
   "cell_type": "code",
   "execution_count": 93,
   "metadata": {},
   "outputs": [
    {
     "data": {
      "text/plain": [
       "97"
      ]
     },
     "execution_count": 93,
     "metadata": {},
     "output_type": "execute_result"
    }
   ],
   "source": [
    "MFDM=FDM (49*2-1,0.0625/2)\n",
    "len(MFDM)"
   ]
  },
  {
   "cell_type": "code",
   "execution_count": 94,
   "metadata": {},
   "outputs": [
    {
     "data": {
      "text/plain": [
       "97"
      ]
     },
     "execution_count": 94,
     "metadata": {},
     "output_type": "execute_result"
    }
   ],
   "source": [
    "fFDM=np.zeros([49*2-1])\n",
    "len(fFDM)"
   ]
  },
  {
   "cell_type": "code",
   "execution_count": 95,
   "metadata": {},
   "outputs": [
    {
     "data": {
      "text/plain": [
       "65"
      ]
     },
     "execution_count": 95,
     "metadata": {},
     "output_type": "execute_result"
    }
   ],
   "source": [
    "len(uSlice3)"
   ]
  },
  {
   "cell_type": "code",
   "execution_count": 96,
   "metadata": {},
   "outputs": [
    {
     "data": {
      "text/plain": [
       "array([0.     , 0.03125, 0.0625 , 0.09375, 0.125  , 0.15625, 0.1875 ,\n",
       "       0.21875, 0.25   , 0.28125, 0.3125 , 0.34375, 0.375  , 0.40625,\n",
       "       0.4375 , 0.46875, 0.5    , 0.53125, 0.5625 , 0.59375, 0.625  ,\n",
       "       0.65625, 0.6875 , 0.71875, 0.75   , 0.78125, 0.8125 , 0.84375,\n",
       "       0.875  , 0.90625, 0.9375 , 0.96875, 1.     , 1.03125, 1.0625 ,\n",
       "       1.09375, 1.125  , 1.15625, 1.1875 , 1.21875, 1.25   , 1.28125,\n",
       "       1.3125 , 1.34375, 1.375  , 1.40625, 1.4375 , 1.46875, 1.5    ,\n",
       "       1.53125, 1.5625 , 1.59375, 1.625  , 1.65625, 1.6875 , 1.71875,\n",
       "       1.75   , 1.78125, 1.8125 , 1.84375, 1.875  , 1.90625, 1.9375 ,\n",
       "       1.96875, 2.     , 2.03125, 2.0625 , 2.09375, 2.125  , 2.15625,\n",
       "       2.1875 , 2.21875, 2.25   , 2.28125, 2.3125 , 2.34375, 2.375  ,\n",
       "       2.40625, 2.4375 , 2.46875, 2.5    , 2.53125, 2.5625 , 2.59375,\n",
       "       2.625  , 2.65625, 2.6875 , 2.71875, 2.75   , 2.78125, 2.8125 ,\n",
       "       2.84375, 2.875  , 2.90625, 2.9375 , 2.96875, 3.     ])"
      ]
     },
     "execution_count": 96,
     "metadata": {},
     "output_type": "execute_result"
    }
   ],
   "source": [
    "x = np.arange(0,3+0.0625/2,0.0625/2)\n",
    "x"
   ]
  },
  {
   "cell_type": "code",
   "execution_count": 97,
   "metadata": {},
   "outputs": [
    {
     "data": {
      "text/plain": [
       "array([0.    , 0.0625, 0.125 , 0.1875, 0.25  , 0.3125, 0.375 , 0.4375,\n",
       "       0.5   , 0.5625, 0.625 , 0.6875, 0.75  , 0.8125, 0.875 , 0.9375])"
      ]
     },
     "execution_count": 97,
     "metadata": {},
     "output_type": "execute_result"
    }
   ],
   "source": [
    "x[0:32:2]"
   ]
  },
  {
   "cell_type": "code",
   "execution_count": 98,
   "metadata": {},
   "outputs": [
    {
     "data": {
      "text/plain": [
       "array([2.    , 2.0625, 2.125 , 2.1875, 2.25  , 2.3125, 2.375 , 2.4375,\n",
       "       2.5   , 2.5625, 2.625 , 2.6875, 2.75  , 2.8125, 2.875 , 2.9375,\n",
       "       3.    ])"
      ]
     },
     "execution_count": 98,
     "metadata": {},
     "output_type": "execute_result"
    }
   ],
   "source": [
    "x[len(x)-33:len(x):2]"
   ]
  },
  {
   "cell_type": "code",
   "execution_count": 99,
   "metadata": {},
   "outputs": [
    {
     "data": {
      "text/plain": [
       "array([ 0.        ,  6.78386566,  6.6395281 ,  6.49519053,  6.35085296,\n",
       "        6.20651539,  6.06217783,  5.91784026,  5.77350269,  5.62916512,\n",
       "        5.48482756,  5.34048999,  5.19615242,  5.05181486,  4.90747729,\n",
       "        4.76313972,  4.61880215,  4.47446459,  4.33012702,  4.18578945,\n",
       "        4.04145188,  3.89711432,  3.75277675,  3.60843918,  3.46410162,\n",
       "        3.31976405,  3.17542648,  3.03108891,  2.88675135,  2.74241378,\n",
       "        2.59807621,  2.45373864,  2.30940108,  2.16506351,  2.02072594,\n",
       "        1.87638837,  1.73205081,  1.58771324,  1.44337567,  1.29903811,\n",
       "        1.15470054,  1.01036297,  0.8660254 ,  0.72168784,  0.57735027,\n",
       "        0.4330127 ,  0.28867513,  0.14433757, -0.        , -0.14433757,\n",
       "       -0.28867513, -0.4330127 , -0.57735027, -0.72168784, -0.8660254 ,\n",
       "       -1.01036297, -1.15470054, -1.29903811, -1.44337567, -1.58771324,\n",
       "       -1.73205081, -1.87638837, -2.02072594, -2.16506351, -2.30940108,\n",
       "       -2.45373864, -2.59807621, -2.74241378, -2.88675135, -3.03108891,\n",
       "       -3.17542648, -3.31976405, -3.46410162, -3.60843918, -3.75277675,\n",
       "       -3.89711432, -4.04145188, -4.18578945, -4.33012702, -4.47446459,\n",
       "       -4.61880215, -4.76313972, -4.90747729, -5.05181486, -5.19615242,\n",
       "       -5.34048999, -5.48482756, -5.62916512, -5.77350269, -5.91784026,\n",
       "       -6.06217783, -6.20651539, -6.35085296, -6.49519053, -6.6395281 ,\n",
       "       -6.78386566,  0.        ])"
      ]
     },
     "execution_count": 99,
     "metadata": {},
     "output_type": "execute_result"
    }
   ],
   "source": [
    "for i in range(1,len(fFDM)-1):\n",
    "    fFDM[i] = -( 2/np.sqrt(3)) * ( -6 + 4*x[i]) \n",
    "fFDM"
   ]
  },
  {
   "cell_type": "code",
   "execution_count": 100,
   "metadata": {},
   "outputs": [
    {
     "data": {
      "text/plain": [
       "array([-0.00000000e+00,  1.04893756e-01,  2.03162644e-01,  2.94947617e-01,\n",
       "        3.80389630e-01,  4.59629639e-01,  5.32808598e-01,  6.00067461e-01,\n",
       "        6.61547183e-01,  7.17388719e-01,  7.67733024e-01,  8.12721052e-01,\n",
       "        8.52493757e-01,  8.87192095e-01,  9.16957019e-01,  9.41929486e-01,\n",
       "        9.62250449e-01,  9.78060863e-01,  9.89501682e-01,  9.96713862e-01,\n",
       "        9.99838357e-01,  9.99016121e-01,  9.94388110e-01,  9.86095278e-01,\n",
       "        9.74278579e-01,  9.59078969e-01,  9.40637401e-01,  9.19094832e-01,\n",
       "        8.94592214e-01,  8.67270503e-01,  8.37270654e-01,  8.04733621e-01,\n",
       "        7.69800359e-01,  7.32611822e-01,  6.93308966e-01,  6.52032744e-01,\n",
       "        6.08924112e-01,  5.64124024e-01,  5.17773435e-01,  4.70013299e-01,\n",
       "        4.20984571e-01,  3.70828206e-01,  3.19685159e-01,  2.67696383e-01,\n",
       "        2.15002835e-01,  1.61745467e-01,  1.08065236e-01,  5.41030953e-02,\n",
       "       -9.10156304e-15, -5.41030953e-02, -1.08065236e-01, -1.61745467e-01,\n",
       "       -2.15002835e-01, -2.67696383e-01, -3.19685159e-01, -3.70828206e-01,\n",
       "       -4.20984571e-01, -4.70013299e-01, -5.17773435e-01, -5.64124024e-01,\n",
       "       -6.08924112e-01, -6.52032744e-01, -6.93308966e-01, -7.32611822e-01,\n",
       "       -7.69800359e-01, -8.04733621e-01, -8.37270654e-01, -8.67270503e-01,\n",
       "       -8.94592214e-01, -9.19094832e-01, -9.40637401e-01, -9.59078969e-01,\n",
       "       -9.74278579e-01, -9.86095278e-01, -9.94388110e-01, -9.99016121e-01,\n",
       "       -9.99838357e-01, -9.96713862e-01, -9.89501682e-01, -9.78060863e-01,\n",
       "       -9.62250449e-01, -9.41929486e-01, -9.16957019e-01, -8.87192095e-01,\n",
       "       -8.52493757e-01, -8.12721052e-01, -7.67733024e-01, -7.17388719e-01,\n",
       "       -6.61547183e-01, -6.00067461e-01, -5.32808598e-01, -4.59629639e-01,\n",
       "       -3.80389630e-01, -2.94947617e-01, -2.03162644e-01, -1.04893756e-01,\n",
       "        0.00000000e+00])"
      ]
     },
     "execution_count": 100,
     "metadata": {},
     "output_type": "execute_result"
    }
   ],
   "source": [
    "uFDM4 = np.linalg.solve(MFDM,fFDM)\n",
    "uFDM4"
   ]
  },
  {
   "cell_type": "code",
   "execution_count": 101,
   "metadata": {},
   "outputs": [
    {
     "data": {
      "text/plain": [
       "array([1.03125, 1.0625 , 1.09375, 1.125  , 1.15625, 1.1875 , 1.21875,\n",
       "       1.25   , 1.28125, 1.3125 , 1.34375, 1.375  , 1.40625, 1.4375 ,\n",
       "       1.46875, 1.5    , 1.53125, 1.5625 , 1.59375, 1.625  , 1.65625,\n",
       "       1.6875 , 1.71875, 1.75   , 1.78125, 1.8125 , 1.84375, 1.875  ,\n",
       "       1.90625, 1.9375 ])"
      ]
     },
     "execution_count": 101,
     "metadata": {},
     "output_type": "execute_result"
    }
   ],
   "source": [
    "x[33:len(uFDM4)-34:1]"
   ]
  },
  {
   "cell_type": "code",
   "execution_count": 102,
   "metadata": {},
   "outputs": [],
   "source": [
    "xSlice = np.array(np.concatenate((x[0:31:2],x[32:len(uFDM4)-31:1],x[len(uFDM4)-32:len(uFDM4):2])))"
   ]
  },
  {
   "cell_type": "code",
   "execution_count": 103,
   "metadata": {},
   "outputs": [
    {
     "data": {
      "text/plain": [
       "66"
      ]
     },
     "execution_count": 103,
     "metadata": {},
     "output_type": "execute_result"
    }
   ],
   "source": [
    "len(xSlice)"
   ]
  },
  {
   "cell_type": "code",
   "execution_count": 104,
   "metadata": {},
   "outputs": [
    {
     "data": {
      "text/plain": [
       "array([0.     , 0.0625 , 0.125  , 0.1875 , 0.25   , 0.3125 , 0.375  ,\n",
       "       0.4375 , 0.5    , 0.5625 , 0.625  , 0.6875 , 0.75   , 0.8125 ,\n",
       "       0.875  , 0.9375 , 1.     , 1.03125, 1.0625 , 1.09375, 1.125  ,\n",
       "       1.15625, 1.1875 , 1.21875, 1.25   , 1.28125, 1.3125 , 1.34375,\n",
       "       1.375  , 1.40625, 1.4375 , 1.46875, 1.5    , 1.53125, 1.5625 ,\n",
       "       1.59375, 1.625  , 1.65625, 1.6875 , 1.71875, 1.75   , 1.78125,\n",
       "       1.8125 , 1.84375, 1.875  , 1.90625, 1.9375 , 1.96875, 2.     ,\n",
       "       2.03125, 2.03125, 2.09375, 2.15625, 2.21875, 2.28125, 2.34375,\n",
       "       2.40625, 2.46875, 2.53125, 2.59375, 2.65625, 2.71875, 2.78125,\n",
       "       2.84375, 2.90625, 2.96875])"
      ]
     },
     "execution_count": 104,
     "metadata": {},
     "output_type": "execute_result"
    }
   ],
   "source": [
    "xSlice"
   ]
  },
  {
   "cell_type": "code",
   "execution_count": 105,
   "metadata": {},
   "outputs": [
    {
     "data": {
      "text/plain": [
       "65"
      ]
     },
     "execution_count": 105,
     "metadata": {},
     "output_type": "execute_result"
    }
   ],
   "source": [
    "len(x11)"
   ]
  },
  {
   "cell_type": "code",
   "execution_count": 106,
   "metadata": {},
   "outputs": [],
   "source": [
    "uFDM4Slice = np.array(np.concatenate((uFDM4[0:33:2],uFDM4[33:len(uFDM4)-33:1],uFDM4[len(uFDM4)-33:len(uFDM4):2])))\n"
   ]
  },
  {
   "cell_type": "code",
   "execution_count": 107,
   "metadata": {},
   "outputs": [
    {
     "data": {
      "text/plain": [
       "49"
      ]
     },
     "execution_count": 107,
     "metadata": {},
     "output_type": "execute_result"
    }
   ],
   "source": [
    "MFDM2=FDM(25*2-1,0.125/2)\n",
    "len(MFDM2)"
   ]
  },
  {
   "cell_type": "code",
   "execution_count": 108,
   "metadata": {},
   "outputs": [
    {
     "data": {
      "text/plain": [
       "49"
      ]
     },
     "execution_count": 108,
     "metadata": {},
     "output_type": "execute_result"
    }
   ],
   "source": [
    "fFDM2=np.zeros([25*2-1])\n",
    "len(fFDM2)"
   ]
  },
  {
   "cell_type": "code",
   "execution_count": 109,
   "metadata": {},
   "outputs": [
    {
     "data": {
      "text/plain": [
       "array([0.    , 0.0625, 0.125 , 0.1875, 0.25  , 0.3125, 0.375 , 0.4375,\n",
       "       0.5   , 0.5625, 0.625 , 0.6875, 0.75  , 0.8125, 0.875 , 0.9375,\n",
       "       1.    , 1.0625, 1.125 , 1.1875, 1.25  , 1.3125, 1.375 , 1.4375,\n",
       "       1.5   , 1.5625, 1.625 , 1.6875, 1.75  , 1.8125, 1.875 , 1.9375,\n",
       "       2.    , 2.0625, 2.125 , 2.1875, 2.25  , 2.3125, 2.375 , 2.4375,\n",
       "       2.5   , 2.5625, 2.625 , 2.6875, 2.75  , 2.8125, 2.875 , 2.9375,\n",
       "       3.    ])"
      ]
     },
     "execution_count": 109,
     "metadata": {},
     "output_type": "execute_result"
    }
   ],
   "source": [
    "x2 = np.arange(0,3+0.125/2,0.125/2)\n",
    "x2"
   ]
  },
  {
   "cell_type": "code",
   "execution_count": 110,
   "metadata": {},
   "outputs": [
    {
     "data": {
      "text/plain": [
       "array([ 0.        ,  6.6395281 ,  6.35085296,  6.06217783,  5.77350269,\n",
       "        5.48482756,  5.19615242,  4.90747729,  4.61880215,  4.33012702,\n",
       "        4.04145188,  3.75277675,  3.46410162,  3.17542648,  2.88675135,\n",
       "        2.59807621,  2.30940108,  2.02072594,  1.73205081,  1.44337567,\n",
       "        1.15470054,  0.8660254 ,  0.57735027,  0.28867513, -0.        ,\n",
       "       -0.28867513, -0.57735027, -0.8660254 , -1.15470054, -1.44337567,\n",
       "       -1.73205081, -2.02072594, -2.30940108, -2.59807621, -2.88675135,\n",
       "       -3.17542648, -3.46410162, -3.75277675, -4.04145188, -4.33012702,\n",
       "       -4.61880215, -4.90747729, -5.19615242, -5.48482756, -5.77350269,\n",
       "       -6.06217783, -6.35085296, -6.6395281 ,  0.        ])"
      ]
     },
     "execution_count": 110,
     "metadata": {},
     "output_type": "execute_result"
    }
   ],
   "source": [
    "for i in range(1,len(fFDM2)-1):\n",
    "    fFDM2[i] = -( 2/np.sqrt(3)) * ( -6 + 4*x2[i] ) \n",
    "fFDM2"
   ]
  },
  {
   "cell_type": "code",
   "execution_count": 111,
   "metadata": {},
   "outputs": [
    {
     "data": {
      "text/plain": [
       "array([-0.00000000e+00,  2.03162644e-01,  3.80389630e-01,  5.32808598e-01,\n",
       "        6.61547183e-01,  7.67733024e-01,  8.52493757e-01,  9.16957019e-01,\n",
       "        9.62250449e-01,  9.89501682e-01,  9.99838357e-01,  9.94388110e-01,\n",
       "        9.74278579e-01,  9.40637401e-01,  8.94592214e-01,  8.37270654e-01,\n",
       "        7.69800359e-01,  6.93308966e-01,  6.08924112e-01,  5.17773435e-01,\n",
       "        4.20984571e-01,  3.19685159e-01,  2.15002835e-01,  1.08065236e-01,\n",
       "       -1.06581410e-16, -1.08065236e-01, -2.15002835e-01, -3.19685159e-01,\n",
       "       -4.20984571e-01, -5.17773435e-01, -6.08924112e-01, -6.93308966e-01,\n",
       "       -7.69800359e-01, -8.37270654e-01, -8.94592214e-01, -9.40637401e-01,\n",
       "       -9.74278579e-01, -9.94388110e-01, -9.99838357e-01, -9.89501682e-01,\n",
       "       -9.62250449e-01, -9.16957019e-01, -8.52493757e-01, -7.67733024e-01,\n",
       "       -6.61547183e-01, -5.32808598e-01, -3.80389630e-01, -2.03162644e-01,\n",
       "        0.00000000e+00])"
      ]
     },
     "execution_count": 111,
     "metadata": {},
     "output_type": "execute_result"
    }
   ],
   "source": [
    "uFDM5 = np.linalg.solve(MFDM2,fFDM2)\n",
    "uFDM5"
   ]
  },
  {
   "cell_type": "code",
   "execution_count": 112,
   "metadata": {},
   "outputs": [
    {
     "data": {
      "text/plain": [
       "array([0.     , 0.0625 , 0.125  , 0.1875 , 0.25   , 0.3125 , 0.375  ,\n",
       "       0.4375 , 0.5    , 0.53125, 0.5625 , 0.59375, 0.625  , 0.65625,\n",
       "       0.6875 , 0.71875, 0.75   , 0.78125, 0.8125 , 0.84375, 0.875  ,\n",
       "       0.90625, 0.9375 , 0.96875, 1.     , 1.03125, 1.0625 , 1.09375,\n",
       "       1.125  , 1.15625, 1.1875 , 1.21875, 1.25   , 1.28125, 1.3125 ,\n",
       "       1.34375, 1.375  , 1.40625, 1.4375 , 1.46875, 1.5    , 1.53125,\n",
       "       1.5625 , 1.59375, 1.625  , 1.65625, 1.6875 , 1.71875, 1.75   ,\n",
       "       1.78125, 1.8125 , 1.84375, 1.875  , 1.90625, 1.9375 , 1.96875,\n",
       "       2.     , 2.03125, 2.0625 , 2.09375, 2.125  , 2.15625, 2.1875 ,\n",
       "       2.21875, 2.25   , 2.28125, 2.3125 , 2.34375, 2.375  , 2.40625,\n",
       "       2.4375 , 2.46875, 2.5    , 2.5625 , 2.625  , 2.6875 , 2.75   ,\n",
       "       2.8125 , 2.875  , 2.9375 , 3.     ])"
      ]
     },
     "execution_count": 112,
     "metadata": {},
     "output_type": "execute_result"
    }
   ],
   "source": [
    "xSlice2 = np.array(np.concatenate((x[0:17:2],x[17:len(x)-17:1],x[len(x)-17:len(x):2])))\n",
    "xSlice2"
   ]
  },
  {
   "cell_type": "code",
   "execution_count": 113,
   "metadata": {},
   "outputs": [
    {
     "data": {
      "text/plain": [
       "33"
      ]
     },
     "execution_count": 113,
     "metadata": {},
     "output_type": "execute_result"
    }
   ],
   "source": [
    "uFDM5Slice = np.array(np.concatenate((uFDM5[0:17:2],uFDM5[17:len(uFDM5)-17:1],uFDM5[len(uFDM5)-17:len(uFDM5):2])))  \n",
    "len(uFDM5Slice)\n"
   ]
  },
  {
   "cell_type": "code",
   "execution_count": 114,
   "metadata": {},
   "outputs": [
    {
     "data": {
      "text/plain": [
       "array([-9.99200722e-16, -2.37394183e-03, -4.74788366e-03, -7.12182549e-03,\n",
       "       -9.49576732e-03, -1.18697092e-02, -1.42436510e-02, -1.66175928e-02,\n",
       "       -1.89915346e-02, -1.68453856e-02, -1.44004858e-02, -1.20068434e-02,\n",
       "       -9.60440669e-03, -7.20347884e-03, -4.80229210e-03, -2.40114975e-03,\n",
       "       -1.00652717e-14,  2.40114975e-03,  4.80229210e-03,  7.20347884e-03,\n",
       "        9.60440669e-03,  1.20068434e-02,  1.44004858e-02,  1.68453856e-02,\n",
       "        1.89915346e-02,  1.66175928e-02,  1.42436510e-02,  1.18697092e-02,\n",
       "        9.49576732e-03,  7.12182549e-03,  4.74788366e-03,  2.37394183e-03,\n",
       "        0.00000000e+00])"
      ]
     },
     "execution_count": 114,
     "metadata": {},
     "output_type": "execute_result"
    }
   ],
   "source": [
    "uSlice2-uFDM5Slice"
   ]
  },
  {
   "cell_type": "code",
   "execution_count": 115,
   "metadata": {},
   "outputs": [
    {
     "data": {
      "text/plain": [
       "25"
      ]
     },
     "execution_count": 115,
     "metadata": {},
     "output_type": "execute_result"
    }
   ],
   "source": [
    "MFDM3=FDM(13*2-1,0.25/2)\n",
    "len(MFDM3)"
   ]
  },
  {
   "cell_type": "code",
   "execution_count": 116,
   "metadata": {},
   "outputs": [
    {
     "data": {
      "text/plain": [
       "25"
      ]
     },
     "execution_count": 116,
     "metadata": {},
     "output_type": "execute_result"
    }
   ],
   "source": [
    "fFDM3=np.zeros([13*2-1])\n",
    "len(fFDM3)"
   ]
  },
  {
   "cell_type": "code",
   "execution_count": 117,
   "metadata": {},
   "outputs": [
    {
     "data": {
      "text/plain": [
       "array([0.   , 0.125, 0.25 , 0.375, 0.5  , 0.625, 0.75 , 0.875, 1.   ,\n",
       "       1.125, 1.25 , 1.375, 1.5  , 1.625, 1.75 , 1.875, 2.   , 2.125,\n",
       "       2.25 , 2.375, 2.5  , 2.625, 2.75 , 2.875, 3.   ])"
      ]
     },
     "execution_count": 117,
     "metadata": {},
     "output_type": "execute_result"
    }
   ],
   "source": [
    "x3 = np.arange(0,3+0.25/2,0.25/2)\n",
    "x3"
   ]
  },
  {
   "cell_type": "code",
   "execution_count": 118,
   "metadata": {},
   "outputs": [],
   "source": [
    "for i in range(1,len(fFDM3)-1):\n",
    "    fFDM3[i] = -( 2/np.sqrt(3)) * ( -6 + 4*x3[i] ) "
   ]
  },
  {
   "cell_type": "code",
   "execution_count": 119,
   "metadata": {},
   "outputs": [
    {
     "data": {
      "text/plain": [
       "array([-0.00000000e+00,  3.80389630e-01,  6.61547183e-01,  8.52493757e-01,\n",
       "        9.62250449e-01,  9.99838357e-01,  9.74278579e-01,  8.94592214e-01,\n",
       "        7.69800359e-01,  6.08924112e-01,  4.20984571e-01,  2.15002835e-01,\n",
       "        1.05044178e-15, -2.15002835e-01, -4.20984571e-01, -6.08924112e-01,\n",
       "       -7.69800359e-01, -8.94592214e-01, -9.74278579e-01, -9.99838357e-01,\n",
       "       -9.62250449e-01, -8.52493757e-01, -6.61547183e-01, -3.80389630e-01,\n",
       "        0.00000000e+00])"
      ]
     },
     "execution_count": 119,
     "metadata": {},
     "output_type": "execute_result"
    }
   ],
   "source": [
    "uFDM6 = np.linalg.solve(MFDM3,fFDM3)\n",
    "uFDM6"
   ]
  },
  {
   "cell_type": "code",
   "execution_count": 120,
   "metadata": {},
   "outputs": [
    {
     "data": {
      "text/plain": [
       "array([0.     , 0.0625 , 0.125  , 0.1875 , 0.25   , 0.28125, 0.3125 ,\n",
       "       0.34375, 0.375  , 0.40625, 0.4375 , 0.46875, 0.5    , 0.53125,\n",
       "       0.5625 , 0.59375, 0.625  , 0.65625, 0.6875 , 0.71875, 0.75   ,\n",
       "       0.78125, 0.8125 , 0.84375, 0.875  , 0.90625, 0.9375 , 0.96875,\n",
       "       1.     , 1.03125, 1.0625 , 1.09375, 1.125  , 1.15625, 1.1875 ,\n",
       "       1.21875, 1.25   , 1.28125, 1.3125 , 1.34375, 1.375  , 1.40625,\n",
       "       1.4375 , 1.46875, 1.5    , 1.53125, 1.5625 , 1.59375, 1.625  ,\n",
       "       1.65625, 1.6875 , 1.71875, 1.75   , 1.78125, 1.8125 , 1.84375,\n",
       "       1.875  , 1.90625, 1.9375 , 1.96875, 2.     , 2.03125, 2.0625 ,\n",
       "       2.09375, 2.125  , 2.15625, 2.1875 , 2.21875, 2.25   , 2.28125,\n",
       "       2.3125 , 2.34375, 2.375  , 2.40625, 2.4375 , 2.46875, 2.5    ,\n",
       "       2.53125, 2.5625 , 2.59375, 2.625  , 2.65625, 2.6875 , 2.71875,\n",
       "       2.75   , 2.8125 , 2.875  , 2.9375 , 3.     ])"
      ]
     },
     "execution_count": 120,
     "metadata": {},
     "output_type": "execute_result"
    }
   ],
   "source": [
    "xSlice3 = np.array(np.concatenate((x[0:10:2],x[9:len(x)-9:1],x[len(x)-9:len(x):2])))\n",
    "xSlice3"
   ]
  },
  {
   "cell_type": "code",
   "execution_count": 121,
   "metadata": {},
   "outputs": [
    {
     "data": {
      "text/plain": [
       "17"
      ]
     },
     "execution_count": 121,
     "metadata": {},
     "output_type": "execute_result"
    }
   ],
   "source": [
    "uFDM6Slice = np.array(np.concatenate((uFDM6[0:10:2],uFDM6[9:len(uFDM6)-9:1],uFDM6[len(uFDM6)-9:len(uFDM6):2])))  \n",
    "len(uFDM6Slice)"
   ]
  },
  {
   "cell_type": "code",
   "execution_count": 122,
   "metadata": {},
   "outputs": [
    {
     "data": {
      "text/plain": [
       "array([ 0.00000000e+00, -1.04702398e-02, -2.09404797e-02, -3.14107195e-02,\n",
       "       -4.18809594e-02, -3.23022074e-02, -2.13957075e-02, -1.07168216e-02,\n",
       "        5.49469154e-16,  1.07168216e-02,  2.13957075e-02,  3.23022074e-02,\n",
       "        4.18809594e-02,  3.14107195e-02,  2.09404797e-02,  1.04702398e-02,\n",
       "        0.00000000e+00])"
      ]
     },
     "execution_count": 122,
     "metadata": {},
     "output_type": "execute_result"
    }
   ],
   "source": [
    "uSlice-uFDM6Slice"
   ]
  },
  {
   "cell_type": "code",
   "execution_count": 123,
   "metadata": {
    "scrolled": true
   },
   "outputs": [
    {
     "data": {
      "text/plain": [
       "Text(0.5, 0, 'position')"
      ]
     },
     "execution_count": 123,
     "metadata": {},
     "output_type": "execute_result"
    },
    {
     "data": {
      "image/png": "[encoded data removed]",
      "text/plain": [
       "<Figure size 432x288 with 1 Axes>"
      ]
     },
     "metadata": {
      "needs_background": "light"
     },
     "output_type": "display_data"
    }
   ],
   "source": [
    "plt.plot(x20,uSlice-uFDM6Slice,label=\"error when h=0.25\")\n",
    "plt.plot(x7,uSlice2-uFDM5Slice,label=\"error when h=0.125\")\n",
    "plt.plot(x11,uSlice3-uFDM4Slice,label=\"error when h=0.0625\")\n",
    "plt.legend()\n",
    "plt.grid()\n",
    "plt.title(\"Cubic Error\")\n",
    "plt.ylabel(\"error\")\n",
    "plt.xlabel(\"position\")"
   ]
  }
 ],
 "metadata": {
  "kernelspec": {
   "display_name": "Python 3",
   "language": "python",
   "name": "python3"
  },
  "language_info": {
   "codemirror_mode": {
    "name": "ipython",
    "version": 3
   },
   "file_extension": ".py",
   "mimetype": "text/x-python",
   "name": "python",
   "nbconvert_exporter": "python",
   "pygments_lexer": "ipython3",
   "version": "3.8.10"
  }
 },
 "nbformat": 4,
 "nbformat_minor": 4
}
